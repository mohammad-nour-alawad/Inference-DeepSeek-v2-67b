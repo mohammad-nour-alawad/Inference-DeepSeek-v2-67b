{
  "nbformat": 4,
  "nbformat_minor": 0,
  "metadata": {
    "colab": {
      "provenance": [],
      "authorship_tag": "ABX9TyPO1K41RD7tB3UHT9ZTYACk",
      "include_colab_link": true
    },
    "kernelspec": {
      "name": "python3",
      "display_name": "Python 3"
    },
    "language_info": {
      "name": "python"
    }
  },
  "cells": [
    {
      "cell_type": "markdown",
      "metadata": {
        "id": "view-in-github",
        "colab_type": "text"
      },
      "source": [
        "<a href=\"https://colab.research.google.com/github/mohammad-nour-alawad/Inference-DeepSeek-v2-67b/blob/main/Inference_with_DeepSeek_67b_API.ipynb\" target=\"_parent\"><img src=\"https://colab.research.google.com/assets/colab-badge.svg\" alt=\"Open In Colab\"/></a>"
      ]
    },
    {
      "cell_type": "code",
      "source": [
        "import pandas as pd\n",
        "df_with_ocr = pd.read_csv('/content/cleaned.csv')"
      ],
      "metadata": {
        "id": "JecKs0TrAp7p"
      },
      "execution_count": null,
      "outputs": []
    },
    {
      "cell_type": "code",
      "source": [
        "!pip install openai"
      ],
      "metadata": {
        "colab": {
          "base_uri": "https://localhost:8080/"
        },
        "id": "HD3aXpvfCAtx",
        "outputId": "36744bb9-ae25-49f3-9884-45956f548b61"
      },
      "execution_count": null,
      "outputs": [
        {
          "output_type": "stream",
          "name": "stdout",
          "text": [
            "Collecting openai\n",
            "  Downloading openai-1.17.1-py3-none-any.whl (268 kB)\n",
            "\u001b[?25l     \u001b[90m━━━━━━━━━━━━━━━━━━━━━━━━━━━━━━━━━━━━━━━━\u001b[0m \u001b[32m0.0/268.3 kB\u001b[0m \u001b[31m?\u001b[0m eta \u001b[36m-:--:--\u001b[0m\r\u001b[2K     \u001b[91m━━━━━━━━━━━━━━━━━━━━━━━━━\u001b[0m\u001b[91m╸\u001b[0m\u001b[90m━━━━━━━━━━━━━━\u001b[0m \u001b[32m174.1/268.3 kB\u001b[0m \u001b[31m5.1 MB/s\u001b[0m eta \u001b[36m0:00:01\u001b[0m\r\u001b[2K     \u001b[90m━━━━━━━━━━━━━━━━━━━━━━━━━━━━━━━━━━━━━━━━\u001b[0m \u001b[32m268.3/268.3 kB\u001b[0m \u001b[31m5.3 MB/s\u001b[0m eta \u001b[36m0:00:00\u001b[0m\n",
            "\u001b[?25hRequirement already satisfied: anyio<5,>=3.5.0 in /usr/local/lib/python3.10/dist-packages (from openai) (3.7.1)\n",
            "Requirement already satisfied: distro<2,>=1.7.0 in /usr/lib/python3/dist-packages (from openai) (1.7.0)\n",
            "Collecting httpx<1,>=0.23.0 (from openai)\n",
            "  Downloading httpx-0.27.0-py3-none-any.whl (75 kB)\n",
            "\u001b[2K     \u001b[90m━━━━━━━━━━━━━━━━━━━━━━━━━━━━━━━━━━━━━━━━\u001b[0m \u001b[32m75.6/75.6 kB\u001b[0m \u001b[31m9.6 MB/s\u001b[0m eta \u001b[36m0:00:00\u001b[0m\n",
            "\u001b[?25hRequirement already satisfied: pydantic<3,>=1.9.0 in /usr/local/lib/python3.10/dist-packages (from openai) (2.6.4)\n",
            "Requirement already satisfied: sniffio in /usr/local/lib/python3.10/dist-packages (from openai) (1.3.1)\n",
            "Requirement already satisfied: tqdm>4 in /usr/local/lib/python3.10/dist-packages (from openai) (4.66.2)\n",
            "Requirement already satisfied: typing-extensions<5,>=4.7 in /usr/local/lib/python3.10/dist-packages (from openai) (4.11.0)\n",
            "Requirement already satisfied: idna>=2.8 in /usr/local/lib/python3.10/dist-packages (from anyio<5,>=3.5.0->openai) (3.6)\n",
            "Requirement already satisfied: exceptiongroup in /usr/local/lib/python3.10/dist-packages (from anyio<5,>=3.5.0->openai) (1.2.0)\n",
            "Requirement already satisfied: certifi in /usr/local/lib/python3.10/dist-packages (from httpx<1,>=0.23.0->openai) (2024.2.2)\n",
            "Collecting httpcore==1.* (from httpx<1,>=0.23.0->openai)\n",
            "  Downloading httpcore-1.0.5-py3-none-any.whl (77 kB)\n",
            "\u001b[2K     \u001b[90m━━━━━━━━━━━━━━━━━━━━━━━━━━━━━━━━━━━━━━━━\u001b[0m \u001b[32m77.9/77.9 kB\u001b[0m \u001b[31m9.7 MB/s\u001b[0m eta \u001b[36m0:00:00\u001b[0m\n",
            "\u001b[?25hCollecting h11<0.15,>=0.13 (from httpcore==1.*->httpx<1,>=0.23.0->openai)\n",
            "  Downloading h11-0.14.0-py3-none-any.whl (58 kB)\n",
            "\u001b[2K     \u001b[90m━━━━━━━━━━━━━━━━━━━━━━━━━━━━━━━━━━━━━━━━\u001b[0m \u001b[32m58.3/58.3 kB\u001b[0m \u001b[31m5.1 MB/s\u001b[0m eta \u001b[36m0:00:00\u001b[0m\n",
            "\u001b[?25hRequirement already satisfied: annotated-types>=0.4.0 in /usr/local/lib/python3.10/dist-packages (from pydantic<3,>=1.9.0->openai) (0.6.0)\n",
            "Requirement already satisfied: pydantic-core==2.16.3 in /usr/local/lib/python3.10/dist-packages (from pydantic<3,>=1.9.0->openai) (2.16.3)\n",
            "Installing collected packages: h11, httpcore, httpx, openai\n",
            "Successfully installed h11-0.14.0 httpcore-1.0.5 httpx-0.27.0 openai-1.17.1\n"
          ]
        }
      ]
    },
    {
      "cell_type": "code",
      "source": [
        "import pandas as pd\n",
        "from tqdm import tqdm\n",
        "from openai import OpenAI\n",
        "\n",
        "client = OpenAI(api_key=\"sk-\", base_url=\"https://api.deepseek.com/v1\")\n",
        "\n",
        "def get_answer(row):\n",
        "    context = row[\"ocr_text\"]\n",
        "    question = row[\"question\"]\n",
        "\n",
        "    messages = [\n",
        "        {\"role\": \"system\", \"content\": \"please do not discuss or explain or justify, just answer the following question in 2 word\"},\n",
        "        {\"role\": \"user\", \"content\": f\"given the following context: {context}. please do not discuss or explain or justify, just answer the following question in 2 word. {question}\"}\n",
        "    ]\n",
        "\n",
        "    try:\n",
        "        response = client.chat.completions.create(\n",
        "            model=\"deepseek-chat\",\n",
        "            messages=messages\n",
        "        )\n",
        "        print(response.choices[0].message.content)\n",
        "        return response.choices[0].message.content\n",
        "\n",
        "    except Exception as e:\n",
        "        print(f\"Error processing ID {row['ID']}: {str(e)}\")\n",
        "        return \"no results\"\n",
        "\n",
        "df_with_ocr['pred_answer'] = [get_answer(row) for _, row in tqdm(df_with_ocr.iterrows(), total=df_with_ocr.shape[0])]\n",
        "\n",
        "print(df_with_ocr)"
      ],
      "metadata": {
        "colab": {
          "base_uri": "https://localhost:8080/"
        },
        "id": "RYQdCrz8Aicu",
        "outputId": "2d00237a-c99c-478a-8852-067b76de6264"
      },
      "execution_count": null,
      "outputs": [
        {
          "output_type": "stream",
          "name": "stderr",
          "text": [
            "\n",
            "\n",
            "  0%|          | 0/1014 [00:00<?, ?it/s]\u001b[A\u001b[A\n",
            "\n",
            "  0%|          | 1/1014 [00:01<33:41,  2.00s/it]\u001b[A\u001b[A"
          ]
        },
        {
          "output_type": "stream",
          "name": "stdout",
          "text": [
            " Russia\n"
          ]
        },
        {
          "output_type": "stream",
          "name": "stderr",
          "text": [
            "\n",
            "\n",
            "  0%|          | 2/1014 [00:03<30:08,  1.79s/it]\u001b[A\u001b[A"
          ]
        },
        {
          "output_type": "stream",
          "name": "stdout",
          "text": [
            " March 2011\n"
          ]
        },
        {
          "output_type": "stream",
          "name": "stderr",
          "text": [
            "\n",
            "\n",
            "  0%|          | 3/1014 [00:04<22:29,  1.33s/it]\u001b[A\u001b[A"
          ]
        },
        {
          "output_type": "stream",
          "name": "stdout",
          "text": [
            " Not provided.\n"
          ]
        },
        {
          "output_type": "stream",
          "name": "stderr",
          "text": [
            "\n",
            "\n",
            "  0%|          | 4/1014 [00:05<20:28,  1.22s/it]\u001b[A\u001b[A"
          ]
        },
        {
          "output_type": "stream",
          "name": "stdout",
          "text": [
            " April 21\n"
          ]
        },
        {
          "output_type": "stream",
          "name": "stderr",
          "text": [
            "\n",
            "\n",
            "  0%|          | 5/1014 [00:07<23:51,  1.42s/it]\u001b[A\u001b[A"
          ]
        },
        {
          "output_type": "stream",
          "name": "stdout",
          "text": [
            " Six stages.\n"
          ]
        },
        {
          "output_type": "stream",
          "name": "stderr",
          "text": [
            "\n",
            "\n",
            "  1%|          | 6/1014 [00:09<28:19,  1.69s/it]\u001b[A\u001b[A"
          ]
        },
        {
          "output_type": "stream",
          "name": "stdout",
          "text": [
            " 26.1%\n"
          ]
        },
        {
          "output_type": "stream",
          "name": "stderr",
          "text": [
            "\n",
            "\n",
            "  1%|          | 7/1014 [00:10<24:15,  1.44s/it]\u001b[A\u001b[A"
          ]
        },
        {
          "output_type": "stream",
          "name": "stdout",
          "text": [
            " The answer is Turkey.\n"
          ]
        },
        {
          "output_type": "stream",
          "name": "stderr",
          "text": [
            "\n",
            "\n",
            "  1%|          | 8/1014 [00:11<21:17,  1.27s/it]\u001b[A\u001b[A"
          ]
        },
        {
          "output_type": "stream",
          "name": "stdout",
          "text": [
            " Vincenzo De Florio\n"
          ]
        },
        {
          "output_type": "stream",
          "name": "stderr",
          "text": [
            "\n",
            "\n",
            "  1%|          | 9/1014 [00:13<27:34,  1.65s/it]\u001b[A\u001b[A"
          ]
        },
        {
          "output_type": "stream",
          "name": "stdout",
          "text": [
            " INRIA MS\n"
          ]
        },
        {
          "output_type": "stream",
          "name": "stderr",
          "text": [
            "\n",
            "\n",
            "  1%|          | 10/1014 [00:14<24:51,  1.49s/it]\u001b[A\u001b[A"
          ]
        },
        {
          "output_type": "stream",
          "name": "stdout",
          "text": [
            " 12.5 bn\n"
          ]
        },
        {
          "output_type": "stream",
          "name": "stderr",
          "text": [
            "\n",
            "\n",
            "  1%|          | 11/1014 [00:15<21:13,  1.27s/it]\u001b[A\u001b[A"
          ]
        },
        {
          "output_type": "stream",
          "name": "stdout",
          "text": [
            " perceived value\n"
          ]
        },
        {
          "output_type": "stream",
          "name": "stderr",
          "text": [
            "\n",
            "\n",
            "  1%|          | 12/1014 [00:16<19:21,  1.16s/it]\u001b[A\u001b[A"
          ]
        },
        {
          "output_type": "stream",
          "name": "stdout",
          "text": [
            " Hsu Fu Chi\n"
          ]
        },
        {
          "output_type": "stream",
          "name": "stderr",
          "text": [
            "\n",
            "\n",
            "  1%|▏         | 13/1014 [00:16<15:30,  1.08it/s]\u001b[A\u001b[A"
          ]
        },
        {
          "output_type": "stream",
          "name": "stdout",
          "text": [
            "Error processing ID 12: Error code: 400 - {'detail': 'Content Exists Risk'}\n"
          ]
        },
        {
          "output_type": "stream",
          "name": "stderr",
          "text": [
            "\n",
            "\n",
            "  1%|▏         | 14/1014 [00:18<16:18,  1.02it/s]\u001b[A\u001b[A"
          ]
        },
        {
          "output_type": "stream",
          "name": "stdout",
          "text": [
            " 2005\n"
          ]
        },
        {
          "output_type": "stream",
          "name": "stderr",
          "text": [
            "\n",
            "\n",
            "  1%|▏         | 15/1014 [00:24<42:38,  2.56s/it]\u001b[A\u001b[A"
          ]
        },
        {
          "output_type": "stream",
          "name": "stdout",
          "text": [
            " Calculus is a branch of mathematics that deals with rates of change (differential calculus) and the accumulation of quantities (integral calculus). It is used to solve problems in various fields such as physics, engineering, economics, and biology.\n"
          ]
        },
        {
          "output_type": "stream",
          "name": "stderr",
          "text": [
            "\n",
            "\n",
            "  2%|▏         | 16/1014 [00:25<36:23,  2.19s/it]\u001b[A\u001b[A"
          ]
        },
        {
          "output_type": "stream",
          "name": "stdout",
          "text": [
            " 600 KV.\n"
          ]
        },
        {
          "output_type": "stream",
          "name": "stderr",
          "text": [
            "\n",
            "\n",
            "  2%|▏         | 17/1014 [00:26<29:48,  1.79s/it]\u001b[A\u001b[A"
          ]
        },
        {
          "output_type": "stream",
          "name": "stdout",
          "text": [
            " Benjamin Franklin\n"
          ]
        },
        {
          "output_type": "stream",
          "name": "stderr",
          "text": [
            "\n",
            "\n",
            "  2%|▏         | 18/1014 [00:29<35:26,  2.14s/it]\u001b[A\u001b[A"
          ]
        },
        {
          "output_type": "stream",
          "name": "stdout",
          "text": [
            " Barriers to entry\n"
          ]
        },
        {
          "output_type": "stream",
          "name": "stderr",
          "text": [
            "\n",
            "\n",
            "  2%|▏         | 19/1014 [00:30<28:41,  1.73s/it]\u001b[A\u001b[A"
          ]
        },
        {
          "output_type": "stream",
          "name": "stdout",
          "text": [
            " Five stages.\n"
          ]
        },
        {
          "output_type": "stream",
          "name": "stderr",
          "text": [
            "\n",
            "\n",
            "  2%|▏         | 20/1014 [00:31<24:01,  1.45s/it]\u001b[A\u001b[A"
          ]
        },
        {
          "output_type": "stream",
          "name": "stdout",
          "text": [
            " pH 8\n"
          ]
        },
        {
          "output_type": "stream",
          "name": "stderr",
          "text": [
            "\n",
            "\n",
            "  2%|▏         | 21/1014 [00:33<30:05,  1.82s/it]\u001b[A\u001b[A"
          ]
        },
        {
          "output_type": "stream",
          "name": "stdout",
          "text": [
            " RA 7721\n"
          ]
        },
        {
          "output_type": "stream",
          "name": "stderr",
          "text": [
            "\n",
            "\n",
            "  2%|▏         | 22/1014 [00:34<26:55,  1.63s/it]\u001b[A\u001b[A"
          ]
        },
        {
          "output_type": "stream",
          "name": "stdout",
          "text": [
            " \"Taking life\"\n"
          ]
        },
        {
          "output_type": "stream",
          "name": "stderr",
          "text": [
            "\n",
            "\n",
            "  2%|▏         | 23/1014 [00:36<25:46,  1.56s/it]\u001b[A\u001b[A"
          ]
        },
        {
          "output_type": "stream",
          "name": "stdout",
          "text": [
            " Persuade and influence.\n"
          ]
        },
        {
          "output_type": "stream",
          "name": "stderr",
          "text": [
            "\n",
            "\n",
            "  2%|▏         | 24/1014 [00:39<36:12,  2.19s/it]\u001b[A\u001b[A"
          ]
        },
        {
          "output_type": "stream",
          "name": "stdout",
          "text": [
            " WhatsApp\n"
          ]
        },
        {
          "output_type": "stream",
          "name": "stderr",
          "text": [
            "\n",
            "\n",
            "  2%|▏         | 25/1014 [00:40<30:25,  1.85s/it]\u001b[A\u001b[A"
          ]
        },
        {
          "output_type": "stream",
          "name": "stdout",
          "text": [
            " Disease\n"
          ]
        },
        {
          "output_type": "stream",
          "name": "stderr",
          "text": [
            "\n",
            "\n",
            "  3%|▎         | 26/1014 [00:43<32:43,  1.99s/it]\u001b[A\u001b[A"
          ]
        },
        {
          "output_type": "stream",
          "name": "stdout",
          "text": [
            " DealerRater, KELLEY BLUE BOOK, Yelp.\n"
          ]
        },
        {
          "output_type": "stream",
          "name": "stderr",
          "text": [
            "\n",
            "\n",
            "  3%|▎         | 27/1014 [00:44<27:36,  1.68s/it]\u001b[A\u001b[A"
          ]
        },
        {
          "output_type": "stream",
          "name": "stdout",
          "text": [
            " $149\n"
          ]
        },
        {
          "output_type": "stream",
          "name": "stderr",
          "text": [
            "\n",
            "\n",
            "  3%|▎         | 28/1014 [00:45<23:44,  1.44s/it]\u001b[A\u001b[A"
          ]
        },
        {
          "output_type": "stream",
          "name": "stdout",
          "text": [
            " Cambridge\n"
          ]
        },
        {
          "output_type": "stream",
          "name": "stderr",
          "text": [
            "\n",
            "\n",
            "  3%|▎         | 29/1014 [00:46<23:21,  1.42s/it]\u001b[A\u001b[A"
          ]
        },
        {
          "output_type": "stream",
          "name": "stdout",
          "text": [
            " Albert Wang's position is not explicitly mentioned in the given context.\n"
          ]
        },
        {
          "output_type": "stream",
          "name": "stderr",
          "text": [
            "\n",
            "\n",
            "  3%|▎         | 30/1014 [00:47<20:40,  1.26s/it]\u001b[A\u001b[A"
          ]
        },
        {
          "output_type": "stream",
          "name": "stdout",
          "text": [
            " Organization\n"
          ]
        },
        {
          "output_type": "stream",
          "name": "stderr",
          "text": [
            "\n",
            "\n",
            "  3%|▎         | 31/1014 [00:50<27:58,  1.71s/it]\u001b[A\u001b[A"
          ]
        },
        {
          "output_type": "stream",
          "name": "stdout",
          "text": [
            " CDMA-based\n"
          ]
        },
        {
          "output_type": "stream",
          "name": "stderr",
          "text": [
            "\n",
            "\n",
            "  3%|▎         | 32/1014 [00:50<23:23,  1.43s/it]\u001b[A\u001b[A"
          ]
        },
        {
          "output_type": "stream",
          "name": "stdout",
          "text": [
            " Pop Cap\n"
          ]
        },
        {
          "output_type": "stream",
          "name": "stderr",
          "text": [
            "\n",
            "\n",
            "  3%|▎         | 33/1014 [00:51<20:54,  1.28s/it]\u001b[A\u001b[A"
          ]
        },
        {
          "output_type": "stream",
          "name": "stdout",
          "text": [
            " Communicates with\n"
          ]
        },
        {
          "output_type": "stream",
          "name": "stderr",
          "text": [
            "\n",
            "\n",
            "  3%|▎         | 34/1014 [00:52<18:55,  1.16s/it]\u001b[A\u001b[A"
          ]
        },
        {
          "output_type": "stream",
          "name": "stdout",
          "text": [
            " Hortonworks\n"
          ]
        },
        {
          "output_type": "stream",
          "name": "stderr",
          "text": [
            "\n",
            "\n",
            "  3%|▎         | 35/1014 [00:53<17:38,  1.08s/it]\u001b[A\u001b[A"
          ]
        },
        {
          "output_type": "stream",
          "name": "stdout",
          "text": [
            " Social objectives.\n"
          ]
        },
        {
          "output_type": "stream",
          "name": "stderr",
          "text": [
            "\n",
            "\n",
            "  4%|▎         | 36/1014 [00:54<18:33,  1.14s/it]\u001b[A\u001b[A"
          ]
        },
        {
          "output_type": "stream",
          "name": "stdout",
          "text": [
            " AB InBev\n"
          ]
        },
        {
          "output_type": "stream",
          "name": "stderr",
          "text": [
            "\n",
            "\n",
            "  4%|▎         | 37/1014 [00:58<28:06,  1.73s/it]\u001b[A\u001b[A"
          ]
        },
        {
          "output_type": "stream",
          "name": "stdout",
          "text": [
            " Coarser.\n"
          ]
        },
        {
          "output_type": "stream",
          "name": "stderr",
          "text": [
            "\n",
            "\n",
            "  4%|▎         | 38/1014 [01:00<34:02,  2.09s/it]\u001b[A\u001b[A"
          ]
        },
        {
          "output_type": "stream",
          "name": "stdout",
          "text": [
            " Baloch belongs to the \"Baloch\" ethnolinguistic group in Afghanistan, which is a country that is 76.1% rural.\n"
          ]
        },
        {
          "output_type": "stream",
          "name": "stderr",
          "text": [
            "\n",
            "\n",
            "  4%|▍         | 39/1014 [01:05<47:54,  2.95s/it]\u001b[A\u001b[A"
          ]
        },
        {
          "output_type": "stream",
          "name": "stdout",
          "text": [
            " 1. Chemicals\n",
            "2. Petrochemicals\n",
            "3. Care Chemicals\n",
            "4. Catalysts\n",
            "5. Monomers\n"
          ]
        },
        {
          "output_type": "stream",
          "name": "stderr",
          "text": [
            "\n",
            "\n",
            "  4%|▍         | 40/1014 [01:07<39:16,  2.42s/it]\u001b[A\u001b[A"
          ]
        },
        {
          "output_type": "stream",
          "name": "stdout",
          "text": [
            " AT THE SPEED OF IDEAS\n"
          ]
        },
        {
          "output_type": "stream",
          "name": "stderr",
          "text": [
            "\n",
            "\n",
            "  4%|▍         | 41/1014 [01:10<42:22,  2.61s/it]\u001b[A\u001b[A"
          ]
        },
        {
          "output_type": "stream",
          "name": "stdout",
          "text": [
            " Firstline\n"
          ]
        },
        {
          "output_type": "stream",
          "name": "stderr",
          "text": [
            "\n",
            "\n",
            "  4%|▍         | 42/1014 [01:11<35:07,  2.17s/it]\u001b[A\u001b[A"
          ]
        },
        {
          "output_type": "stream",
          "name": "stdout",
          "text": [
            " Bus explodes.\n"
          ]
        },
        {
          "output_type": "stream",
          "name": "stderr",
          "text": [
            "\n",
            "\n",
            "  4%|▍         | 43/1014 [01:12<28:13,  1.74s/it]\u001b[A\u001b[A"
          ]
        },
        {
          "output_type": "stream",
          "name": "stdout",
          "text": [
            " India\n"
          ]
        },
        {
          "output_type": "stream",
          "name": "stderr",
          "text": [
            "\n",
            "\n",
            "  4%|▍         | 44/1014 [01:13<25:21,  1.57s/it]\u001b[A\u001b[A"
          ]
        },
        {
          "output_type": "stream",
          "name": "stdout",
          "text": [
            " Basic, Intermediate, Advanced, Expert.\n"
          ]
        },
        {
          "output_type": "stream",
          "name": "stderr",
          "text": [
            "\n",
            "\n",
            "  4%|▍         | 45/1014 [01:14<22:42,  1.41s/it]\u001b[A\u001b[A"
          ]
        },
        {
          "output_type": "stream",
          "name": "stdout",
          "text": [
            " Minimal usage\n"
          ]
        },
        {
          "output_type": "stream",
          "name": "stderr",
          "text": [
            "\n",
            "\n",
            "  5%|▍         | 46/1014 [01:15<20:49,  1.29s/it]\u001b[A\u001b[A"
          ]
        },
        {
          "output_type": "stream",
          "name": "stdout",
          "text": [
            " Provision VM\n"
          ]
        },
        {
          "output_type": "stream",
          "name": "stderr",
          "text": [
            "\n",
            "\n",
            "  5%|▍         | 47/1014 [01:16<19:50,  1.23s/it]\u001b[A\u001b[A"
          ]
        },
        {
          "output_type": "stream",
          "name": "stdout",
          "text": [
            " Fibrous and Elastic.\n"
          ]
        },
        {
          "output_type": "stream",
          "name": "stderr",
          "text": [
            "\n",
            "\n",
            "  5%|▍         | 48/1014 [01:21<36:26,  2.26s/it]\u001b[A\u001b[A"
          ]
        },
        {
          "output_type": "stream",
          "name": "stdout",
          "text": [
            " Building\n"
          ]
        },
        {
          "output_type": "stream",
          "name": "stderr",
          "text": [
            "\n",
            "\n",
            "  5%|▍         | 49/1014 [01:22<33:18,  2.07s/it]\u001b[A\u001b[A"
          ]
        },
        {
          "output_type": "stream",
          "name": "stdout",
          "text": [
            " Citclops.eu\n"
          ]
        },
        {
          "output_type": "stream",
          "name": "stderr",
          "text": [
            "\n",
            "\n",
            "  5%|▍         | 50/1014 [01:24<30:40,  1.91s/it]\u001b[A\u001b[A"
          ]
        },
        {
          "output_type": "stream",
          "name": "stdout",
          "text": [
            " Internal Analysis.\n"
          ]
        },
        {
          "output_type": "stream",
          "name": "stderr",
          "text": [
            "\n",
            "\n",
            "  5%|▌         | 51/1014 [01:26<30:33,  1.90s/it]\u001b[A\u001b[A"
          ]
        },
        {
          "output_type": "stream",
          "name": "stdout",
          "text": [
            " Single Loop\n",
            "Double Loop\n"
          ]
        },
        {
          "output_type": "stream",
          "name": "stderr",
          "text": [
            "\n",
            "\n",
            "  5%|▌         | 52/1014 [01:27<26:25,  1.65s/it]\u001b[A\u001b[A"
          ]
        },
        {
          "output_type": "stream",
          "name": "stdout",
          "text": [
            " Hepatitis C\n"
          ]
        },
        {
          "output_type": "stream",
          "name": "stderr",
          "text": [
            "\n",
            "\n",
            "  5%|▌         | 53/1014 [01:27<22:20,  1.39s/it]\u001b[A\u001b[A"
          ]
        },
        {
          "output_type": "stream",
          "name": "stdout",
          "text": [
            " Adoption cycle\n"
          ]
        },
        {
          "output_type": "stream",
          "name": "stderr",
          "text": [
            "\n",
            "\n",
            "  5%|▌         | 54/1014 [01:30<29:19,  1.83s/it]\u001b[A\u001b[A"
          ]
        },
        {
          "output_type": "stream",
          "name": "stdout",
          "text": [
            " Interface design\n"
          ]
        },
        {
          "output_type": "stream",
          "name": "stderr",
          "text": [
            "\n",
            "\n",
            "  5%|▌         | 55/1014 [01:32<27:55,  1.75s/it]\u001b[A\u001b[A"
          ]
        },
        {
          "output_type": "stream",
          "name": "stdout",
          "text": [
            " 15,573,977\n"
          ]
        },
        {
          "output_type": "stream",
          "name": "stderr",
          "text": [
            "\n",
            "\n",
            "  6%|▌         | 56/1014 [01:33<23:16,  1.46s/it]\u001b[A\u001b[A"
          ]
        },
        {
          "output_type": "stream",
          "name": "stdout",
          "text": [
            " 5%\n"
          ]
        },
        {
          "output_type": "stream",
          "name": "stderr",
          "text": [
            "\n",
            "\n",
            "  6%|▌         | 57/1014 [01:33<19:51,  1.24s/it]\u001b[A\u001b[A"
          ]
        },
        {
          "output_type": "stream",
          "name": "stdout",
          "text": [
            " Twitter, Email\n"
          ]
        },
        {
          "output_type": "stream",
          "name": "stderr",
          "text": [
            "\n",
            "\n",
            "  6%|▌         | 58/1014 [01:35<19:36,  1.23s/it]\u001b[A\u001b[A"
          ]
        },
        {
          "output_type": "stream",
          "name": "stdout",
          "text": [
            " More versatile, Drainage well controlled\n"
          ]
        },
        {
          "output_type": "stream",
          "name": "stderr",
          "text": [
            "\n",
            "\n",
            "  6%|▌         | 59/1014 [01:36<20:23,  1.28s/it]\u001b[A\u001b[A"
          ]
        },
        {
          "output_type": "stream",
          "name": "stdout",
          "text": [
            " Ten major languages are spoken in China.\n"
          ]
        },
        {
          "output_type": "stream",
          "name": "stderr",
          "text": [
            "\n",
            "\n",
            "  6%|▌         | 60/1014 [01:37<19:31,  1.23s/it]\u001b[A\u001b[A"
          ]
        },
        {
          "output_type": "stream",
          "name": "stdout",
          "text": [
            " Inverters.\n"
          ]
        },
        {
          "output_type": "stream",
          "name": "stderr",
          "text": [
            "\n",
            "\n",
            "  6%|▌         | 61/1014 [01:48<1:04:18,  4.05s/it]\u001b[A\u001b[A"
          ]
        },
        {
          "output_type": "stream",
          "name": "stdout",
          "text": [
            " Twitter username for the Moz CEO is \"@randfish\".  The records indicate that Rand Fishkin is the CEO of Moz at the time of the data presented, and his Twitter handle is provided in the information, \"@RandFish\".  \n",
            "\n",
            "To arrive at this answer, the question was analyzed to identify key words and phrases that suggest the information being sought is the Twitter handle of the Moz CEO. The context provided chip Card Tower Notes mentions \"Moz CEO SarehBird\", \"Twitter\", and \"@RandFish\", which combine to draw a conclusion of Twitter username \"@randfish\" as the answer.\n"
          ]
        },
        {
          "output_type": "stream",
          "name": "stderr",
          "text": [
            "\n",
            "\n",
            "  6%|▌         | 62/1014 [01:51<1:01:18,  3.86s/it]\u001b[A\u001b[A"
          ]
        },
        {
          "output_type": "stream",
          "name": "stdout",
          "text": [
            " 400 minutes (New car buyers) \n",
            "10 minutes (Used car buyers) \n",
            "Difference: 390 minutes\n"
          ]
        },
        {
          "output_type": "stream",
          "name": "stderr",
          "text": [
            "\n",
            "\n",
            "  6%|▌         | 63/1014 [01:54<54:21,  3.43s/it]  \u001b[A\u001b[A"
          ]
        },
        {
          "output_type": "stream",
          "name": "stdout",
          "text": [
            " Turkmen, Hazaras, Uzbeks\n"
          ]
        },
        {
          "output_type": "stream",
          "name": "stderr",
          "text": [
            "\n",
            "\n",
            "  6%|▋         | 64/1014 [01:54<42:33,  2.69s/it]\u001b[A\u001b[A"
          ]
        },
        {
          "output_type": "stream",
          "name": "stdout",
          "text": [
            " Early stage\n"
          ]
        },
        {
          "output_type": "stream",
          "name": "stderr",
          "text": [
            "\n",
            "\n",
            "  6%|▋         | 65/1014 [01:56<37:22,  2.36s/it]\u001b[A\u001b[A"
          ]
        },
        {
          "output_type": "stream",
          "name": "stdout",
          "text": [
            " TV ads\n"
          ]
        },
        {
          "output_type": "stream",
          "name": "stderr",
          "text": [
            "\n",
            "\n",
            "  7%|▋         | 66/1014 [01:57<30:00,  1.90s/it]\u001b[A\u001b[A"
          ]
        },
        {
          "output_type": "stream",
          "name": "stdout",
          "text": [
            " Personal computers.\n"
          ]
        },
        {
          "output_type": "stream",
          "name": "stderr",
          "text": [
            "\n",
            "\n",
            "  7%|▋         | 67/1014 [01:58<25:11,  1.60s/it]\u001b[A\u001b[A"
          ]
        },
        {
          "output_type": "stream",
          "name": "stdout",
          "text": [
            " 4.7\n"
          ]
        },
        {
          "output_type": "stream",
          "name": "stderr",
          "text": [
            "\n",
            "\n",
            "  7%|▋         | 68/1014 [02:00<29:36,  1.88s/it]\u001b[A\u001b[A"
          ]
        },
        {
          "output_type": "stream",
          "name": "stdout",
          "text": [
            " 3 days\n"
          ]
        },
        {
          "output_type": "stream",
          "name": "stderr",
          "text": [
            "\n",
            "\n",
            "  7%|▋         | 69/1014 [02:01<24:43,  1.57s/it]\u001b[A\u001b[A"
          ]
        },
        {
          "output_type": "stream",
          "name": "stdout",
          "text": [
            " 1-2%\n"
          ]
        },
        {
          "output_type": "stream",
          "name": "stderr",
          "text": [
            "\n",
            "\n",
            "  7%|▋         | 70/1014 [02:06<38:30,  2.45s/it]\u001b[A\u001b[A"
          ]
        },
        {
          "output_type": "stream",
          "name": "stdout",
          "text": [
            " Sanderson Ford Lincoln Mercury Community and Ford of Kirkland Community.\n"
          ]
        },
        {
          "output_type": "stream",
          "name": "stderr",
          "text": [
            "\n",
            "\n",
            "  7%|▋         | 71/1014 [02:06<30:34,  1.95s/it]\u001b[A\u001b[A"
          ]
        },
        {
          "output_type": "stream",
          "name": "stdout",
          "text": [
            " Increased\n"
          ]
        },
        {
          "output_type": "stream",
          "name": "stderr",
          "text": [
            "\n",
            "\n",
            "  7%|▋         | 72/1014 [02:07<25:26,  1.62s/it]\u001b[A\u001b[A"
          ]
        },
        {
          "output_type": "stream",
          "name": "stdout",
          "text": [
            " Thermoplastic\n"
          ]
        },
        {
          "output_type": "stream",
          "name": "stderr",
          "text": [
            "\n",
            "\n",
            "  7%|▋         | 73/1014 [02:08<22:50,  1.46s/it]\u001b[A\u001b[A"
          ]
        },
        {
          "output_type": "stream",
          "name": "stdout",
          "text": [
            " 28%\n"
          ]
        },
        {
          "output_type": "stream",
          "name": "stderr",
          "text": [
            "\n",
            "\n",
            "  7%|▋         | 74/1014 [02:09<19:25,  1.24s/it]\u001b[A\u001b[A"
          ]
        },
        {
          "output_type": "stream",
          "name": "stdout",
          "text": [
            " WhatsApp\n"
          ]
        },
        {
          "output_type": "stream",
          "name": "stderr",
          "text": [
            "\n",
            "\n",
            "  7%|▋         | 75/1014 [02:10<17:00,  1.09s/it]\u001b[A\u001b[A"
          ]
        },
        {
          "output_type": "stream",
          "name": "stdout",
          "text": [
            " Core Storm\n"
          ]
        },
        {
          "output_type": "stream",
          "name": "stderr",
          "text": [
            "\n",
            "\n",
            "  7%|▋         | 76/1014 [02:12<20:45,  1.33s/it]\u001b[A\u001b[A"
          ]
        },
        {
          "output_type": "stream",
          "name": "stdout",
          "text": [
            " Penicillin\n"
          ]
        },
        {
          "output_type": "stream",
          "name": "stderr",
          "text": [
            "\n",
            "\n",
            "  8%|▊         | 77/1014 [02:14<24:50,  1.59s/it]\u001b[A\u001b[A"
          ]
        },
        {
          "output_type": "stream",
          "name": "stdout",
          "text": [
            " 2015\n"
          ]
        },
        {
          "output_type": "stream",
          "name": "stderr",
          "text": [
            "\n",
            "\n",
            "  8%|▊         | 78/1014 [02:15<21:10,  1.36s/it]\u001b[A\u001b[A"
          ]
        },
        {
          "output_type": "stream",
          "name": "stdout",
          "text": [
            " Firm Leadership\n"
          ]
        },
        {
          "output_type": "stream",
          "name": "stderr",
          "text": [
            "\n",
            "\n",
            "  8%|▊         | 79/1014 [02:16<19:57,  1.28s/it]\u001b[A\u001b[A"
          ]
        },
        {
          "output_type": "stream",
          "name": "stdout",
          "text": [
            " AFTA\n"
          ]
        },
        {
          "output_type": "stream",
          "name": "stderr",
          "text": [
            "\n",
            "\n",
            "  8%|▊         | 80/1014 [02:17<19:07,  1.23s/it]\u001b[A\u001b[A"
          ]
        },
        {
          "output_type": "stream",
          "name": "stdout",
          "text": [
            " Promoters - Detractors\n"
          ]
        },
        {
          "output_type": "stream",
          "name": "stderr",
          "text": [
            "\n",
            "\n",
            "  8%|▊         | 81/1014 [02:18<17:18,  1.11s/it]\u001b[A\u001b[A"
          ]
        },
        {
          "output_type": "stream",
          "name": "stdout",
          "text": [
            " From H to G\n"
          ]
        },
        {
          "output_type": "stream",
          "name": "stderr",
          "text": [
            "\n",
            "\n",
            "  8%|▊         | 82/1014 [02:19<17:29,  1.13s/it]\u001b[A\u001b[A"
          ]
        },
        {
          "output_type": "stream",
          "name": "stdout",
          "text": [
            " Jan'14\n"
          ]
        },
        {
          "output_type": "stream",
          "name": "stderr",
          "text": [
            "\n",
            "\n",
            "  8%|▊         | 83/1014 [02:20<17:22,  1.12s/it]\u001b[A\u001b[A"
          ]
        },
        {
          "output_type": "stream",
          "name": "stdout",
          "text": [
            " 50%\n"
          ]
        },
        {
          "output_type": "stream",
          "name": "stderr",
          "text": [
            "\n",
            "\n",
            "  8%|▊         | 84/1014 [02:21<16:25,  1.06s/it]\u001b[A\u001b[A"
          ]
        },
        {
          "output_type": "stream",
          "name": "stdout",
          "text": [
            " Mixpanel\n",
            "KISSmetrics\n"
          ]
        },
        {
          "output_type": "stream",
          "name": "stderr",
          "text": [
            "\n",
            "\n",
            "  8%|▊         | 85/1014 [02:22<16:04,  1.04s/it]\u001b[A\u001b[A"
          ]
        },
        {
          "output_type": "stream",
          "name": "stdout",
          "text": [
            " Reciprocating engine.\n"
          ]
        },
        {
          "output_type": "stream",
          "name": "stderr",
          "text": [
            "\n",
            "\n",
            "  8%|▊         | 86/1014 [02:24<18:36,  1.20s/it]\u001b[A\u001b[A"
          ]
        },
        {
          "output_type": "stream",
          "name": "stdout",
          "text": [
            " Hypotension, pleural effusion, ascites, headache\n"
          ]
        },
        {
          "output_type": "stream",
          "name": "stderr",
          "text": [
            "\n",
            "\n",
            "  9%|▊         | 87/1014 [02:24<16:47,  1.09s/it]\u001b[A\u001b[A"
          ]
        },
        {
          "output_type": "stream",
          "name": "stdout",
          "text": [
            " Export Representatives.\n"
          ]
        },
        {
          "output_type": "stream",
          "name": "stderr",
          "text": [
            "\n",
            "\n",
            "  9%|▊         | 88/1014 [02:25<15:15,  1.01it/s]\u001b[A\u001b[A"
          ]
        },
        {
          "output_type": "stream",
          "name": "stdout",
          "text": [
            " Service layer.\n"
          ]
        },
        {
          "output_type": "stream",
          "name": "stderr",
          "text": [
            "\n",
            "\n",
            "  9%|▉         | 89/1014 [02:27<18:51,  1.22s/it]\u001b[A\u001b[A"
          ]
        },
        {
          "output_type": "stream",
          "name": "stdout",
          "text": [
            " Asian region\n"
          ]
        },
        {
          "output_type": "stream",
          "name": "stderr",
          "text": [
            "\n",
            "\n",
            "  9%|▉         | 90/1014 [02:28<16:39,  1.08s/it]\u001b[A\u001b[A"
          ]
        },
        {
          "output_type": "stream",
          "name": "stdout",
          "text": [
            " Core Storm\n"
          ]
        },
        {
          "output_type": "stream",
          "name": "stderr",
          "text": [
            "\n",
            "\n",
            "  9%|▉         | 91/1014 [02:28<14:58,  1.03it/s]\u001b[A\u001b[A"
          ]
        },
        {
          "output_type": "stream",
          "name": "stdout",
          "text": [
            " Thursday\n"
          ]
        },
        {
          "output_type": "stream",
          "name": "stderr",
          "text": [
            "\n",
            "\n",
            "  9%|▉         | 92/1014 [02:30<17:08,  1.12s/it]\u001b[A\u001b[A"
          ]
        },
        {
          "output_type": "stream",
          "name": "stdout",
          "text": [
            " Key-Value, Columnar, Document.\n"
          ]
        },
        {
          "output_type": "stream",
          "name": "stderr",
          "text": [
            "\n",
            "\n",
            "  9%|▉         | 93/1014 [02:35<35:37,  2.32s/it]\u001b[A\u001b[A"
          ]
        },
        {
          "output_type": "stream",
          "name": "stdout",
          "text": [
            " Content marketer\n"
          ]
        },
        {
          "output_type": "stream",
          "name": "stderr",
          "text": [
            "\n",
            "\n",
            "  9%|▉         | 94/1014 [02:37<34:28,  2.25s/it]\u001b[A\u001b[A"
          ]
        },
        {
          "output_type": "stream",
          "name": "stdout",
          "text": [
            " 54%\n"
          ]
        },
        {
          "output_type": "stream",
          "name": "stderr",
          "text": [
            "\n",
            "\n",
            "  9%|▉         | 95/1014 [02:38<30:36,  2.00s/it]\u001b[A\u001b[A"
          ]
        },
        {
          "output_type": "stream",
          "name": "stdout",
          "text": [
            " Focused and Strategic\n"
          ]
        },
        {
          "output_type": "stream",
          "name": "stderr",
          "text": [
            "\n",
            "\n",
            "  9%|▉         | 96/1014 [02:44<47:05,  3.08s/it]\u001b[A\u001b[A"
          ]
        },
        {
          "output_type": "stream",
          "name": "stdout",
          "text": [
            " 647,484\n"
          ]
        },
        {
          "output_type": "stream",
          "name": "stderr",
          "text": [
            "\n",
            "\n",
            " 10%|▉         | 97/1014 [02:46<43:28,  2.84s/it]\u001b[A\u001b[A"
          ]
        },
        {
          "output_type": "stream",
          "name": "stdout",
          "text": [
            " 2.6 hours\n"
          ]
        },
        {
          "output_type": "stream",
          "name": "stderr",
          "text": [
            "\n",
            "\n",
            " 10%|▉         | 98/1014 [02:47<34:17,  2.25s/it]\u001b[A\u001b[A"
          ]
        },
        {
          "output_type": "stream",
          "name": "stdout",
          "text": [
            " Laurence Boldt.\n"
          ]
        },
        {
          "output_type": "stream",
          "name": "stderr",
          "text": [
            "\n",
            "\n",
            " 10%|▉         | 99/1014 [02:59<1:17:36,  5.09s/it]\u001b[A\u001b[A"
          ]
        },
        {
          "output_type": "stream",
          "name": "stdout",
          "text": [
            " Strong. \n",
            "\n",
            "The text provided discusses the impact of television media on various stages of the car buying process. It highlights how TV ads lead buyers to auto websites better than any other medium, how they have the strongest influence on purchase decisions, and how they reinforce the feeling of pride in a vehicle purchase decision. Furthermore, the text mentions that TV ads prompt auto buyers to take action by searching for more vehicle information online while watching TV ads. Finally, it is stated that TV ads drive buyers to diverse age and race demographic segments. Therefore, the strength of TV media in influencing buyers to purchase cars is considered strong.\n"
          ]
        },
        {
          "output_type": "stream",
          "name": "stderr",
          "text": [
            "\n",
            "\n",
            " 10%|▉         | 100/1014 [03:01<1:03:12,  4.15s/it]\u001b[A\u001b[A"
          ]
        },
        {
          "output_type": "stream",
          "name": "stdout",
          "text": [
            " decreasing\n"
          ]
        },
        {
          "output_type": "stream",
          "name": "stderr",
          "text": [
            "\n",
            "\n",
            " 10%|▉         | 101/1014 [03:04<59:33,  3.91s/it]  \u001b[A\u001b[A"
          ]
        },
        {
          "output_type": "stream",
          "name": "stdout",
          "text": [
            " Cavity Wall.\n"
          ]
        },
        {
          "output_type": "stream",
          "name": "stderr",
          "text": [
            "\n",
            "\n",
            " 10%|█         | 102/1014 [03:05<45:19,  2.98s/it]\u001b[A\u001b[A"
          ]
        },
        {
          "output_type": "stream",
          "name": "stdout",
          "text": [
            " Four parts.\n"
          ]
        },
        {
          "output_type": "stream",
          "name": "stderr",
          "text": [
            "\n",
            "\n",
            " 10%|█         | 103/1014 [03:06<37:57,  2.50s/it]\u001b[A\u001b[A"
          ]
        },
        {
          "output_type": "stream",
          "name": "stdout",
          "text": [
            " Nod may.\n"
          ]
        },
        {
          "output_type": "stream",
          "name": "stderr",
          "text": [
            "\n",
            "\n",
            " 10%|█         | 104/1014 [03:08<31:26,  2.07s/it]\u001b[A\u001b[A"
          ]
        },
        {
          "output_type": "stream",
          "name": "stdout",
          "text": [
            " 48%\n"
          ]
        },
        {
          "output_type": "stream",
          "name": "stderr",
          "text": [
            "\n",
            "\n",
            " 10%|█         | 105/1014 [03:09<28:38,  1.89s/it]\u001b[A\u001b[A"
          ]
        },
        {
          "output_type": "stream",
          "name": "stdout",
          "text": [
            " Interoperability.\n"
          ]
        },
        {
          "output_type": "stream",
          "name": "stderr",
          "text": [
            "\n",
            "\n",
            " 10%|█         | 106/1014 [03:10<24:50,  1.64s/it]\u001b[A\u001b[A"
          ]
        },
        {
          "output_type": "stream",
          "name": "stdout",
          "text": [
            " loT market\n"
          ]
        },
        {
          "output_type": "stream",
          "name": "stderr",
          "text": [
            "\n",
            "\n",
            " 11%|█         | 107/1014 [03:11<21:05,  1.40s/it]\u001b[A\u001b[A"
          ]
        },
        {
          "output_type": "stream",
          "name": "stdout",
          "text": [
            " Hydrogen ions.\n"
          ]
        },
        {
          "output_type": "stream",
          "name": "stderr",
          "text": [
            "\n",
            "\n",
            " 11%|█         | 108/1014 [03:15<34:12,  2.27s/it]\u001b[A\u001b[A"
          ]
        },
        {
          "output_type": "stream",
          "name": "stdout",
          "text": [
            " 4.3 inches\n"
          ]
        },
        {
          "output_type": "stream",
          "name": "stderr",
          "text": [
            "\n",
            "\n",
            " 11%|█         | 109/1014 [03:16<27:51,  1.85s/it]\u001b[A\u001b[A"
          ]
        },
        {
          "output_type": "stream",
          "name": "stdout",
          "text": [
            " Zynga.\n"
          ]
        },
        {
          "output_type": "stream",
          "name": "stderr",
          "text": [
            "\n",
            "\n",
            " 11%|█         | 110/1014 [03:17<23:14,  1.54s/it]\u001b[A\u001b[A"
          ]
        },
        {
          "output_type": "stream",
          "name": "stdout",
          "text": [
            " Astrocyte\n"
          ]
        },
        {
          "output_type": "stream",
          "name": "stderr",
          "text": [
            "\n",
            "\n",
            " 11%|█         | 111/1014 [03:21<32:45,  2.18s/it]\u001b[A\u001b[A"
          ]
        },
        {
          "output_type": "stream",
          "name": "stdout",
          "text": [
            " Electricity.\n"
          ]
        },
        {
          "output_type": "stream",
          "name": "stderr",
          "text": [
            "\n",
            "\n",
            " 11%|█         | 112/1014 [03:22<28:34,  1.90s/it]\u001b[A\u001b[A"
          ]
        },
        {
          "output_type": "stream",
          "name": "stdout",
          "text": [
            " May 2014\n"
          ]
        },
        {
          "output_type": "stream",
          "name": "stderr",
          "text": [
            "\n",
            "\n",
            " 11%|█         | 113/1014 [03:23<24:58,  1.66s/it]\u001b[A\u001b[A"
          ]
        },
        {
          "output_type": "stream",
          "name": "stdout",
          "text": [
            " 4th King\n"
          ]
        },
        {
          "output_type": "stream",
          "name": "stderr",
          "text": [
            "\n",
            "\n",
            " 11%|█         | 114/1014 [03:24<23:59,  1.60s/it]\u001b[A\u001b[A"
          ]
        },
        {
          "output_type": "stream",
          "name": "stdout",
          "text": [
            " 0.2\n"
          ]
        },
        {
          "output_type": "stream",
          "name": "stderr",
          "text": [
            "\n",
            "\n",
            " 11%|█▏        | 115/1014 [03:25<20:23,  1.36s/it]\u001b[A\u001b[A"
          ]
        },
        {
          "output_type": "stream",
          "name": "stdout",
          "text": [
            " Cells Theory\n"
          ]
        },
        {
          "output_type": "stream",
          "name": "stderr",
          "text": [
            "\n",
            "\n",
            " 11%|█▏        | 116/1014 [03:26<18:53,  1.26s/it]\u001b[A\u001b[A"
          ]
        },
        {
          "output_type": "stream",
          "name": "stdout",
          "text": [
            " 31%\n"
          ]
        },
        {
          "output_type": "stream",
          "name": "stderr",
          "text": [
            "\n",
            "\n",
            " 12%|█▏        | 117/1014 [03:28<20:35,  1.38s/it]\u001b[A\u001b[A"
          ]
        },
        {
          "output_type": "stream",
          "name": "stdout",
          "text": [
            " Saudi Arabia.\n"
          ]
        },
        {
          "output_type": "stream",
          "name": "stderr",
          "text": [
            "\n",
            "\n",
            " 12%|█▏        | 118/1014 [03:31<26:30,  1.77s/it]\u001b[A\u001b[A"
          ]
        },
        {
          "output_type": "stream",
          "name": "stdout",
          "text": [
            " Two lines.\n"
          ]
        },
        {
          "output_type": "stream",
          "name": "stderr",
          "text": [
            "\n",
            "\n",
            " 12%|█▏        | 119/1014 [03:36<42:08,  2.83s/it]\u001b[A\u001b[A"
          ]
        },
        {
          "output_type": "stream",
          "name": "stdout",
          "text": [
            " Social media.\n"
          ]
        },
        {
          "output_type": "stream",
          "name": "stderr",
          "text": [
            "\n",
            "\n",
            " 12%|█▏        | 120/1014 [03:38<39:52,  2.68s/it]\u001b[A\u001b[A"
          ]
        },
        {
          "output_type": "stream",
          "name": "stdout",
          "text": [
            " Engaged, technology-savvy.\n"
          ]
        },
        {
          "output_type": "stream",
          "name": "stderr",
          "text": [
            "\n",
            "\n",
            " 12%|█▏        | 121/1014 [03:40<37:19,  2.51s/it]\u001b[A\u001b[A"
          ]
        },
        {
          "output_type": "stream",
          "name": "stdout",
          "text": [
            " More iron.\n"
          ]
        },
        {
          "output_type": "stream",
          "name": "stderr",
          "text": [
            "\n",
            "\n",
            " 12%|█▏        | 122/1014 [03:41<29:57,  2.01s/it]\u001b[A\u001b[A"
          ]
        },
        {
          "output_type": "stream",
          "name": "stdout",
          "text": [
            " Four Stroke Engines\n"
          ]
        },
        {
          "output_type": "stream",
          "name": "stderr",
          "text": [
            "\n",
            "\n",
            " 12%|█▏        | 123/1014 [03:42<24:39,  1.66s/it]\u001b[A\u001b[A"
          ]
        },
        {
          "output_type": "stream",
          "name": "stdout",
          "text": [
            " Southern.\n"
          ]
        },
        {
          "output_type": "stream",
          "name": "stderr",
          "text": [
            "\n",
            "\n",
            " 12%|█▏        | 124/1014 [03:43<21:23,  1.44s/it]\u001b[A\u001b[A"
          ]
        },
        {
          "output_type": "stream",
          "name": "stdout",
          "text": [
            " Gainsborough\n"
          ]
        },
        {
          "output_type": "stream",
          "name": "stderr",
          "text": [
            "\n",
            "\n",
            " 12%|█▏        | 125/1014 [03:46<30:19,  2.05s/it]\u001b[A\u001b[A"
          ]
        },
        {
          "output_type": "stream",
          "name": "stdout",
          "text": [
            " 1850-1900\n"
          ]
        },
        {
          "output_type": "stream",
          "name": "stderr",
          "text": [
            "\n",
            "\n",
            " 12%|█▏        | 126/1014 [03:51<43:07,  2.91s/it]\u001b[A\u001b[A"
          ]
        },
        {
          "output_type": "stream",
          "name": "stdout",
          "text": [
            " Gilgamesh wrote the Epic of Gilgamesh. He wrote it a long, long time ago, around 2150-1400 BCE. It's a special story from ancient Mesopotamia, and it's about kings, heroes, and adventures!\n"
          ]
        },
        {
          "output_type": "stream",
          "name": "stderr",
          "text": [
            "\n",
            "\n",
            " 13%|█▎        | 127/1014 [03:55<48:01,  3.25s/it]\u001b[A\u001b[A"
          ]
        },
        {
          "output_type": "stream",
          "name": "stdout",
          "text": [
            " Venture capitalist.\n"
          ]
        },
        {
          "output_type": "stream",
          "name": "stderr",
          "text": [
            "\n",
            "\n",
            " 13%|█▎        | 128/1014 [03:56<36:46,  2.49s/it]\u001b[A\u001b[A"
          ]
        },
        {
          "output_type": "stream",
          "name": "stdout",
          "text": [
            " consumers\n"
          ]
        },
        {
          "output_type": "stream",
          "name": "stderr",
          "text": [
            "\n",
            "\n",
            " 13%|█▎        | 129/1014 [03:57<30:41,  2.08s/it]\u001b[A\u001b[A"
          ]
        },
        {
          "output_type": "stream",
          "name": "stdout",
          "text": [
            " High productivity\n"
          ]
        },
        {
          "output_type": "stream",
          "name": "stderr",
          "text": [
            "\n",
            "\n",
            " 13%|█▎        | 130/1014 [03:59<31:37,  2.15s/it]\u001b[A\u001b[A"
          ]
        },
        {
          "output_type": "stream",
          "name": "stdout",
          "text": [
            " 32%\n"
          ]
        },
        {
          "output_type": "stream",
          "name": "stderr",
          "text": [
            "\n",
            "\n",
            " 13%|█▎        | 131/1014 [04:00<25:35,  1.74s/it]\u001b[A\u001b[A"
          ]
        },
        {
          "output_type": "stream",
          "name": "stdout",
          "text": [
            " System software.\n"
          ]
        },
        {
          "output_type": "stream",
          "name": "stderr",
          "text": [
            "\n",
            "\n",
            " 13%|█▎        | 132/1014 [04:01<21:12,  1.44s/it]\u001b[A\u001b[A"
          ]
        },
        {
          "output_type": "stream",
          "name": "stdout",
          "text": [
            " HTTP requests\n"
          ]
        },
        {
          "output_type": "stream",
          "name": "stderr",
          "text": [
            "\n",
            "\n",
            " 13%|█▎        | 133/1014 [04:03<22:06,  1.51s/it]\u001b[A\u001b[A"
          ]
        },
        {
          "output_type": "stream",
          "name": "stdout",
          "text": [
            " Increased\n"
          ]
        },
        {
          "output_type": "stream",
          "name": "stderr",
          "text": [
            "\n",
            "\n",
            " 13%|█▎        | 134/1014 [04:04<20:52,  1.42s/it]\u001b[A\u001b[A"
          ]
        },
        {
          "output_type": "stream",
          "name": "stdout",
          "text": [
            " Mumbai and Delhi.\n"
          ]
        },
        {
          "output_type": "stream",
          "name": "stderr",
          "text": [
            "\n",
            "\n",
            " 13%|█▎        | 135/1014 [04:06<24:33,  1.68s/it]\u001b[A\u001b[A"
          ]
        },
        {
          "output_type": "stream",
          "name": "stdout",
          "text": [
            " Ontario, Canada.\n"
          ]
        },
        {
          "output_type": "stream",
          "name": "stderr",
          "text": [
            "\n",
            "\n",
            " 13%|█▎        | 136/1014 [04:08<26:41,  1.82s/it]\u001b[A\u001b[A"
          ]
        },
        {
          "output_type": "stream",
          "name": "stdout",
          "text": [
            " 3.6%\n"
          ]
        },
        {
          "output_type": "stream",
          "name": "stderr",
          "text": [
            "\n",
            "\n",
            " 14%|█▎        | 137/1014 [04:10<27:01,  1.85s/it]\u001b[A\u001b[A"
          ]
        },
        {
          "output_type": "stream",
          "name": "stdout",
          "text": [
            " Newsletter.\n"
          ]
        },
        {
          "output_type": "stream",
          "name": "stderr",
          "text": [
            "\n",
            "\n",
            " 14%|█▎        | 138/1014 [04:11<20:34,  1.41s/it]\u001b[A\u001b[A"
          ]
        },
        {
          "output_type": "stream",
          "name": "stdout",
          "text": [
            "Error processing ID 137: Error code: 400 - {'detail': 'Content Exists Risk'}\n"
          ]
        },
        {
          "output_type": "stream",
          "name": "stderr",
          "text": [
            "\n",
            "\n",
            " 14%|█▎        | 139/1014 [04:11<18:16,  1.25s/it]\u001b[A\u001b[A"
          ]
        },
        {
          "output_type": "stream",
          "name": "stdout",
          "text": [
            " churches\n"
          ]
        },
        {
          "output_type": "stream",
          "name": "stderr",
          "text": [
            "\n",
            "\n",
            " 14%|█▍        | 140/1014 [04:12<14:26,  1.01it/s]\u001b[A\u001b[A"
          ]
        },
        {
          "output_type": "stream",
          "name": "stdout",
          "text": [
            "Error processing ID 139: Error code: 400 - {'detail': 'Content Exists Risk'}\n"
          ]
        },
        {
          "output_type": "stream",
          "name": "stderr",
          "text": [
            "\n",
            "\n",
            " 14%|█▍        | 141/1014 [04:14<21:16,  1.46s/it]\u001b[A\u001b[A"
          ]
        },
        {
          "output_type": "stream",
          "name": "stdout",
          "text": [
            " Equal to\n"
          ]
        },
        {
          "output_type": "stream",
          "name": "stderr",
          "text": [
            "\n",
            "\n",
            " 14%|█▍        | 142/1014 [04:15<19:15,  1.32s/it]\u001b[A\u001b[A"
          ]
        },
        {
          "output_type": "stream",
          "name": "stdout",
          "text": [
            " N/A\n"
          ]
        },
        {
          "output_type": "stream",
          "name": "stderr",
          "text": [
            "\n",
            "\n",
            " 14%|█▍        | 143/1014 [04:16<18:07,  1.25s/it]\u001b[A\u001b[A"
          ]
        },
        {
          "output_type": "stream",
          "name": "stdout",
          "text": [
            " Safety and efficacy.\n"
          ]
        },
        {
          "output_type": "stream",
          "name": "stderr",
          "text": [
            "\n",
            "\n",
            " 14%|█▍        | 144/1014 [04:18<17:55,  1.24s/it]\u001b[A\u001b[A"
          ]
        },
        {
          "output_type": "stream",
          "name": "stdout",
          "text": [
            " Two-word answer: \"Interaction\" \"Engagement.\"\n"
          ]
        },
        {
          "output_type": "stream",
          "name": "stderr",
          "text": [
            "\n",
            "\n",
            " 14%|█▍        | 145/1014 [04:18<14:11,  1.02it/s]\u001b[A\u001b[A"
          ]
        },
        {
          "output_type": "stream",
          "name": "stdout",
          "text": [
            "Error processing ID 144: Error code: 400 - {'detail': 'Content Exists Risk'}\n"
          ]
        },
        {
          "output_type": "stream",
          "name": "stderr",
          "text": [
            "\n",
            "\n",
            " 14%|█▍        | 146/1014 [04:19<13:22,  1.08it/s]\u001b[A\u001b[A"
          ]
        },
        {
          "output_type": "stream",
          "name": "stdout",
          "text": [
            " Not needed.\n"
          ]
        },
        {
          "output_type": "stream",
          "name": "stderr",
          "text": [
            "\n",
            "\n",
            " 14%|█▍        | 147/1014 [04:23<25:23,  1.76s/it]\u001b[A\u001b[A"
          ]
        },
        {
          "output_type": "stream",
          "name": "stdout",
          "text": [
            " Decentralization and Trust.\n"
          ]
        },
        {
          "output_type": "stream",
          "name": "stderr",
          "text": [
            "\n",
            "\n",
            " 15%|█▍        | 148/1014 [04:24<21:52,  1.52s/it]\u001b[A\u001b[A"
          ]
        },
        {
          "output_type": "stream",
          "name": "stdout",
          "text": [
            " Elsevier\n"
          ]
        },
        {
          "output_type": "stream",
          "name": "stderr",
          "text": [
            "\n",
            "\n",
            " 15%|█▍        | 149/1014 [04:25<20:54,  1.45s/it]\u001b[A\u001b[A"
          ]
        },
        {
          "output_type": "stream",
          "name": "stdout",
          "text": [
            " 13 more\n"
          ]
        },
        {
          "output_type": "stream",
          "name": "stderr",
          "text": [
            "\n",
            "\n",
            " 15%|█▍        | 150/1014 [04:27<26:04,  1.81s/it]\u001b[A\u001b[A"
          ]
        },
        {
          "output_type": "stream",
          "name": "stdout",
          "text": [
            " Municipal-level.\n"
          ]
        },
        {
          "output_type": "stream",
          "name": "stderr",
          "text": [
            "\n",
            "\n",
            " 15%|█▍        | 151/1014 [04:28<22:31,  1.57s/it]\u001b[A\u001b[A"
          ]
        },
        {
          "output_type": "stream",
          "name": "stdout",
          "text": [
            " Roof and Non-Roof\n"
          ]
        },
        {
          "output_type": "stream",
          "name": "stderr",
          "text": [
            "\n",
            "\n",
            " 15%|█▍        | 152/1014 [04:31<24:33,  1.71s/it]\u001b[A\u001b[A"
          ]
        },
        {
          "output_type": "stream",
          "name": "stdout",
          "text": [
            " Access denied. Why?\n"
          ]
        },
        {
          "output_type": "stream",
          "name": "stderr",
          "text": [
            "\n",
            "\n",
            " 15%|█▌        | 153/1014 [04:31<21:07,  1.47s/it]\u001b[A\u001b[A"
          ]
        },
        {
          "output_type": "stream",
          "name": "stdout",
          "text": [
            " obstructed airway\n"
          ]
        },
        {
          "output_type": "stream",
          "name": "stderr",
          "text": [
            "\n",
            "\n",
            " 15%|█▌        | 154/1014 [04:33<22:42,  1.58s/it]\u001b[A\u001b[A"
          ]
        },
        {
          "output_type": "stream",
          "name": "stdout",
          "text": [
            " Consistent Content.\n"
          ]
        },
        {
          "output_type": "stream",
          "name": "stderr",
          "text": [
            "\n",
            "\n",
            " 15%|█▌        | 155/1014 [04:36<27:38,  1.93s/it]\u001b[A\u001b[A"
          ]
        },
        {
          "output_type": "stream",
          "name": "stdout",
          "text": [
            " Decreasingly\n"
          ]
        },
        {
          "output_type": "stream",
          "name": "stderr",
          "text": [
            "\n",
            "\n",
            " 15%|█▌        | 156/1014 [04:38<29:02,  2.03s/it]\u001b[A\u001b[A"
          ]
        },
        {
          "output_type": "stream",
          "name": "stdout",
          "text": [
            " software platforms\n"
          ]
        },
        {
          "output_type": "stream",
          "name": "stderr",
          "text": [
            "\n",
            "\n",
            " 15%|█▌        | 157/1014 [04:40<27:15,  1.91s/it]\u001b[A\u001b[A"
          ]
        },
        {
          "output_type": "stream",
          "name": "stdout",
          "text": [
            " Greater China regional GDP has a higher percentage share.\n"
          ]
        },
        {
          "output_type": "stream",
          "name": "stderr",
          "text": [
            "\n",
            "\n",
            " 16%|█▌        | 158/1014 [04:41<22:36,  1.59s/it]\u001b[A\u001b[A"
          ]
        },
        {
          "output_type": "stream",
          "name": "stdout",
          "text": [
            " Internet access.\n"
          ]
        },
        {
          "output_type": "stream",
          "name": "stderr",
          "text": [
            "\n",
            "\n",
            " 16%|█▌        | 159/1014 [04:42<22:57,  1.61s/it]\u001b[A\u001b[A"
          ]
        },
        {
          "output_type": "stream",
          "name": "stdout",
          "text": [
            " 647,484\n"
          ]
        },
        {
          "output_type": "stream",
          "name": "stderr",
          "text": [
            "\n",
            "\n",
            " 16%|█▌        | 160/1014 [04:49<45:41,  3.21s/it]\u001b[A\u001b[A"
          ]
        },
        {
          "output_type": "stream",
          "name": "stdout",
          "text": [
            " Fossil cars.\n"
          ]
        },
        {
          "output_type": "stream",
          "name": "stderr",
          "text": [
            "\n",
            "\n",
            " 16%|█▌        | 161/1014 [04:50<35:36,  2.50s/it]\u001b[A\u001b[A"
          ]
        },
        {
          "output_type": "stream",
          "name": "stdout",
          "text": [
            " Washington University.\n"
          ]
        },
        {
          "output_type": "stream",
          "name": "stderr",
          "text": [
            "\n",
            "\n",
            " 16%|█▌        | 162/1014 [04:51<29:11,  2.06s/it]\u001b[A\u001b[A"
          ]
        },
        {
          "output_type": "stream",
          "name": "stdout",
          "text": [
            " 900 million\n"
          ]
        },
        {
          "output_type": "stream",
          "name": "stderr",
          "text": [
            "\n",
            "\n",
            " 16%|█▌        | 163/1014 [04:53<29:00,  2.05s/it]\u001b[A\u001b[A"
          ]
        },
        {
          "output_type": "stream",
          "name": "stdout",
          "text": [
            " President Greater China.\n"
          ]
        },
        {
          "output_type": "stream",
          "name": "stderr",
          "text": [
            "\n",
            "\n",
            " 16%|█▌        | 164/1014 [04:54<25:20,  1.79s/it]\u001b[A\u001b[A"
          ]
        },
        {
          "output_type": "stream",
          "name": "stdout",
          "text": [
            " Glass Electrode and Reference Electrode.\n"
          ]
        },
        {
          "output_type": "stream",
          "name": "stderr",
          "text": [
            "\n",
            "\n",
            " 16%|█▋        | 165/1014 [04:57<28:21,  2.00s/it]\u001b[A\u001b[A"
          ]
        },
        {
          "output_type": "stream",
          "name": "stdout",
          "text": [
            " 39.1%\n"
          ]
        },
        {
          "output_type": "stream",
          "name": "stderr",
          "text": [
            "\n",
            "\n",
            " 16%|█▋        | 166/1014 [04:58<23:34,  1.67s/it]\u001b[A\u001b[A"
          ]
        },
        {
          "output_type": "stream",
          "name": "stdout",
          "text": [
            " Brain and spinal cord\n"
          ]
        },
        {
          "output_type": "stream",
          "name": "stderr",
          "text": [
            "\n",
            "\n",
            " 16%|█▋        | 167/1014 [05:01<31:57,  2.26s/it]\u001b[A\u001b[A"
          ]
        },
        {
          "output_type": "stream",
          "name": "stdout",
          "text": [
            " - PDN Gateway\n",
            "- PCC Function (for policy and charging)\n"
          ]
        },
        {
          "output_type": "stream",
          "name": "stderr",
          "text": [
            "\n",
            "\n",
            " 17%|█▋        | 168/1014 [05:02<25:14,  1.79s/it]\u001b[A\u001b[A"
          ]
        },
        {
          "output_type": "stream",
          "name": "stdout",
          "text": [
            " Utility Grid\n"
          ]
        },
        {
          "output_type": "stream",
          "name": "stderr",
          "text": [
            "\n",
            "\n",
            " 17%|█▋        | 169/1014 [05:03<21:39,  1.54s/it]\u001b[A\u001b[A"
          ]
        },
        {
          "output_type": "stream",
          "name": "stdout",
          "text": [
            " Cast iron.\n"
          ]
        },
        {
          "output_type": "stream",
          "name": "stderr",
          "text": [
            "\n",
            "\n",
            " 17%|█▋        | 170/1014 [05:04<19:51,  1.41s/it]\u001b[A\u001b[A"
          ]
        },
        {
          "output_type": "stream",
          "name": "stdout",
          "text": [
            " Double loop learning.\n"
          ]
        },
        {
          "output_type": "stream",
          "name": "stderr",
          "text": [
            "\n",
            "\n",
            " 17%|█▋        | 171/1014 [05:06<19:24,  1.38s/it]\u001b[A\u001b[A"
          ]
        },
        {
          "output_type": "stream",
          "name": "stdout",
          "text": [
            " Crawling, Cruising\n"
          ]
        },
        {
          "output_type": "stream",
          "name": "stderr",
          "text": [
            "\n",
            "\n",
            " 17%|█▋        | 172/1014 [05:06<15:15,  1.09s/it]\u001b[A\u001b[A"
          ]
        },
        {
          "output_type": "stream",
          "name": "stdout",
          "text": [
            "Error processing ID 171: Error code: 400 - {'detail': 'Content Exists Risk'}\n"
          ]
        },
        {
          "output_type": "stream",
          "name": "stderr",
          "text": [
            "\n",
            "\n",
            " 17%|█▋        | 173/1014 [05:06<12:18,  1.14it/s]\u001b[A\u001b[A"
          ]
        },
        {
          "output_type": "stream",
          "name": "stdout",
          "text": [
            "Error processing ID 172: Error code: 400 - {'detail': 'Content Exists Risk'}\n"
          ]
        },
        {
          "output_type": "stream",
          "name": "stderr",
          "text": [
            "\n",
            "\n",
            " 17%|█▋        | 174/1014 [05:07<12:25,  1.13it/s]\u001b[A\u001b[A"
          ]
        },
        {
          "output_type": "stream",
          "name": "stdout",
          "text": [
            " Single chromosome.\n"
          ]
        },
        {
          "output_type": "stream",
          "name": "stderr",
          "text": [
            "\n",
            "\n",
            " 17%|█▋        | 175/1014 [05:08<12:03,  1.16it/s]\u001b[A\u001b[A"
          ]
        },
        {
          "output_type": "stream",
          "name": "stdout",
          "text": [
            " Fenestrations\n"
          ]
        },
        {
          "output_type": "stream",
          "name": "stderr",
          "text": [
            "\n",
            "\n",
            " 17%|█▋        | 176/1014 [05:08<10:02,  1.39it/s]\u001b[A\u001b[A"
          ]
        },
        {
          "output_type": "stream",
          "name": "stdout",
          "text": [
            "Error processing ID 175: Error code: 400 - {'detail': 'Content Exists Risk'}\n"
          ]
        },
        {
          "output_type": "stream",
          "name": "stderr",
          "text": [
            "\n",
            "\n",
            " 17%|█▋        | 177/1014 [05:10<14:11,  1.02s/it]\u001b[A\u001b[A"
          ]
        },
        {
          "output_type": "stream",
          "name": "stdout",
          "text": [
            " 42\n"
          ]
        },
        {
          "output_type": "stream",
          "name": "stderr",
          "text": [
            "\n",
            "\n",
            " 18%|█▊        | 178/1014 [05:11<13:47,  1.01it/s]\u001b[A\u001b[A"
          ]
        },
        {
          "output_type": "stream",
          "name": "stdout",
          "text": [
            " High-impact.\n"
          ]
        },
        {
          "output_type": "stream",
          "name": "stderr",
          "text": [
            "\n",
            "\n",
            " 18%|█▊        | 179/1014 [05:12<14:38,  1.05s/it]\u001b[A\u001b[A"
          ]
        },
        {
          "output_type": "stream",
          "name": "stdout",
          "text": [
            " Uzbeks, Turkmens, Hazara\n"
          ]
        },
        {
          "output_type": "stream",
          "name": "stderr",
          "text": [
            "\n",
            "\n",
            " 18%|█▊        | 180/1014 [05:15<21:40,  1.56s/it]\u001b[A\u001b[A"
          ]
        },
        {
          "output_type": "stream",
          "name": "stdout",
          "text": [
            " EBITDA\n"
          ]
        },
        {
          "output_type": "stream",
          "name": "stderr",
          "text": [
            "\n",
            "\n",
            " 18%|█▊        | 181/1014 [05:16<18:21,  1.32s/it]\u001b[A\u001b[A"
          ]
        },
        {
          "output_type": "stream",
          "name": "stdout",
          "text": [
            " Dan Roam\n"
          ]
        },
        {
          "output_type": "stream",
          "name": "stderr",
          "text": [
            "\n",
            "\n",
            " 18%|█▊        | 182/1014 [05:18<20:11,  1.46s/it]\u001b[A\u001b[A"
          ]
        },
        {
          "output_type": "stream",
          "name": "stdout",
          "text": [
            " Business Analyst, Data Scientist\n"
          ]
        },
        {
          "output_type": "stream",
          "name": "stderr",
          "text": [
            "\n",
            "\n",
            " 18%|█▊        | 183/1014 [05:22<30:42,  2.22s/it]\u001b[A\u001b[A"
          ]
        },
        {
          "output_type": "stream",
          "name": "stdout",
          "text": [
            " increased\n"
          ]
        },
        {
          "output_type": "stream",
          "name": "stderr",
          "text": [
            "\n",
            "\n",
            " 18%|█▊        | 184/1014 [05:23<26:14,  1.90s/it]\u001b[A\u001b[A"
          ]
        },
        {
          "output_type": "stream",
          "name": "stdout",
          "text": [
            " Obligate parasite.\n"
          ]
        },
        {
          "output_type": "stream",
          "name": "stderr",
          "text": [
            "\n",
            "\n",
            " 18%|█▊        | 185/1014 [05:24<22:08,  1.60s/it]\u001b[A\u001b[A"
          ]
        },
        {
          "output_type": "stream",
          "name": "stdout",
          "text": [
            " Bassano, Alberta\n"
          ]
        },
        {
          "output_type": "stream",
          "name": "stderr",
          "text": [
            "\n",
            "\n",
            " 18%|█▊        | 186/1014 [05:25<19:16,  1.40s/it]\u001b[A\u001b[A"
          ]
        },
        {
          "output_type": "stream",
          "name": "stdout",
          "text": [
            " Angle structures\n"
          ]
        },
        {
          "output_type": "stream",
          "name": "stderr",
          "text": [
            "\n",
            "\n",
            " 18%|█▊        | 187/1014 [05:30<34:44,  2.52s/it]\u001b[A\u001b[A"
          ]
        },
        {
          "output_type": "stream",
          "name": "stdout",
          "text": [
            " Average velocity during the first 3 seconds does NOT require calculus.\n"
          ]
        },
        {
          "output_type": "stream",
          "name": "stderr",
          "text": [
            "\n",
            "\n",
            " 19%|█▊        | 188/1014 [05:33<36:20,  2.64s/it]\u001b[A\u001b[A"
          ]
        },
        {
          "output_type": "stream",
          "name": "stdout",
          "text": [
            " Apple and Google.\n"
          ]
        },
        {
          "output_type": "stream",
          "name": "stderr",
          "text": [
            "\n",
            "\n",
            " 19%|█▊        | 189/1014 [05:40<54:04,  3.93s/it]\u001b[A\u001b[A"
          ]
        },
        {
          "output_type": "stream",
          "name": "stdout",
          "text": [
            " Crop Protection\n"
          ]
        },
        {
          "output_type": "stream",
          "name": "stderr",
          "text": [
            "\n",
            "\n",
            " 19%|█▊        | 190/1014 [05:41<41:57,  3.06s/it]\u001b[A\u001b[A"
          ]
        },
        {
          "output_type": "stream",
          "name": "stdout",
          "text": [
            " April 2001\n"
          ]
        },
        {
          "output_type": "stream",
          "name": "stderr",
          "text": [
            "\n",
            "\n",
            " 19%|█▉        | 191/1014 [05:42<33:26,  2.44s/it]\u001b[A\u001b[A"
          ]
        },
        {
          "output_type": "stream",
          "name": "stdout",
          "text": [
            " Uncoating.\n"
          ]
        },
        {
          "output_type": "stream",
          "name": "stderr",
          "text": [
            "\n",
            "\n",
            " 19%|█▉        | 192/1014 [05:47<45:20,  3.31s/it]\u001b[A\u001b[A"
          ]
        },
        {
          "output_type": "stream",
          "name": "stdout",
          "text": [
            " Efficiency and effectiveness.\n"
          ]
        },
        {
          "output_type": "stream",
          "name": "stderr",
          "text": [
            "\n",
            "\n",
            " 19%|█▉        | 193/1014 [05:48<35:06,  2.57s/it]\u001b[A\u001b[A"
          ]
        },
        {
          "output_type": "stream",
          "name": "stdout",
          "text": [
            " Abdominal thrusts\n"
          ]
        },
        {
          "output_type": "stream",
          "name": "stderr",
          "text": [
            "\n",
            "\n",
            " 19%|█▉        | 194/1014 [05:49<30:21,  2.22s/it]\u001b[A\u001b[A"
          ]
        },
        {
          "output_type": "stream",
          "name": "stdout",
          "text": [
            " Two more\n"
          ]
        },
        {
          "output_type": "stream",
          "name": "stderr",
          "text": [
            "\n",
            "\n",
            " 19%|█▉        | 195/1014 [05:50<22:49,  1.67s/it]\u001b[A\u001b[A"
          ]
        },
        {
          "output_type": "stream",
          "name": "stdout",
          "text": [
            "Error processing ID 194: Error code: 400 - {'detail': 'Content Exists Risk'}\n"
          ]
        },
        {
          "output_type": "stream",
          "name": "stderr",
          "text": [
            "\n",
            "\n",
            " 19%|█▉        | 196/1014 [05:52<25:02,  1.84s/it]\u001b[A\u001b[A"
          ]
        },
        {
          "output_type": "stream",
          "name": "stdout",
          "text": [
            " Solar system.\n"
          ]
        },
        {
          "output_type": "stream",
          "name": "stderr",
          "text": [
            "\n",
            "\n",
            " 19%|█▉        | 197/1014 [05:56<35:00,  2.57s/it]\u001b[A\u001b[A"
          ]
        },
        {
          "output_type": "stream",
          "name": "stdout",
          "text": [
            " 75,000 THB\n"
          ]
        },
        {
          "output_type": "stream",
          "name": "stderr",
          "text": [
            "\n",
            "\n",
            " 20%|█▉        | 198/1014 [05:57<30:18,  2.23s/it]\u001b[A\u001b[A"
          ]
        },
        {
          "output_type": "stream",
          "name": "stdout",
          "text": [
            " 25-33%\n"
          ]
        },
        {
          "output_type": "stream",
          "name": "stderr",
          "text": [
            "\n",
            "\n",
            " 20%|█▉        | 199/1014 [05:59<29:11,  2.15s/it]\u001b[A\u001b[A"
          ]
        },
        {
          "output_type": "stream",
          "name": "stdout",
          "text": [
            " Negotiator, mediator.\n"
          ]
        },
        {
          "output_type": "stream",
          "name": "stderr",
          "text": [
            "\n",
            "\n",
            " 20%|█▉        | 200/1014 [06:02<29:18,  2.16s/it]\u001b[A\u001b[A"
          ]
        },
        {
          "output_type": "stream",
          "name": "stdout",
          "text": [
            " Packaging\n"
          ]
        },
        {
          "output_type": "stream",
          "name": "stderr",
          "text": [
            "\n",
            "\n",
            " 20%|█▉        | 201/1014 [06:02<23:46,  1.76s/it]\u001b[A\u001b[A"
          ]
        },
        {
          "output_type": "stream",
          "name": "stdout",
          "text": [
            " Yahoo Excite.\n"
          ]
        },
        {
          "output_type": "stream",
          "name": "stderr",
          "text": [
            "\n",
            "\n",
            " 20%|█▉        | 202/1014 [06:04<21:23,  1.58s/it]\u001b[A\u001b[A"
          ]
        },
        {
          "output_type": "stream",
          "name": "stdout",
          "text": [
            " Trending up.\n"
          ]
        },
        {
          "output_type": "stream",
          "name": "stderr",
          "text": [
            "\n",
            "\n",
            " 20%|██        | 203/1014 [06:09<36:10,  2.68s/it]\u001b[A\u001b[A"
          ]
        },
        {
          "output_type": "stream",
          "name": "stdout",
          "text": [
            " Annual Energy Cost Savings for the company that reduces the amount of process water used by 15% as compared to a typical building were greater for electricity.\n"
          ]
        },
        {
          "output_type": "stream",
          "name": "stderr",
          "text": [
            "\n",
            "\n",
            " 20%|██        | 204/1014 [06:12<39:39,  2.94s/it]\u001b[A\u001b[A"
          ]
        },
        {
          "output_type": "stream",
          "name": "stdout",
          "text": [
            " VisionMission\n"
          ]
        },
        {
          "output_type": "stream",
          "name": "stderr",
          "text": [
            "\n",
            "\n",
            " 20%|██        | 205/1014 [06:13<31:02,  2.30s/it]\u001b[A\u001b[A"
          ]
        },
        {
          "output_type": "stream",
          "name": "stdout",
          "text": [
            " Heritage experiences\n"
          ]
        },
        {
          "output_type": "stream",
          "name": "stderr",
          "text": [
            "\n",
            "\n",
            " 20%|██        | 206/1014 [06:14<24:51,  1.85s/it]\u001b[A\u001b[A"
          ]
        },
        {
          "output_type": "stream",
          "name": "stdout",
          "text": [
            " Salt water.\n"
          ]
        },
        {
          "output_type": "stream",
          "name": "stderr",
          "text": [
            "\n",
            "\n",
            " 20%|██        | 207/1014 [06:16<24:59,  1.86s/it]\u001b[A\u001b[A"
          ]
        },
        {
          "output_type": "stream",
          "name": "stdout",
          "text": [
            " Event Centric Data HBase will have updates workload.\n"
          ]
        },
        {
          "output_type": "stream",
          "name": "stderr",
          "text": [
            "\n",
            "\n",
            " 21%|██        | 208/1014 [06:18<24:33,  1.83s/it]\u001b[A\u001b[A"
          ]
        },
        {
          "output_type": "stream",
          "name": "stdout",
          "text": [
            " Tourism impact\n"
          ]
        },
        {
          "output_type": "stream",
          "name": "stderr",
          "text": [
            "\n",
            "\n",
            " 21%|██        | 209/1014 [06:20<27:56,  2.08s/it]\u001b[A\u001b[A"
          ]
        },
        {
          "output_type": "stream",
          "name": "stdout",
          "text": [
            " Growth in Commercial Aircraft Military Spending.\n"
          ]
        },
        {
          "output_type": "stream",
          "name": "stderr",
          "text": [
            "\n",
            "\n",
            " 21%|██        | 210/1014 [06:21<24:14,  1.81s/it]\u001b[A\u001b[A"
          ]
        },
        {
          "output_type": "stream",
          "name": "stdout",
          "text": [
            " Amazon Redshift\n"
          ]
        },
        {
          "output_type": "stream",
          "name": "stderr",
          "text": [
            "\n",
            "\n",
            " 21%|██        | 211/1014 [06:22<20:43,  1.55s/it]\u001b[A\u001b[A"
          ]
        },
        {
          "output_type": "stream",
          "name": "stdout",
          "text": [
            " Commoditize\n"
          ]
        },
        {
          "output_type": "stream",
          "name": "stderr",
          "text": [
            "\n",
            "\n",
            " 21%|██        | 212/1014 [06:23<17:45,  1.33s/it]\u001b[A\u001b[A"
          ]
        },
        {
          "output_type": "stream",
          "name": "stdout",
          "text": [
            " Solar power.\n"
          ]
        },
        {
          "output_type": "stream",
          "name": "stderr",
          "text": [
            "\n",
            "\n",
            " 21%|██        | 213/1014 [06:26<21:38,  1.62s/it]\u001b[A\u001b[A"
          ]
        },
        {
          "output_type": "stream",
          "name": "stdout",
          "text": [
            " Community science\n"
          ]
        },
        {
          "output_type": "stream",
          "name": "stderr",
          "text": [
            "\n",
            "\n",
            " 21%|██        | 214/1014 [06:27<19:12,  1.44s/it]\u001b[A\u001b[A"
          ]
        },
        {
          "output_type": "stream",
          "name": "stdout",
          "text": [
            " The power of collaboration.\n"
          ]
        },
        {
          "output_type": "stream",
          "name": "stderr",
          "text": [
            "\n",
            "\n",
            " 21%|██        | 215/1014 [06:27<16:05,  1.21s/it]\u001b[A\u001b[A"
          ]
        },
        {
          "output_type": "stream",
          "name": "stdout",
          "text": [
            " Increase\n"
          ]
        },
        {
          "output_type": "stream",
          "name": "stderr",
          "text": [
            "\n",
            "\n",
            " 21%|██▏       | 216/1014 [06:51<1:46:46,  8.03s/it]\u001b[A\u001b[A"
          ]
        },
        {
          "output_type": "stream",
          "name": "stdout",
          "text": [
            " Split complementary colors are a color scheme that uses three colors: one base color and the two colors on either side of its complement. In this case, the base color is red, and the colors on either side of red's complement, which is cyan, are green and blue.\n",
            "\n",
            "Due to the nature of the question, it appears there has been a misunderstanding or typo in the wording, as a color cannot be both red and green. Therefore, I will answer this question by considering the use of red and green as complementary colors or analogous colors.\n",
            "\n",
            "Red and green are complementary colors. Red is often associated with energy, passion, power, and desire. Green represents nature, harmony, freshness, safety, relaxation, and fertility. When used together, red and green can create an impressive visual contrast, making them ideal for attracting attention and making designs appear dynamic and lively.\n",
            "\n",
            "Please note that while red and green are complementary colors, the split-complementary color scheme requires a base color and the two colors on either side of its complement. In the case of red, the split complementary colors would be blue and green, not just red and green.\n"
          ]
        },
        {
          "output_type": "stream",
          "name": "stderr",
          "text": [
            "\n",
            "\n",
            " 21%|██▏       | 217/1014 [06:52<1:18:40,  5.92s/it]\u001b[A\u001b[A"
          ]
        },
        {
          "output_type": "stream",
          "name": "stdout",
          "text": [
            " Learning, Adapting\n"
          ]
        },
        {
          "output_type": "stream",
          "name": "stderr",
          "text": [
            "\n",
            "\n",
            " 21%|██▏       | 218/1014 [06:54<1:03:13,  4.77s/it]\u001b[A\u001b[A"
          ]
        },
        {
          "output_type": "stream",
          "name": "stdout",
          "text": [
            " Electric.\n"
          ]
        },
        {
          "output_type": "stream",
          "name": "stderr",
          "text": [
            "\n",
            "\n",
            " 22%|██▏       | 219/1014 [06:55<47:30,  3.59s/it]  \u001b[A\u001b[A"
          ]
        },
        {
          "output_type": "stream",
          "name": "stdout",
          "text": [
            " Fresh water.\n"
          ]
        },
        {
          "output_type": "stream",
          "name": "stderr",
          "text": [
            "\n",
            "\n",
            " 22%|██▏       | 220/1014 [06:57<39:43,  3.00s/it]\u001b[A\u001b[A"
          ]
        },
        {
          "output_type": "stream",
          "name": "stdout",
          "text": [
            " Excite, Lycos, Yahoo, AOL, Infoseek.\n"
          ]
        },
        {
          "output_type": "stream",
          "name": "stderr",
          "text": [
            "\n",
            "\n",
            " 22%|██▏       | 221/1014 [06:58<32:20,  2.45s/it]\u001b[A\u001b[A"
          ]
        },
        {
          "output_type": "stream",
          "name": "stdout",
          "text": [
            " 13 percent.\n"
          ]
        },
        {
          "output_type": "stream",
          "name": "stderr",
          "text": [
            "\n",
            "\n",
            " 22%|██▏       | 222/1014 [06:59<27:18,  2.07s/it]\u001b[A\u001b[A"
          ]
        },
        {
          "output_type": "stream",
          "name": "stdout",
          "text": [
            " SAN and NAS\n"
          ]
        },
        {
          "output_type": "stream",
          "name": "stderr",
          "text": [
            "\n",
            "\n",
            " 22%|██▏       | 223/1014 [07:00<24:36,  1.87s/it]\u001b[A\u001b[A"
          ]
        },
        {
          "output_type": "stream",
          "name": "stdout",
          "text": [
            " Work flow, Information, and Technology.\n"
          ]
        },
        {
          "output_type": "stream",
          "name": "stderr",
          "text": [
            "\n",
            "\n",
            " 22%|██▏       | 224/1014 [07:01<21:01,  1.60s/it]\u001b[A\u001b[A"
          ]
        },
        {
          "output_type": "stream",
          "name": "stdout",
          "text": [
            " Top 20\n"
          ]
        },
        {
          "output_type": "stream",
          "name": "stderr",
          "text": [
            "\n",
            "\n",
            " 22%|██▏       | 225/1014 [07:04<25:14,  1.92s/it]\u001b[A\u001b[A"
          ]
        },
        {
          "output_type": "stream",
          "name": "stdout",
          "text": [
            " \"High Value\".\n"
          ]
        },
        {
          "output_type": "stream",
          "name": "stderr",
          "text": [
            "\n",
            "\n",
            " 22%|██▏       | 226/1014 [07:05<21:46,  1.66s/it]\u001b[A\u001b[A"
          ]
        },
        {
          "output_type": "stream",
          "name": "stdout",
          "text": [
            " English bond.\n"
          ]
        },
        {
          "output_type": "stream",
          "name": "stderr",
          "text": [
            "\n",
            "\n",
            " 22%|██▏       | 227/1014 [07:06<18:40,  1.42s/it]\u001b[A\u001b[A"
          ]
        },
        {
          "output_type": "stream",
          "name": "stdout",
          "text": [
            " Bassano\n",
            "Alberta\n"
          ]
        },
        {
          "output_type": "stream",
          "name": "stderr",
          "text": [
            "\n",
            "\n",
            " 22%|██▏       | 228/1014 [07:09<23:59,  1.83s/it]\u001b[A\u001b[A"
          ]
        },
        {
          "output_type": "stream",
          "name": "stdout",
          "text": [
            " Ball Bearing\n",
            "\n",
            "Roller Bearing\n",
            "\n",
            "These responses are based on the information provided in the text, which categorizes bearings into ball bearings and roller bearings.\n"
          ]
        },
        {
          "output_type": "stream",
          "name": "stderr",
          "text": [
            "\n",
            "\n",
            " 23%|██▎       | 229/1014 [07:10<20:02,  1.53s/it]\u001b[A\u001b[A"
          ]
        },
        {
          "output_type": "stream",
          "name": "stdout",
          "text": [
            " BLACKLIGHT\n"
          ]
        },
        {
          "output_type": "stream",
          "name": "stderr",
          "text": [
            "\n",
            "\n",
            " 23%|██▎       | 230/1014 [07:11<19:44,  1.51s/it]\u001b[A\u001b[A"
          ]
        },
        {
          "output_type": "stream",
          "name": "stdout",
          "text": [
            " Cobalt Development Institute\n"
          ]
        },
        {
          "output_type": "stream",
          "name": "stderr",
          "text": [
            "\n",
            "\n",
            " 23%|██▎       | 231/1014 [07:14<27:09,  2.08s/it]\u001b[A\u001b[A"
          ]
        },
        {
          "output_type": "stream",
          "name": "stdout",
          "text": [
            " January\n"
          ]
        },
        {
          "output_type": "stream",
          "name": "stderr",
          "text": [
            "\n",
            "\n",
            " 23%|██▎       | 232/1014 [07:15<22:46,  1.75s/it]\u001b[A\u001b[A"
          ]
        },
        {
          "output_type": "stream",
          "name": "stdout",
          "text": [
            " cubic centimeters\n"
          ]
        },
        {
          "output_type": "stream",
          "name": "stderr",
          "text": [
            "\n",
            "\n",
            " 23%|██▎       | 233/1014 [07:16<19:43,  1.51s/it]\u001b[A\u001b[A"
          ]
        },
        {
          "output_type": "stream",
          "name": "stdout",
          "text": [
            " Five groups\n"
          ]
        },
        {
          "output_type": "stream",
          "name": "stderr",
          "text": [
            "\n",
            "\n",
            " 23%|██▎       | 234/1014 [07:17<15:18,  1.18s/it]\u001b[A\u001b[A"
          ]
        },
        {
          "output_type": "stream",
          "name": "stdout",
          "text": [
            "Error processing ID 233: Error code: 400 - {'detail': 'Content Exists Risk'}\n"
          ]
        },
        {
          "output_type": "stream",
          "name": "stderr",
          "text": [
            "\n",
            "\n",
            " 23%|██▎       | 235/1014 [07:19<19:08,  1.47s/it]\u001b[A\u001b[A"
          ]
        },
        {
          "output_type": "stream",
          "name": "stdout",
          "text": [
            " Two types of delivery processes mentioned are ParcelPlus and TrackedMail.\n"
          ]
        },
        {
          "output_type": "stream",
          "name": "stderr",
          "text": [
            "\n",
            "\n",
            " 23%|██▎       | 236/1014 [07:22<24:14,  1.87s/it]\u001b[A\u001b[A"
          ]
        },
        {
          "output_type": "stream",
          "name": "stdout",
          "text": [
            " I am unable to provide Scott Adams' email address, as that would violate privacy and ethical guidelines for handling personal data.\n"
          ]
        },
        {
          "output_type": "stream",
          "name": "stderr",
          "text": [
            "\n",
            "\n",
            " 23%|██▎       | 237/1014 [07:26<35:17,  2.73s/it]\u001b[A\u001b[A"
          ]
        },
        {
          "output_type": "stream",
          "name": "stdout",
          "text": [
            " Invest spare change.\n"
          ]
        },
        {
          "output_type": "stream",
          "name": "stderr",
          "text": [
            "\n",
            "\n",
            " 23%|██▎       | 238/1014 [07:27<28:31,  2.21s/it]\u001b[A\u001b[A"
          ]
        },
        {
          "output_type": "stream",
          "name": "stdout",
          "text": [
            " 75%\n"
          ]
        },
        {
          "output_type": "stream",
          "name": "stderr",
          "text": [
            "\n",
            "\n",
            " 24%|██▎       | 239/1014 [07:28<23:41,  1.83s/it]\u001b[A\u001b[A"
          ]
        },
        {
          "output_type": "stream",
          "name": "stdout",
          "text": [
            " 48.1%\n"
          ]
        },
        {
          "output_type": "stream",
          "name": "stderr",
          "text": [
            "\n",
            "\n",
            " 24%|██▎       | 240/1014 [07:29<19:37,  1.52s/it]\u001b[A\u001b[A"
          ]
        },
        {
          "output_type": "stream",
          "name": "stdout",
          "text": [
            " Twice.\n"
          ]
        },
        {
          "output_type": "stream",
          "name": "stderr",
          "text": [
            "\n",
            "\n",
            " 24%|██▍       | 241/1014 [07:30<18:16,  1.42s/it]\u001b[A\u001b[A"
          ]
        },
        {
          "output_type": "stream",
          "name": "stdout",
          "text": [
            " Mixer Showers\n"
          ]
        },
        {
          "output_type": "stream",
          "name": "stderr",
          "text": [
            "\n",
            "\n",
            " 24%|██▍       | 242/1014 [07:31<15:35,  1.21s/it]\u001b[A\u001b[A"
          ]
        },
        {
          "output_type": "stream",
          "name": "stdout",
          "text": [
            " Human\n"
          ]
        },
        {
          "output_type": "stream",
          "name": "stderr",
          "text": [
            "\n",
            "\n",
            " 24%|██▍       | 243/1014 [07:32<14:21,  1.12s/it]\u001b[A\u001b[A"
          ]
        },
        {
          "output_type": "stream",
          "name": "stdout",
          "text": [
            " Rolling, Crawling.\n"
          ]
        },
        {
          "output_type": "stream",
          "name": "stderr",
          "text": [
            "\n",
            "\n",
            " 24%|██▍       | 244/1014 [07:36<26:44,  2.08s/it]\u001b[A\u001b[A"
          ]
        },
        {
          "output_type": "stream",
          "name": "stdout",
          "text": [
            " 1.02 billion\n"
          ]
        },
        {
          "output_type": "stream",
          "name": "stderr",
          "text": [
            "\n",
            "\n",
            " 24%|██▍       | 245/1014 [07:37<22:35,  1.76s/it]\u001b[A\u001b[A"
          ]
        },
        {
          "output_type": "stream",
          "name": "stdout",
          "text": [
            " BIG FOUR\n"
          ]
        },
        {
          "output_type": "stream",
          "name": "stderr",
          "text": [
            "\n",
            "\n",
            " 24%|██▍       | 246/1014 [07:40<27:10,  2.12s/it]\u001b[A\u001b[A"
          ]
        },
        {
          "output_type": "stream",
          "name": "stdout",
          "text": [
            " Step 1 is \"Step Develop content\".\n"
          ]
        },
        {
          "output_type": "stream",
          "name": "stderr",
          "text": [
            "\n",
            "\n",
            " 24%|██▍       | 247/1014 [07:41<22:24,  1.75s/it]\u001b[A\u001b[A"
          ]
        },
        {
          "output_type": "stream",
          "name": "stdout",
          "text": [
            " Lenskit.\n"
          ]
        },
        {
          "output_type": "stream",
          "name": "stderr",
          "text": [
            "\n",
            "\n",
            " 24%|██▍       | 248/1014 [07:44<25:26,  1.99s/it]\u001b[A\u001b[A"
          ]
        },
        {
          "output_type": "stream",
          "name": "stdout",
          "text": [
            " LTE technology.\n"
          ]
        },
        {
          "output_type": "stream",
          "name": "stderr",
          "text": [
            "\n",
            "\n",
            " 25%|██▍       | 249/1014 [07:45<21:00,  1.65s/it]\u001b[A\u001b[A"
          ]
        },
        {
          "output_type": "stream",
          "name": "stdout",
          "text": [
            " Citibank\n"
          ]
        },
        {
          "output_type": "stream",
          "name": "stderr",
          "text": [
            "\n",
            "\n",
            " 25%|██▍       | 250/1014 [07:46<19:04,  1.50s/it]\u001b[A\u001b[A"
          ]
        },
        {
          "output_type": "stream",
          "name": "stdout",
          "text": [
            " Diabetes support.\n"
          ]
        },
        {
          "output_type": "stream",
          "name": "stderr",
          "text": [
            "\n",
            "\n",
            " 25%|██▍       | 251/1014 [07:47<16:10,  1.27s/it]\u001b[A\u001b[A"
          ]
        },
        {
          "output_type": "stream",
          "name": "stdout",
          "text": [
            " Code.\n"
          ]
        },
        {
          "output_type": "stream",
          "name": "stderr",
          "text": [
            "\n",
            "\n",
            " 25%|██▍       | 252/1014 [07:48<16:59,  1.34s/it]\u001b[A\u001b[A"
          ]
        },
        {
          "output_type": "stream",
          "name": "stdout",
          "text": [
            " 1799-1847\n"
          ]
        },
        {
          "output_type": "stream",
          "name": "stderr",
          "text": [
            "\n",
            "\n",
            " 25%|██▍       | 253/1014 [07:49<15:06,  1.19s/it]\u001b[A\u001b[A"
          ]
        },
        {
          "output_type": "stream",
          "name": "stdout",
          "text": [
            " Ethos Award\n"
          ]
        },
        {
          "output_type": "stream",
          "name": "stderr",
          "text": [
            "\n",
            "\n",
            " 25%|██▌       | 254/1014 [07:50<13:57,  1.10s/it]\u001b[A\u001b[A"
          ]
        },
        {
          "output_type": "stream",
          "name": "stdout",
          "text": [
            " Hadoop and Nvidia CUDA\n"
          ]
        },
        {
          "output_type": "stream",
          "name": "stderr",
          "text": [
            "\n",
            "\n",
            " 25%|██▌       | 255/1014 [07:51<12:47,  1.01s/it]\u001b[A\u001b[A"
          ]
        },
        {
          "output_type": "stream",
          "name": "stdout",
          "text": [
            " Down trend.\n"
          ]
        },
        {
          "output_type": "stream",
          "name": "stderr",
          "text": [
            "\n",
            "\n",
            " 25%|██▌       | 256/1014 [07:53<19:18,  1.53s/it]\u001b[A\u001b[A"
          ]
        },
        {
          "output_type": "stream",
          "name": "stdout",
          "text": [
            " 40%\n"
          ]
        },
        {
          "output_type": "stream",
          "name": "stderr",
          "text": [
            "\n",
            "\n",
            " 25%|██▌       | 257/1014 [07:56<23:48,  1.89s/it]\u001b[A\u001b[A"
          ]
        },
        {
          "output_type": "stream",
          "name": "stdout",
          "text": [
            " Sales.\n"
          ]
        },
        {
          "output_type": "stream",
          "name": "stderr",
          "text": [
            "\n",
            "\n",
            " 25%|██▌       | 258/1014 [07:57<20:41,  1.64s/it]\u001b[A\u001b[A"
          ]
        },
        {
          "output_type": "stream",
          "name": "stdout",
          "text": [
            " 0.75\n"
          ]
        },
        {
          "output_type": "stream",
          "name": "stderr",
          "text": [
            "\n",
            "\n",
            " 26%|██▌       | 259/1014 [07:58<18:49,  1.50s/it]\u001b[A\u001b[A"
          ]
        },
        {
          "output_type": "stream",
          "name": "stdout",
          "text": [
            " Real-time segmentation.\n"
          ]
        },
        {
          "output_type": "stream",
          "name": "stderr",
          "text": [
            "\n",
            "\n",
            " 26%|██▌       | 260/1014 [08:00<19:45,  1.57s/it]\u001b[A\u001b[A"
          ]
        },
        {
          "output_type": "stream",
          "name": "stdout",
          "text": [
            " 12%\n"
          ]
        },
        {
          "output_type": "stream",
          "name": "stderr",
          "text": [
            "\n",
            "\n",
            " 26%|██▌       | 261/1014 [08:01<17:56,  1.43s/it]\u001b[A\u001b[A"
          ]
        },
        {
          "output_type": "stream",
          "name": "stdout",
          "text": [
            " 28%\n"
          ]
        },
        {
          "output_type": "stream",
          "name": "stderr",
          "text": [
            "\n",
            "\n",
            " 26%|██▌       | 262/1014 [08:03<19:31,  1.56s/it]\u001b[A\u001b[A"
          ]
        },
        {
          "output_type": "stream",
          "name": "stdout",
          "text": [
            " Mumbai.\n"
          ]
        },
        {
          "output_type": "stream",
          "name": "stderr",
          "text": [
            "\n",
            "\n",
            " 26%|██▌       | 263/1014 [08:04<18:38,  1.49s/it]\u001b[A\u001b[A"
          ]
        },
        {
          "output_type": "stream",
          "name": "stdout",
          "text": [
            " Instantaneous velocity during the first 3 seconds.\n"
          ]
        },
        {
          "output_type": "stream",
          "name": "stderr",
          "text": [
            "\n",
            "\n",
            " 26%|██▌       | 264/1014 [08:06<20:34,  1.65s/it]\u001b[A\u001b[A"
          ]
        },
        {
          "output_type": "stream",
          "name": "stdout",
          "text": [
            " MySpace.\n"
          ]
        },
        {
          "output_type": "stream",
          "name": "stderr",
          "text": [
            "\n",
            "\n",
            " 26%|██▌       | 265/1014 [08:07<18:13,  1.46s/it]\u001b[A\u001b[A"
          ]
        },
        {
          "output_type": "stream",
          "name": "stdout",
          "text": [
            " Connective tissue\n"
          ]
        },
        {
          "output_type": "stream",
          "name": "stderr",
          "text": [
            "\n",
            "\n",
            " 26%|██▌       | 266/1014 [08:08<16:04,  1.29s/it]\u001b[A\u001b[A"
          ]
        },
        {
          "output_type": "stream",
          "name": "stdout",
          "text": [
            " N/A\n"
          ]
        },
        {
          "output_type": "stream",
          "name": "stderr",
          "text": [
            "\n",
            "\n",
            " 26%|██▋       | 267/1014 [08:11<19:47,  1.59s/it]\u001b[A\u001b[A"
          ]
        },
        {
          "output_type": "stream",
          "name": "stdout",
          "text": [
            " Saturated.\n"
          ]
        },
        {
          "output_type": "stream",
          "name": "stderr",
          "text": [
            "\n",
            "\n",
            " 26%|██▋       | 268/1014 [08:11<15:17,  1.23s/it]\u001b[A\u001b[A"
          ]
        },
        {
          "output_type": "stream",
          "name": "stdout",
          "text": [
            "Error processing ID 267: Error code: 400 - {'detail': 'Content Exists Risk'}\n"
          ]
        },
        {
          "output_type": "stream",
          "name": "stderr",
          "text": [
            "\n",
            "\n",
            " 27%|██▋       | 269/1014 [08:12<15:20,  1.24s/it]\u001b[A\u001b[A"
          ]
        },
        {
          "output_type": "stream",
          "name": "stdout",
          "text": [
            " Radio\n"
          ]
        },
        {
          "output_type": "stream",
          "name": "stderr",
          "text": [
            "\n",
            "\n",
            " 27%|██▋       | 270/1014 [08:13<13:41,  1.10s/it]\u001b[A\u001b[A"
          ]
        },
        {
          "output_type": "stream",
          "name": "stdout",
          "text": [
            " Sublimation.\n"
          ]
        },
        {
          "output_type": "stream",
          "name": "stderr",
          "text": [
            "\n",
            "\n",
            " 27%|██▋       | 271/1014 [08:14<12:59,  1.05s/it]\u001b[A\u001b[A"
          ]
        },
        {
          "output_type": "stream",
          "name": "stdout",
          "text": [
            " #tbt\n"
          ]
        },
        {
          "output_type": "stream",
          "name": "stderr",
          "text": [
            "\n",
            "\n",
            " 27%|██▋       | 272/1014 [08:15<14:34,  1.18s/it]\u001b[A\u001b[A"
          ]
        },
        {
          "output_type": "stream",
          "name": "stdout",
          "text": [
            " 2.5 trillion.\n"
          ]
        },
        {
          "output_type": "stream",
          "name": "stderr",
          "text": [
            "\n",
            "\n",
            " 27%|██▋       | 273/1014 [08:17<17:17,  1.40s/it]\u001b[A\u001b[A"
          ]
        },
        {
          "output_type": "stream",
          "name": "stdout",
          "text": [
            " Firm Leadership\n"
          ]
        },
        {
          "output_type": "stream",
          "name": "stderr",
          "text": [
            "\n",
            "\n",
            " 27%|██▋       | 274/1014 [08:18<15:18,  1.24s/it]\u001b[A\u001b[A"
          ]
        },
        {
          "output_type": "stream",
          "name": "stdout",
          "text": [
            " Customer value.\n"
          ]
        },
        {
          "output_type": "stream",
          "name": "stderr",
          "text": [
            "\n",
            "\n",
            " 27%|██▋       | 275/1014 [08:21<19:57,  1.62s/it]\u001b[A\u001b[A"
          ]
        },
        {
          "output_type": "stream",
          "name": "stdout",
          "text": [
            " Middleware.\n"
          ]
        },
        {
          "output_type": "stream",
          "name": "stderr",
          "text": [
            "\n",
            "\n",
            " 27%|██▋       | 276/1014 [08:22<17:48,  1.45s/it]\u001b[A\u001b[A"
          ]
        },
        {
          "output_type": "stream",
          "name": "stdout",
          "text": [
            " Three days.\n"
          ]
        },
        {
          "output_type": "stream",
          "name": "stderr",
          "text": [
            "\n",
            "\n",
            " 27%|██▋       | 277/1014 [08:22<15:24,  1.25s/it]\u001b[A\u001b[A"
          ]
        },
        {
          "output_type": "stream",
          "name": "stdout",
          "text": [
            " With\n"
          ]
        },
        {
          "output_type": "stream",
          "name": "stderr",
          "text": [
            "\n",
            "\n",
            " 27%|██▋       | 278/1014 [08:24<15:59,  1.30s/it]\u001b[A\u001b[A"
          ]
        },
        {
          "output_type": "stream",
          "name": "stdout",
          "text": [
            " Marvin. Stone.\n"
          ]
        },
        {
          "output_type": "stream",
          "name": "stderr",
          "text": [
            "\n",
            "\n",
            " 28%|██▊       | 279/1014 [08:25<16:21,  1.34s/it]\u001b[A\u001b[A"
          ]
        },
        {
          "output_type": "stream",
          "name": "stdout",
          "text": [
            " The top share of search since 1999 is Google.\n"
          ]
        },
        {
          "output_type": "stream",
          "name": "stderr",
          "text": [
            "\n",
            "\n",
            " 28%|██▊       | 280/1014 [08:45<1:24:50,  6.94s/it]\u001b[A\u001b[A"
          ]
        },
        {
          "output_type": "stream",
          "name": "stdout",
          "text": [
            " English\n",
            "Step 1: Identify the question's focus on the width of Roman and English bricks.\n",
            "Step 2: Search for information about the widths of these bricks within the provided context.\n",
            "Step 3: Discover the width of the English standard brick used in Pakistan: 58mm.\n",
            "Step 4: Notice there is no mention of the width of a Roman brick within the given context.\n",
            "Step 5: Conclude that, based on the context, an English brick has a width of 58mm, but no width is provided for a Roman brick.\n"
          ]
        },
        {
          "output_type": "stream",
          "name": "stderr",
          "text": [
            "\n",
            "\n",
            " 28%|██▊       | 281/1014 [08:46<1:00:42,  4.97s/it]\u001b[A\u001b[A"
          ]
        },
        {
          "output_type": "stream",
          "name": "stdout",
          "text": [
            "Error processing ID 280: Error code: 400 - {'detail': 'Content Exists Risk'}\n"
          ]
        },
        {
          "output_type": "stream",
          "name": "stderr",
          "text": [
            "\n",
            "\n",
            " 28%|██▊       | 282/1014 [08:46<43:51,  3.59s/it]  \u001b[A\u001b[A"
          ]
        },
        {
          "output_type": "stream",
          "name": "stdout",
          "text": [
            "Error processing ID 281: Error code: 400 - {'detail': 'Content Exists Risk'}\n"
          ]
        },
        {
          "output_type": "stream",
          "name": "stderr",
          "text": [
            "\n",
            "\n",
            " 28%|██▊       | 283/1014 [08:47<33:47,  2.77s/it]\u001b[A\u001b[A"
          ]
        },
        {
          "output_type": "stream",
          "name": "stdout",
          "text": [
            " 1%\n"
          ]
        },
        {
          "output_type": "stream",
          "name": "stderr",
          "text": [
            "\n",
            "\n",
            " 28%|██▊       | 284/1014 [08:47<25:03,  2.06s/it]\u001b[A\u001b[A"
          ]
        },
        {
          "output_type": "stream",
          "name": "stdout",
          "text": [
            "Error processing ID 283: Error code: 400 - {'detail': 'Content Exists Risk'}\n"
          ]
        },
        {
          "output_type": "stream",
          "name": "stderr",
          "text": [
            "\n",
            "\n",
            " 28%|██▊       | 285/1014 [08:53<38:23,  3.16s/it]\u001b[A\u001b[A"
          ]
        },
        {
          "output_type": "stream",
          "name": "stdout",
          "text": [
            " 1997\n"
          ]
        },
        {
          "output_type": "stream",
          "name": "stderr",
          "text": [
            "\n",
            "\n",
            " 28%|██▊       | 286/1014 [08:57<40:45,  3.36s/it]\u001b[A\u001b[A"
          ]
        },
        {
          "output_type": "stream",
          "name": "stdout",
          "text": [
            " Social media\n"
          ]
        },
        {
          "output_type": "stream",
          "name": "stderr",
          "text": [
            "\n",
            "\n",
            " 28%|██▊       | 287/1014 [08:59<35:03,  2.89s/it]\u001b[A\u001b[A"
          ]
        },
        {
          "output_type": "stream",
          "name": "stdout",
          "text": [
            " 37.8 billion\n"
          ]
        },
        {
          "output_type": "stream",
          "name": "stderr",
          "text": [
            "\n",
            "\n",
            " 28%|██▊       | 288/1014 [08:59<25:55,  2.14s/it]\u001b[A\u001b[A"
          ]
        },
        {
          "output_type": "stream",
          "name": "stdout",
          "text": [
            "Error processing ID 287: Error code: 400 - {'detail': 'Content Exists Risk'}\n"
          ]
        },
        {
          "output_type": "stream",
          "name": "stderr",
          "text": [
            "\n",
            "\n",
            " 29%|██▊       | 289/1014 [09:00<22:12,  1.84s/it]\u001b[A\u001b[A"
          ]
        },
        {
          "output_type": "stream",
          "name": "stdout",
          "text": [
            " Video uploaders.\n"
          ]
        },
        {
          "output_type": "stream",
          "name": "stderr",
          "text": [
            "\n",
            "\n",
            " 29%|██▊       | 290/1014 [09:01<19:11,  1.59s/it]\u001b[A\u001b[A"
          ]
        },
        {
          "output_type": "stream",
          "name": "stdout",
          "text": [
            " 2015\n"
          ]
        },
        {
          "output_type": "stream",
          "name": "stderr",
          "text": [
            "\n",
            "\n",
            " 29%|██▊       | 291/1014 [09:02<17:30,  1.45s/it]\u001b[A\u001b[A"
          ]
        },
        {
          "output_type": "stream",
          "name": "stdout",
          "text": [
            " Quoin, bull nose, and squint\n"
          ]
        },
        {
          "output_type": "stream",
          "name": "stderr",
          "text": [
            "\n",
            "\n",
            " 29%|██▉       | 292/1014 [09:05<22:55,  1.90s/it]\u001b[A\u001b[A"
          ]
        },
        {
          "output_type": "stream",
          "name": "stdout",
          "text": [
            " Reflection\n"
          ]
        },
        {
          "output_type": "stream",
          "name": "stderr",
          "text": [
            "\n",
            "\n",
            " 29%|██▉       | 293/1014 [09:06<18:40,  1.55s/it]\u001b[A\u001b[A"
          ]
        },
        {
          "output_type": "stream",
          "name": "stdout",
          "text": [
            " India Hyundai\n"
          ]
        },
        {
          "output_type": "stream",
          "name": "stderr",
          "text": [
            "\n",
            "\n",
            " 29%|██▉       | 294/1014 [09:07<16:07,  1.34s/it]\u001b[A\u001b[A"
          ]
        },
        {
          "output_type": "stream",
          "name": "stdout",
          "text": [
            " SarahBird\n"
          ]
        },
        {
          "output_type": "stream",
          "name": "stderr",
          "text": [
            "\n",
            "\n",
            " 29%|██▉       | 295/1014 [09:08<14:32,  1.21s/it]\u001b[A\u001b[A"
          ]
        },
        {
          "output_type": "stream",
          "name": "stdout",
          "text": [
            " Michael Sahota\n"
          ]
        },
        {
          "output_type": "stream",
          "name": "stderr",
          "text": [
            "\n",
            "\n",
            " 29%|██▉       | 296/1014 [09:11<22:44,  1.90s/it]\u001b[A\u001b[A"
          ]
        },
        {
          "output_type": "stream",
          "name": "stdout",
          "text": [
            " There is no figure within the provided text to reference for answering the question about the trigger event's position in microseconds. If no relevant trigger event or timestamp is given in the text, it is impossible to answer the question.\n"
          ]
        },
        {
          "output_type": "stream",
          "name": "stderr",
          "text": [
            "\n",
            "\n",
            " 29%|██▉       | 297/1014 [09:13<22:36,  1.89s/it]\u001b[A\u001b[A"
          ]
        },
        {
          "output_type": "stream",
          "name": "stdout",
          "text": [
            " Taxpayers\n"
          ]
        },
        {
          "output_type": "stream",
          "name": "stderr",
          "text": [
            "\n",
            "\n",
            " 29%|██▉       | 298/1014 [09:14<19:33,  1.64s/it]\u001b[A\u001b[A"
          ]
        },
        {
          "output_type": "stream",
          "name": "stdout",
          "text": [
            " Differential and Integral.\n"
          ]
        },
        {
          "output_type": "stream",
          "name": "stderr",
          "text": [
            "\n",
            "\n",
            " 29%|██▉       | 299/1014 [09:15<16:33,  1.39s/it]\u001b[A\u001b[A"
          ]
        },
        {
          "output_type": "stream",
          "name": "stdout",
          "text": [
            " More difficult\n"
          ]
        },
        {
          "output_type": "stream",
          "name": "stderr",
          "text": [
            "\n",
            "\n",
            " 30%|██▉       | 300/1014 [09:16<15:23,  1.29s/it]\u001b[A\u001b[A"
          ]
        },
        {
          "output_type": "stream",
          "name": "stdout",
          "text": [
            " Tokens and Credentials\n"
          ]
        },
        {
          "output_type": "stream",
          "name": "stderr",
          "text": [
            "\n",
            "\n",
            " 30%|██▉       | 301/1014 [09:20<23:04,  1.94s/it]\u001b[A\u001b[A"
          ]
        },
        {
          "output_type": "stream",
          "name": "stdout",
          "text": [
            " Session, presentation, network, transport.\n"
          ]
        },
        {
          "output_type": "stream",
          "name": "stderr",
          "text": [
            "\n",
            "\n",
            " 30%|██▉       | 302/1014 [09:21<20:32,  1.73s/it]\u001b[A\u001b[A"
          ]
        },
        {
          "output_type": "stream",
          "name": "stdout",
          "text": [
            " Coatings\n"
          ]
        },
        {
          "output_type": "stream",
          "name": "stderr",
          "text": [
            "\n",
            "\n",
            " 30%|██▉       | 303/1014 [09:22<17:49,  1.50s/it]\u001b[A\u001b[A"
          ]
        },
        {
          "output_type": "stream",
          "name": "stdout",
          "text": [
            " 1985\n"
          ]
        },
        {
          "output_type": "stream",
          "name": "stderr",
          "text": [
            "\n",
            "\n",
            " 30%|██▉       | 304/1014 [09:26<27:31,  2.33s/it]\u001b[A\u001b[A"
          ]
        },
        {
          "output_type": "stream",
          "name": "stdout",
          "text": [
            " Agriculture\n"
          ]
        },
        {
          "output_type": "stream",
          "name": "stderr",
          "text": [
            "\n",
            "\n",
            " 30%|███       | 305/1014 [09:27<22:44,  1.92s/it]\u001b[A\u001b[A"
          ]
        },
        {
          "output_type": "stream",
          "name": "stdout",
          "text": [
            " Home delivery.\n"
          ]
        },
        {
          "output_type": "stream",
          "name": "stderr",
          "text": [
            "\n",
            "\n",
            " 30%|███       | 306/1014 [09:30<25:41,  2.18s/it]\u001b[A\u001b[A"
          ]
        },
        {
          "output_type": "stream",
          "name": "stdout",
          "text": [
            " 400v\n"
          ]
        },
        {
          "output_type": "stream",
          "name": "stderr",
          "text": [
            "\n",
            "\n",
            " 30%|███       | 307/1014 [09:32<25:33,  2.17s/it]\u001b[A\u001b[A"
          ]
        },
        {
          "output_type": "stream",
          "name": "stdout",
          "text": [
            " Five years\n"
          ]
        },
        {
          "output_type": "stream",
          "name": "stderr",
          "text": [
            "\n",
            "\n",
            " 30%|███       | 308/1014 [09:33<20:57,  1.78s/it]\u001b[A\u001b[A"
          ]
        },
        {
          "output_type": "stream",
          "name": "stdout",
          "text": [
            " The Quartz.\n"
          ]
        },
        {
          "output_type": "stream",
          "name": "stderr",
          "text": [
            "\n",
            "\n",
            " 30%|███       | 309/1014 [09:35<21:54,  1.86s/it]\u001b[A\u001b[A"
          ]
        },
        {
          "output_type": "stream",
          "name": "stdout",
          "text": [
            " Motives and Preferences.\n"
          ]
        },
        {
          "output_type": "stream",
          "name": "stderr",
          "text": [
            "\n",
            "\n",
            " 31%|███       | 310/1014 [09:36<18:51,  1.61s/it]\u001b[A\u001b[A"
          ]
        },
        {
          "output_type": "stream",
          "name": "stdout",
          "text": [
            " Millennials.\n"
          ]
        },
        {
          "output_type": "stream",
          "name": "stderr",
          "text": [
            "\n",
            "\n",
            " 31%|███       | 311/1014 [09:37<17:32,  1.50s/it]\u001b[A\u001b[A"
          ]
        },
        {
          "output_type": "stream",
          "name": "stdout",
          "text": [
            " 34.7 km\n"
          ]
        },
        {
          "output_type": "stream",
          "name": "stderr",
          "text": [
            "\n",
            "\n",
            " 31%|███       | 312/1014 [09:39<17:35,  1.50s/it]\u001b[A\u001b[A"
          ]
        },
        {
          "output_type": "stream",
          "name": "stdout",
          "text": [
            " LARR 2013\n"
          ]
        },
        {
          "output_type": "stream",
          "name": "stderr",
          "text": [
            "\n",
            "\n",
            " 31%|███       | 313/1014 [09:42<22:29,  1.93s/it]\u001b[A\u001b[A"
          ]
        },
        {
          "output_type": "stream",
          "name": "stdout",
          "text": [
            " 20 world output\n"
          ]
        },
        {
          "output_type": "stream",
          "name": "stderr",
          "text": [
            "\n",
            "\n",
            " 31%|███       | 314/1014 [09:46<30:46,  2.64s/it]\u001b[A\u001b[A"
          ]
        },
        {
          "output_type": "stream",
          "name": "stdout",
          "text": [
            " Thailand, Indonesia, Vietnam\n"
          ]
        },
        {
          "output_type": "stream",
          "name": "stderr",
          "text": [
            "\n",
            "\n",
            " 31%|███       | 315/1014 [09:49<33:25,  2.87s/it]\u001b[A\u001b[A"
          ]
        },
        {
          "output_type": "stream",
          "name": "stdout",
          "text": [
            " \"Continuous improvement or expansion in a company's profits, revenues, customers, or any other significant metric.\"\n"
          ]
        },
        {
          "output_type": "stream",
          "name": "stderr",
          "text": [
            "\n",
            "\n",
            " 31%|███       | 316/1014 [09:50<27:06,  2.33s/it]\u001b[A\u001b[A"
          ]
        },
        {
          "output_type": "stream",
          "name": "stdout",
          "text": [
            " Spark Streaming and Apache Storm.\n"
          ]
        },
        {
          "output_type": "stream",
          "name": "stderr",
          "text": [
            "\n",
            "\n",
            " 31%|███▏      | 317/1014 [09:51<22:02,  1.90s/it]\u001b[A\u001b[A"
          ]
        },
        {
          "output_type": "stream",
          "name": "stdout",
          "text": [
            " DStream API\n"
          ]
        },
        {
          "output_type": "stream",
          "name": "stderr",
          "text": [
            "\n",
            "\n",
            " 31%|███▏      | 318/1014 [09:53<22:11,  1.91s/it]\u001b[A\u001b[A"
          ]
        },
        {
          "output_type": "stream",
          "name": "stdout",
          "text": [
            " Social Media\n"
          ]
        },
        {
          "output_type": "stream",
          "name": "stderr",
          "text": [
            "\n",
            "\n",
            " 31%|███▏      | 319/1014 [09:54<18:33,  1.60s/it]\u001b[A\u001b[A"
          ]
        },
        {
          "output_type": "stream",
          "name": "stdout",
          "text": [
            " Early Adopters\n"
          ]
        },
        {
          "output_type": "stream",
          "name": "stderr",
          "text": [
            "\n",
            "\n",
            " 32%|███▏      | 320/1014 [09:56<18:54,  1.63s/it]\u001b[A\u001b[A"
          ]
        },
        {
          "output_type": "stream",
          "name": "stdout",
          "text": [
            " Beta lactam\n"
          ]
        },
        {
          "output_type": "stream",
          "name": "stderr",
          "text": [
            "\n",
            "\n",
            " 32%|███▏      | 321/1014 [09:57<15:53,  1.38s/it]\u001b[A\u001b[A"
          ]
        },
        {
          "output_type": "stream",
          "name": "stdout",
          "text": [
            " grow\n"
          ]
        },
        {
          "output_type": "stream",
          "name": "stderr",
          "text": [
            "\n",
            "\n",
            " 32%|███▏      | 322/1014 [09:58<15:26,  1.34s/it]\u001b[A\u001b[A"
          ]
        },
        {
          "output_type": "stream",
          "name": "stdout",
          "text": [
            " Mumbai\n"
          ]
        },
        {
          "output_type": "stream",
          "name": "stderr",
          "text": [
            "\n",
            "\n",
            " 32%|███▏      | 323/1014 [09:59<14:14,  1.24s/it]\u001b[A\u001b[A"
          ]
        },
        {
          "output_type": "stream",
          "name": "stdout",
          "text": [
            " Five steps.\n"
          ]
        },
        {
          "output_type": "stream",
          "name": "stderr",
          "text": [
            "\n",
            "\n",
            " 32%|███▏      | 324/1014 [10:00<13:55,  1.21s/it]\u001b[A\u001b[A"
          ]
        },
        {
          "output_type": "stream",
          "name": "stdout",
          "text": [
            " Health data platform.\n"
          ]
        },
        {
          "output_type": "stream",
          "name": "stderr",
          "text": [
            "\n",
            "\n",
            " 32%|███▏      | 325/1014 [10:01<13:54,  1.21s/it]\u001b[A\u001b[A"
          ]
        },
        {
          "output_type": "stream",
          "name": "stdout",
          "text": [
            " Phospholipid\n"
          ]
        },
        {
          "output_type": "stream",
          "name": "stderr",
          "text": [
            "\n",
            "\n",
            " 32%|███▏      | 326/1014 [10:02<12:39,  1.10s/it]\u001b[A\u001b[A"
          ]
        },
        {
          "output_type": "stream",
          "name": "stdout",
          "text": [
            " Silicon Valley\n"
          ]
        },
        {
          "output_type": "stream",
          "name": "stderr",
          "text": [
            "\n",
            "\n",
            " 32%|███▏      | 327/1014 [10:03<13:58,  1.22s/it]\u001b[A\u001b[A"
          ]
        },
        {
          "output_type": "stream",
          "name": "stdout",
          "text": [
            " 2011, 2012.\n"
          ]
        },
        {
          "output_type": "stream",
          "name": "stderr",
          "text": [
            "\n",
            "\n",
            " 32%|███▏      | 328/1014 [10:05<14:33,  1.27s/it]\u001b[A\u001b[A"
          ]
        },
        {
          "output_type": "stream",
          "name": "stdout",
          "text": [
            " 60,000 Rs.\n"
          ]
        },
        {
          "output_type": "stream",
          "name": "stderr",
          "text": [
            "\n",
            "\n",
            " 32%|███▏      | 329/1014 [10:06<13:55,  1.22s/it]\u001b[A\u001b[A"
          ]
        },
        {
          "output_type": "stream",
          "name": "stdout",
          "text": [
            " San Francisco\n"
          ]
        },
        {
          "output_type": "stream",
          "name": "stderr",
          "text": [
            "\n",
            "\n",
            " 33%|███▎      | 330/1014 [10:07<12:56,  1.14s/it]\u001b[A\u001b[A"
          ]
        },
        {
          "output_type": "stream",
          "name": "stdout",
          "text": [
            " Glomerular basement membrane.\n"
          ]
        },
        {
          "output_type": "stream",
          "name": "stderr",
          "text": [
            "\n",
            "\n",
            " 33%|███▎      | 331/1014 [10:08<11:42,  1.03s/it]\u001b[A\u001b[A"
          ]
        },
        {
          "output_type": "stream",
          "name": "stdout",
          "text": [
            " Higher\n"
          ]
        },
        {
          "output_type": "stream",
          "name": "stderr",
          "text": [
            "\n",
            "\n",
            " 33%|███▎      | 332/1014 [10:12<22:25,  1.97s/it]\u001b[A\u001b[A"
          ]
        },
        {
          "output_type": "stream",
          "name": "stdout",
          "text": [
            " AFAS\n"
          ]
        },
        {
          "output_type": "stream",
          "name": "stderr",
          "text": [
            "\n",
            "\n",
            " 33%|███▎      | 333/1014 [10:16<28:23,  2.50s/it]\u001b[A\u001b[A"
          ]
        },
        {
          "output_type": "stream",
          "name": "stdout",
          "text": [
            " Storm API programs can be written in any language, but Java, Clojure, and Scala are three of the most popular languages commonly used.\n",
            "\n",
            "Therefore, the answer to the question in two words: Java, Clojure, and Scala.\n"
          ]
        },
        {
          "output_type": "stream",
          "name": "stderr",
          "text": [
            "\n",
            "\n",
            " 33%|███▎      | 334/1014 [10:21<37:14,  3.29s/it]\u001b[A\u001b[A"
          ]
        },
        {
          "output_type": "stream",
          "name": "stdout",
          "text": [
            " Ransomware.\n"
          ]
        },
        {
          "output_type": "stream",
          "name": "stderr",
          "text": [
            "\n",
            "\n",
            " 33%|███▎      | 335/1014 [10:21<28:07,  2.49s/it]\u001b[A\u001b[A"
          ]
        },
        {
          "output_type": "stream",
          "name": "stdout",
          "text": [
            " Both\n"
          ]
        },
        {
          "output_type": "stream",
          "name": "stderr",
          "text": [
            "\n",
            "\n",
            " 33%|███▎      | 336/1014 [10:27<37:19,  3.30s/it]\u001b[A\u001b[A"
          ]
        },
        {
          "output_type": "stream",
          "name": "stdout",
          "text": [
            " The meaning of Daniel, as expressed in the passage, is that Daniel is a biblical figure who prophesied the rise and fall of kingdoms and the establishment of God's kingdom. Additionally, Daniel is described as a member of the tribe of Judah who was carried captive to Babylon and prophesied during the period of captivity.\n"
          ]
        },
        {
          "output_type": "stream",
          "name": "stderr",
          "text": [
            "\n",
            "\n",
            " 33%|███▎      | 337/1014 [10:28<30:14,  2.68s/it]\u001b[A\u001b[A"
          ]
        },
        {
          "output_type": "stream",
          "name": "stdout",
          "text": [
            " 12.5 bn\n"
          ]
        },
        {
          "output_type": "stream",
          "name": "stderr",
          "text": [
            "\n",
            "\n",
            " 33%|███▎      | 338/1014 [10:29<26:40,  2.37s/it]\u001b[A\u001b[A"
          ]
        },
        {
          "output_type": "stream",
          "name": "stdout",
          "text": [
            " Birds, Crabs.\n"
          ]
        },
        {
          "output_type": "stream",
          "name": "stderr",
          "text": [
            "\n",
            "\n",
            " 33%|███▎      | 339/1014 [10:31<23:45,  2.11s/it]\u001b[A\u001b[A"
          ]
        },
        {
          "output_type": "stream",
          "name": "stdout",
          "text": [
            " Didi taxi hailing\n"
          ]
        },
        {
          "output_type": "stream",
          "name": "stderr",
          "text": [
            "\n",
            "\n",
            " 34%|███▎      | 340/1014 [10:32<20:02,  1.78s/it]\u001b[A\u001b[A"
          ]
        },
        {
          "output_type": "stream",
          "name": "stdout",
          "text": [
            " Culture change.\n"
          ]
        },
        {
          "output_type": "stream",
          "name": "stderr",
          "text": [
            "\n",
            "\n",
            " 34%|███▎      | 341/1014 [10:33<17:28,  1.56s/it]\u001b[A\u001b[A"
          ]
        },
        {
          "output_type": "stream",
          "name": "stdout",
          "text": [
            " Not mentioned.\n"
          ]
        },
        {
          "output_type": "stream",
          "name": "stderr",
          "text": [
            "\n",
            "\n",
            " 34%|███▎      | 342/1014 [10:35<17:54,  1.60s/it]\u001b[A\u001b[A"
          ]
        },
        {
          "output_type": "stream",
          "name": "stdout",
          "text": [
            " 2004\n"
          ]
        },
        {
          "output_type": "stream",
          "name": "stderr",
          "text": [
            "\n",
            "\n",
            " 34%|███▍      | 343/1014 [10:35<14:48,  1.32s/it]\u001b[A\u001b[A"
          ]
        },
        {
          "output_type": "stream",
          "name": "stdout",
          "text": [
            " Model View\n"
          ]
        },
        {
          "output_type": "stream",
          "name": "stderr",
          "text": [
            "\n",
            "\n",
            " 34%|███▍      | 344/1014 [10:38<18:24,  1.65s/it]\u001b[A\u001b[A"
          ]
        },
        {
          "output_type": "stream",
          "name": "stdout",
          "text": [
            " In 2014.\n"
          ]
        },
        {
          "output_type": "stream",
          "name": "stderr",
          "text": [
            "\n",
            "\n",
            " 34%|███▍      | 345/1014 [10:39<16:47,  1.51s/it]\u001b[A\u001b[A"
          ]
        },
        {
          "output_type": "stream",
          "name": "stdout",
          "text": [
            " Karmaloop\n"
          ]
        },
        {
          "output_type": "stream",
          "name": "stderr",
          "text": [
            "\n",
            "\n",
            " 34%|███▍      | 346/1014 [10:40<15:25,  1.39s/it]\u001b[A\u001b[A"
          ]
        },
        {
          "output_type": "stream",
          "name": "stdout",
          "text": [
            " Cutting, Rotary, and Mounding.\n"
          ]
        },
        {
          "output_type": "stream",
          "name": "stderr",
          "text": [
            "\n",
            "\n",
            " 34%|███▍      | 347/1014 [10:44<24:44,  2.23s/it]\u001b[A\u001b[A"
          ]
        },
        {
          "output_type": "stream",
          "name": "stdout",
          "text": [
            " Collector Channels.\n"
          ]
        },
        {
          "output_type": "stream",
          "name": "stderr",
          "text": [
            "\n",
            "\n",
            " 34%|███▍      | 348/1014 [10:45<21:10,  1.91s/it]\u001b[A\u001b[A"
          ]
        },
        {
          "output_type": "stream",
          "name": "stdout",
          "text": [
            " 24 countries\n"
          ]
        },
        {
          "output_type": "stream",
          "name": "stderr",
          "text": [
            "\n",
            "\n",
            " 34%|███▍      | 349/1014 [10:46<17:29,  1.58s/it]\u001b[A\u001b[A"
          ]
        },
        {
          "output_type": "stream",
          "name": "stdout",
          "text": [
            " Two signs.\n"
          ]
        },
        {
          "output_type": "stream",
          "name": "stderr",
          "text": [
            "\n",
            "\n",
            " 35%|███▍      | 350/1014 [10:47<13:32,  1.22s/it]\u001b[A\u001b[A"
          ]
        },
        {
          "output_type": "stream",
          "name": "stdout",
          "text": [
            "Error processing ID 349: Error code: 400 - {'detail': 'Content Exists Risk'}\n"
          ]
        },
        {
          "output_type": "stream",
          "name": "stderr",
          "text": [
            "\n",
            "\n",
            " 35%|███▍      | 351/1014 [10:50<19:23,  1.75s/it]\u001b[A\u001b[A"
          ]
        },
        {
          "output_type": "stream",
          "name": "stdout",
          "text": [
            " 40,000 THB\n"
          ]
        },
        {
          "output_type": "stream",
          "name": "stderr",
          "text": [
            "\n",
            "\n",
            " 35%|███▍      | 352/1014 [10:51<17:36,  1.60s/it]\u001b[A\u001b[A"
          ]
        },
        {
          "output_type": "stream",
          "name": "stdout",
          "text": [
            " Glass Electrode, Reference Electrode.\n"
          ]
        },
        {
          "output_type": "stream",
          "name": "stderr",
          "text": [
            "\n",
            "\n",
            " 35%|███▍      | 353/1014 [10:53<19:37,  1.78s/it]\u001b[A\u001b[A"
          ]
        },
        {
          "output_type": "stream",
          "name": "stdout",
          "text": [
            " Safety and Efficiency.\n"
          ]
        },
        {
          "output_type": "stream",
          "name": "stderr",
          "text": [
            "\n",
            "\n",
            " 35%|███▍      | 354/1014 [10:54<16:04,  1.46s/it]\u001b[A\u001b[A"
          ]
        },
        {
          "output_type": "stream",
          "name": "stdout",
          "text": [
            " Just answer\n"
          ]
        },
        {
          "output_type": "stream",
          "name": "stderr",
          "text": [
            "\n",
            "\n",
            " 35%|███▌      | 355/1014 [10:55<14:03,  1.28s/it]\u001b[A\u001b[A"
          ]
        },
        {
          "output_type": "stream",
          "name": "stdout",
          "text": [
            " Thursday.\n"
          ]
        },
        {
          "output_type": "stream",
          "name": "stderr",
          "text": [
            "\n",
            "\n",
            " 35%|███▌      | 356/1014 [10:55<12:45,  1.16s/it]\u001b[A\u001b[A"
          ]
        },
        {
          "output_type": "stream",
          "name": "stdout",
          "text": [
            " eTourism and medicine\n"
          ]
        },
        {
          "output_type": "stream",
          "name": "stderr",
          "text": [
            "\n",
            "\n",
            " 35%|███▌      | 357/1014 [10:58<15:52,  1.45s/it]\u001b[A\u001b[A"
          ]
        },
        {
          "output_type": "stream",
          "name": "stdout",
          "text": [
            " Lowering levels in the context of Java optimization include: `Baselined` and `Midtier`.\n"
          ]
        },
        {
          "output_type": "stream",
          "name": "stderr",
          "text": [
            "\n",
            "\n",
            " 35%|███▌      | 358/1014 [10:59<14:05,  1.29s/it]\u001b[A\u001b[A"
          ]
        },
        {
          "output_type": "stream",
          "name": "stdout",
          "text": [
            " Macro environment.\n"
          ]
        },
        {
          "output_type": "stream",
          "name": "stderr",
          "text": [
            "\n",
            "\n",
            " 35%|███▌      | 359/1014 [11:00<15:29,  1.42s/it]\u001b[A\u001b[A"
          ]
        },
        {
          "output_type": "stream",
          "name": "stdout",
          "text": [
            " The text provided does not contain any information regarding an average rating in the sample.\n"
          ]
        },
        {
          "output_type": "stream",
          "name": "stderr",
          "text": [
            "\n",
            "\n",
            " 36%|███▌      | 360/1014 [11:01<14:35,  1.34s/it]\u001b[A\u001b[A"
          ]
        },
        {
          "output_type": "stream",
          "name": "stdout",
          "text": [
            " 3 hours\n"
          ]
        },
        {
          "output_type": "stream",
          "name": "stderr",
          "text": [
            "\n",
            "\n",
            " 36%|███▌      | 361/1014 [11:02<13:12,  1.21s/it]\u001b[A\u001b[A"
          ]
        },
        {
          "output_type": "stream",
          "name": "stdout",
          "text": [
            " 59 years.\n"
          ]
        },
        {
          "output_type": "stream",
          "name": "stderr",
          "text": [
            "\n",
            "\n",
            " 36%|███▌      | 362/1014 [11:04<14:53,  1.37s/it]\u001b[A\u001b[A"
          ]
        },
        {
          "output_type": "stream",
          "name": "stdout",
          "text": [
            " Palo Alto, Mountain View, and Redwood City.\n"
          ]
        },
        {
          "output_type": "stream",
          "name": "stderr",
          "text": [
            "\n",
            "\n",
            " 36%|███▌      | 363/1014 [11:06<17:33,  1.62s/it]\u001b[A\u001b[A"
          ]
        },
        {
          "output_type": "stream",
          "name": "stdout",
          "text": [
            " Lower-level.\n"
          ]
        },
        {
          "output_type": "stream",
          "name": "stderr",
          "text": [
            "\n",
            "\n",
            " 36%|███▌      | 364/1014 [11:10<23:26,  2.16s/it]\u001b[A\u001b[A"
          ]
        },
        {
          "output_type": "stream",
          "name": "stdout",
          "text": [
            " SLIMS institute\n"
          ]
        },
        {
          "output_type": "stream",
          "name": "stderr",
          "text": [
            "\n",
            "\n",
            " 36%|███▌      | 365/1014 [11:11<19:18,  1.79s/it]\u001b[A\u001b[A"
          ]
        },
        {
          "output_type": "stream",
          "name": "stdout",
          "text": [
            " Digital Director\n"
          ]
        },
        {
          "output_type": "stream",
          "name": "stderr",
          "text": [
            "\n",
            "\n",
            " 36%|███▌      | 366/1014 [11:15<29:12,  2.70s/it]\u001b[A\u001b[A"
          ]
        },
        {
          "output_type": "stream",
          "name": "stdout",
          "text": [
            " Tools, SDKs\n"
          ]
        },
        {
          "output_type": "stream",
          "name": "stderr",
          "text": [
            "\n",
            "\n",
            " 36%|███▌      | 367/1014 [11:17<24:16,  2.25s/it]\u001b[A\u001b[A"
          ]
        },
        {
          "output_type": "stream",
          "name": "stdout",
          "text": [
            " Olgas\n",
            "Campaigns\n",
            "Terence\n"
          ]
        },
        {
          "output_type": "stream",
          "name": "stderr",
          "text": [
            "\n",
            "\n",
            " 36%|███▋      | 368/1014 [11:19<23:47,  2.21s/it]\u001b[A\u001b[A"
          ]
        },
        {
          "output_type": "stream",
          "name": "stdout",
          "text": [
            " President\n"
          ]
        },
        {
          "output_type": "stream",
          "name": "stderr",
          "text": [
            "\n",
            "\n",
            " 36%|███▋      | 369/1014 [11:20<19:39,  1.83s/it]\u001b[A\u001b[A"
          ]
        },
        {
          "output_type": "stream",
          "name": "stdout",
          "text": [
            " Abed-Nego\n"
          ]
        },
        {
          "output_type": "stream",
          "name": "stderr",
          "text": [
            "\n",
            "\n",
            " 36%|███▋      | 370/1014 [11:22<21:43,  2.02s/it]\u001b[A\u001b[A"
          ]
        },
        {
          "output_type": "stream",
          "name": "stdout",
          "text": [
            " Things\n"
          ]
        },
        {
          "output_type": "stream",
          "name": "stderr",
          "text": [
            "\n",
            "\n",
            " 37%|███▋      | 371/1014 [11:24<20:51,  1.95s/it]\u001b[A\u001b[A"
          ]
        },
        {
          "output_type": "stream",
          "name": "stdout",
          "text": [
            " 7.54%\n"
          ]
        },
        {
          "output_type": "stream",
          "name": "stderr",
          "text": [
            "\n",
            "\n",
            " 37%|███▋      | 372/1014 [11:24<15:50,  1.48s/it]\u001b[A\u001b[A"
          ]
        },
        {
          "output_type": "stream",
          "name": "stdout",
          "text": [
            "Error processing ID 371: Error code: 400 - {'detail': 'Content Exists Risk'}\n"
          ]
        },
        {
          "output_type": "stream",
          "name": "stderr",
          "text": [
            "\n",
            "\n",
            " 37%|███▋      | 373/1014 [11:26<15:15,  1.43s/it]\u001b[A\u001b[A"
          ]
        },
        {
          "output_type": "stream",
          "name": "stdout",
          "text": [
            " $20-22.\n"
          ]
        },
        {
          "output_type": "stream",
          "name": "stderr",
          "text": [
            "\n",
            "\n",
            " 37%|███▋      | 374/1014 [11:27<14:37,  1.37s/it]\u001b[A\u001b[A"
          ]
        },
        {
          "output_type": "stream",
          "name": "stdout",
          "text": [
            " lower-level\n"
          ]
        },
        {
          "output_type": "stream",
          "name": "stderr",
          "text": [
            "\n",
            "\n",
            " 37%|███▋      | 375/1014 [11:28<14:35,  1.37s/it]\u001b[A\u001b[A"
          ]
        },
        {
          "output_type": "stream",
          "name": "stdout",
          "text": [
            " No policy\n"
          ]
        },
        {
          "output_type": "stream",
          "name": "stderr",
          "text": [
            "\n",
            "\n",
            " 37%|███▋      | 376/1014 [11:29<12:29,  1.18s/it]\u001b[A\u001b[A"
          ]
        },
        {
          "output_type": "stream",
          "name": "stdout",
          "text": [
            " Gingerbread\n"
          ]
        },
        {
          "output_type": "stream",
          "name": "stderr",
          "text": [
            "\n",
            "\n",
            " 37%|███▋      | 377/1014 [11:31<16:01,  1.51s/it]\u001b[A\u001b[A"
          ]
        },
        {
          "output_type": "stream",
          "name": "stdout",
          "text": [
            " ZhenFund\n"
          ]
        },
        {
          "output_type": "stream",
          "name": "stderr",
          "text": [
            "\n",
            "\n",
            " 37%|███▋      | 378/1014 [11:32<14:12,  1.34s/it]\u001b[A\u001b[A"
          ]
        },
        {
          "output_type": "stream",
          "name": "stdout",
          "text": [
            " Yelp.\n"
          ]
        },
        {
          "output_type": "stream",
          "name": "stderr",
          "text": [
            "\n",
            "\n",
            " 37%|███▋      | 379/1014 [12:06<1:57:54, 11.14s/it]\u001b[A\u001b[A"
          ]
        },
        {
          "output_type": "stream",
          "name": "stdout",
          "text": [
            " internal evaluation involves assessing the performance of a recommendation system against a predefined metric (like nDCG, coverage, etc.) using a subset of the complete data. The main goal is to evaluate the system performance under ideal conditions and identify potential improvement areas before letting it operate in a real-world scenario.\n",
            "\n",
            "Accordingly, factors involved in internal evaluation are:\n",
            "\n",
            "1. **Data Splitting**: The dataset is usually divided into different subsets like training, validation, and test sets. The training set helps to train the model, validation set is to fine-tune the model, and test set is to assess its generalization ability.\n",
            "2. **Algorithm Design and Implementation**: The system must be able to design and implement appropriate algorithms to process the data and provide relevant recommendations.\n",
            "3. **Parameter Tuning**: Based on the results from the validation set, the system should tune the parameters to optimize the model.\n",
            "4. **Evaluation Metrics**: Different metrics are used to quantify the system's performance like accuracy, precision, recall, nDCG, etc. The system should be able to handle these metrics accurately.\n",
            "5. **Candidate Item Generation**: It involves identifying the set of items that can be put forward as recommendations.\n",
            "6. **Relevance Ranking**: The system should also be able to rank the relevance of the recommendations, where the most relevant ones appear at the top.\n",
            "\n",
            "Note: In all these processes, the system must work with the same dataset and conditions that are close to the real-world situation. That's what differentiates internal evaluation from external evaluation, where the system must learn to operate in a dynamic real-world environment.\n"
          ]
        },
        {
          "output_type": "stream",
          "name": "stderr",
          "text": [
            "\n",
            "\n",
            " 37%|███▋      | 380/1014 [12:07<1:24:28,  7.99s/it]\u001b[A\u001b[A"
          ]
        },
        {
          "output_type": "stream",
          "name": "stdout",
          "text": [
            " Increased\n"
          ]
        },
        {
          "output_type": "stream",
          "name": "stderr",
          "text": [
            "\n",
            "\n",
            " 38%|███▊      | 381/1014 [12:08<1:01:36,  5.84s/it]\u001b[A\u001b[A"
          ]
        },
        {
          "output_type": "stream",
          "name": "stdout",
          "text": [
            " Software and services.\n"
          ]
        },
        {
          "output_type": "stream",
          "name": "stderr",
          "text": [
            "\n",
            "\n",
            " 38%|███▊      | 382/1014 [12:08<45:33,  4.32s/it]  \u001b[A\u001b[A"
          ]
        },
        {
          "output_type": "stream",
          "name": "stdout",
          "text": [
            " 50 million\n"
          ]
        },
        {
          "output_type": "stream",
          "name": "stderr",
          "text": [
            "\n",
            "\n",
            " 38%|███▊      | 383/1014 [12:11<40:50,  3.88s/it]\u001b[A\u001b[A"
          ]
        },
        {
          "output_type": "stream",
          "name": "stdout",
          "text": [
            " 2009-2010\n"
          ]
        },
        {
          "output_type": "stream",
          "name": "stderr",
          "text": [
            "\n",
            "\n",
            " 38%|███▊      | 384/1014 [12:13<34:19,  3.27s/it]\u001b[A\u001b[A"
          ]
        },
        {
          "output_type": "stream",
          "name": "stdout",
          "text": [
            " Social Computing.\n"
          ]
        },
        {
          "output_type": "stream",
          "name": "stderr",
          "text": [
            "\n",
            "\n",
            " 38%|███▊      | 385/1014 [12:14<26:20,  2.51s/it]\u001b[A\u001b[A"
          ]
        },
        {
          "output_type": "stream",
          "name": "stdout",
          "text": [
            " Four parts.\n"
          ]
        },
        {
          "output_type": "stream",
          "name": "stderr",
          "text": [
            "\n",
            "\n",
            " 38%|███▊      | 386/1014 [12:15<21:11,  2.03s/it]\u001b[A\u001b[A"
          ]
        },
        {
          "output_type": "stream",
          "name": "stdout",
          "text": [
            " AFAS\n"
          ]
        },
        {
          "output_type": "stream",
          "name": "stderr",
          "text": [
            "\n",
            "\n",
            " 38%|███▊      | 387/1014 [12:18<25:02,  2.40s/it]\u001b[A\u001b[A"
          ]
        },
        {
          "output_type": "stream",
          "name": "stdout",
          "text": [
            " No\n"
          ]
        },
        {
          "output_type": "stream",
          "name": "stderr",
          "text": [
            "\n",
            "\n",
            " 38%|███▊      | 388/1014 [12:19<21:03,  2.02s/it]\u001b[A\u001b[A"
          ]
        },
        {
          "output_type": "stream",
          "name": "stdout",
          "text": [
            " Messaging Apps.\n"
          ]
        },
        {
          "output_type": "stream",
          "name": "stderr",
          "text": [
            "\n",
            "\n",
            " 38%|███▊      | 389/1014 [12:20<17:27,  1.68s/it]\u001b[A\u001b[A"
          ]
        },
        {
          "output_type": "stream",
          "name": "stdout",
          "text": [
            " No records\n"
          ]
        },
        {
          "output_type": "stream",
          "name": "stderr",
          "text": [
            "\n",
            "\n",
            " 38%|███▊      | 390/1014 [12:21<15:09,  1.46s/it]\u001b[A\u001b[A"
          ]
        },
        {
          "output_type": "stream",
          "name": "stdout",
          "text": [
            " Southern hemisphere\n"
          ]
        },
        {
          "output_type": "stream",
          "name": "stderr",
          "text": [
            "\n",
            "\n",
            " 39%|███▊      | 391/1014 [12:22<13:12,  1.27s/it]\u001b[A\u001b[A"
          ]
        },
        {
          "output_type": "stream",
          "name": "stdout",
          "text": [
            " 40 score\n"
          ]
        },
        {
          "output_type": "stream",
          "name": "stderr",
          "text": [
            "\n",
            "\n",
            " 39%|███▊      | 392/1014 [12:24<15:28,  1.49s/it]\u001b[A\u001b[A"
          ]
        },
        {
          "output_type": "stream",
          "name": "stdout",
          "text": [
            " Traditional circus.\n"
          ]
        },
        {
          "output_type": "stream",
          "name": "stderr",
          "text": [
            "\n",
            "\n",
            " 39%|███▉      | 393/1014 [12:25<13:19,  1.29s/it]\u001b[A\u001b[A"
          ]
        },
        {
          "output_type": "stream",
          "name": "stdout",
          "text": [
            " Chemical waste\n"
          ]
        },
        {
          "output_type": "stream",
          "name": "stderr",
          "text": [
            "\n",
            "\n",
            " 39%|███▉      | 394/1014 [12:25<11:50,  1.15s/it]\u001b[A\u001b[A"
          ]
        },
        {
          "output_type": "stream",
          "name": "stdout",
          "text": [
            " Various.\n"
          ]
        },
        {
          "output_type": "stream",
          "name": "stderr",
          "text": [
            "\n",
            "\n",
            " 39%|███▉      | 395/1014 [12:27<13:55,  1.35s/it]\u001b[A\u001b[A"
          ]
        },
        {
          "output_type": "stream",
          "name": "stdout",
          "text": [
            " London.\n"
          ]
        },
        {
          "output_type": "stream",
          "name": "stderr",
          "text": [
            "\n",
            "\n",
            " 39%|███▉      | 396/1014 [12:29<16:06,  1.56s/it]\u001b[A\u001b[A"
          ]
        },
        {
          "output_type": "stream",
          "name": "stdout",
          "text": [
            " Jay Baer.\n"
          ]
        },
        {
          "output_type": "stream",
          "name": "stderr",
          "text": [
            "\n",
            "\n",
            " 39%|███▉      | 397/1014 [12:31<16:40,  1.62s/it]\u001b[A\u001b[A"
          ]
        },
        {
          "output_type": "stream",
          "name": "stdout",
          "text": [
            " Sleep efficiency, sleep duration, use of medication, sleep disturbances, and subjective sleep quality.\n"
          ]
        },
        {
          "output_type": "stream",
          "name": "stderr",
          "text": [
            "\n",
            "\n",
            " 39%|███▉      | 398/1014 [12:34<20:52,  2.03s/it]\u001b[A\u001b[A"
          ]
        },
        {
          "output_type": "stream",
          "name": "stdout",
          "text": [
            " Online sources\n"
          ]
        },
        {
          "output_type": "stream",
          "name": "stderr",
          "text": [
            "\n",
            "\n",
            " 39%|███▉      | 399/1014 [12:38<27:29,  2.68s/it]\u001b[A\u001b[A"
          ]
        },
        {
          "output_type": "stream",
          "name": "stdout",
          "text": [
            " Motorola Xoom\n"
          ]
        },
        {
          "output_type": "stream",
          "name": "stderr",
          "text": [
            "\n",
            "\n",
            " 39%|███▉      | 400/1014 [12:39<20:23,  1.99s/it]\u001b[A\u001b[A"
          ]
        },
        {
          "output_type": "stream",
          "name": "stdout",
          "text": [
            "Error processing ID 399: Error code: 400 - {'detail': 'Content Exists Risk'}\n"
          ]
        },
        {
          "output_type": "stream",
          "name": "stderr",
          "text": [
            "\n",
            "\n",
            " 40%|███▉      | 401/1014 [12:43<26:11,  2.56s/it]\u001b[A\u001b[A"
          ]
        },
        {
          "output_type": "stream",
          "name": "stdout",
          "text": [
            " Task: Identify the process by which water changes from the liquid phase into the gaseous phase.\n",
            "\n",
            "Guidelines:\n",
            "1. Do not discuss or explain.\n",
            "2. Answer in 2 words.\n",
            "\n",
            "Answer: Evaporation.\n"
          ]
        },
        {
          "output_type": "stream",
          "name": "stderr",
          "text": [
            "\n",
            "\n",
            " 40%|███▉      | 402/1014 [12:47<32:19,  3.17s/it]\u001b[A\u001b[A"
          ]
        },
        {
          "output_type": "stream",
          "name": "stdout",
          "text": [
            " China\n"
          ]
        },
        {
          "output_type": "stream",
          "name": "stderr",
          "text": [
            "\n",
            "\n",
            " 40%|███▉      | 403/1014 [12:48<25:22,  2.49s/it]\u001b[A\u001b[A"
          ]
        },
        {
          "output_type": "stream",
          "name": "stdout",
          "text": [
            " 16 bits.\n"
          ]
        },
        {
          "output_type": "stream",
          "name": "stderr",
          "text": [
            "\n",
            "\n",
            " 40%|███▉      | 404/1014 [12:50<23:41,  2.33s/it]\u001b[A\u001b[A"
          ]
        },
        {
          "output_type": "stream",
          "name": "stdout",
          "text": [
            " 13,000\n"
          ]
        },
        {
          "output_type": "stream",
          "name": "stderr",
          "text": [
            "\n",
            "\n",
            " 40%|███▉      | 405/1014 [12:51<20:07,  1.98s/it]\u001b[A\u001b[A"
          ]
        },
        {
          "output_type": "stream",
          "name": "stdout",
          "text": [
            " Supercell makes 4 apps.\n"
          ]
        },
        {
          "output_type": "stream",
          "name": "stderr",
          "text": [
            "\n",
            "\n",
            " 40%|████      | 406/1014 [12:52<16:28,  1.63s/it]\u001b[A\u001b[A"
          ]
        },
        {
          "output_type": "stream",
          "name": "stdout",
          "text": [
            " United States\n"
          ]
        },
        {
          "output_type": "stream",
          "name": "stderr",
          "text": [
            "\n",
            "\n",
            " 40%|████      | 407/1014 [12:55<21:26,  2.12s/it]\u001b[A\u001b[A"
          ]
        },
        {
          "output_type": "stream",
          "name": "stdout",
          "text": [
            " Enterprise DevOps\n"
          ]
        },
        {
          "output_type": "stream",
          "name": "stderr",
          "text": [
            "\n",
            "\n",
            " 40%|████      | 408/1014 [12:58<22:53,  2.27s/it]\u001b[A\u001b[A"
          ]
        },
        {
          "output_type": "stream",
          "name": "stdout",
          "text": [
            " 9 million.\n"
          ]
        },
        {
          "output_type": "stream",
          "name": "stderr",
          "text": [
            "\n",
            "\n",
            " 40%|████      | 409/1014 [13:01<25:39,  2.55s/it]\u001b[A\u001b[A"
          ]
        },
        {
          "output_type": "stream",
          "name": "stdout",
          "text": [
            " Personal computers\n"
          ]
        },
        {
          "output_type": "stream",
          "name": "stderr",
          "text": [
            "\n",
            "\n",
            " 40%|████      | 410/1014 [13:02<20:39,  2.05s/it]\u001b[A\u001b[A"
          ]
        },
        {
          "output_type": "stream",
          "name": "stdout",
          "text": [
            " Compensation.\n"
          ]
        },
        {
          "output_type": "stream",
          "name": "stderr",
          "text": [
            "\n",
            "\n",
            " 41%|████      | 411/1014 [13:03<16:44,  1.67s/it]\u001b[A\u001b[A"
          ]
        },
        {
          "output_type": "stream",
          "name": "stdout",
          "text": [
            " Academic libraries.\n"
          ]
        },
        {
          "output_type": "stream",
          "name": "stderr",
          "text": [
            "\n",
            "\n",
            " 41%|████      | 412/1014 [13:04<15:05,  1.50s/it]\u001b[A\u001b[A"
          ]
        },
        {
          "output_type": "stream",
          "name": "stdout",
          "text": [
            " 120K\n"
          ]
        },
        {
          "output_type": "stream",
          "name": "stderr",
          "text": [
            "\n",
            "\n",
            " 41%|████      | 413/1014 [13:05<13:57,  1.39s/it]\u001b[A\u001b[A"
          ]
        },
        {
          "output_type": "stream",
          "name": "stdout",
          "text": [
            " Worldwide vs. oil territorial tax\n"
          ]
        },
        {
          "output_type": "stream",
          "name": "stderr",
          "text": [
            "\n",
            "\n",
            " 41%|████      | 414/1014 [13:06<13:04,  1.31s/it]\u001b[A\u001b[A"
          ]
        },
        {
          "output_type": "stream",
          "name": "stdout",
          "text": [
            " 280,000\n"
          ]
        },
        {
          "output_type": "stream",
          "name": "stderr",
          "text": [
            "\n",
            "\n",
            " 41%|████      | 415/1014 [13:07<12:20,  1.24s/it]\u001b[A\u001b[A"
          ]
        },
        {
          "output_type": "stream",
          "name": "stdout",
          "text": [
            " Cadbury Bournvita\n"
          ]
        },
        {
          "output_type": "stream",
          "name": "stderr",
          "text": [
            "\n",
            "\n",
            " 41%|████      | 416/1014 [13:08<09:46,  1.02it/s]\u001b[A\u001b[A"
          ]
        },
        {
          "output_type": "stream",
          "name": "stdout",
          "text": [
            "Error processing ID 415: Error code: 400 - {'detail': 'Content Exists Risk'}\n"
          ]
        },
        {
          "output_type": "stream",
          "name": "stderr",
          "text": [
            "\n",
            "\n",
            " 41%|████      | 417/1014 [13:09<11:27,  1.15s/it]\u001b[A\u001b[A"
          ]
        },
        {
          "output_type": "stream",
          "name": "stdout",
          "text": [
            " Increase\n"
          ]
        },
        {
          "output_type": "stream",
          "name": "stderr",
          "text": [
            "\n",
            "\n",
            " 41%|████      | 418/1014 [13:10<10:10,  1.02s/it]\u001b[A\u001b[A"
          ]
        },
        {
          "output_type": "stream",
          "name": "stdout",
          "text": [
            " United States\n"
          ]
        },
        {
          "output_type": "stream",
          "name": "stderr",
          "text": [
            "\n",
            "\n",
            " 41%|████▏     | 419/1014 [13:11<10:41,  1.08s/it]\u001b[A\u001b[A"
          ]
        },
        {
          "output_type": "stream",
          "name": "stdout",
          "text": [
            " 2500 nodes.\n"
          ]
        },
        {
          "output_type": "stream",
          "name": "stderr",
          "text": [
            "\n",
            "\n",
            " 41%|████▏     | 420/1014 [13:15<19:19,  1.95s/it]\u001b[A\u001b[A"
          ]
        },
        {
          "output_type": "stream",
          "name": "stdout",
          "text": [
            " Email: wearesecial.sg@wearesocial.sg\n",
            "Phone: +65 6423 1051\n"
          ]
        },
        {
          "output_type": "stream",
          "name": "stderr",
          "text": [
            "\n",
            "\n",
            " 42%|████▏     | 421/1014 [13:16<16:07,  1.63s/it]\u001b[A\u001b[A"
          ]
        },
        {
          "output_type": "stream",
          "name": "stdout",
          "text": [
            " MMU.\n"
          ]
        },
        {
          "output_type": "stream",
          "name": "stderr",
          "text": [
            "\n",
            "\n",
            " 42%|████▏     | 422/1014 [13:18<16:18,  1.65s/it]\u001b[A\u001b[A"
          ]
        },
        {
          "output_type": "stream",
          "name": "stdout",
          "text": [
            " Leakage\n"
          ]
        },
        {
          "output_type": "stream",
          "name": "stderr",
          "text": [
            "\n",
            "\n",
            " 42%|████▏     | 423/1014 [13:19<16:33,  1.68s/it]\u001b[A\u001b[A"
          ]
        },
        {
          "output_type": "stream",
          "name": "stdout",
          "text": [
            " position\n"
          ]
        },
        {
          "output_type": "stream",
          "name": "stderr",
          "text": [
            "\n",
            "\n",
            " 42%|████▏     | 424/1014 [13:20<14:11,  1.44s/it]\u001b[A\u001b[A"
          ]
        },
        {
          "output_type": "stream",
          "name": "stdout",
          "text": [
            " IIIT Hyderabad.\n"
          ]
        },
        {
          "output_type": "stream",
          "name": "stderr",
          "text": [
            "\n",
            "\n",
            " 42%|████▏     | 425/1014 [13:21<12:49,  1.31s/it]\u001b[A\u001b[A"
          ]
        },
        {
          "output_type": "stream",
          "name": "stdout",
          "text": [
            " Helmet Requirement.\n"
          ]
        },
        {
          "output_type": "stream",
          "name": "stderr",
          "text": [
            "\n",
            "\n",
            " 42%|████▏     | 426/1014 [13:22<10:06,  1.03s/it]\u001b[A\u001b[A"
          ]
        },
        {
          "output_type": "stream",
          "name": "stdout",
          "text": [
            "Error processing ID 425: Error code: 400 - {'detail': 'Content Exists Risk'}\n"
          ]
        },
        {
          "output_type": "stream",
          "name": "stderr",
          "text": [
            "\n",
            "\n",
            " 42%|████▏     | 427/1014 [13:24<13:45,  1.41s/it]\u001b[A\u001b[A"
          ]
        },
        {
          "output_type": "stream",
          "name": "stdout",
          "text": [
            " End Points\n"
          ]
        },
        {
          "output_type": "stream",
          "name": "stderr",
          "text": [
            "\n",
            "\n",
            " 42%|████▏     | 428/1014 [13:25<11:48,  1.21s/it]\u001b[A\u001b[A"
          ]
        },
        {
          "output_type": "stream",
          "name": "stdout",
          "text": [
            " Production\n"
          ]
        },
        {
          "output_type": "stream",
          "name": "stderr",
          "text": [
            "\n",
            "\n",
            " 42%|████▏     | 429/1014 [13:26<10:59,  1.13s/it]\u001b[A\u001b[A"
          ]
        },
        {
          "output_type": "stream",
          "name": "stdout",
          "text": [
            " circumcised\n"
          ]
        },
        {
          "output_type": "stream",
          "name": "stderr",
          "text": [
            "\n",
            "\n",
            " 42%|████▏     | 430/1014 [13:26<10:06,  1.04s/it]\u001b[A\u001b[A"
          ]
        },
        {
          "output_type": "stream",
          "name": "stdout",
          "text": [
            " water vapor\n"
          ]
        },
        {
          "output_type": "stream",
          "name": "stderr",
          "text": [
            "\n",
            "\n",
            " 43%|████▎     | 431/1014 [13:29<14:12,  1.46s/it]\u001b[A\u001b[A"
          ]
        },
        {
          "output_type": "stream",
          "name": "stdout",
          "text": [
            " burnt gases\n"
          ]
        },
        {
          "output_type": "stream",
          "name": "stderr",
          "text": [
            "\n",
            "\n",
            " 43%|████▎     | 432/1014 [13:30<12:42,  1.31s/it]\u001b[A\u001b[A"
          ]
        },
        {
          "output_type": "stream",
          "name": "stdout",
          "text": [
            " 95%\n"
          ]
        },
        {
          "output_type": "stream",
          "name": "stderr",
          "text": [
            "\n",
            "\n",
            " 43%|████▎     | 433/1014 [13:39<36:54,  3.81s/it]\u001b[A\u001b[A"
          ]
        },
        {
          "output_type": "stream",
          "name": "stdout",
          "text": [
            " Arnold Beckman.\n",
            "\n",
            "Explanation: In the provided context, it is mentioned that the pH meter was invented by Arnold Orville Beckman, who was born in 1900 and passed away in 2004. The presentation, which is on pH and its measurement, is likely to be written by the same individual responsible for creating the pH meter. Therefore, the creator of the presentation would be Arnold Beckman.\n"
          ]
        },
        {
          "output_type": "stream",
          "name": "stderr",
          "text": [
            "\n",
            "\n",
            " 43%|████▎     | 434/1014 [13:42<32:48,  3.39s/it]\u001b[A\u001b[A"
          ]
        },
        {
          "output_type": "stream",
          "name": "stdout",
          "text": [
            " Interference\n"
          ]
        },
        {
          "output_type": "stream",
          "name": "stderr",
          "text": [
            "\n",
            "\n",
            " 43%|████▎     | 435/1014 [13:43<25:20,  2.63s/it]\u001b[A\u001b[A"
          ]
        },
        {
          "output_type": "stream",
          "name": "stdout",
          "text": [
            " Direct Injection\n"
          ]
        },
        {
          "output_type": "stream",
          "name": "stderr",
          "text": [
            "\n",
            "\n",
            " 43%|████▎     | 436/1014 [13:44<22:39,  2.35s/it]\u001b[A\u001b[A"
          ]
        },
        {
          "output_type": "stream",
          "name": "stdout",
          "text": [
            " 20-100\n"
          ]
        },
        {
          "output_type": "stream",
          "name": "stderr",
          "text": [
            "\n",
            "\n",
            " 43%|████▎     | 437/1014 [13:46<20:06,  2.09s/it]\u001b[A\u001b[A"
          ]
        },
        {
          "output_type": "stream",
          "name": "stdout",
          "text": [
            " 5 years\n"
          ]
        },
        {
          "output_type": "stream",
          "name": "stderr",
          "text": [
            "\n",
            "\n",
            " 43%|████▎     | 438/1014 [13:50<25:15,  2.63s/it]\u001b[A\u001b[A"
          ]
        },
        {
          "output_type": "stream",
          "name": "stdout",
          "text": [
            " 130 billion.\n"
          ]
        },
        {
          "output_type": "stream",
          "name": "stderr",
          "text": [
            "\n",
            "\n",
            " 43%|████▎     | 439/1014 [13:54<28:52,  3.01s/it]\u001b[A\u001b[A"
          ]
        },
        {
          "output_type": "stream",
          "name": "stdout",
          "text": [
            " Strategic Talent Acquisition\n"
          ]
        },
        {
          "output_type": "stream",
          "name": "stderr",
          "text": [
            "\n",
            "\n",
            " 43%|████▎     | 440/1014 [13:55<22:50,  2.39s/it]\u001b[A\u001b[A"
          ]
        },
        {
          "output_type": "stream",
          "name": "stdout",
          "text": [
            " Sister chromatids\n"
          ]
        },
        {
          "output_type": "stream",
          "name": "stderr",
          "text": [
            "\n",
            "\n",
            " 43%|████▎     | 441/1014 [13:55<18:10,  1.90s/it]\u001b[A\u001b[A"
          ]
        },
        {
          "output_type": "stream",
          "name": "stdout",
          "text": [
            " Smaller companies\n"
          ]
        },
        {
          "output_type": "stream",
          "name": "stderr",
          "text": [
            "\n",
            "\n",
            " 44%|████▎     | 442/1014 [13:56<15:43,  1.65s/it]\u001b[A\u001b[A"
          ]
        },
        {
          "output_type": "stream",
          "name": "stdout",
          "text": [
            " Stress and fatigue.\n"
          ]
        },
        {
          "output_type": "stream",
          "name": "stderr",
          "text": [
            "\n",
            "\n",
            " 44%|████▎     | 443/1014 [13:59<16:56,  1.78s/it]\u001b[A\u001b[A"
          ]
        },
        {
          "output_type": "stream",
          "name": "stdout",
          "text": [
            " VSNL stands for Videsh Sanchar Nigam Limited.\n"
          ]
        },
        {
          "output_type": "stream",
          "name": "stderr",
          "text": [
            "\n",
            "\n",
            " 44%|████▍     | 444/1014 [14:01<19:07,  2.01s/it]\u001b[A\u001b[A"
          ]
        },
        {
          "output_type": "stream",
          "name": "stdout",
          "text": [
            " High Tide\n",
            "Low Tide\n"
          ]
        },
        {
          "output_type": "stream",
          "name": "stderr",
          "text": [
            "\n",
            "\n",
            " 44%|████▍     | 445/1014 [14:02<15:51,  1.67s/it]\u001b[A\u001b[A"
          ]
        },
        {
          "output_type": "stream",
          "name": "stdout",
          "text": [
            " Anand Mahindra\n"
          ]
        },
        {
          "output_type": "stream",
          "name": "stderr",
          "text": [
            "\n",
            "\n",
            " 44%|████▍     | 446/1014 [14:03<15:15,  1.61s/it]\u001b[A\u001b[A"
          ]
        },
        {
          "output_type": "stream",
          "name": "stdout",
          "text": [
            " 600 products\n"
          ]
        },
        {
          "output_type": "stream",
          "name": "stderr",
          "text": [
            "\n",
            "\n",
            " 44%|████▍     | 447/1014 [14:06<18:16,  1.93s/it]\u001b[A\u001b[A"
          ]
        },
        {
          "output_type": "stream",
          "name": "stdout",
          "text": [
            " DaDidi, or Didi Chuxing, was founded in 2012.\n"
          ]
        },
        {
          "output_type": "stream",
          "name": "stderr",
          "text": [
            "\n",
            "\n",
            " 44%|████▍     | 448/1014 [14:07<15:55,  1.69s/it]\u001b[A\u001b[A"
          ]
        },
        {
          "output_type": "stream",
          "name": "stdout",
          "text": [
            " Robin Fray Carey\n"
          ]
        },
        {
          "output_type": "stream",
          "name": "stderr",
          "text": [
            "\n",
            "\n",
            " 44%|████▍     | 449/1014 [14:10<17:29,  1.86s/it]\u001b[A\u001b[A"
          ]
        },
        {
          "output_type": "stream",
          "name": "stdout",
          "text": [
            " San Pellegrino\n"
          ]
        },
        {
          "output_type": "stream",
          "name": "stderr",
          "text": [
            "\n",
            "\n",
            " 44%|████▍     | 450/1014 [14:10<14:46,  1.57s/it]\u001b[A\u001b[A"
          ]
        },
        {
          "output_type": "stream",
          "name": "stdout",
          "text": [
            " Simplifying and fun.\n"
          ]
        },
        {
          "output_type": "stream",
          "name": "stderr",
          "text": [
            "\n",
            "\n",
            " 44%|████▍     | 451/1014 [14:14<20:02,  2.14s/it]\u001b[A\u001b[A"
          ]
        },
        {
          "output_type": "stream",
          "name": "stdout",
          "text": [
            " Hadoop\n"
          ]
        },
        {
          "output_type": "stream",
          "name": "stderr",
          "text": [
            "\n",
            "\n",
            " 45%|████▍     | 452/1014 [14:15<17:18,  1.85s/it]\u001b[A\u001b[A"
          ]
        },
        {
          "output_type": "stream",
          "name": "stdout",
          "text": [
            " 7 icons\n"
          ]
        },
        {
          "output_type": "stream",
          "name": "stderr",
          "text": [
            "\n",
            "\n",
            " 45%|████▍     | 453/1014 [14:16<14:39,  1.57s/it]\u001b[A\u001b[A"
          ]
        },
        {
          "output_type": "stream",
          "name": "stdout",
          "text": [
            " 52%\n"
          ]
        },
        {
          "output_type": "stream",
          "name": "stderr",
          "text": [
            "\n",
            "\n",
            " 45%|████▍     | 454/1014 [14:17<12:25,  1.33s/it]\u001b[A\u001b[A"
          ]
        },
        {
          "output_type": "stream",
          "name": "stdout",
          "text": [
            " New World.\n"
          ]
        },
        {
          "output_type": "stream",
          "name": "stderr",
          "text": [
            "\n",
            "\n",
            " 45%|████▍     | 455/1014 [14:18<12:27,  1.34s/it]\u001b[A\u001b[A"
          ]
        },
        {
          "output_type": "stream",
          "name": "stdout",
          "text": [
            " TV Advertising\n"
          ]
        },
        {
          "output_type": "stream",
          "name": "stderr",
          "text": [
            "\n",
            "\n",
            " 45%|████▍     | 456/1014 [14:19<11:11,  1.20s/it]\u001b[A\u001b[A"
          ]
        },
        {
          "output_type": "stream",
          "name": "stdout",
          "text": [
            " Not mentioned.\n"
          ]
        },
        {
          "output_type": "stream",
          "name": "stderr",
          "text": [
            "\n",
            "\n",
            " 45%|████▌     | 457/1014 [14:21<12:38,  1.36s/it]\u001b[A\u001b[A"
          ]
        },
        {
          "output_type": "stream",
          "name": "stdout",
          "text": [
            " Finance.\n"
          ]
        },
        {
          "output_type": "stream",
          "name": "stderr",
          "text": [
            "\n",
            "\n",
            " 45%|████▌     | 458/1014 [14:22<12:32,  1.35s/it]\u001b[A\u001b[A"
          ]
        },
        {
          "output_type": "stream",
          "name": "stdout",
          "text": [
            " 92.83%\n"
          ]
        },
        {
          "output_type": "stream",
          "name": "stderr",
          "text": [
            "\n",
            "\n",
            " 45%|████▌     | 459/1014 [14:23<12:43,  1.37s/it]\u001b[A\u001b[A"
          ]
        },
        {
          "output_type": "stream",
          "name": "stdout",
          "text": [
            " New car\n"
          ]
        },
        {
          "output_type": "stream",
          "name": "stderr",
          "text": [
            "\n",
            "\n",
            " 45%|████▌     | 460/1014 [14:25<13:39,  1.48s/it]\u001b[A\u001b[A"
          ]
        },
        {
          "output_type": "stream",
          "name": "stdout",
          "text": [
            " 12 Emerging Provinces\n"
          ]
        },
        {
          "output_type": "stream",
          "name": "stderr",
          "text": [
            "\n",
            "\n",
            " 45%|████▌     | 461/1014 [14:26<12:30,  1.36s/it]\u001b[A\u001b[A"
          ]
        },
        {
          "output_type": "stream",
          "name": "stdout",
          "text": [
            " Ravi Shankar.\n"
          ]
        },
        {
          "output_type": "stream",
          "name": "stderr",
          "text": [
            "\n",
            "\n",
            " 46%|████▌     | 462/1014 [14:27<10:45,  1.17s/it]\u001b[A\u001b[A"
          ]
        },
        {
          "output_type": "stream",
          "name": "stdout",
          "text": [
            " Elite contacts.\n"
          ]
        },
        {
          "output_type": "stream",
          "name": "stderr",
          "text": [
            "\n",
            "\n",
            " 46%|████▌     | 463/1014 [14:28<09:57,  1.08s/it]\u001b[A\u001b[A"
          ]
        },
        {
          "output_type": "stream",
          "name": "stdout",
          "text": [
            " magnesium\n"
          ]
        },
        {
          "output_type": "stream",
          "name": "stderr",
          "text": [
            "\n",
            "\n",
            " 46%|████▌     | 464/1014 [14:32<18:50,  2.06s/it]\u001b[A\u001b[A"
          ]
        },
        {
          "output_type": "stream",
          "name": "stdout",
          "text": [
            " Standring.\n"
          ]
        },
        {
          "output_type": "stream",
          "name": "stderr",
          "text": [
            "\n",
            "\n",
            " 46%|████▌     | 465/1014 [14:33<15:46,  1.72s/it]\u001b[A\u001b[A"
          ]
        },
        {
          "output_type": "stream",
          "name": "stdout",
          "text": [
            " 22 months\n"
          ]
        },
        {
          "output_type": "stream",
          "name": "stderr",
          "text": [
            "\n",
            "\n",
            " 46%|████▌     | 466/1014 [14:34<14:32,  1.59s/it]\u001b[A\u001b[A"
          ]
        },
        {
          "output_type": "stream",
          "name": "stdout",
          "text": [
            " Subcecal.\n"
          ]
        },
        {
          "output_type": "stream",
          "name": "stderr",
          "text": [
            "\n",
            "\n",
            " 46%|████▌     | 467/1014 [14:35<12:06,  1.33s/it]\u001b[A\u001b[A"
          ]
        },
        {
          "output_type": "stream",
          "name": "stdout",
          "text": [
            " MFPI\n"
          ]
        },
        {
          "output_type": "stream",
          "name": "stderr",
          "text": [
            "\n",
            "\n",
            " 46%|████▌     | 468/1014 [14:39<18:11,  2.00s/it]\u001b[A\u001b[A"
          ]
        },
        {
          "output_type": "stream",
          "name": "stdout",
          "text": [
            " Febrile phase\n"
          ]
        },
        {
          "output_type": "stream",
          "name": "stderr",
          "text": [
            "\n",
            "\n",
            " 46%|████▋     | 469/1014 [14:40<16:47,  1.85s/it]\u001b[A\u001b[A"
          ]
        },
        {
          "output_type": "stream",
          "name": "stdout",
          "text": [
            " Install, request, contact\n"
          ]
        },
        {
          "output_type": "stream",
          "name": "stderr",
          "text": [
            "\n",
            "\n",
            " 46%|████▋     | 470/1014 [14:43<18:31,  2.04s/it]\u001b[A\u001b[A"
          ]
        },
        {
          "output_type": "stream",
          "name": "stdout",
          "text": [
            " Shipping.\n"
          ]
        },
        {
          "output_type": "stream",
          "name": "stderr",
          "text": [
            "\n",
            "\n",
            " 46%|████▋     | 471/1014 [14:48<26:35,  2.94s/it]\u001b[A\u001b[A"
          ]
        },
        {
          "output_type": "stream",
          "name": "stdout",
          "text": [
            " 24\n"
          ]
        },
        {
          "output_type": "stream",
          "name": "stderr",
          "text": [
            "\n",
            "\n",
            " 47%|████▋     | 472/1014 [14:49<21:47,  2.41s/it]\u001b[A\u001b[A"
          ]
        },
        {
          "output_type": "stream",
          "name": "stdout",
          "text": [
            " 5000 APIs\n"
          ]
        },
        {
          "output_type": "stream",
          "name": "stderr",
          "text": [
            "\n",
            "\n",
            " 47%|████▋     | 473/1014 [14:51<19:49,  2.20s/it]\u001b[A\u001b[A"
          ]
        },
        {
          "output_type": "stream",
          "name": "stdout",
          "text": [
            " 51%\n"
          ]
        },
        {
          "output_type": "stream",
          "name": "stderr",
          "text": [
            "\n",
            "\n",
            " 47%|████▋     | 474/1014 [14:52<17:57,  1.99s/it]\u001b[A\u001b[A"
          ]
        },
        {
          "output_type": "stream",
          "name": "stdout",
          "text": [
            " primarily positive\n"
          ]
        },
        {
          "output_type": "stream",
          "name": "stderr",
          "text": [
            "\n",
            "\n",
            " 47%|████▋     | 475/1014 [14:53<15:46,  1.76s/it]\u001b[A\u001b[A"
          ]
        },
        {
          "output_type": "stream",
          "name": "stdout",
          "text": [
            " since 2000s\n"
          ]
        },
        {
          "output_type": "stream",
          "name": "stderr",
          "text": [
            "\n",
            "\n",
            " 47%|████▋     | 476/1014 [14:54<13:05,  1.46s/it]\u001b[A\u001b[A"
          ]
        },
        {
          "output_type": "stream",
          "name": "stdout",
          "text": [
            " Sensor technology\n"
          ]
        },
        {
          "output_type": "stream",
          "name": "stderr",
          "text": [
            "\n",
            "\n",
            " 47%|████▋     | 477/1014 [14:55<12:30,  1.40s/it]\u001b[A\u001b[A"
          ]
        },
        {
          "output_type": "stream",
          "name": "stdout",
          "text": [
            " HotSpot, Substrate\n"
          ]
        },
        {
          "output_type": "stream",
          "name": "stderr",
          "text": [
            "\n",
            "\n",
            " 47%|████▋     | 478/1014 [14:56<11:40,  1.31s/it]\u001b[A\u001b[A"
          ]
        },
        {
          "output_type": "stream",
          "name": "stdout",
          "text": [
            " 50%\n"
          ]
        },
        {
          "output_type": "stream",
          "name": "stderr",
          "text": [
            "\n",
            "\n",
            " 47%|████▋     | 479/1014 [14:58<13:25,  1.51s/it]\u001b[A\u001b[A"
          ]
        },
        {
          "output_type": "stream",
          "name": "stdout",
          "text": [
            " 18\n"
          ]
        },
        {
          "output_type": "stream",
          "name": "stderr",
          "text": [
            "\n",
            "\n",
            " 47%|████▋     | 480/1014 [15:29<1:32:13, 10.36s/it]\u001b[A\u001b[A"
          ]
        },
        {
          "output_type": "stream",
          "name": "stdout",
          "text": [
            " The Open Systems Interconnection (OSI) model is a conceptual framework used to describe the functionality of a networking system. In terms of what OSI adds, it provides a comprehensive abstraction of network functionality into distinct layers, each with specific responsibilities. These layers, from bottom to top, are:\n",
            "\n",
            "1. **Physical Layer**: Responsible for the transmission and reception of unstructured raw bit streams over a physical medium.\n",
            "   - Signal characteristics\n",
            "   - Physical connection (cables)\n",
            "   - Transmission mode (simplex, half-duplex, full-duplex)\n",
            "\n",
            "2. **Data Link Layer**: Facilitates the transfer of data between network entities and may provide the means to detect and retransmit data that was damaged during transmission.\n",
            "   - Error detection and correction\n",
            "   - Flow control\n",
            "   - MAC addressing\n",
            "\n",
            "3. **Network Layer**: Manages the operation of the subnet.\n",
            "   - Routing\n",
            "   - Logical addressing\n",
            "\n",
            "4. **Transport Layer**: Manages the end-to-end transmission of data.\n",
            "   - Connection-oriented service\n",
            "   - Data reliability\n",
            "   - Flow control\n",
            "\n",
            "5. **Session Layer**: Provides services that allow applications to establish a dialog with each other so that they can communicate.\n",
            "   - Dialog control\n",
            "   - Synchronization\n",
            "\n",
            "6. **Presentation Layer**: Provides independence from data representation by translating between application and network formats.\n",
            "   - Data translation\n",
            "   - Encryption/decryption\n",
            "\n",
            "7. **Application Layer**: Serves as the window for users and application processes to access network services.\n",
            "   - Network services\n",
            "   - E-mail services\n",
            "   - File Transfer\n",
            "\n",
            "The OSI model does not specify protocols but rather describes the conceptual functions in network design that should be considered by network designers. It aids in understanding how systems communicate over a network.\n",
            "\n",
            "In two words, what OSI adds is:\n",
            "- **Structure**: The OSI model organizes the functions of a network into clear, distinct layers.\n",
            "- **Comprehension**: It simplifies understanding by breaking down complex networking systems into manageable chunks.\n"
          ]
        },
        {
          "output_type": "stream",
          "name": "stderr",
          "text": [
            "\n",
            "\n",
            " 47%|████▋     | 481/1014 [15:31<1:07:23,  7.59s/it]\u001b[A\u001b[A"
          ]
        },
        {
          "output_type": "stream",
          "name": "stdout",
          "text": [
            " The operands are the data.\n"
          ]
        },
        {
          "output_type": "stream",
          "name": "stderr",
          "text": [
            "\n",
            "\n",
            " 48%|████▊     | 482/1014 [15:31<48:58,  5.52s/it]  \u001b[A\u001b[A"
          ]
        },
        {
          "output_type": "stream",
          "name": "stdout",
          "text": [
            " Seven Products\n"
          ]
        },
        {
          "output_type": "stream",
          "name": "stderr",
          "text": [
            "\n",
            "\n",
            " 48%|████▊     | 483/1014 [15:34<41:02,  4.64s/it]\u001b[A\u001b[A"
          ]
        },
        {
          "output_type": "stream",
          "name": "stdout",
          "text": [
            " Tata Motors.\n"
          ]
        },
        {
          "output_type": "stream",
          "name": "stderr",
          "text": [
            "\n",
            "\n",
            " 48%|████▊     | 484/1014 [15:36<34:57,  3.96s/it]\u001b[A\u001b[A"
          ]
        },
        {
          "output_type": "stream",
          "name": "stdout",
          "text": [
            " North America\n"
          ]
        },
        {
          "output_type": "stream",
          "name": "stderr",
          "text": [
            "\n",
            "\n",
            " 48%|████▊     | 485/1014 [15:37<26:48,  3.04s/it]\u001b[A\u001b[A"
          ]
        },
        {
          "output_type": "stream",
          "name": "stdout",
          "text": [
            " Six stages.\n"
          ]
        },
        {
          "output_type": "stream",
          "name": "stderr",
          "text": [
            "\n",
            "\n",
            " 48%|████▊     | 486/1014 [15:41<29:25,  3.34s/it]\u001b[A\u001b[A"
          ]
        },
        {
          "output_type": "stream",
          "name": "stdout",
          "text": [
            " Section 4 is not mentioned in the text, so it is not possible to provide an answer regarding its equivalent in the New Act. Please refer to the appropriate source or context for this information.\n"
          ]
        },
        {
          "output_type": "stream",
          "name": "stderr",
          "text": [
            "\n",
            "\n",
            " 48%|████▊     | 487/1014 [15:49<41:54,  4.77s/it]\u001b[A\u001b[A"
          ]
        },
        {
          "output_type": "stream",
          "name": "stdout",
          "text": [
            " Augmented reality and virtual reality both use 3D rendering. Augmented reality involves overlaying digital information on top of the physical world while virtual reality creates an entirely digital environment. Both technologies offer unique advantages for various industries, but one is not necessarily better than the other.\n"
          ]
        },
        {
          "output_type": "stream",
          "name": "stderr",
          "text": [
            "\n",
            "\n",
            " 48%|████▊     | 488/1014 [15:50<31:11,  3.56s/it]\u001b[A\u001b[A"
          ]
        },
        {
          "output_type": "stream",
          "name": "stdout",
          "text": [
            " Hungary\n"
          ]
        },
        {
          "output_type": "stream",
          "name": "stderr",
          "text": [
            "\n",
            "\n",
            " 48%|████▊     | 489/1014 [15:52<27:02,  3.09s/it]\u001b[A\u001b[A"
          ]
        },
        {
          "output_type": "stream",
          "name": "stdout",
          "text": [
            " Delhi, Mumbai\n"
          ]
        },
        {
          "output_type": "stream",
          "name": "stderr",
          "text": [
            "\n",
            "\n",
            " 48%|████▊     | 490/1014 [15:53<22:19,  2.56s/it]\u001b[A\u001b[A"
          ]
        },
        {
          "output_type": "stream",
          "name": "stdout",
          "text": [
            " AFRP\n"
          ]
        },
        {
          "output_type": "stream",
          "name": "stderr",
          "text": [
            "\n",
            "\n",
            " 48%|████▊     | 491/1014 [15:54<17:42,  2.03s/it]\u001b[A\u001b[A"
          ]
        },
        {
          "output_type": "stream",
          "name": "stdout",
          "text": [
            " Growth plate\n"
          ]
        },
        {
          "output_type": "stream",
          "name": "stderr",
          "text": [
            "\n",
            "\n",
            " 49%|████▊     | 492/1014 [15:55<14:30,  1.67s/it]\u001b[A\u001b[A"
          ]
        },
        {
          "output_type": "stream",
          "name": "stdout",
          "text": [
            " Social networks\n"
          ]
        },
        {
          "output_type": "stream",
          "name": "stderr",
          "text": [
            "\n",
            "\n",
            " 49%|████▊     | 493/1014 [15:56<12:33,  1.45s/it]\u001b[A\u001b[A"
          ]
        },
        {
          "output_type": "stream",
          "name": "stdout",
          "text": [
            " Hyperlipidemia\n"
          ]
        },
        {
          "output_type": "stream",
          "name": "stderr",
          "text": [
            "\n",
            "\n",
            " 49%|████▊     | 494/1014 [15:57<11:52,  1.37s/it]\u001b[A\u001b[A"
          ]
        },
        {
          "output_type": "stream",
          "name": "stdout",
          "text": [
            " Inflammation of appendix\n"
          ]
        },
        {
          "output_type": "stream",
          "name": "stderr",
          "text": [
            "\n",
            "\n",
            " 49%|████▉     | 495/1014 [15:58<10:52,  1.26s/it]\u001b[A\u001b[A"
          ]
        },
        {
          "output_type": "stream",
          "name": "stdout",
          "text": [
            " Augmented Reality\n"
          ]
        },
        {
          "output_type": "stream",
          "name": "stderr",
          "text": [
            "\n",
            "\n",
            " 49%|████▉     | 496/1014 [16:00<11:50,  1.37s/it]\u001b[A\u001b[A"
          ]
        },
        {
          "output_type": "stream",
          "name": "stdout",
          "text": [
            " Strategic HR.\n"
          ]
        },
        {
          "output_type": "stream",
          "name": "stderr",
          "text": [
            "\n",
            "\n",
            " 49%|████▉     | 497/1014 [16:00<10:16,  1.19s/it]\u001b[A\u001b[A"
          ]
        },
        {
          "output_type": "stream",
          "name": "stdout",
          "text": [
            " Wine imports\n"
          ]
        },
        {
          "output_type": "stream",
          "name": "stderr",
          "text": [
            "\n",
            "\n",
            " 49%|████▉     | 498/1014 [16:03<12:49,  1.49s/it]\u001b[A\u001b[A"
          ]
        },
        {
          "output_type": "stream",
          "name": "stdout",
          "text": [
            " 2007\n"
          ]
        },
        {
          "output_type": "stream",
          "name": "stderr",
          "text": [
            "\n",
            "\n",
            " 49%|████▉     | 499/1014 [16:04<11:18,  1.32s/it]\u001b[A\u001b[A"
          ]
        },
        {
          "output_type": "stream",
          "name": "stdout",
          "text": [
            " Less water.\n"
          ]
        },
        {
          "output_type": "stream",
          "name": "stderr",
          "text": [
            "\n",
            "\n",
            " 49%|████▉     | 500/1014 [16:05<11:12,  1.31s/it]\u001b[A\u001b[A"
          ]
        },
        {
          "output_type": "stream",
          "name": "stdout",
          "text": [
            " Early 1800s.\n"
          ]
        },
        {
          "output_type": "stream",
          "name": "stderr",
          "text": [
            "\n",
            "\n",
            " 49%|████▉     | 501/1014 [16:07<13:55,  1.63s/it]\u001b[A\u001b[A"
          ]
        },
        {
          "output_type": "stream",
          "name": "stdout",
          "text": [
            " Enterprise Agility.\n"
          ]
        },
        {
          "output_type": "stream",
          "name": "stderr",
          "text": [
            "\n",
            "\n",
            " 50%|████▉     | 502/1014 [16:09<13:51,  1.62s/it]\u001b[A\u001b[A"
          ]
        },
        {
          "output_type": "stream",
          "name": "stdout",
          "text": [
            " Citciops Acquisition\n"
          ]
        },
        {
          "output_type": "stream",
          "name": "stderr",
          "text": [
            "\n",
            "\n",
            " 50%|████▉     | 503/1014 [16:10<12:36,  1.48s/it]\u001b[A\u001b[A"
          ]
        },
        {
          "output_type": "stream",
          "name": "stdout",
          "text": [
            " Content creators\n"
          ]
        },
        {
          "output_type": "stream",
          "name": "stderr",
          "text": [
            "\n",
            "\n",
            " 50%|████▉     | 504/1014 [16:10<09:47,  1.15s/it]\u001b[A\u001b[A"
          ]
        },
        {
          "output_type": "stream",
          "name": "stdout",
          "text": [
            "Error processing ID 503: Error code: 400 - {'detail': 'Content Exists Risk'}\n"
          ]
        },
        {
          "output_type": "stream",
          "name": "stderr",
          "text": [
            "\n",
            "\n",
            " 50%|████▉     | 505/1014 [16:11<09:36,  1.13s/it]\u001b[A\u001b[A"
          ]
        },
        {
          "output_type": "stream",
          "name": "stdout",
          "text": [
            " Blue color.\n"
          ]
        },
        {
          "output_type": "stream",
          "name": "stderr",
          "text": [
            "\n",
            "\n",
            " 50%|████▉     | 506/1014 [16:13<09:37,  1.14s/it]\u001b[A\u001b[A"
          ]
        },
        {
          "output_type": "stream",
          "name": "stdout",
          "text": [
            " Biosensors, Amplifiers, and Display.\n"
          ]
        },
        {
          "output_type": "stream",
          "name": "stderr",
          "text": [
            "\n",
            "\n",
            " 50%|█████     | 507/1014 [16:18<19:18,  2.28s/it]\u001b[A\u001b[A"
          ]
        },
        {
          "output_type": "stream",
          "name": "stdout",
          "text": [
            " Critical phase\n"
          ]
        },
        {
          "output_type": "stream",
          "name": "stderr",
          "text": [
            "\n",
            "\n",
            " 50%|█████     | 508/1014 [16:19<17:16,  2.05s/it]\u001b[A\u001b[A"
          ]
        },
        {
          "output_type": "stream",
          "name": "stdout",
          "text": [
            " In year 2011.\n"
          ]
        },
        {
          "output_type": "stream",
          "name": "stderr",
          "text": [
            "\n",
            "\n",
            " 50%|█████     | 509/1014 [16:19<13:01,  1.55s/it]\u001b[A\u001b[A"
          ]
        },
        {
          "output_type": "stream",
          "name": "stdout",
          "text": [
            "Error processing ID 508: Error code: 400 - {'detail': 'Content Exists Risk'}\n"
          ]
        },
        {
          "output_type": "stream",
          "name": "stderr",
          "text": [
            "\n",
            "\n",
            " 50%|█████     | 510/1014 [16:23<18:34,  2.21s/it]\u001b[A\u001b[A"
          ]
        },
        {
          "output_type": "stream",
          "name": "stdout",
          "text": [
            " Digital literacy.\n"
          ]
        },
        {
          "output_type": "stream",
          "name": "stderr",
          "text": [
            "\n",
            "\n",
            " 50%|█████     | 511/1014 [16:24<13:56,  1.66s/it]\u001b[A\u001b[A"
          ]
        },
        {
          "output_type": "stream",
          "name": "stdout",
          "text": [
            "Error processing ID 510: Error code: 400 - {'detail': 'Content Exists Risk'}\n"
          ]
        },
        {
          "output_type": "stream",
          "name": "stderr",
          "text": [
            "\n",
            "\n",
            " 50%|█████     | 512/1014 [16:26<15:29,  1.85s/it]\u001b[A\u001b[A"
          ]
        },
        {
          "output_type": "stream",
          "name": "stdout",
          "text": [
            " Content Marketing Institute\n"
          ]
        },
        {
          "output_type": "stream",
          "name": "stderr",
          "text": [
            "\n",
            "\n",
            " 51%|█████     | 513/1014 [16:29<19:18,  2.31s/it]\u001b[A\u001b[A"
          ]
        },
        {
          "output_type": "stream",
          "name": "stdout",
          "text": [
            " Blow Up.\n"
          ]
        },
        {
          "output_type": "stream",
          "name": "stderr",
          "text": [
            "\n",
            "\n",
            " 51%|█████     | 514/1014 [16:30<15:35,  1.87s/it]\u001b[A\u001b[A"
          ]
        },
        {
          "output_type": "stream",
          "name": "stdout",
          "text": [
            " English.\n"
          ]
        },
        {
          "output_type": "stream",
          "name": "stderr",
          "text": [
            "\n",
            "\n",
            " 51%|█████     | 515/1014 [16:32<14:49,  1.78s/it]\u001b[A\u001b[A"
          ]
        },
        {
          "output_type": "stream",
          "name": "stdout",
          "text": [
            " 280,000\n"
          ]
        },
        {
          "output_type": "stream",
          "name": "stderr",
          "text": [
            "\n",
            "\n",
            " 51%|█████     | 516/1014 [16:33<14:13,  1.71s/it]\u001b[A\u001b[A"
          ]
        },
        {
          "output_type": "stream",
          "name": "stdout",
          "text": [
            " Education\n"
          ]
        },
        {
          "output_type": "stream",
          "name": "stderr",
          "text": [
            "\n",
            "\n",
            " 51%|█████     | 517/1014 [16:34<12:09,  1.47s/it]\u001b[A\u001b[A"
          ]
        },
        {
          "output_type": "stream",
          "name": "stdout",
          "text": [
            " Describe and Formulate\n"
          ]
        },
        {
          "output_type": "stream",
          "name": "stderr",
          "text": [
            "\n",
            "\n",
            " 51%|█████     | 518/1014 [16:35<11:03,  1.34s/it]\u001b[A\u001b[A"
          ]
        },
        {
          "output_type": "stream",
          "name": "stdout",
          "text": [
            " Eight major languages\n"
          ]
        },
        {
          "output_type": "stream",
          "name": "stderr",
          "text": [
            "\n",
            "\n",
            " 51%|█████     | 519/1014 [16:38<14:44,  1.79s/it]\u001b[A\u001b[A"
          ]
        },
        {
          "output_type": "stream",
          "name": "stdout",
          "text": [
            " 17.76%\n"
          ]
        },
        {
          "output_type": "stream",
          "name": "stderr",
          "text": [
            "\n",
            "\n",
            " 51%|█████▏    | 520/1014 [16:41<17:09,  2.08s/it]\u001b[A\u001b[A"
          ]
        },
        {
          "output_type": "stream",
          "name": "stdout",
          "text": [
            " 2008\n"
          ]
        },
        {
          "output_type": "stream",
          "name": "stderr",
          "text": [
            "\n",
            "\n",
            " 51%|█████▏    | 521/1014 [16:42<15:42,  1.91s/it]\u001b[A\u001b[A"
          ]
        },
        {
          "output_type": "stream",
          "name": "stdout",
          "text": [
            " Reduced tyre friction can lead to reduced road friction.\n"
          ]
        },
        {
          "output_type": "stream",
          "name": "stderr",
          "text": [
            "\n",
            "\n",
            " 51%|█████▏    | 522/1014 [16:45<18:35,  2.27s/it]\u001b[A\u001b[A"
          ]
        },
        {
          "output_type": "stream",
          "name": "stdout",
          "text": [
            " Alina Simone\n"
          ]
        },
        {
          "output_type": "stream",
          "name": "stderr",
          "text": [
            "\n",
            "\n",
            " 52%|█████▏    | 523/1014 [16:46<15:20,  1.88s/it]\u001b[A\u001b[A"
          ]
        },
        {
          "output_type": "stream",
          "name": "stdout",
          "text": [
            " Entactin\n"
          ]
        },
        {
          "output_type": "stream",
          "name": "stderr",
          "text": [
            "\n",
            "\n",
            " 52%|█████▏    | 524/1014 [16:51<22:17,  2.73s/it]\u001b[A\u001b[A"
          ]
        },
        {
          "output_type": "stream",
          "name": "stdout",
          "text": [
            " High\n"
          ]
        },
        {
          "output_type": "stream",
          "name": "stderr",
          "text": [
            "\n",
            "\n",
            " 52%|█████▏    | 525/1014 [16:51<16:31,  2.03s/it]\u001b[A\u001b[A"
          ]
        },
        {
          "output_type": "stream",
          "name": "stdout",
          "text": [
            "Error processing ID 524: Error code: 400 - {'detail': 'Content Exists Risk'}\n"
          ]
        },
        {
          "output_type": "stream",
          "name": "stderr",
          "text": [
            "\n",
            "\n",
            " 52%|█████▏    | 526/1014 [16:52<13:36,  1.67s/it]\u001b[A\u001b[A"
          ]
        },
        {
          "output_type": "stream",
          "name": "stdout",
          "text": [
            " Keystone\n"
          ]
        },
        {
          "output_type": "stream",
          "name": "stderr",
          "text": [
            "\n",
            "\n",
            " 52%|█████▏    | 527/1014 [16:53<11:58,  1.47s/it]\u001b[A\u001b[A"
          ]
        },
        {
          "output_type": "stream",
          "name": "stdout",
          "text": [
            " RGBA.\n"
          ]
        },
        {
          "output_type": "stream",
          "name": "stderr",
          "text": [
            "\n",
            "\n",
            " 52%|█████▏    | 528/1014 [16:54<10:33,  1.30s/it]\u001b[A\u001b[A"
          ]
        },
        {
          "output_type": "stream",
          "name": "stdout",
          "text": [
            " 100 billion\n"
          ]
        },
        {
          "output_type": "stream",
          "name": "stderr",
          "text": [
            "\n",
            "\n",
            " 52%|█████▏    | 529/1014 [16:55<09:21,  1.16s/it]\u001b[A\u001b[A"
          ]
        },
        {
          "output_type": "stream",
          "name": "stdout",
          "text": [
            " Theory Change\n"
          ]
        },
        {
          "output_type": "stream",
          "name": "stderr",
          "text": [
            "\n",
            "\n",
            " 52%|█████▏    | 530/1014 [16:57<11:13,  1.39s/it]\u001b[A\u001b[A"
          ]
        },
        {
          "output_type": "stream",
          "name": "stdout",
          "text": [
            " There were 3 more coups than attempted coups.\n"
          ]
        },
        {
          "output_type": "stream",
          "name": "stderr",
          "text": [
            "\n",
            "\n",
            " 52%|█████▏    | 531/1014 [16:59<13:40,  1.70s/it]\u001b[A\u001b[A"
          ]
        },
        {
          "output_type": "stream",
          "name": "stdout",
          "text": [
            " Internet of Things market\n"
          ]
        },
        {
          "output_type": "stream",
          "name": "stderr",
          "text": [
            "\n",
            "\n",
            " 52%|█████▏    | 532/1014 [17:02<16:43,  2.08s/it]\u001b[A\u001b[A"
          ]
        },
        {
          "output_type": "stream",
          "name": "stdout",
          "text": [
            " Performance indicators.\n"
          ]
        },
        {
          "output_type": "stream",
          "name": "stderr",
          "text": [
            "\n",
            "\n",
            " 53%|█████▎    | 533/1014 [17:05<17:34,  2.19s/it]\u001b[A\u001b[A"
          ]
        },
        {
          "output_type": "stream",
          "name": "stdout",
          "text": [
            " Q1 2010\n"
          ]
        },
        {
          "output_type": "stream",
          "name": "stderr",
          "text": [
            "\n",
            "\n",
            " 53%|█████▎    | 534/1014 [17:06<14:49,  1.85s/it]\u001b[A\u001b[A"
          ]
        },
        {
          "output_type": "stream",
          "name": "stdout",
          "text": [
            " Blue Ocean\n"
          ]
        },
        {
          "output_type": "stream",
          "name": "stderr",
          "text": [
            "\n",
            "\n",
            " 53%|█████▎    | 535/1014 [17:07<12:46,  1.60s/it]\u001b[A\u001b[A"
          ]
        },
        {
          "output_type": "stream",
          "name": "stdout",
          "text": [
            " Promotion technique.\n"
          ]
        },
        {
          "output_type": "stream",
          "name": "stderr",
          "text": [
            "\n",
            "\n",
            " 53%|█████▎    | 536/1014 [17:08<11:54,  1.49s/it]\u001b[A\u001b[A"
          ]
        },
        {
          "output_type": "stream",
          "name": "stdout",
          "text": [
            " Big Data\n"
          ]
        },
        {
          "output_type": "stream",
          "name": "stderr",
          "text": [
            "\n",
            "\n",
            " 53%|█████▎    | 537/1014 [17:09<11:17,  1.42s/it]\u001b[A\u001b[A"
          ]
        },
        {
          "output_type": "stream",
          "name": "stdout",
          "text": [
            " 2009-2010\n"
          ]
        },
        {
          "output_type": "stream",
          "name": "stderr",
          "text": [
            "\n",
            "\n",
            " 53%|█████▎    | 538/1014 [17:11<11:09,  1.41s/it]\u001b[A\u001b[A"
          ]
        },
        {
          "output_type": "stream",
          "name": "stdout",
          "text": [
            " Service Catalog.\n"
          ]
        },
        {
          "output_type": "stream",
          "name": "stderr",
          "text": [
            "\n",
            "\n",
            " 53%|█████▎    | 539/1014 [17:13<14:06,  1.78s/it]\u001b[A\u001b[A"
          ]
        },
        {
          "output_type": "stream",
          "name": "stdout",
          "text": [
            " Birmingham, UK.\n"
          ]
        },
        {
          "output_type": "stream",
          "name": "stderr",
          "text": [
            "\n",
            "\n",
            " 53%|█████▎    | 540/1014 [17:15<13:45,  1.74s/it]\u001b[A\u001b[A"
          ]
        },
        {
          "output_type": "stream",
          "name": "stdout",
          "text": [
            " 2016.\n"
          ]
        },
        {
          "output_type": "stream",
          "name": "stderr",
          "text": [
            "\n",
            "\n",
            " 53%|█████▎    | 541/1014 [17:17<14:41,  1.86s/it]\u001b[A\u001b[A"
          ]
        },
        {
          "output_type": "stream",
          "name": "stdout",
          "text": [
            " Cubic centimeter\n"
          ]
        },
        {
          "output_type": "stream",
          "name": "stderr",
          "text": [
            "\n",
            "\n",
            " 53%|█████▎    | 542/1014 [17:21<19:21,  2.46s/it]\u001b[A\u001b[A"
          ]
        },
        {
          "output_type": "stream",
          "name": "stdout",
          "text": [
            " Sensory input gathering information to monitor changes occurring inside and outside the body and Motor output a response to integrated stimuli. What is the step between these two?\n"
          ]
        },
        {
          "output_type": "stream",
          "name": "stderr",
          "text": [
            "\n",
            "\n",
            " 54%|█████▎    | 543/1014 [17:22<16:21,  2.08s/it]\u001b[A\u001b[A"
          ]
        },
        {
          "output_type": "stream",
          "name": "stdout",
          "text": [
            " Mintzberg & Gosling\n"
          ]
        },
        {
          "output_type": "stream",
          "name": "stderr",
          "text": [
            "\n",
            "\n",
            " 54%|█████▎    | 544/1014 [17:25<18:26,  2.35s/it]\u001b[A\u001b[A"
          ]
        },
        {
          "output_type": "stream",
          "name": "stdout",
          "text": [
            " Atlanta\n"
          ]
        },
        {
          "output_type": "stream",
          "name": "stderr",
          "text": [
            "\n",
            "\n",
            " 54%|█████▎    | 545/1014 [17:26<14:53,  1.90s/it]\u001b[A\u001b[A"
          ]
        },
        {
          "output_type": "stream",
          "name": "stdout",
          "text": [
            " Primarily positive.\n"
          ]
        },
        {
          "output_type": "stream",
          "name": "stderr",
          "text": [
            "\n",
            "\n",
            " 54%|█████▍    | 546/1014 [17:27<12:37,  1.62s/it]\u001b[A\u001b[A"
          ]
        },
        {
          "output_type": "stream",
          "name": "stdout",
          "text": [
            " ABS systems.\n"
          ]
        },
        {
          "output_type": "stream",
          "name": "stderr",
          "text": [
            "\n",
            "\n",
            " 54%|█████▍    | 547/1014 [17:30<16:27,  2.11s/it]\u001b[A\u001b[A"
          ]
        },
        {
          "output_type": "stream",
          "name": "stdout",
          "text": [
            " There are 20,000 images of cat faces in the \"cats-train\" directory.\n"
          ]
        },
        {
          "output_type": "stream",
          "name": "stderr",
          "text": [
            "\n",
            "\n",
            " 54%|█████▍    | 548/1014 [17:32<16:07,  2.08s/it]\u001b[A\u001b[A"
          ]
        },
        {
          "output_type": "stream",
          "name": "stdout",
          "text": [
            " Purple represents: Royalty, Power, Richness, Majesty\n"
          ]
        },
        {
          "output_type": "stream",
          "name": "stderr",
          "text": [
            "\n",
            "\n",
            " 54%|█████▍    | 549/1014 [17:33<13:22,  1.73s/it]\u001b[A\u001b[A"
          ]
        },
        {
          "output_type": "stream",
          "name": "stdout",
          "text": [
            " Confidential.\n"
          ]
        },
        {
          "output_type": "stream",
          "name": "stderr",
          "text": [
            "\n",
            "\n",
            " 54%|█████▍    | 550/1014 [17:39<21:39,  2.80s/it]\u001b[A\u001b[A"
          ]
        },
        {
          "output_type": "stream",
          "name": "stdout",
          "text": [
            " Cooperation and Commitment.\n"
          ]
        },
        {
          "output_type": "stream",
          "name": "stderr",
          "text": [
            "\n",
            "\n",
            " 54%|█████▍    | 551/1014 [17:40<17:25,  2.26s/it]\u001b[A\u001b[A"
          ]
        },
        {
          "output_type": "stream",
          "name": "stdout",
          "text": [
            " 2001\n"
          ]
        },
        {
          "output_type": "stream",
          "name": "stderr",
          "text": [
            "\n",
            "\n",
            " 54%|█████▍    | 552/1014 [17:41<15:10,  1.97s/it]\u001b[A\u001b[A"
          ]
        },
        {
          "output_type": "stream",
          "name": "stdout",
          "text": [
            " Flat bone.\n"
          ]
        },
        {
          "output_type": "stream",
          "name": "stderr",
          "text": [
            "\n",
            "\n",
            " 55%|█████▍    | 553/1014 [17:42<13:48,  1.80s/it]\u001b[A\u001b[A"
          ]
        },
        {
          "output_type": "stream",
          "name": "stdout",
          "text": [
            " Supercell makes 6 apps.\n"
          ]
        },
        {
          "output_type": "stream",
          "name": "stderr",
          "text": [
            "\n",
            "\n",
            " 55%|█████▍    | 554/1014 [17:45<16:21,  2.13s/it]\u001b[A\u001b[A"
          ]
        },
        {
          "output_type": "stream",
          "name": "stdout",
          "text": [
            " QPSK, 16QAM\n"
          ]
        },
        {
          "output_type": "stream",
          "name": "stderr",
          "text": [
            "\n",
            "\n",
            " 55%|█████▍    | 555/1014 [17:47<14:38,  1.91s/it]\u001b[A\u001b[A"
          ]
        },
        {
          "output_type": "stream",
          "name": "stdout",
          "text": [
            " 22,000.\n"
          ]
        },
        {
          "output_type": "stream",
          "name": "stderr",
          "text": [
            "\n",
            "\n",
            " 55%|█████▍    | 556/1014 [17:47<12:01,  1.57s/it]\u001b[A\u001b[A"
          ]
        },
        {
          "output_type": "stream",
          "name": "stdout",
          "text": [
            " PowerPoint design.\n"
          ]
        },
        {
          "output_type": "stream",
          "name": "stderr",
          "text": [
            "\n",
            "\n",
            " 55%|█████▍    | 557/1014 [17:48<10:03,  1.32s/it]\u001b[A\u001b[A"
          ]
        },
        {
          "output_type": "stream",
          "name": "stdout",
          "text": [
            " Chairman\n"
          ]
        },
        {
          "output_type": "stream",
          "name": "stderr",
          "text": [
            "\n",
            "\n",
            " 55%|█████▌    | 558/1014 [17:51<14:35,  1.92s/it]\u001b[A\u001b[A"
          ]
        },
        {
          "output_type": "stream",
          "name": "stdout",
          "text": [
            " 1. Campaigns\n",
            "2. Team Members\n",
            "3. Content\n",
            "4. Audience\n",
            "5. Objectives\n",
            "6. Collaborators\n"
          ]
        },
        {
          "output_type": "stream",
          "name": "stderr",
          "text": [
            "\n",
            "\n",
            " 55%|█████▌    | 559/1014 [17:53<12:49,  1.69s/it]\u001b[A\u001b[A"
          ]
        },
        {
          "output_type": "stream",
          "name": "stdout",
          "text": [
            " 13 percent\n"
          ]
        },
        {
          "output_type": "stream",
          "name": "stderr",
          "text": [
            "\n",
            "\n",
            " 55%|█████▌    | 560/1014 [17:53<10:44,  1.42s/it]\u001b[A\u001b[A"
          ]
        },
        {
          "output_type": "stream",
          "name": "stdout",
          "text": [
            " Industry Sector\n"
          ]
        },
        {
          "output_type": "stream",
          "name": "stderr",
          "text": [
            "\n",
            "\n",
            " 55%|█████▌    | 561/1014 [17:55<10:21,  1.37s/it]\u001b[A\u001b[A"
          ]
        },
        {
          "output_type": "stream",
          "name": "stdout",
          "text": [
            " Yes, GPS is a hardware sensor.\n"
          ]
        },
        {
          "output_type": "stream",
          "name": "stderr",
          "text": [
            "\n",
            "\n",
            " 55%|█████▌    | 562/1014 [17:58<14:10,  1.88s/it]\u001b[A\u001b[A"
          ]
        },
        {
          "output_type": "stream",
          "name": "stdout",
          "text": [
            " Concorde plane.\n"
          ]
        },
        {
          "output_type": "stream",
          "name": "stderr",
          "text": [
            "\n",
            "\n",
            " 56%|█████▌    | 563/1014 [17:59<11:52,  1.58s/it]\u001b[A\u001b[A"
          ]
        },
        {
          "output_type": "stream",
          "name": "stdout",
          "text": [
            " Blue Ocean.\n"
          ]
        },
        {
          "output_type": "stream",
          "name": "stderr",
          "text": [
            "\n",
            "\n",
            " 56%|█████▌    | 564/1014 [17:59<09:11,  1.22s/it]\u001b[A\u001b[A"
          ]
        },
        {
          "output_type": "stream",
          "name": "stdout",
          "text": [
            "Error processing ID 563: Error code: 400 - {'detail': 'Content Exists Risk'}\n"
          ]
        },
        {
          "output_type": "stream",
          "name": "stderr",
          "text": [
            "\n",
            "\n",
            " 56%|█████▌    | 565/1014 [18:00<08:48,  1.18s/it]\u001b[A\u001b[A"
          ]
        },
        {
          "output_type": "stream",
          "name": "stdout",
          "text": [
            " Pelvic Appendicitis (Pelvic).\n"
          ]
        },
        {
          "output_type": "stream",
          "name": "stderr",
          "text": [
            "\n",
            "\n",
            " 56%|█████▌    | 566/1014 [18:01<07:52,  1.05s/it]\u001b[A\u001b[A"
          ]
        },
        {
          "output_type": "stream",
          "name": "stdout",
          "text": [
            " ITC Hotels\n"
          ]
        },
        {
          "output_type": "stream",
          "name": "stderr",
          "text": [
            "\n",
            "\n",
            " 56%|█████▌    | 567/1014 [18:02<08:35,  1.15s/it]\u001b[A\u001b[A"
          ]
        },
        {
          "output_type": "stream",
          "name": "stdout",
          "text": [
            " Differential and Integral.\n"
          ]
        },
        {
          "output_type": "stream",
          "name": "stderr",
          "text": [
            "\n",
            "\n",
            " 56%|█████▌    | 568/1014 [18:03<08:40,  1.17s/it]\u001b[A\u001b[A"
          ]
        },
        {
          "output_type": "stream",
          "name": "stdout",
          "text": [
            " $8,000.\n"
          ]
        },
        {
          "output_type": "stream",
          "name": "stderr",
          "text": [
            "\n",
            "\n",
            " 56%|█████▌    | 569/1014 [18:04<08:15,  1.11s/it]\u001b[A\u001b[A"
          ]
        },
        {
          "output_type": "stream",
          "name": "stdout",
          "text": [
            " Ajay B.\n"
          ]
        },
        {
          "output_type": "stream",
          "name": "stderr",
          "text": [
            "\n",
            "\n",
            " 56%|█████▌    | 570/1014 [18:12<22:25,  3.03s/it]\u001b[A\u001b[A"
          ]
        },
        {
          "output_type": "stream",
          "name": "stdout",
          "text": [
            " The Twitter username for Mahindra e2O is not explicitly mentioned in the provided text. However, it is common for brands to use a social media management tool, which is often mentioned in the posts. In this case, \"Powered MindShift Interactive\" appears multiple times, suggesting that it may be a part of the brand's online presence. Therefore, it's possible that their Twitter handle could include those words.\n"
          ]
        },
        {
          "output_type": "stream",
          "name": "stderr",
          "text": [
            "\n",
            "\n",
            " 56%|█████▋    | 571/1014 [18:16<25:35,  3.47s/it]\u001b[A\u001b[A"
          ]
        },
        {
          "output_type": "stream",
          "name": "stdout",
          "text": [
            " New entrants\n"
          ]
        },
        {
          "output_type": "stream",
          "name": "stderr",
          "text": [
            "\n",
            "\n",
            " 56%|█████▋    | 572/1014 [18:20<25:06,  3.41s/it]\u001b[A\u001b[A"
          ]
        },
        {
          "output_type": "stream",
          "name": "stdout",
          "text": [
            " wearesocial.sg\n"
          ]
        },
        {
          "output_type": "stream",
          "name": "stderr",
          "text": [
            "\n",
            "\n",
            " 57%|█████▋    | 573/1014 [18:22<21:58,  2.99s/it]\u001b[A\u001b[A"
          ]
        },
        {
          "output_type": "stream",
          "name": "stdout",
          "text": [
            " Bearings\n",
            "\n",
            "Answer: Bearings\n"
          ]
        },
        {
          "output_type": "stream",
          "name": "stderr",
          "text": [
            "\n",
            "\n",
            " 57%|█████▋    | 574/1014 [18:25<21:51,  2.98s/it]\u001b[A\u001b[A"
          ]
        },
        {
          "output_type": "stream",
          "name": "stdout",
          "text": [
            " Ireland.\n"
          ]
        },
        {
          "output_type": "stream",
          "name": "stderr",
          "text": [
            "\n",
            "\n",
            " 57%|█████▋    | 575/1014 [18:33<34:33,  4.72s/it]\u001b[A\u001b[A"
          ]
        },
        {
          "output_type": "stream",
          "name": "stdout",
          "text": [
            " Differentiation is high in a market where there is low interest in the content, but it differentiates the company in the market. This is because the company's unique offering sets it apart from competitors, even though the overall market interest may be low. In this situation, the company can exploit the distinctive feature to attract and retain customers who value this differentiation. So, differentiation can be translated as high in this context.\n"
          ]
        },
        {
          "output_type": "stream",
          "name": "stderr",
          "text": [
            "\n",
            "\n",
            " 57%|█████▋    | 576/1014 [18:36<30:53,  4.23s/it]\u001b[A\u001b[A"
          ]
        },
        {
          "output_type": "stream",
          "name": "stdout",
          "text": [
            " 16 average annual stock performance percentage.\n"
          ]
        },
        {
          "output_type": "stream",
          "name": "stderr",
          "text": [
            "\n",
            "\n",
            " 57%|█████▋    | 577/1014 [18:37<23:06,  3.17s/it]\u001b[A\u001b[A"
          ]
        },
        {
          "output_type": "stream",
          "name": "stdout",
          "text": [
            " primitive\n"
          ]
        },
        {
          "output_type": "stream",
          "name": "stderr",
          "text": [
            "\n",
            "\n",
            " 57%|█████▋    | 578/1014 [18:38<17:48,  2.45s/it]\u001b[A\u001b[A"
          ]
        },
        {
          "output_type": "stream",
          "name": "stdout",
          "text": [
            " Unsatisfied.\n"
          ]
        },
        {
          "output_type": "stream",
          "name": "stderr",
          "text": [
            "\n",
            "\n",
            " 57%|█████▋    | 579/1014 [18:39<13:54,  1.92s/it]\u001b[A\u001b[A"
          ]
        },
        {
          "output_type": "stream",
          "name": "stdout",
          "text": [
            " Initialization\n"
          ]
        },
        {
          "output_type": "stream",
          "name": "stderr",
          "text": [
            "\n",
            "\n",
            " 57%|█████▋    | 580/1014 [18:40<13:33,  1.87s/it]\u001b[A\u001b[A"
          ]
        },
        {
          "output_type": "stream",
          "name": "stdout",
          "text": [
            " Openness.\n"
          ]
        },
        {
          "output_type": "stream",
          "name": "stderr",
          "text": [
            "\n",
            "\n",
            " 57%|█████▋    | 581/1014 [18:46<20:47,  2.88s/it]\u001b[A\u001b[A"
          ]
        },
        {
          "output_type": "stream",
          "name": "stdout",
          "text": [
            " National Monitoring Committee (NMC)\n"
          ]
        },
        {
          "output_type": "stream",
          "name": "stderr",
          "text": [
            "\n",
            "\n",
            " 57%|█████▋    | 582/1014 [18:47<17:10,  2.39s/it]\u001b[A\u001b[A"
          ]
        },
        {
          "output_type": "stream",
          "name": "stdout",
          "text": [
            " Search engine.\n"
          ]
        },
        {
          "output_type": "stream",
          "name": "stderr",
          "text": [
            "\n",
            "\n",
            " 57%|█████▋    | 583/1014 [18:48<13:51,  1.93s/it]\u001b[A\u001b[A"
          ]
        },
        {
          "output_type": "stream",
          "name": "stdout",
          "text": [
            " Gentlemen.\n"
          ]
        },
        {
          "output_type": "stream",
          "name": "stderr",
          "text": [
            "\n",
            "\n",
            " 58%|█████▊    | 584/1014 [18:49<11:27,  1.60s/it]\u001b[A\u001b[A"
          ]
        },
        {
          "output_type": "stream",
          "name": "stdout",
          "text": [
            " Seven\n"
          ]
        },
        {
          "output_type": "stream",
          "name": "stderr",
          "text": [
            "\n",
            "\n",
            " 58%|█████▊    | 585/1014 [18:51<12:51,  1.80s/it]\u001b[A\u001b[A"
          ]
        },
        {
          "output_type": "stream",
          "name": "stdout",
          "text": [
            " 400 positions\n"
          ]
        },
        {
          "output_type": "stream",
          "name": "stderr",
          "text": [
            "\n",
            "\n",
            " 58%|█████▊    | 586/1014 [18:52<10:46,  1.51s/it]\u001b[A\u001b[A"
          ]
        },
        {
          "output_type": "stream",
          "name": "stdout",
          "text": [
            " No information.\n"
          ]
        },
        {
          "output_type": "stream",
          "name": "stderr",
          "text": [
            "\n",
            "\n",
            " 58%|█████▊    | 587/1014 [18:55<15:20,  2.16s/it]\u001b[A\u001b[A"
          ]
        },
        {
          "output_type": "stream",
          "name": "stdout",
          "text": [
            " 66%\n"
          ]
        },
        {
          "output_type": "stream",
          "name": "stderr",
          "text": [
            "\n",
            "\n",
            " 58%|█████▊    | 588/1014 [18:57<13:45,  1.94s/it]\u001b[A\u001b[A"
          ]
        },
        {
          "output_type": "stream",
          "name": "stdout",
          "text": [
            " Compute Trend\n"
          ]
        },
        {
          "output_type": "stream",
          "name": "stderr",
          "text": [
            "\n",
            "\n",
            " 58%|█████▊    | 589/1014 [18:58<11:37,  1.64s/it]\u001b[A\u001b[A"
          ]
        },
        {
          "output_type": "stream",
          "name": "stdout",
          "text": [
            " Volunteer.\n"
          ]
        },
        {
          "output_type": "stream",
          "name": "stderr",
          "text": [
            "\n",
            "\n",
            " 58%|█████▊    | 590/1014 [18:59<11:05,  1.57s/it]\u001b[A\u001b[A"
          ]
        },
        {
          "output_type": "stream",
          "name": "stdout",
          "text": [
            " Inflammatory response.\n"
          ]
        },
        {
          "output_type": "stream",
          "name": "stderr",
          "text": [
            "\n",
            "\n",
            " 58%|█████▊    | 591/1014 [19:00<09:44,  1.38s/it]\u001b[A\u001b[A"
          ]
        },
        {
          "output_type": "stream",
          "name": "stdout",
          "text": [
            " National and State.\n"
          ]
        },
        {
          "output_type": "stream",
          "name": "stderr",
          "text": [
            "\n",
            "\n",
            " 58%|█████▊    | 592/1014 [19:02<10:50,  1.54s/it]\u001b[A\u001b[A"
          ]
        },
        {
          "output_type": "stream",
          "name": "stdout",
          "text": [
            " 1.02 billion\n"
          ]
        },
        {
          "output_type": "stream",
          "name": "stderr",
          "text": [
            "\n",
            "\n",
            " 58%|█████▊    | 593/1014 [19:03<10:49,  1.54s/it]\u001b[A\u001b[A"
          ]
        },
        {
          "output_type": "stream",
          "name": "stdout",
          "text": [
            " USA\n"
          ]
        },
        {
          "output_type": "stream",
          "name": "stderr",
          "text": [
            "\n",
            "\n",
            " 59%|█████▊    | 594/1014 [19:04<09:10,  1.31s/it]\u001b[A\u001b[A"
          ]
        },
        {
          "output_type": "stream",
          "name": "stdout",
          "text": [
            " neighborhoodsize\n"
          ]
        },
        {
          "output_type": "stream",
          "name": "stderr",
          "text": [
            "\n",
            "\n",
            " 59%|█████▊    | 595/1014 [19:07<11:39,  1.67s/it]\u001b[A\u001b[A"
          ]
        },
        {
          "output_type": "stream",
          "name": "stdout",
          "text": [
            " Nonwoven, Knitted, Woven.\n"
          ]
        },
        {
          "output_type": "stream",
          "name": "stderr",
          "text": [
            "\n",
            "\n",
            " 59%|█████▉    | 596/1014 [19:07<08:57,  1.28s/it]\u001b[A\u001b[A"
          ]
        },
        {
          "output_type": "stream",
          "name": "stdout",
          "text": [
            "Error processing ID 595: Error code: 400 - {'detail': 'Content Exists Risk'}\n"
          ]
        },
        {
          "output_type": "stream",
          "name": "stderr",
          "text": [
            "\n",
            "\n",
            " 59%|█████▉    | 597/1014 [19:08<08:41,  1.25s/it]\u001b[A\u001b[A"
          ]
        },
        {
          "output_type": "stream",
          "name": "stdout",
          "text": [
            " Social, Structured, and Conversational.\n"
          ]
        },
        {
          "output_type": "stream",
          "name": "stderr",
          "text": [
            "\n",
            "\n",
            " 59%|█████▉    | 598/1014 [19:09<08:00,  1.15s/it]\u001b[A\u001b[A"
          ]
        },
        {
          "output_type": "stream",
          "name": "stdout",
          "text": [
            " Americans.\n"
          ]
        },
        {
          "output_type": "stream",
          "name": "stderr",
          "text": [
            "\n",
            "\n",
            " 59%|█████▉    | 599/1014 [19:34<57:37,  8.33s/it]\u001b[A\u001b[A"
          ]
        },
        {
          "output_type": "stream",
          "name": "stdout",
          "text": [
            " Televised advertisements have proven to be an effective medium in generating initial brand interest, particularly when it comes to swaying Black and Hispanic buyers. As per the research, these TV ads lead consumers to automotive websites, making them superior to any other medium, suggesting a stronger influence for both men and women aged 25-54. Furthermore, TV media has the strongest influence on the purchase decision, with 78% of luxury price-sensitive and 43% of regular buyers relying on TV to discover different automotive brands.\n",
            "\n",
            "The study conducted by The Cable Center found that television advertising remains a top influencer in the automobile buying process across the entire likely buyer's path from discovery to advocacy. This medium is essential in driving buyers' diverse age, race, and ethnicity, with Blacks and Hispanics being the most influenced ethnic group by television ads.\n",
            "\n",
            "In summary, the ethnic group most influenced by TV ads on car brands is Black and Hispanic consumers.\n"
          ]
        },
        {
          "output_type": "stream",
          "name": "stderr",
          "text": [
            "\n",
            "\n",
            " 59%|█████▉    | 600/1014 [19:35<41:41,  6.04s/it]\u001b[A\u001b[A"
          ]
        },
        {
          "output_type": "stream",
          "name": "stdout",
          "text": [
            " Netherlands.\n"
          ]
        },
        {
          "output_type": "stream",
          "name": "stderr",
          "text": [
            "\n",
            "\n",
            " 59%|█████▉    | 601/1014 [19:36<31:32,  4.58s/it]\u001b[A\u001b[A"
          ]
        },
        {
          "output_type": "stream",
          "name": "stdout",
          "text": [
            " VisiCalc 1979\n"
          ]
        },
        {
          "output_type": "stream",
          "name": "stderr",
          "text": [
            "\n",
            "\n",
            " 59%|█████▉    | 602/1014 [19:37<23:38,  3.44s/it]\u001b[A\u001b[A"
          ]
        },
        {
          "output_type": "stream",
          "name": "stdout",
          "text": [
            " Luxury hotel\n"
          ]
        },
        {
          "output_type": "stream",
          "name": "stderr",
          "text": [
            "\n",
            "\n",
            " 59%|█████▉    | 603/1014 [19:38<18:20,  2.68s/it]\u001b[A\u001b[A"
          ]
        },
        {
          "output_type": "stream",
          "name": "stdout",
          "text": [
            " Fiat India.\n"
          ]
        },
        {
          "output_type": "stream",
          "name": "stderr",
          "text": [
            "\n",
            "\n",
            " 60%|█████▉    | 604/1014 [19:39<14:23,  2.11s/it]\u001b[A\u001b[A"
          ]
        },
        {
          "output_type": "stream",
          "name": "stdout",
          "text": [
            " Tajness Defined\n"
          ]
        },
        {
          "output_type": "stream",
          "name": "stderr",
          "text": [
            "\n",
            "\n",
            " 60%|█████▉    | 605/1014 [19:41<14:52,  2.18s/it]\u001b[A\u001b[A"
          ]
        },
        {
          "output_type": "stream",
          "name": "stdout",
          "text": [
            " Tayloristic.\n"
          ]
        },
        {
          "output_type": "stream",
          "name": "stderr",
          "text": [
            "\n",
            "\n",
            " 60%|█████▉    | 606/1014 [19:42<13:06,  1.93s/it]\u001b[A\u001b[A"
          ]
        },
        {
          "output_type": "stream",
          "name": "stdout",
          "text": [
            " Modern values\n"
          ]
        },
        {
          "output_type": "stream",
          "name": "stderr",
          "text": [
            "\n",
            "\n",
            " 60%|█████▉    | 607/1014 [19:43<11:17,  1.67s/it]\u001b[A\u001b[A"
          ]
        },
        {
          "output_type": "stream",
          "name": "stdout",
          "text": [
            " 15%\n"
          ]
        },
        {
          "output_type": "stream",
          "name": "stderr",
          "text": [
            "\n",
            "\n",
            " 60%|█████▉    | 608/1014 [19:46<12:54,  1.91s/it]\u001b[A\u001b[A"
          ]
        },
        {
          "output_type": "stream",
          "name": "stdout",
          "text": [
            " GFRP.\n"
          ]
        },
        {
          "output_type": "stream",
          "name": "stderr",
          "text": [
            "\n",
            "\n",
            " 60%|██████    | 609/1014 [19:48<13:45,  2.04s/it]\u001b[A\u001b[A"
          ]
        },
        {
          "output_type": "stream",
          "name": "stdout",
          "text": [
            " Jodie Brown\n"
          ]
        },
        {
          "output_type": "stream",
          "name": "stderr",
          "text": [
            "\n",
            "\n",
            " 60%|██████    | 610/1014 [19:49<11:53,  1.77s/it]\u001b[A\u001b[A"
          ]
        },
        {
          "output_type": "stream",
          "name": "stdout",
          "text": [
            " 2440\n"
          ]
        },
        {
          "output_type": "stream",
          "name": "stderr",
          "text": [
            "\n",
            "\n",
            " 60%|██████    | 611/1014 [19:51<10:50,  1.61s/it]\u001b[A\u001b[A"
          ]
        },
        {
          "output_type": "stream",
          "name": "stdout",
          "text": [
            " 3.5 inch.\n"
          ]
        },
        {
          "output_type": "stream",
          "name": "stderr",
          "text": [
            "\n",
            "\n",
            " 60%|██████    | 612/1014 [19:51<09:11,  1.37s/it]\u001b[A\u001b[A"
          ]
        },
        {
          "output_type": "stream",
          "name": "stdout",
          "text": [
            " Augmented Reality\n"
          ]
        },
        {
          "output_type": "stream",
          "name": "stderr",
          "text": [
            "\n",
            "\n",
            " 60%|██████    | 613/1014 [19:54<12:06,  1.81s/it]\u001b[A\u001b[A"
          ]
        },
        {
          "output_type": "stream",
          "name": "stdout",
          "text": [
            " None.\n"
          ]
        },
        {
          "output_type": "stream",
          "name": "stderr",
          "text": [
            "\n",
            "\n",
            " 61%|██████    | 614/1014 [19:55<10:28,  1.57s/it]\u001b[A\u001b[A"
          ]
        },
        {
          "output_type": "stream",
          "name": "stdout",
          "text": [
            " Sidnie L Compilation\n"
          ]
        },
        {
          "output_type": "stream",
          "name": "stderr",
          "text": [
            "\n",
            "\n",
            " 61%|██████    | 615/1014 [19:57<11:12,  1.68s/it]\u001b[A\u001b[A"
          ]
        },
        {
          "output_type": "stream",
          "name": "stdout",
          "text": [
            " Two types\n"
          ]
        },
        {
          "output_type": "stream",
          "name": "stderr",
          "text": [
            "\n",
            "\n",
            " 61%|██████    | 616/1014 [19:58<09:26,  1.42s/it]\u001b[A\u001b[A"
          ]
        },
        {
          "output_type": "stream",
          "name": "stdout",
          "text": [
            " Not provided.\n"
          ]
        },
        {
          "output_type": "stream",
          "name": "stderr",
          "text": [
            "\n",
            "\n",
            " 61%|██████    | 617/1014 [20:01<13:25,  2.03s/it]\u001b[A\u001b[A"
          ]
        },
        {
          "output_type": "stream",
          "name": "stdout",
          "text": [
            " There is not enough information in the given context to determine which store, if any, uses a specific technology like Microsoft Exchange Server 2010.\n"
          ]
        },
        {
          "output_type": "stream",
          "name": "stderr",
          "text": [
            "\n",
            "\n",
            " 61%|██████    | 618/1014 [20:02<11:09,  1.69s/it]\u001b[A\u001b[A"
          ]
        },
        {
          "output_type": "stream",
          "name": "stdout",
          "text": [
            " LTE network\n"
          ]
        },
        {
          "output_type": "stream",
          "name": "stderr",
          "text": [
            "\n",
            "\n",
            " 61%|██████    | 619/1014 [20:05<12:40,  1.92s/it]\u001b[A\u001b[A"
          ]
        },
        {
          "output_type": "stream",
          "name": "stdout",
          "text": [
            " 1 chapter.\n"
          ]
        },
        {
          "output_type": "stream",
          "name": "stderr",
          "text": [
            "\n",
            "\n",
            " 61%|██████    | 620/1014 [20:06<11:08,  1.70s/it]\u001b[A\u001b[A"
          ]
        },
        {
          "output_type": "stream",
          "name": "stdout",
          "text": [
            " PICKUP and NOTIFICATION\n"
          ]
        },
        {
          "output_type": "stream",
          "name": "stderr",
          "text": [
            "\n",
            "\n",
            " 61%|██████    | 621/1014 [20:08<11:10,  1.70s/it]\u001b[A\u001b[A"
          ]
        },
        {
          "output_type": "stream",
          "name": "stdout",
          "text": [
            " Adobe Site Catalyst\n"
          ]
        },
        {
          "output_type": "stream",
          "name": "stderr",
          "text": [
            "\n",
            "\n",
            " 61%|██████▏   | 622/1014 [20:10<11:36,  1.78s/it]\u001b[A\u001b[A"
          ]
        },
        {
          "output_type": "stream",
          "name": "stdout",
          "text": [
            " Issues with ensuring the success of mobile internet: Bandwidth, Cost, Interoperability, User Experience\n"
          ]
        },
        {
          "output_type": "stream",
          "name": "stderr",
          "text": [
            "\n",
            "\n",
            " 61%|██████▏   | 623/1014 [20:10<09:21,  1.44s/it]\u001b[A\u001b[A"
          ]
        },
        {
          "output_type": "stream",
          "name": "stdout",
          "text": [
            " commodities\n"
          ]
        },
        {
          "output_type": "stream",
          "name": "stderr",
          "text": [
            "\n",
            "\n",
            " 62%|██████▏   | 624/1014 [20:12<09:41,  1.49s/it]\u001b[A\u001b[A"
          ]
        },
        {
          "output_type": "stream",
          "name": "stdout",
          "text": [
            " Linkedin.\n"
          ]
        },
        {
          "output_type": "stream",
          "name": "stderr",
          "text": [
            "\n",
            "\n",
            " 62%|██████▏   | 625/1014 [20:13<09:25,  1.45s/it]\u001b[A\u001b[A"
          ]
        },
        {
          "output_type": "stream",
          "name": "stdout",
          "text": [
            " Answering the question: Zero players.\n"
          ]
        },
        {
          "output_type": "stream",
          "name": "stderr",
          "text": [
            "\n",
            "\n",
            " 62%|██████▏   | 626/1014 [20:19<17:03,  2.64s/it]\u001b[A\u001b[A"
          ]
        },
        {
          "output_type": "stream",
          "name": "stdout",
          "text": [
            " Direct\n",
            "\n",
            "The given context mentions that among direct, organic search, referral, paid search, social network, email, and display advertising, direct resulted in the highest conversion rate at 62.67%. This channel has the highest proportion of conversions, making it the most effective in the context provided.\n"
          ]
        },
        {
          "output_type": "stream",
          "name": "stderr",
          "text": [
            "\n",
            "\n",
            " 62%|██████▏   | 627/1014 [20:20<14:06,  2.19s/it]\u001b[A\u001b[A"
          ]
        },
        {
          "output_type": "stream",
          "name": "stdout",
          "text": [
            " Liberals.\n"
          ]
        },
        {
          "output_type": "stream",
          "name": "stderr",
          "text": [
            "\n",
            "\n",
            " 62%|██████▏   | 628/1014 [20:21<12:35,  1.96s/it]\u001b[A\u001b[A"
          ]
        },
        {
          "output_type": "stream",
          "name": "stdout",
          "text": [
            " 66%.\n"
          ]
        },
        {
          "output_type": "stream",
          "name": "stderr",
          "text": [
            "\n",
            "\n",
            " 62%|██████▏   | 629/1014 [20:23<11:58,  1.87s/it]\u001b[A\u001b[A"
          ]
        },
        {
          "output_type": "stream",
          "name": "stdout",
          "text": [
            " Middle Managers.\n"
          ]
        },
        {
          "output_type": "stream",
          "name": "stderr",
          "text": [
            "\n",
            "\n",
            " 62%|██████▏   | 630/1014 [20:25<12:58,  2.03s/it]\u001b[A\u001b[A"
          ]
        },
        {
          "output_type": "stream",
          "name": "stdout",
          "text": [
            " Traditional circus.\n"
          ]
        },
        {
          "output_type": "stream",
          "name": "stderr",
          "text": [
            "\n",
            "\n",
            " 62%|██████▏   | 631/1014 [20:27<11:27,  1.79s/it]\u001b[A\u001b[A"
          ]
        },
        {
          "output_type": "stream",
          "name": "stdout",
          "text": [
            " O2, N2\n"
          ]
        },
        {
          "output_type": "stream",
          "name": "stderr",
          "text": [
            "\n",
            "\n",
            " 62%|██████▏   | 632/1014 [20:29<13:14,  2.08s/it]\u001b[A\u001b[A"
          ]
        },
        {
          "output_type": "stream",
          "name": "stdout",
          "text": [
            " Blog & social media.\n"
          ]
        },
        {
          "output_type": "stream",
          "name": "stderr",
          "text": [
            "\n",
            "\n",
            " 62%|██████▏   | 633/1014 [20:39<28:22,  4.47s/it]\u001b[A\u001b[A"
          ]
        },
        {
          "output_type": "stream",
          "name": "stdout",
          "text": [
            " Application Program Interfaces (APIs) are software intermediaries that allow two applications to talk to each other. They act as messengers, taking requests and telling the system what you want to do, then bringing back the response.\n",
            "\n",
            "APIs expose certain functionalities of an application allowing external access to them. They allow programs to share data and interact with each other, which is crucial for more complex software tasks.\n",
            "\n",
            "In your context, the programs that expose some of an application's internal functions to the outside world create APIs. The two-word answer is - APPLICATION PROGRAM INTERFACES, abbreviated as APIs.\n"
          ]
        },
        {
          "output_type": "stream",
          "name": "stderr",
          "text": [
            "\n",
            "\n",
            " 63%|██████▎   | 634/1014 [20:40<21:36,  3.41s/it]\u001b[A\u001b[A"
          ]
        },
        {
          "output_type": "stream",
          "name": "stdout",
          "text": [
            " Performance and Potential\n"
          ]
        },
        {
          "output_type": "stream",
          "name": "stderr",
          "text": [
            "\n",
            "\n",
            " 63%|██████▎   | 635/1014 [20:41<17:00,  2.69s/it]\u001b[A\u001b[A"
          ]
        },
        {
          "output_type": "stream",
          "name": "stdout",
          "text": [
            " 4 steps.\n"
          ]
        },
        {
          "output_type": "stream",
          "name": "stderr",
          "text": [
            "\n",
            "\n",
            " 63%|██████▎   | 636/1014 [20:47<22:56,  3.64s/it]\u001b[A\u001b[A"
          ]
        },
        {
          "output_type": "stream",
          "name": "stdout",
          "text": [
            " Change agents.\n"
          ]
        },
        {
          "output_type": "stream",
          "name": "stderr",
          "text": [
            "\n",
            "\n",
            " 63%|██████▎   | 637/1014 [20:51<22:40,  3.61s/it]\u001b[A\u001b[A"
          ]
        },
        {
          "output_type": "stream",
          "name": "stdout",
          "text": [
            " Affects\n"
          ]
        },
        {
          "output_type": "stream",
          "name": "stderr",
          "text": [
            "\n",
            "\n",
            " 63%|██████▎   | 638/1014 [20:52<17:55,  2.86s/it]\u001b[A\u001b[A"
          ]
        },
        {
          "output_type": "stream",
          "name": "stdout",
          "text": [
            " Communicate change.\n"
          ]
        },
        {
          "output_type": "stream",
          "name": "stderr",
          "text": [
            "\n",
            "\n",
            " 63%|██████▎   | 639/1014 [20:53<14:06,  2.26s/it]\u001b[A\u001b[A"
          ]
        },
        {
          "output_type": "stream",
          "name": "stdout",
          "text": [
            " 77%\n"
          ]
        },
        {
          "output_type": "stream",
          "name": "stderr",
          "text": [
            "\n",
            "\n",
            " 63%|██████▎   | 640/1014 [20:54<12:22,  1.99s/it]\u001b[A\u001b[A"
          ]
        },
        {
          "output_type": "stream",
          "name": "stdout",
          "text": [
            " Pantry restock.\n"
          ]
        },
        {
          "output_type": "stream",
          "name": "stderr",
          "text": [
            "\n",
            "\n",
            " 63%|██████▎   | 641/1014 [20:55<10:34,  1.70s/it]\u001b[A\u001b[A"
          ]
        },
        {
          "output_type": "stream",
          "name": "stdout",
          "text": [
            " Phase transition\n"
          ]
        },
        {
          "output_type": "stream",
          "name": "stderr",
          "text": [
            "\n",
            "\n",
            " 63%|██████▎   | 642/1014 [20:57<11:22,  1.84s/it]\u001b[A\u001b[A"
          ]
        },
        {
          "output_type": "stream",
          "name": "stdout",
          "text": [
            " North America\n"
          ]
        },
        {
          "output_type": "stream",
          "name": "stderr",
          "text": [
            "\n",
            "\n",
            " 63%|██████▎   | 643/1014 [21:00<12:31,  2.03s/it]\u001b[A\u001b[A"
          ]
        },
        {
          "output_type": "stream",
          "name": "stdout",
          "text": [
            " 10.58, 22, 95, 165\n"
          ]
        },
        {
          "output_type": "stream",
          "name": "stderr",
          "text": [
            "\n",
            "\n",
            " 64%|██████▎   | 644/1014 [21:01<10:47,  1.75s/it]\u001b[A\u001b[A"
          ]
        },
        {
          "output_type": "stream",
          "name": "stdout",
          "text": [
            " Keystone\n"
          ]
        },
        {
          "output_type": "stream",
          "name": "stderr",
          "text": [
            "\n",
            "\n",
            " 64%|██████▎   | 645/1014 [21:03<11:41,  1.90s/it]\u001b[A\u001b[A"
          ]
        },
        {
          "output_type": "stream",
          "name": "stdout",
          "text": [
            " Endpoints.\n"
          ]
        },
        {
          "output_type": "stream",
          "name": "stderr",
          "text": [
            "\n",
            "\n",
            " 64%|██████▎   | 646/1014 [21:03<08:53,  1.45s/it]\u001b[A\u001b[A"
          ]
        },
        {
          "output_type": "stream",
          "name": "stdout",
          "text": [
            "Error processing ID 645: Error code: 400 - {'detail': 'Content Exists Risk'}\n"
          ]
        },
        {
          "output_type": "stream",
          "name": "stderr",
          "text": [
            "\n",
            "\n",
            " 64%|██████▍   | 647/1014 [21:04<07:34,  1.24s/it]\u001b[A\u001b[A"
          ]
        },
        {
          "output_type": "stream",
          "name": "stdout",
          "text": [
            " Certainty\n"
          ]
        },
        {
          "output_type": "stream",
          "name": "stderr",
          "text": [
            "\n",
            "\n",
            " 64%|██████▍   | 648/1014 [21:07<09:47,  1.61s/it]\u001b[A\u001b[A"
          ]
        },
        {
          "output_type": "stream",
          "name": "stdout",
          "text": [
            " Rituximab\n"
          ]
        },
        {
          "output_type": "stream",
          "name": "stderr",
          "text": [
            "\n",
            "\n",
            " 64%|██████▍   | 649/1014 [21:08<08:28,  1.39s/it]\u001b[A\u001b[A"
          ]
        },
        {
          "output_type": "stream",
          "name": "stdout",
          "text": [
            " Soil Fertility\n"
          ]
        },
        {
          "output_type": "stream",
          "name": "stderr",
          "text": [
            "\n",
            "\n",
            " 64%|██████▍   | 650/1014 [21:09<07:55,  1.31s/it]\u001b[A\u001b[A"
          ]
        },
        {
          "output_type": "stream",
          "name": "stdout",
          "text": [
            " Modern values.\n"
          ]
        },
        {
          "output_type": "stream",
          "name": "stderr",
          "text": [
            "\n",
            "\n",
            " 64%|██████▍   | 651/1014 [21:10<08:26,  1.40s/it]\u001b[A\u001b[A"
          ]
        },
        {
          "output_type": "stream",
          "name": "stdout",
          "text": [
            " Discarded medicines and cytotoxic drug waste are examples of biomedical waste.\n"
          ]
        },
        {
          "output_type": "stream",
          "name": "stderr",
          "text": [
            "\n",
            "\n",
            " 64%|██████▍   | 652/1014 [21:13<11:27,  1.90s/it]\u001b[A\u001b[A"
          ]
        },
        {
          "output_type": "stream",
          "name": "stdout",
          "text": [
            " Updates\n"
          ]
        },
        {
          "output_type": "stream",
          "name": "stderr",
          "text": [
            "\n",
            "\n",
            " 64%|██████▍   | 653/1014 [21:14<09:38,  1.60s/it]\u001b[A\u001b[A"
          ]
        },
        {
          "output_type": "stream",
          "name": "stdout",
          "text": [
            " Addition and Condensation\n"
          ]
        },
        {
          "output_type": "stream",
          "name": "stderr",
          "text": [
            "\n",
            "\n",
            " 64%|██████▍   | 654/1014 [21:16<10:18,  1.72s/it]\u001b[A\u001b[A"
          ]
        },
        {
          "output_type": "stream",
          "name": "stdout",
          "text": [
            " Supply Chain Intelligence\n"
          ]
        },
        {
          "output_type": "stream",
          "name": "stderr",
          "text": [
            "\n",
            "\n",
            " 65%|██████▍   | 655/1014 [21:17<09:08,  1.53s/it]\u001b[A\u001b[A"
          ]
        },
        {
          "output_type": "stream",
          "name": "stdout",
          "text": [
            " 2.8 points\n"
          ]
        },
        {
          "output_type": "stream",
          "name": "stderr",
          "text": [
            "\n",
            "\n",
            " 65%|██████▍   | 656/1014 [21:19<09:01,  1.51s/it]\u001b[A\u001b[A"
          ]
        },
        {
          "output_type": "stream",
          "name": "stdout",
          "text": [
            " 3 ways.\n"
          ]
        },
        {
          "output_type": "stream",
          "name": "stderr",
          "text": [
            "\n",
            "\n",
            " 65%|██████▍   | 657/1014 [21:24<15:29,  2.60s/it]\u001b[A\u001b[A"
          ]
        },
        {
          "output_type": "stream",
          "name": "stdout",
          "text": [
            " eCommerce\n"
          ]
        },
        {
          "output_type": "stream",
          "name": "stderr",
          "text": [
            "\n",
            "\n",
            " 65%|██████▍   | 658/1014 [21:27<16:17,  2.75s/it]\u001b[A\u001b[A"
          ]
        },
        {
          "output_type": "stream",
          "name": "stdout",
          "text": [
            " Hypotension, pleural effusion, ascites, headache\n"
          ]
        },
        {
          "output_type": "stream",
          "name": "stderr",
          "text": [
            "\n",
            "\n",
            " 65%|██████▍   | 659/1014 [21:29<15:33,  2.63s/it]\u001b[A\u001b[A"
          ]
        },
        {
          "output_type": "stream",
          "name": "stdout",
          "text": [
            " Anterior Chamber has TWO COMPONENTS: Aqueous Humour & Iris.\n"
          ]
        },
        {
          "output_type": "stream",
          "name": "stderr",
          "text": [
            "\n",
            "\n",
            " 65%|██████▌   | 660/1014 [21:30<12:24,  2.10s/it]\u001b[A\u001b[A"
          ]
        },
        {
          "output_type": "stream",
          "name": "stdout",
          "text": [
            " Action 4.\n"
          ]
        },
        {
          "output_type": "stream",
          "name": "stderr",
          "text": [
            "\n",
            "\n",
            " 65%|██████▌   | 661/1014 [21:34<15:10,  2.58s/it]\u001b[A\u001b[A"
          ]
        },
        {
          "output_type": "stream",
          "name": "stdout",
          "text": [
            " Web 2.0\n"
          ]
        },
        {
          "output_type": "stream",
          "name": "stderr",
          "text": [
            "\n",
            "\n",
            " 65%|██████▌   | 662/1014 [21:36<13:59,  2.39s/it]\u001b[A\u001b[A"
          ]
        },
        {
          "output_type": "stream",
          "name": "stdout",
          "text": [
            " Slide 1619.\n"
          ]
        },
        {
          "output_type": "stream",
          "name": "stderr",
          "text": [
            "\n",
            "\n",
            " 65%|██████▌   | 663/1014 [21:39<14:43,  2.52s/it]\u001b[A\u001b[A"
          ]
        },
        {
          "output_type": "stream",
          "name": "stdout",
          "text": [
            " CAN bus\n"
          ]
        },
        {
          "output_type": "stream",
          "name": "stderr",
          "text": [
            "\n",
            "\n",
            " 65%|██████▌   | 664/1014 [21:39<11:42,  2.01s/it]\u001b[A\u001b[A"
          ]
        },
        {
          "output_type": "stream",
          "name": "stdout",
          "text": [
            " Generic Drugs\n"
          ]
        },
        {
          "output_type": "stream",
          "name": "stderr",
          "text": [
            "\n",
            "\n",
            " 66%|██████▌   | 665/1014 [21:41<11:13,  1.93s/it]\u001b[A\u001b[A"
          ]
        },
        {
          "output_type": "stream",
          "name": "stdout",
          "text": [
            " 2012\n"
          ]
        },
        {
          "output_type": "stream",
          "name": "stderr",
          "text": [
            "\n",
            "\n",
            " 66%|██████▌   | 666/1014 [21:42<09:16,  1.60s/it]\u001b[A\u001b[A"
          ]
        },
        {
          "output_type": "stream",
          "name": "stdout",
          "text": [
            " Storm and Spark.\n"
          ]
        },
        {
          "output_type": "stream",
          "name": "stderr",
          "text": [
            "\n",
            "\n",
            " 66%|██████▌   | 667/1014 [21:45<11:07,  1.92s/it]\u001b[A\u001b[A"
          ]
        },
        {
          "output_type": "stream",
          "name": "stdout",
          "text": [
            " $40\n"
          ]
        },
        {
          "output_type": "stream",
          "name": "stderr",
          "text": [
            "\n",
            "\n",
            " 66%|██████▌   | 668/1014 [21:46<09:38,  1.67s/it]\u001b[A\u001b[A"
          ]
        },
        {
          "output_type": "stream",
          "name": "stdout",
          "text": [
            " Needed: Middleware\n"
          ]
        },
        {
          "output_type": "stream",
          "name": "stderr",
          "text": [
            "\n",
            "\n",
            " 66%|██████▌   | 669/1014 [21:47<08:02,  1.40s/it]\u001b[A\u001b[A"
          ]
        },
        {
          "output_type": "stream",
          "name": "stdout",
          "text": [
            " Telephony system\n"
          ]
        },
        {
          "output_type": "stream",
          "name": "stderr",
          "text": [
            "\n",
            "\n",
            " 66%|██████▌   | 670/1014 [21:48<07:43,  1.35s/it]\u001b[A\u001b[A"
          ]
        },
        {
          "output_type": "stream",
          "name": "stdout",
          "text": [
            " 14 points.\n"
          ]
        },
        {
          "output_type": "stream",
          "name": "stderr",
          "text": [
            "\n",
            "\n",
            " 66%|██████▌   | 671/1014 [21:49<07:12,  1.26s/it]\u001b[A\u001b[A"
          ]
        },
        {
          "output_type": "stream",
          "name": "stdout",
          "text": [
            " Promoters.\n"
          ]
        },
        {
          "output_type": "stream",
          "name": "stderr",
          "text": [
            "\n",
            "\n",
            " 66%|██████▋   | 672/1014 [21:53<11:54,  2.09s/it]\u001b[A\u001b[A"
          ]
        },
        {
          "output_type": "stream",
          "name": "stdout",
          "text": [
            " Node and Gateway.\n"
          ]
        },
        {
          "output_type": "stream",
          "name": "stderr",
          "text": [
            "\n",
            "\n",
            " 66%|██████▋   | 673/1014 [21:54<09:38,  1.70s/it]\u001b[A\u001b[A"
          ]
        },
        {
          "output_type": "stream",
          "name": "stdout",
          "text": [
            " vcores X\n"
          ]
        },
        {
          "output_type": "stream",
          "name": "stderr",
          "text": [
            "\n",
            "\n",
            " 66%|██████▋   | 674/1014 [21:55<09:08,  1.61s/it]\u001b[A\u001b[A"
          ]
        },
        {
          "output_type": "stream",
          "name": "stdout",
          "text": [
            " Chondronectin.\n"
          ]
        },
        {
          "output_type": "stream",
          "name": "stderr",
          "text": [
            "\n",
            "\n",
            " 67%|██████▋   | 675/1014 [21:56<08:01,  1.42s/it]\u001b[A\u001b[A"
          ]
        },
        {
          "output_type": "stream",
          "name": "stdout",
          "text": [
            " Keystone Service.\n"
          ]
        },
        {
          "output_type": "stream",
          "name": "stderr",
          "text": [
            "\n",
            "\n",
            " 67%|██████▋   | 676/1014 [21:59<10:08,  1.80s/it]\u001b[A\u001b[A"
          ]
        },
        {
          "output_type": "stream",
          "name": "stdout",
          "text": [
            " Delays, complexity, interoperability, and coverage.\n"
          ]
        },
        {
          "output_type": "stream",
          "name": "stderr",
          "text": [
            "\n",
            "\n",
            " 67%|██████▋   | 677/1014 [22:00<08:37,  1.54s/it]\u001b[A\u001b[A"
          ]
        },
        {
          "output_type": "stream",
          "name": "stdout",
          "text": [
            " Paul Bulcke\n"
          ]
        },
        {
          "output_type": "stream",
          "name": "stderr",
          "text": [
            "\n",
            "\n",
            " 67%|██████▋   | 678/1014 [22:01<09:02,  1.61s/it]\u001b[A\u001b[A"
          ]
        },
        {
          "output_type": "stream",
          "name": "stdout",
          "text": [
            " 33 points\n"
          ]
        },
        {
          "output_type": "stream",
          "name": "stderr",
          "text": [
            "\n",
            "\n",
            " 67%|██████▋   | 679/1014 [22:02<07:37,  1.36s/it]\u001b[A\u001b[A"
          ]
        },
        {
          "output_type": "stream",
          "name": "stdout",
          "text": [
            " Marketing.\n"
          ]
        },
        {
          "output_type": "stream",
          "name": "stderr",
          "text": [
            "\n",
            "\n",
            " 67%|██████▋   | 680/1014 [22:05<09:07,  1.64s/it]\u001b[A\u001b[A"
          ]
        },
        {
          "output_type": "stream",
          "name": "stdout",
          "text": [
            " banks\n"
          ]
        },
        {
          "output_type": "stream",
          "name": "stderr",
          "text": [
            "\n",
            "\n",
            " 67%|██████▋   | 681/1014 [22:06<08:18,  1.50s/it]\u001b[A\u001b[A"
          ]
        },
        {
          "output_type": "stream",
          "name": "stdout",
          "text": [
            " 31.05%\n"
          ]
        },
        {
          "output_type": "stream",
          "name": "stderr",
          "text": [
            "\n",
            "\n",
            " 67%|██████▋   | 682/1014 [22:09<11:29,  2.08s/it]\u001b[A\u001b[A"
          ]
        },
        {
          "output_type": "stream",
          "name": "stdout",
          "text": [
            " FEAP stands for \"Federation of Europe Aquaculture Producer\"\r\n",
            "\r\n",
            "It is also used as \"National organization of America's unions\".\n"
          ]
        },
        {
          "output_type": "stream",
          "name": "stderr",
          "text": [
            "\n",
            "\n",
            " 67%|██████▋   | 683/1014 [22:12<12:13,  2.22s/it]\u001b[A\u001b[A"
          ]
        },
        {
          "output_type": "stream",
          "name": "stdout",
          "text": [
            " Consumer insights.\n"
          ]
        },
        {
          "output_type": "stream",
          "name": "stderr",
          "text": [
            "\n",
            "\n",
            " 67%|██████▋   | 684/1014 [22:13<10:38,  1.94s/it]\u001b[A\u001b[A"
          ]
        },
        {
          "output_type": "stream",
          "name": "stdout",
          "text": [
            " 45% (Score)\n"
          ]
        },
        {
          "output_type": "stream",
          "name": "stderr",
          "text": [
            "\n",
            "\n",
            " 68%|██████▊   | 685/1014 [22:15<11:10,  2.04s/it]\u001b[A\u001b[A"
          ]
        },
        {
          "output_type": "stream",
          "name": "stdout",
          "text": [
            " Facebook\n"
          ]
        },
        {
          "output_type": "stream",
          "name": "stderr",
          "text": [
            "\n",
            "\n",
            " 68%|██████▊   | 686/1014 [22:16<08:26,  1.54s/it]\u001b[A\u001b[A"
          ]
        },
        {
          "output_type": "stream",
          "name": "stdout",
          "text": [
            "Error processing ID 685: Error code: 400 - {'detail': 'Content Exists Risk'}\n"
          ]
        },
        {
          "output_type": "stream",
          "name": "stderr",
          "text": [
            "\n",
            "\n",
            " 68%|██████▊   | 687/1014 [22:17<07:28,  1.37s/it]\u001b[A\u001b[A"
          ]
        },
        {
          "output_type": "stream",
          "name": "stdout",
          "text": [
            " URL not provided.\n"
          ]
        },
        {
          "output_type": "stream",
          "name": "stderr",
          "text": [
            "\n",
            "\n",
            " 68%|██████▊   | 688/1014 [22:18<07:29,  1.38s/it]\u001b[A\u001b[A"
          ]
        },
        {
          "output_type": "stream",
          "name": "stdout",
          "text": [
            " Inbreeding risk.\n"
          ]
        },
        {
          "output_type": "stream",
          "name": "stderr",
          "text": [
            "\n",
            "\n",
            " 68%|██████▊   | 689/1014 [22:22<11:18,  2.09s/it]\u001b[A\u001b[A"
          ]
        },
        {
          "output_type": "stream",
          "name": "stdout",
          "text": [
            " Ceremonial duties\n"
          ]
        },
        {
          "output_type": "stream",
          "name": "stderr",
          "text": [
            "\n",
            "\n",
            " 68%|██████▊   | 690/1014 [22:24<11:20,  2.10s/it]\u001b[A\u001b[A"
          ]
        },
        {
          "output_type": "stream",
          "name": "stdout",
          "text": [
            " Three wheelers.\n"
          ]
        },
        {
          "output_type": "stream",
          "name": "stderr",
          "text": [
            "\n",
            "\n",
            " 68%|██████▊   | 691/1014 [22:25<09:11,  1.71s/it]\u001b[A\u001b[A"
          ]
        },
        {
          "output_type": "stream",
          "name": "stdout",
          "text": [
            " iOS 6\n"
          ]
        },
        {
          "output_type": "stream",
          "name": "stderr",
          "text": [
            "\n",
            "\n",
            " 68%|██████▊   | 692/1014 [22:26<09:19,  1.74s/it]\u001b[A\u001b[A"
          ]
        },
        {
          "output_type": "stream",
          "name": "stdout",
          "text": [
            " BufferQueue\n"
          ]
        },
        {
          "output_type": "stream",
          "name": "stderr",
          "text": [
            "\n",
            "\n",
            " 68%|██████▊   | 693/1014 [22:27<07:49,  1.46s/it]\u001b[A\u001b[A"
          ]
        },
        {
          "output_type": "stream",
          "name": "stdout",
          "text": [
            " Motor bikes\n"
          ]
        },
        {
          "output_type": "stream",
          "name": "stderr",
          "text": [
            "\n",
            "\n",
            " 68%|██████▊   | 694/1014 [22:28<07:00,  1.31s/it]\u001b[A\u001b[A"
          ]
        },
        {
          "output_type": "stream",
          "name": "stdout",
          "text": [
            " Ten towers.\n"
          ]
        },
        {
          "output_type": "stream",
          "name": "stderr",
          "text": [
            "\n",
            "\n",
            " 69%|██████▊   | 695/1014 [22:30<07:51,  1.48s/it]\u001b[A\u001b[A"
          ]
        },
        {
          "output_type": "stream",
          "name": "stdout",
          "text": [
            " Daniel\n"
          ]
        },
        {
          "output_type": "stream",
          "name": "stderr",
          "text": [
            "\n",
            "\n",
            " 69%|██████▊   | 696/1014 [22:32<09:09,  1.73s/it]\u001b[A\u001b[A"
          ]
        },
        {
          "output_type": "stream",
          "name": "stdout",
          "text": [
            " Crowdsourcing\n"
          ]
        },
        {
          "output_type": "stream",
          "name": "stderr",
          "text": [
            "\n",
            "\n",
            " 69%|██████▊   | 697/1014 [22:33<07:51,  1.49s/it]\u001b[A\u001b[A"
          ]
        },
        {
          "output_type": "stream",
          "name": "stdout",
          "text": [
            " Aquastream.\n"
          ]
        },
        {
          "output_type": "stream",
          "name": "stderr",
          "text": [
            "\n",
            "\n",
            " 69%|██████▉   | 698/1014 [22:34<06:45,  1.28s/it]\u001b[A\u001b[A"
          ]
        },
        {
          "output_type": "stream",
          "name": "stdout",
          "text": [
            " Romania\n"
          ]
        },
        {
          "output_type": "stream",
          "name": "stderr",
          "text": [
            "\n",
            "\n",
            " 69%|██████▉   | 699/1014 [22:38<10:02,  1.91s/it]\u001b[A\u001b[A"
          ]
        },
        {
          "output_type": "stream",
          "name": "stdout",
          "text": [
            " 2004\n"
          ]
        },
        {
          "output_type": "stream",
          "name": "stderr",
          "text": [
            "\n",
            "\n",
            " 69%|██████▉   | 700/1014 [22:39<09:10,  1.75s/it]\u001b[A\u001b[A"
          ]
        },
        {
          "output_type": "stream",
          "name": "stdout",
          "text": [
            " Bubble, Web, Startup, Venture.\n"
          ]
        },
        {
          "output_type": "stream",
          "name": "stderr",
          "text": [
            "\n",
            "\n",
            " 69%|██████▉   | 701/1014 [22:39<07:00,  1.34s/it]\u001b[A\u001b[A"
          ]
        },
        {
          "output_type": "stream",
          "name": "stdout",
          "text": [
            "Error processing ID 700: Error code: 400 - {'detail': 'Content Exists Risk'}\n"
          ]
        },
        {
          "output_type": "stream",
          "name": "stderr",
          "text": [
            "\n",
            "\n",
            " 69%|██████▉   | 702/1014 [22:40<06:14,  1.20s/it]\u001b[A\u001b[A"
          ]
        },
        {
          "output_type": "stream",
          "name": "stdout",
          "text": [
            " Doxil\n"
          ]
        },
        {
          "output_type": "stream",
          "name": "stderr",
          "text": [
            "\n",
            "\n",
            " 69%|██████▉   | 703/1014 [22:46<13:44,  2.65s/it]\u001b[A\u001b[A"
          ]
        },
        {
          "output_type": "stream",
          "name": "stdout",
          "text": [
            " DXY and Jumei\n"
          ]
        },
        {
          "output_type": "stream",
          "name": "stderr",
          "text": [
            "\n",
            "\n",
            " 69%|██████▉   | 704/1014 [22:48<11:58,  2.32s/it]\u001b[A\u001b[A"
          ]
        },
        {
          "output_type": "stream",
          "name": "stdout",
          "text": [
            " Vietnam\n"
          ]
        },
        {
          "output_type": "stream",
          "name": "stderr",
          "text": [
            "\n",
            "\n",
            " 70%|██████▉   | 705/1014 [22:49<10:41,  2.08s/it]\u001b[A\u001b[A"
          ]
        },
        {
          "output_type": "stream",
          "name": "stdout",
          "text": [
            " Knowledge Development, Performance-Reward Linkage\n"
          ]
        },
        {
          "output_type": "stream",
          "name": "stderr",
          "text": [
            "\n",
            "\n",
            " 70%|██████▉   | 706/1014 [22:51<10:53,  2.12s/it]\u001b[A\u001b[A"
          ]
        },
        {
          "output_type": "stream",
          "name": "stdout",
          "text": [
            " engagement model\n"
          ]
        },
        {
          "output_type": "stream",
          "name": "stderr",
          "text": [
            "\n",
            "\n",
            " 70%|██████▉   | 707/1014 [22:57<16:17,  3.18s/it]\u001b[A\u001b[A"
          ]
        },
        {
          "output_type": "stream",
          "name": "stdout",
          "text": [
            " The question is not clear, as it asks for a \"flow chart of the 6 aminopenicillinic acid fermentation from,\" which does not specify a source. Aminopenicillinic acid is an antibiotic produced by Penicillium molds, but without more context, it is not possible to provide a specific flow chart.\n"
          ]
        },
        {
          "output_type": "stream",
          "name": "stderr",
          "text": [
            "\n",
            "\n",
            " 70%|██████▉   | 708/1014 [23:01<18:00,  3.53s/it]\u001b[A\u001b[A"
          ]
        },
        {
          "output_type": "stream",
          "name": "stdout",
          "text": [
            " Organisational goals.\n"
          ]
        },
        {
          "output_type": "stream",
          "name": "stderr",
          "text": [
            "\n",
            "\n",
            " 70%|██████▉   | 709/1014 [23:04<15:50,  3.12s/it]\u001b[A\u001b[A"
          ]
        },
        {
          "output_type": "stream",
          "name": "stdout",
          "text": [
            " Huateng Ma.\n"
          ]
        },
        {
          "output_type": "stream",
          "name": "stderr",
          "text": [
            "\n",
            "\n",
            " 70%|███████   | 710/1014 [23:04<12:20,  2.43s/it]\u001b[A\u001b[A"
          ]
        },
        {
          "output_type": "stream",
          "name": "stdout",
          "text": [
            " Exhibit B.\n"
          ]
        },
        {
          "output_type": "stream",
          "name": "stderr",
          "text": [
            "\n",
            "\n",
            " 70%|███████   | 711/1014 [23:07<13:03,  2.58s/it]\u001b[A\u001b[A"
          ]
        },
        {
          "output_type": "stream",
          "name": "stdout",
          "text": [
            " 1 million\n"
          ]
        },
        {
          "output_type": "stream",
          "name": "stderr",
          "text": [
            "\n",
            "\n",
            " 70%|███████   | 712/1014 [23:11<14:41,  2.92s/it]\u001b[A\u001b[A"
          ]
        },
        {
          "output_type": "stream",
          "name": "stdout",
          "text": [
            " Blogging\n"
          ]
        },
        {
          "output_type": "stream",
          "name": "stderr",
          "text": [
            "\n",
            "\n",
            " 70%|███████   | 713/1014 [23:12<11:43,  2.34s/it]\u001b[A\u001b[A"
          ]
        },
        {
          "output_type": "stream",
          "name": "stdout",
          "text": [
            " 3.9 billion.\n"
          ]
        },
        {
          "output_type": "stream",
          "name": "stderr",
          "text": [
            "\n",
            "\n",
            " 70%|███████   | 714/1014 [23:14<10:23,  2.08s/it]\u001b[A\u001b[A"
          ]
        },
        {
          "output_type": "stream",
          "name": "stdout",
          "text": [
            " Culture\n",
            "Competencies\n",
            "Human Resources\n"
          ]
        },
        {
          "output_type": "stream",
          "name": "stderr",
          "text": [
            "\n",
            "\n",
            " 71%|███████   | 715/1014 [23:16<10:28,  2.10s/it]\u001b[A\u001b[A"
          ]
        },
        {
          "output_type": "stream",
          "name": "stdout",
          "text": [
            " 1973.\n"
          ]
        },
        {
          "output_type": "stream",
          "name": "stderr",
          "text": [
            "\n",
            "\n",
            " 71%|███████   | 716/1014 [23:17<08:37,  1.74s/it]\u001b[A\u001b[A"
          ]
        },
        {
          "output_type": "stream",
          "name": "stdout",
          "text": [
            " Software\n"
          ]
        },
        {
          "output_type": "stream",
          "name": "stderr",
          "text": [
            "\n",
            "\n",
            " 71%|███████   | 717/1014 [23:20<11:26,  2.31s/it]\u001b[A\u001b[A"
          ]
        },
        {
          "output_type": "stream",
          "name": "stdout",
          "text": [
            " Electronic Medical Records\n"
          ]
        },
        {
          "output_type": "stream",
          "name": "stderr",
          "text": [
            "\n",
            "\n",
            " 71%|███████   | 718/1014 [23:22<10:06,  2.05s/it]\u001b[A\u001b[A"
          ]
        },
        {
          "output_type": "stream",
          "name": "stdout",
          "text": [
            " Direct and Indirect\n"
          ]
        },
        {
          "output_type": "stream",
          "name": "stderr",
          "text": [
            "\n",
            "\n",
            " 71%|███████   | 719/1014 [23:24<11:01,  2.24s/it]\u001b[A\u001b[A"
          ]
        },
        {
          "output_type": "stream",
          "name": "stdout",
          "text": [
            " Android 4.0\n"
          ]
        },
        {
          "output_type": "stream",
          "name": "stderr",
          "text": [
            "\n",
            "\n",
            " 71%|███████   | 720/1014 [23:25<09:09,  1.87s/it]\u001b[A\u001b[A"
          ]
        },
        {
          "output_type": "stream",
          "name": "stdout",
          "text": [
            " 2012\n"
          ]
        },
        {
          "output_type": "stream",
          "name": "stderr",
          "text": [
            "\n",
            "\n",
            " 71%|███████   | 721/1014 [23:28<09:56,  2.04s/it]\u001b[A\u001b[A"
          ]
        },
        {
          "output_type": "stream",
          "name": "stdout",
          "text": [
            " 1913\n"
          ]
        },
        {
          "output_type": "stream",
          "name": "stderr",
          "text": [
            "\n",
            "\n",
            " 71%|███████   | 722/1014 [23:29<08:47,  1.81s/it]\u001b[A\u001b[A"
          ]
        },
        {
          "output_type": "stream",
          "name": "stdout",
          "text": [
            " GFRP, CFRP, AFRP\n"
          ]
        },
        {
          "output_type": "stream",
          "name": "stderr",
          "text": [
            "\n",
            "\n",
            " 71%|███████▏  | 723/1014 [23:30<07:34,  1.56s/it]\u001b[A\u001b[A"
          ]
        },
        {
          "output_type": "stream",
          "name": "stdout",
          "text": [
            " KAPKA cluster.\n"
          ]
        },
        {
          "output_type": "stream",
          "name": "stderr",
          "text": [
            "\n",
            "\n",
            " 71%|███████▏  | 724/1014 [23:31<06:27,  1.34s/it]\u001b[A\u001b[A"
          ]
        },
        {
          "output_type": "stream",
          "name": "stdout",
          "text": [
            " Trachea\n"
          ]
        },
        {
          "output_type": "stream",
          "name": "stderr",
          "text": [
            "\n",
            "\n",
            " 71%|███████▏  | 725/1014 [23:34<08:50,  1.83s/it]\u001b[A\u001b[A"
          ]
        },
        {
          "output_type": "stream",
          "name": "stdout",
          "text": [
            " Auto-rickshaw and tuk-tuks\n"
          ]
        },
        {
          "output_type": "stream",
          "name": "stderr",
          "text": [
            "\n",
            "\n",
            " 72%|███████▏  | 726/1014 [23:35<07:26,  1.55s/it]\u001b[A\u001b[A"
          ]
        },
        {
          "output_type": "stream",
          "name": "stdout",
          "text": [
            " Certainty.\n"
          ]
        },
        {
          "output_type": "stream",
          "name": "stderr",
          "text": [
            "\n",
            "\n",
            " 72%|███████▏  | 727/1014 [23:37<08:36,  1.80s/it]\u001b[A\u001b[A"
          ]
        },
        {
          "output_type": "stream",
          "name": "stdout",
          "text": [
            " Economic, Social Factors, Political, Demographic, Ethical, Market\n"
          ]
        },
        {
          "output_type": "stream",
          "name": "stderr",
          "text": [
            "\n",
            "\n",
            " 72%|███████▏  | 728/1014 [23:38<07:06,  1.49s/it]\u001b[A\u001b[A"
          ]
        },
        {
          "output_type": "stream",
          "name": "stdout",
          "text": [
            " User needs.\n"
          ]
        },
        {
          "output_type": "stream",
          "name": "stderr",
          "text": [
            "\n",
            "\n",
            " 72%|███████▏  | 729/1014 [23:42<10:40,  2.25s/it]\u001b[A\u001b[A"
          ]
        },
        {
          "output_type": "stream",
          "name": "stdout",
          "text": [
            " Operational Leader\n"
          ]
        },
        {
          "output_type": "stream",
          "name": "stderr",
          "text": [
            "\n",
            "\n",
            " 72%|███████▏  | 730/1014 [23:44<10:01,  2.12s/it]\u001b[A\u001b[A"
          ]
        },
        {
          "output_type": "stream",
          "name": "stdout",
          "text": [
            " Bitcoin Effect\n"
          ]
        },
        {
          "output_type": "stream",
          "name": "stderr",
          "text": [
            "\n",
            "\n",
            " 72%|███████▏  | 731/1014 [23:45<09:07,  1.93s/it]\u001b[A\u001b[A"
          ]
        },
        {
          "output_type": "stream",
          "name": "stdout",
          "text": [
            " Matter unit\n"
          ]
        },
        {
          "output_type": "stream",
          "name": "stderr",
          "text": [
            "\n",
            "\n",
            " 72%|███████▏  | 732/1014 [23:47<08:59,  1.91s/it]\u001b[A\u001b[A"
          ]
        },
        {
          "output_type": "stream",
          "name": "stdout",
          "text": [
            " special dimensions or grease type fill\n"
          ]
        },
        {
          "output_type": "stream",
          "name": "stderr",
          "text": [
            "\n",
            "\n",
            " 72%|███████▏  | 733/1014 [23:48<07:32,  1.61s/it]\u001b[A\u001b[A"
          ]
        },
        {
          "output_type": "stream",
          "name": "stdout",
          "text": [
            " Herculon.\n"
          ]
        },
        {
          "output_type": "stream",
          "name": "stderr",
          "text": [
            "\n",
            "\n",
            " 72%|███████▏  | 734/1014 [23:49<06:24,  1.37s/it]\u001b[A\u001b[A"
          ]
        },
        {
          "output_type": "stream",
          "name": "stdout",
          "text": [
            " Project complexity\n"
          ]
        },
        {
          "output_type": "stream",
          "name": "stderr",
          "text": [
            "\n",
            "\n",
            " 72%|███████▏  | 735/1014 [23:50<06:12,  1.33s/it]\u001b[A\u001b[A"
          ]
        },
        {
          "output_type": "stream",
          "name": "stdout",
          "text": [
            " Product cost.\n"
          ]
        },
        {
          "output_type": "stream",
          "name": "stderr",
          "text": [
            "\n",
            "\n",
            " 73%|███████▎  | 736/1014 [23:50<04:51,  1.05s/it]\u001b[A\u001b[A"
          ]
        },
        {
          "output_type": "stream",
          "name": "stdout",
          "text": [
            "Error processing ID 735: Error code: 400 - {'detail': 'Content Exists Risk'}\n"
          ]
        },
        {
          "output_type": "stream",
          "name": "stderr",
          "text": [
            "\n",
            "\n",
            " 73%|███████▎  | 737/1014 [23:52<05:43,  1.24s/it]\u001b[A\u001b[A"
          ]
        },
        {
          "output_type": "stream",
          "name": "stdout",
          "text": [
            " November 29, 1945\n"
          ]
        },
        {
          "output_type": "stream",
          "name": "stderr",
          "text": [
            "\n",
            "\n",
            " 73%|███████▎  | 738/1014 [23:55<07:26,  1.62s/it]\u001b[A\u001b[A"
          ]
        },
        {
          "output_type": "stream",
          "name": "stdout",
          "text": [
            " Visualization\n"
          ]
        },
        {
          "output_type": "stream",
          "name": "stderr",
          "text": [
            "\n",
            "\n",
            " 73%|███████▎  | 739/1014 [23:57<08:47,  1.92s/it]\u001b[A\u001b[A"
          ]
        },
        {
          "output_type": "stream",
          "name": "stdout",
          "text": [
            " Sound wave.\n"
          ]
        },
        {
          "output_type": "stream",
          "name": "stderr",
          "text": [
            "\n",
            "\n",
            " 73%|███████▎  | 740/1014 [23:58<06:40,  1.46s/it]\u001b[A\u001b[A"
          ]
        },
        {
          "output_type": "stream",
          "name": "stdout",
          "text": [
            "Error processing ID 739: Error code: 400 - {'detail': 'Content Exists Risk'}\n"
          ]
        },
        {
          "output_type": "stream",
          "name": "stderr",
          "text": [
            "\n",
            "\n",
            " 73%|███████▎  | 741/1014 [24:01<08:43,  1.92s/it]\u001b[A\u001b[A"
          ]
        },
        {
          "output_type": "stream",
          "name": "stdout",
          "text": [
            " Amantadine, Rimantadine, Oseltamivir, Zanamivir\n"
          ]
        },
        {
          "output_type": "stream",
          "name": "stderr",
          "text": [
            "\n",
            "\n",
            " 73%|███████▎  | 742/1014 [24:02<07:17,  1.61s/it]\u001b[A\u001b[A"
          ]
        },
        {
          "output_type": "stream",
          "name": "stdout",
          "text": [
            " Better Generics\n"
          ]
        },
        {
          "output_type": "stream",
          "name": "stderr",
          "text": [
            "\n",
            "\n",
            " 73%|███████▎  | 743/1014 [24:05<10:12,  2.26s/it]\u001b[A\u001b[A"
          ]
        },
        {
          "output_type": "stream",
          "name": "stdout",
          "text": [
            " Executor Abstraction Layer.\n"
          ]
        },
        {
          "output_type": "stream",
          "name": "stderr",
          "text": [
            "\n",
            "\n",
            " 73%|███████▎  | 744/1014 [24:07<08:48,  1.96s/it]\u001b[A\u001b[A"
          ]
        },
        {
          "output_type": "stream",
          "name": "stdout",
          "text": [
            " 28,221\n"
          ]
        },
        {
          "output_type": "stream",
          "name": "stderr",
          "text": [
            "\n",
            "\n",
            " 73%|███████▎  | 745/1014 [24:08<07:56,  1.77s/it]\u001b[A\u001b[A"
          ]
        },
        {
          "output_type": "stream",
          "name": "stdout",
          "text": [
            " Woven, Knitted, Nonwoven\n"
          ]
        },
        {
          "output_type": "stream",
          "name": "stderr",
          "text": [
            "\n",
            "\n",
            " 74%|███████▎  | 746/1014 [24:09<06:41,  1.50s/it]\u001b[A\u001b[A"
          ]
        },
        {
          "output_type": "stream",
          "name": "stdout",
          "text": [
            " Organic Growth\n"
          ]
        },
        {
          "output_type": "stream",
          "name": "stderr",
          "text": [
            "\n",
            "\n",
            " 74%|███████▎  | 747/1014 [24:10<05:38,  1.27s/it]\u001b[A\u001b[A"
          ]
        },
        {
          "output_type": "stream",
          "name": "stdout",
          "text": [
            " Grow\n"
          ]
        },
        {
          "output_type": "stream",
          "name": "stderr",
          "text": [
            "\n",
            "\n",
            " 74%|███████▍  | 748/1014 [24:12<06:42,  1.51s/it]\u001b[A\u001b[A"
          ]
        },
        {
          "output_type": "stream",
          "name": "stdout",
          "text": [
            " 38%\n"
          ]
        },
        {
          "output_type": "stream",
          "name": "stderr",
          "text": [
            "\n",
            "\n",
            " 74%|███████▍  | 749/1014 [24:14<07:17,  1.65s/it]\u001b[A\u001b[A"
          ]
        },
        {
          "output_type": "stream",
          "name": "stdout",
          "text": [
            " Helmets, licenses.\n"
          ]
        },
        {
          "output_type": "stream",
          "name": "stderr",
          "text": [
            "\n",
            "\n",
            " 74%|███████▍  | 750/1014 [24:15<06:28,  1.47s/it]\u001b[A\u001b[A"
          ]
        },
        {
          "output_type": "stream",
          "name": "stdout",
          "text": [
            " 8.00\n"
          ]
        },
        {
          "output_type": "stream",
          "name": "stderr",
          "text": [
            "\n",
            "\n",
            " 74%|███████▍  | 751/1014 [24:16<05:43,  1.31s/it]\u001b[A\u001b[A"
          ]
        },
        {
          "output_type": "stream",
          "name": "stdout",
          "text": [
            " 2\n"
          ]
        },
        {
          "output_type": "stream",
          "name": "stderr",
          "text": [
            "\n",
            "\n",
            " 74%|███████▍  | 752/1014 [24:16<05:09,  1.18s/it]\u001b[A\u001b[A"
          ]
        },
        {
          "output_type": "stream",
          "name": "stdout",
          "text": [
            " Hold interest\n"
          ]
        },
        {
          "output_type": "stream",
          "name": "stderr",
          "text": [
            "\n",
            "\n",
            " 74%|███████▍  | 753/1014 [24:17<04:37,  1.06s/it]\u001b[A\u001b[A"
          ]
        },
        {
          "output_type": "stream",
          "name": "stdout",
          "text": [
            " Private Equity\n"
          ]
        },
        {
          "output_type": "stream",
          "name": "stderr",
          "text": [
            "\n",
            "\n",
            " 74%|███████▍  | 754/1014 [24:21<08:43,  2.01s/it]\u001b[A\u001b[A"
          ]
        },
        {
          "output_type": "stream",
          "name": "stdout",
          "text": [
            " 73%\n"
          ]
        },
        {
          "output_type": "stream",
          "name": "stderr",
          "text": [
            "\n",
            "\n",
            " 74%|███████▍  | 755/1014 [24:24<09:30,  2.20s/it]\u001b[A\u001b[A"
          ]
        },
        {
          "output_type": "stream",
          "name": "stdout",
          "text": [
            " Shikha was \"endorsed for\" \"Recruiting\" based on the context provided.\n"
          ]
        },
        {
          "output_type": "stream",
          "name": "stderr",
          "text": [
            "\n",
            "\n",
            " 75%|███████▍  | 756/1014 [24:25<07:42,  1.79s/it]\u001b[A\u001b[A"
          ]
        },
        {
          "output_type": "stream",
          "name": "stdout",
          "text": [
            " Four characteristics.\n"
          ]
        },
        {
          "output_type": "stream",
          "name": "stderr",
          "text": [
            "\n",
            "\n",
            " 75%|███████▍  | 757/1014 [24:44<29:48,  6.96s/it]\u001b[A\u001b[A"
          ]
        },
        {
          "output_type": "stream",
          "name": "stdout",
          "text": [
            " 500 billion\n",
            "\n",
            "Step 1: Identify the part of the text that contains the information about the total number of items used worldwide annually.\n",
            "\n",
            "\"That's million plastic bags used per minute.\"\n",
            "\n",
            "Step 2: Remove the excess words and keep only the numerical value.\n",
            "\n",
            "\"500 billion\"\n",
            "\n",
            "This value indicates that 500 billion items are used worldwide annually, and since it is asking for the total number of these items in trillions, I can conclude that the total is 500 billion divided by 1 trillion. \n",
            "\n",
            "500 billion / 1 trillion = 0.5 trillion\n",
            "\n",
            "However, upon further context from the text: \"Every square mile of ocean contains 46,000 pieces of floating plastic.\" Since this directly correlates to what \"looks like floating jellyfish\" to sea turtles, the provided information is sufficient to understand that the question is asking for the total amount of floating plastic pieces in trillions. \n",
            "\n",
            "Based on the given number, 500 billion, there are not enough details to accurately calculate the number in terms of trillions. Therefore, I am unable to complete this task within the 2 word limit.\n"
          ]
        },
        {
          "output_type": "stream",
          "name": "stderr",
          "text": [
            "\n",
            "\n",
            " 75%|███████▍  | 758/1014 [24:46<23:57,  5.61s/it]\u001b[A\u001b[A"
          ]
        },
        {
          "output_type": "stream",
          "name": "stdout",
          "text": [
            " Long-term and short-term.\n"
          ]
        },
        {
          "output_type": "stream",
          "name": "stderr",
          "text": [
            "\n",
            "\n",
            " 75%|███████▍  | 759/1014 [24:47<17:37,  4.15s/it]\u001b[A\u001b[A"
          ]
        },
        {
          "output_type": "stream",
          "name": "stdout",
          "text": [
            " Puppet Modules.\n"
          ]
        },
        {
          "output_type": "stream",
          "name": "stderr",
          "text": [
            "\n",
            "\n",
            " 75%|███████▍  | 760/1014 [24:48<13:38,  3.22s/it]\u001b[A\u001b[A"
          ]
        },
        {
          "output_type": "stream",
          "name": "stdout",
          "text": [
            " No killer\n"
          ]
        },
        {
          "output_type": "stream",
          "name": "stderr",
          "text": [
            "\n",
            "\n",
            " 75%|███████▌  | 761/1014 [24:49<10:45,  2.55s/it]\u001b[A\u001b[A"
          ]
        },
        {
          "output_type": "stream",
          "name": "stdout",
          "text": [
            " Gasoline Cars.\n"
          ]
        },
        {
          "output_type": "stream",
          "name": "stderr",
          "text": [
            "\n",
            "\n",
            " 75%|███████▌  | 762/1014 [24:50<08:32,  2.03s/it]\u001b[A\u001b[A"
          ]
        },
        {
          "output_type": "stream",
          "name": "stdout",
          "text": [
            " Increasing\n"
          ]
        },
        {
          "output_type": "stream",
          "name": "stderr",
          "text": [
            "\n",
            "\n",
            " 75%|███████▌  | 763/1014 [24:54<10:26,  2.49s/it]\u001b[A\u001b[A"
          ]
        },
        {
          "output_type": "stream",
          "name": "stdout",
          "text": [
            " Aging skin.\n"
          ]
        },
        {
          "output_type": "stream",
          "name": "stderr",
          "text": [
            "\n",
            "\n",
            " 75%|███████▌  | 764/1014 [24:55<08:49,  2.12s/it]\u001b[A\u001b[A"
          ]
        },
        {
          "output_type": "stream",
          "name": "stdout",
          "text": [
            " Around. The. World. Race.\n"
          ]
        },
        {
          "output_type": "stream",
          "name": "stderr",
          "text": [
            "\n",
            "\n",
            " 75%|███████▌  | 765/1014 [24:56<07:24,  1.79s/it]\u001b[A\u001b[A"
          ]
        },
        {
          "output_type": "stream",
          "name": "stdout",
          "text": [
            " 28,000\n"
          ]
        },
        {
          "output_type": "stream",
          "name": "stderr",
          "text": [
            "\n",
            "\n",
            " 76%|███████▌  | 766/1014 [25:00<10:02,  2.43s/it]\u001b[A\u001b[A"
          ]
        },
        {
          "output_type": "stream",
          "name": "stdout",
          "text": [
            " Acquisition Notification\n"
          ]
        },
        {
          "output_type": "stream",
          "name": "stderr",
          "text": [
            "\n",
            "\n",
            " 76%|███████▌  | 767/1014 [25:01<08:25,  2.05s/it]\u001b[A\u001b[A"
          ]
        },
        {
          "output_type": "stream",
          "name": "stdout",
          "text": [
            " SIA = Social Impact Assessment.\n"
          ]
        },
        {
          "output_type": "stream",
          "name": "stderr",
          "text": [
            "\n",
            "\n",
            " 76%|███████▌  | 768/1014 [25:04<09:35,  2.34s/it]\u001b[A\u001b[A"
          ]
        },
        {
          "output_type": "stream",
          "name": "stdout",
          "text": [
            " 30 employees\n"
          ]
        },
        {
          "output_type": "stream",
          "name": "stderr",
          "text": [
            "\n",
            "\n",
            " 76%|███████▌  | 769/1014 [25:05<07:55,  1.94s/it]\u001b[A\u001b[A"
          ]
        },
        {
          "output_type": "stream",
          "name": "stdout",
          "text": [
            " Interface and Tools.\n"
          ]
        },
        {
          "output_type": "stream",
          "name": "stderr",
          "text": [
            "\n",
            "\n",
            " 76%|███████▌  | 770/1014 [25:06<06:52,  1.69s/it]\u001b[A\u001b[A"
          ]
        },
        {
          "output_type": "stream",
          "name": "stdout",
          "text": [
            " 50 dollars\n"
          ]
        },
        {
          "output_type": "stream",
          "name": "stderr",
          "text": [
            "\n",
            "\n",
            " 76%|███████▌  | 771/1014 [25:08<07:08,  1.76s/it]\u001b[A\u001b[A"
          ]
        },
        {
          "output_type": "stream",
          "name": "stdout",
          "text": [
            " 3.6%\n"
          ]
        },
        {
          "output_type": "stream",
          "name": "stderr",
          "text": [
            "\n",
            "\n",
            " 76%|███████▌  | 772/1014 [25:09<06:15,  1.55s/it]\u001b[A\u001b[A"
          ]
        },
        {
          "output_type": "stream",
          "name": "stdout",
          "text": [
            " Saudi Arabia\n"
          ]
        },
        {
          "output_type": "stream",
          "name": "stderr",
          "text": [
            "\n",
            "\n",
            " 76%|███████▌  | 773/1014 [25:10<05:46,  1.44s/it]\u001b[A\u001b[A"
          ]
        },
        {
          "output_type": "stream",
          "name": "stdout",
          "text": [
            " \"Spy Car Act Explained\"\n"
          ]
        },
        {
          "output_type": "stream",
          "name": "stderr",
          "text": [
            "\n",
            "\n",
            " 76%|███████▋  | 774/1014 [25:14<08:25,  2.11s/it]\u001b[A\u001b[A"
          ]
        },
        {
          "output_type": "stream",
          "name": "stdout",
          "text": [
            " They enlarge.\n"
          ]
        },
        {
          "output_type": "stream",
          "name": "stderr",
          "text": [
            "\n",
            "\n",
            " 76%|███████▋  | 775/1014 [25:16<08:41,  2.18s/it]\u001b[A\u001b[A"
          ]
        },
        {
          "output_type": "stream",
          "name": "stdout",
          "text": [
            " 20202522\n"
          ]
        },
        {
          "output_type": "stream",
          "name": "stderr",
          "text": [
            "\n",
            "\n",
            " 77%|███████▋  | 776/1014 [25:17<07:09,  1.80s/it]\u001b[A\u001b[A"
          ]
        },
        {
          "output_type": "stream",
          "name": "stdout",
          "text": [
            " Yuri Van Geest\n"
          ]
        },
        {
          "output_type": "stream",
          "name": "stderr",
          "text": [
            "\n",
            "\n",
            " 77%|███████▋  | 777/1014 [25:19<06:45,  1.71s/it]\u001b[A\u001b[A"
          ]
        },
        {
          "output_type": "stream",
          "name": "stdout",
          "text": [
            " Telemetry\n"
          ]
        },
        {
          "output_type": "stream",
          "name": "stderr",
          "text": [
            "\n",
            "\n",
            " 77%|███████▋  | 778/1014 [25:21<07:46,  1.98s/it]\u001b[A\u001b[A"
          ]
        },
        {
          "output_type": "stream",
          "name": "stdout",
          "text": [
            " Online, email, social, in-store, mobile, support, kiosk, logistics.\n"
          ]
        },
        {
          "output_type": "stream",
          "name": "stderr",
          "text": [
            "\n",
            "\n",
            " 77%|███████▋  | 779/1014 [25:22<06:38,  1.70s/it]\u001b[A\u001b[A"
          ]
        },
        {
          "output_type": "stream",
          "name": "stdout",
          "text": [
            " Director W3C\n"
          ]
        },
        {
          "output_type": "stream",
          "name": "stderr",
          "text": [
            "\n",
            "\n",
            " 77%|███████▋  | 780/1014 [25:24<06:55,  1.78s/it]\u001b[A\u001b[A"
          ]
        },
        {
          "output_type": "stream",
          "name": "stdout",
          "text": [
            " 16%\n"
          ]
        },
        {
          "output_type": "stream",
          "name": "stderr",
          "text": [
            "\n",
            "\n",
            " 77%|███████▋  | 781/1014 [25:26<06:35,  1.70s/it]\u001b[A\u001b[A"
          ]
        },
        {
          "output_type": "stream",
          "name": "stdout",
          "text": [
            " Citibank.\n"
          ]
        },
        {
          "output_type": "stream",
          "name": "stderr",
          "text": [
            "\n",
            "\n",
            " 77%|███████▋  | 782/1014 [25:27<06:28,  1.67s/it]\u001b[A\u001b[A"
          ]
        },
        {
          "output_type": "stream",
          "name": "stdout",
          "text": [
            " 1897\n"
          ]
        },
        {
          "output_type": "stream",
          "name": "stderr",
          "text": [
            "\n",
            "\n",
            " 77%|███████▋  | 783/1014 [25:28<05:30,  1.43s/it]\u001b[A\u001b[A"
          ]
        },
        {
          "output_type": "stream",
          "name": "stdout",
          "text": [
            " Clarify, Support.\n"
          ]
        },
        {
          "output_type": "stream",
          "name": "stderr",
          "text": [
            "\n",
            "\n",
            " 77%|███████▋  | 784/1014 [25:30<06:11,  1.62s/it]\u001b[A\u001b[A"
          ]
        },
        {
          "output_type": "stream",
          "name": "stdout",
          "text": [
            " Attention, Retention, Acquisition\n"
          ]
        },
        {
          "output_type": "stream",
          "name": "stderr",
          "text": [
            "\n",
            "\n",
            " 77%|███████▋  | 785/1014 [25:31<05:17,  1.39s/it]\u001b[A\u001b[A"
          ]
        },
        {
          "output_type": "stream",
          "name": "stdout",
          "text": [
            " Word cloud\n"
          ]
        },
        {
          "output_type": "stream",
          "name": "stderr",
          "text": [
            "\n",
            "\n",
            " 78%|███████▊  | 786/1014 [25:35<08:26,  2.22s/it]\u001b[A\u001b[A"
          ]
        },
        {
          "output_type": "stream",
          "name": "stdout",
          "text": [
            " Enable innovation\n"
          ]
        },
        {
          "output_type": "stream",
          "name": "stderr",
          "text": [
            "\n",
            "\n",
            " 78%|███████▊  | 787/1014 [25:37<07:20,  1.94s/it]\u001b[A\u001b[A"
          ]
        },
        {
          "output_type": "stream",
          "name": "stdout",
          "text": [
            " INDUSTRY SECTOR.\n"
          ]
        },
        {
          "output_type": "stream",
          "name": "stderr",
          "text": [
            "\n",
            "\n",
            " 78%|███████▊  | 788/1014 [25:38<06:17,  1.67s/it]\u001b[A\u001b[A"
          ]
        },
        {
          "output_type": "stream",
          "name": "stdout",
          "text": [
            " Reducing complexity.\n"
          ]
        },
        {
          "output_type": "stream",
          "name": "stderr",
          "text": [
            "\n",
            "\n",
            " 78%|███████▊  | 789/1014 [25:39<05:29,  1.47s/it]\u001b[A\u001b[A"
          ]
        },
        {
          "output_type": "stream",
          "name": "stdout",
          "text": [
            " 1 trillion\n"
          ]
        },
        {
          "output_type": "stream",
          "name": "stderr",
          "text": [
            "\n",
            "\n",
            " 78%|███████▊  | 790/1014 [25:40<04:51,  1.30s/it]\u001b[A\u001b[A"
          ]
        },
        {
          "output_type": "stream",
          "name": "stdout",
          "text": [
            " Executive respondents.\n"
          ]
        },
        {
          "output_type": "stream",
          "name": "stderr",
          "text": [
            "\n",
            "\n",
            " 78%|███████▊  | 791/1014 [25:40<04:25,  1.19s/it]\u001b[A\u001b[A"
          ]
        },
        {
          "output_type": "stream",
          "name": "stdout",
          "text": [
            " Programmatic reserved.\n"
          ]
        },
        {
          "output_type": "stream",
          "name": "stderr",
          "text": [
            "\n",
            "\n",
            " 78%|███████▊  | 792/1014 [25:45<07:52,  2.13s/it]\u001b[A\u001b[A"
          ]
        },
        {
          "output_type": "stream",
          "name": "stdout",
          "text": [
            " Cutting, mounding, rotary\n"
          ]
        },
        {
          "output_type": "stream",
          "name": "stderr",
          "text": [
            "\n",
            "\n",
            " 78%|███████▊  | 793/1014 [25:46<06:31,  1.77s/it]\u001b[A\u001b[A"
          ]
        },
        {
          "output_type": "stream",
          "name": "stdout",
          "text": [
            " Autoclaving\n"
          ]
        },
        {
          "output_type": "stream",
          "name": "stderr",
          "text": [
            "\n",
            "\n",
            " 78%|███████▊  | 794/1014 [25:50<09:23,  2.56s/it]\u001b[A\u001b[A"
          ]
        },
        {
          "output_type": "stream",
          "name": "stdout",
          "text": [
            " Two words: 17 Seconds\n"
          ]
        },
        {
          "output_type": "stream",
          "name": "stderr",
          "text": [
            "\n",
            "\n",
            " 78%|███████▊  | 795/1014 [25:51<07:34,  2.08s/it]\u001b[A\u001b[A"
          ]
        },
        {
          "output_type": "stream",
          "name": "stdout",
          "text": [
            " Machine\n"
          ]
        },
        {
          "output_type": "stream",
          "name": "stderr",
          "text": [
            "\n",
            "\n",
            " 79%|███████▊  | 796/1014 [25:52<06:04,  1.67s/it]\u001b[A\u001b[A"
          ]
        },
        {
          "output_type": "stream",
          "name": "stdout",
          "text": [
            " Heat energy\n"
          ]
        },
        {
          "output_type": "stream",
          "name": "stderr",
          "text": [
            "\n",
            "\n",
            " 79%|███████▊  | 797/1014 [25:53<05:15,  1.45s/it]\u001b[A\u001b[A"
          ]
        },
        {
          "output_type": "stream",
          "name": "stdout",
          "text": [
            " Distance = Speed x Time\n"
          ]
        },
        {
          "output_type": "stream",
          "name": "stderr",
          "text": [
            "\n",
            "\n",
            " 79%|███████▊  | 798/1014 [25:54<04:30,  1.25s/it]\u001b[A\u001b[A"
          ]
        },
        {
          "output_type": "stream",
          "name": "stdout",
          "text": [
            " Disengaged.\n"
          ]
        },
        {
          "output_type": "stream",
          "name": "stderr",
          "text": [
            "\n",
            "\n",
            " 79%|███████▉  | 799/1014 [25:56<05:46,  1.61s/it]\u001b[A\u001b[A"
          ]
        },
        {
          "output_type": "stream",
          "name": "stdout",
          "text": [
            " 80%\n"
          ]
        },
        {
          "output_type": "stream",
          "name": "stderr",
          "text": [
            "\n",
            "\n",
            " 79%|███████▉  | 800/1014 [25:57<04:55,  1.38s/it]\u001b[A\u001b[A"
          ]
        },
        {
          "output_type": "stream",
          "name": "stdout",
          "text": [
            " Cartilage\n"
          ]
        },
        {
          "output_type": "stream",
          "name": "stderr",
          "text": [
            "\n",
            "\n",
            " 79%|███████▉  | 801/1014 [25:58<04:23,  1.24s/it]\u001b[A\u001b[A"
          ]
        },
        {
          "output_type": "stream",
          "name": "stdout",
          "text": [
            " Restore function.\n"
          ]
        },
        {
          "output_type": "stream",
          "name": "stderr",
          "text": [
            "\n",
            "\n",
            " 79%|███████▉  | 802/1014 [26:00<05:55,  1.68s/it]\u001b[A\u001b[A"
          ]
        },
        {
          "output_type": "stream",
          "name": "stdout",
          "text": [
            " Edema.\n"
          ]
        },
        {
          "output_type": "stream",
          "name": "stderr",
          "text": [
            "\n",
            "\n",
            " 79%|███████▉  | 803/1014 [26:03<06:33,  1.86s/it]\u001b[A\u001b[A"
          ]
        },
        {
          "output_type": "stream",
          "name": "stdout",
          "text": [
            " Insights, Awareness\n"
          ]
        },
        {
          "output_type": "stream",
          "name": "stderr",
          "text": [
            "\n",
            "\n",
            " 79%|███████▉  | 804/1014 [26:04<06:08,  1.76s/it]\u001b[A\u001b[A"
          ]
        },
        {
          "output_type": "stream",
          "name": "stdout",
          "text": [
            " 2014\n"
          ]
        },
        {
          "output_type": "stream",
          "name": "stderr",
          "text": [
            "\n",
            "\n",
            " 79%|███████▉  | 805/1014 [26:10<10:31,  3.02s/it]\u001b[A\u001b[A"
          ]
        },
        {
          "output_type": "stream",
          "name": "stdout",
          "text": [
            " Apple Pay.\n"
          ]
        },
        {
          "output_type": "stream",
          "name": "stderr",
          "text": [
            "\n",
            "\n",
            " 79%|███████▉  | 806/1014 [26:12<09:13,  2.66s/it]\u001b[A\u001b[A"
          ]
        },
        {
          "output_type": "stream",
          "name": "stdout",
          "text": [
            " In this context, there are 5 countries where Independent Overseas Subsidiaries are located.\n"
          ]
        },
        {
          "output_type": "stream",
          "name": "stderr",
          "text": [
            "\n",
            "\n",
            " 80%|███████▉  | 807/1014 [26:13<07:20,  2.13s/it]\u001b[A\u001b[A"
          ]
        },
        {
          "output_type": "stream",
          "name": "stdout",
          "text": [
            " 9 months\n"
          ]
        },
        {
          "output_type": "stream",
          "name": "stderr",
          "text": [
            "\n",
            "\n",
            " 80%|███████▉  | 808/1014 [26:14<06:04,  1.77s/it]\u001b[A\u001b[A"
          ]
        },
        {
          "output_type": "stream",
          "name": "stdout",
          "text": [
            " 36 points\n"
          ]
        },
        {
          "output_type": "stream",
          "name": "stderr",
          "text": [
            "\n",
            "\n",
            " 80%|███████▉  | 809/1014 [26:18<08:07,  2.38s/it]\u001b[A\u001b[A"
          ]
        },
        {
          "output_type": "stream",
          "name": "stdout",
          "text": [
            " Non-dairy creamer.\n"
          ]
        },
        {
          "output_type": "stream",
          "name": "stderr",
          "text": [
            "\n",
            "\n",
            " 80%|███████▉  | 810/1014 [26:19<06:49,  2.00s/it]\u001b[A\u001b[A"
          ]
        },
        {
          "output_type": "stream",
          "name": "stdout",
          "text": [
            " People working in a given moment is fewer.\n"
          ]
        },
        {
          "output_type": "stream",
          "name": "stderr",
          "text": [
            "\n",
            "\n",
            " 80%|███████▉  | 811/1014 [26:20<05:42,  1.69s/it]\u001b[A\u001b[A"
          ]
        },
        {
          "output_type": "stream",
          "name": "stdout",
          "text": [
            " Retail focus.\n"
          ]
        },
        {
          "output_type": "stream",
          "name": "stderr",
          "text": [
            "\n",
            "\n",
            " 80%|████████  | 812/1014 [26:21<04:52,  1.45s/it]\u001b[A\u001b[A"
          ]
        },
        {
          "output_type": "stream",
          "name": "stdout",
          "text": [
            " Not provided.\n"
          ]
        },
        {
          "output_type": "stream",
          "name": "stderr",
          "text": [
            "\n",
            "\n",
            " 80%|████████  | 813/1014 [26:21<04:09,  1.24s/it]\u001b[A\u001b[A"
          ]
        },
        {
          "output_type": "stream",
          "name": "stdout",
          "text": [
            " Henry Ford\n"
          ]
        },
        {
          "output_type": "stream",
          "name": "stderr",
          "text": [
            "\n",
            "\n",
            " 80%|████████  | 814/1014 [26:22<03:51,  1.16s/it]\u001b[A\u001b[A"
          ]
        },
        {
          "output_type": "stream",
          "name": "stdout",
          "text": [
            " Academic libraries.\n"
          ]
        },
        {
          "output_type": "stream",
          "name": "stderr",
          "text": [
            "\n",
            "\n",
            " 80%|████████  | 815/1014 [26:23<03:49,  1.15s/it]\u001b[A\u001b[A"
          ]
        },
        {
          "output_type": "stream",
          "name": "stdout",
          "text": [
            " Eastern Europe.\n"
          ]
        },
        {
          "output_type": "stream",
          "name": "stderr",
          "text": [
            "\n",
            "\n",
            " 80%|████████  | 816/1014 [26:26<04:42,  1.43s/it]\u001b[A\u001b[A"
          ]
        },
        {
          "output_type": "stream",
          "name": "stdout",
          "text": [
            " LINE Talk\n"
          ]
        },
        {
          "output_type": "stream",
          "name": "stderr",
          "text": [
            "\n",
            "\n",
            " 81%|████████  | 817/1014 [26:26<03:39,  1.11s/it]\u001b[A\u001b[A"
          ]
        },
        {
          "output_type": "stream",
          "name": "stdout",
          "text": [
            "Error processing ID 816: Error code: 400 - {'detail': 'Content Exists Risk'}\n"
          ]
        },
        {
          "output_type": "stream",
          "name": "stderr",
          "text": [
            "\n",
            "\n",
            " 81%|████████  | 818/1014 [26:27<03:56,  1.21s/it]\u001b[A\u001b[A"
          ]
        },
        {
          "output_type": "stream",
          "name": "stdout",
          "text": [
            " 5 ad types.\n"
          ]
        },
        {
          "output_type": "stream",
          "name": "stderr",
          "text": [
            "\n",
            "\n",
            " 81%|████████  | 819/1014 [26:28<03:32,  1.09s/it]\u001b[A\u001b[A"
          ]
        },
        {
          "output_type": "stream",
          "name": "stdout",
          "text": [
            " Relationships.\n"
          ]
        },
        {
          "output_type": "stream",
          "name": "stderr",
          "text": [
            "\n",
            "\n",
            " 81%|████████  | 820/1014 [26:29<03:33,  1.10s/it]\u001b[A\u001b[A"
          ]
        },
        {
          "output_type": "stream",
          "name": "stdout",
          "text": [
            " Virtual Reality\n"
          ]
        },
        {
          "output_type": "stream",
          "name": "stderr",
          "text": [
            "\n",
            "\n",
            " 81%|████████  | 821/1014 [26:30<03:26,  1.07s/it]\u001b[A\u001b[A"
          ]
        },
        {
          "output_type": "stream",
          "name": "stdout",
          "text": [
            " Steel rebar.\n"
          ]
        },
        {
          "output_type": "stream",
          "name": "stderr",
          "text": [
            "\n",
            "\n",
            " 81%|████████  | 822/1014 [26:31<03:24,  1.06s/it]\u001b[A\u001b[A"
          ]
        },
        {
          "output_type": "stream",
          "name": "stdout",
          "text": [
            " 6 types\n"
          ]
        },
        {
          "output_type": "stream",
          "name": "stderr",
          "text": [
            "\n",
            "\n",
            " 81%|████████  | 823/1014 [26:32<03:16,  1.03s/it]\u001b[A\u001b[A"
          ]
        },
        {
          "output_type": "stream",
          "name": "stdout",
          "text": [
            " Decreased\n"
          ]
        },
        {
          "output_type": "stream",
          "name": "stderr",
          "text": [
            "\n",
            "\n",
            " 81%|████████▏ | 824/1014 [26:38<07:56,  2.51s/it]\u001b[A\u001b[A"
          ]
        },
        {
          "output_type": "stream",
          "name": "stdout",
          "text": [
            " Two point six\n"
          ]
        },
        {
          "output_type": "stream",
          "name": "stderr",
          "text": [
            "\n",
            "\n",
            " 81%|████████▏ | 825/1014 [26:39<06:34,  2.09s/it]\u001b[A\u001b[A"
          ]
        },
        {
          "output_type": "stream",
          "name": "stdout",
          "text": [
            " Matthias Gr�newald\n"
          ]
        },
        {
          "output_type": "stream",
          "name": "stderr",
          "text": [
            "\n",
            "\n",
            " 81%|████████▏ | 826/1014 [26:40<05:13,  1.67s/it]\u001b[A\u001b[A"
          ]
        },
        {
          "output_type": "stream",
          "name": "stdout",
          "text": [
            " Three Challenges\n"
          ]
        },
        {
          "output_type": "stream",
          "name": "stderr",
          "text": [
            "\n",
            "\n",
            " 82%|████████▏ | 827/1014 [26:41<04:35,  1.47s/it]\u001b[A\u001b[A"
          ]
        },
        {
          "output_type": "stream",
          "name": "stdout",
          "text": [
            " Spark Streaming\n"
          ]
        },
        {
          "output_type": "stream",
          "name": "stderr",
          "text": [
            "\n",
            "\n",
            " 82%|████████▏ | 828/1014 [26:42<04:00,  1.29s/it]\u001b[A\u001b[A"
          ]
        },
        {
          "output_type": "stream",
          "name": "stdout",
          "text": [
            " Content strategy.\n"
          ]
        },
        {
          "output_type": "stream",
          "name": "stderr",
          "text": [
            "\n",
            "\n",
            " 82%|████████▏ | 829/1014 [26:43<03:44,  1.21s/it]\u001b[A\u001b[A"
          ]
        },
        {
          "output_type": "stream",
          "name": "stdout",
          "text": [
            " Private Marketplaces\n"
          ]
        },
        {
          "output_type": "stream",
          "name": "stderr",
          "text": [
            "\n",
            "\n",
            " 82%|████████▏ | 830/1014 [26:49<08:26,  2.75s/it]\u001b[A\u001b[A"
          ]
        },
        {
          "output_type": "stream",
          "name": "stdout",
          "text": [
            " 50%\n"
          ]
        },
        {
          "output_type": "stream",
          "name": "stderr",
          "text": [
            "\n",
            "\n",
            " 82%|████████▏ | 831/1014 [26:54<10:16,  3.37s/it]\u001b[A\u001b[A"
          ]
        },
        {
          "output_type": "stream",
          "name": "stdout",
          "text": [
            " 40%\n"
          ]
        },
        {
          "output_type": "stream",
          "name": "stderr",
          "text": [
            "\n",
            "\n",
            " 82%|████████▏ | 832/1014 [26:55<08:11,  2.70s/it]\u001b[A\u001b[A"
          ]
        },
        {
          "output_type": "stream",
          "name": "stdout",
          "text": [
            " 220\n"
          ]
        },
        {
          "output_type": "stream",
          "name": "stderr",
          "text": [
            "\n",
            "\n",
            " 82%|████████▏ | 833/1014 [26:56<06:42,  2.22s/it]\u001b[A\u001b[A"
          ]
        },
        {
          "output_type": "stream",
          "name": "stdout",
          "text": [
            " 1929\n"
          ]
        },
        {
          "output_type": "stream",
          "name": "stderr",
          "text": [
            "\n",
            "\n",
            " 82%|████████▏ | 834/1014 [26:57<05:25,  1.81s/it]\u001b[A\u001b[A"
          ]
        },
        {
          "output_type": "stream",
          "name": "stdout",
          "text": [
            " Hard crackers.\n"
          ]
        },
        {
          "output_type": "stream",
          "name": "stderr",
          "text": [
            "\n",
            "\n",
            " 82%|████████▏ | 835/1014 [27:00<05:53,  1.98s/it]\u001b[A\u001b[A"
          ]
        },
        {
          "output_type": "stream",
          "name": "stdout",
          "text": [
            " Consumers\n"
          ]
        },
        {
          "output_type": "stream",
          "name": "stderr",
          "text": [
            "\n",
            "\n",
            " 82%|████████▏ | 836/1014 [27:01<05:21,  1.81s/it]\u001b[A\u001b[A"
          ]
        },
        {
          "output_type": "stream",
          "name": "stdout",
          "text": [
            " Recruiting, Training, Management, Compensation\n"
          ]
        },
        {
          "output_type": "stream",
          "name": "stderr",
          "text": [
            "\n",
            "\n",
            " 83%|████████▎ | 837/1014 [27:02<04:29,  1.52s/it]\u001b[A\u001b[A"
          ]
        },
        {
          "output_type": "stream",
          "name": "stdout",
          "text": [
            " Yin and Yang.\n"
          ]
        },
        {
          "output_type": "stream",
          "name": "stderr",
          "text": [
            "\n",
            "\n",
            " 83%|████████▎ | 838/1014 [27:03<03:48,  1.30s/it]\u001b[A\u001b[A"
          ]
        },
        {
          "output_type": "stream",
          "name": "stdout",
          "text": [
            " Initiation\n"
          ]
        },
        {
          "output_type": "stream",
          "name": "stderr",
          "text": [
            "\n",
            "\n",
            " 83%|████████▎ | 839/1014 [27:04<03:35,  1.23s/it]\u001b[A\u001b[A"
          ]
        },
        {
          "output_type": "stream",
          "name": "stdout",
          "text": [
            " TRABECULAR MESHWORK\n"
          ]
        },
        {
          "output_type": "stream",
          "name": "stderr",
          "text": [
            "\n",
            "\n",
            " 83%|████████▎ | 840/1014 [27:05<03:54,  1.35s/it]\u001b[A\u001b[A"
          ]
        },
        {
          "output_type": "stream",
          "name": "stdout",
          "text": [
            " No provision.\n"
          ]
        },
        {
          "output_type": "stream",
          "name": "stderr",
          "text": [
            "\n",
            "\n",
            " 83%|████████▎ | 841/1014 [27:41<33:51, 11.74s/it]\u001b[A\u001b[A"
          ]
        },
        {
          "output_type": "stream",
          "name": "stdout",
          "text": [
            " Indexed Downloads\n",
            "\n",
            "For a better understanding, please review the last paragraph found at the top indicating all indexed downloads per category. Relevant numbers for each category shall be updated by the end of every financial quarter. The question reflects a global view of the 2015 data on a scale relative to both iPad and iPhone downloads. In summary, the following numbers are indicative of the supply and demand chain, as referenced by the App Annie Index:\n",
            "\n",
            "- United States (Indexed Downloads 100)\n",
            "- China (Indexed Downloads 75)\n",
            "- Japan (Indexed Downloads 50)\n",
            "- United Kingdom (Indexed Downloads 25)\n",
            "- Russia (Indexed Downloads 25)\n",
            "- Australia (Indexed Downloads 50)\n",
            "- Canada (Indexed Downloads 75)\n",
            "- Germany (Indexed Downloads 50)\n",
            "- France (Indexed Downloads 25)\n",
            "- Brazil (Indexed Downloads 100)\n",
            "\n",
            "Based on this data, it can be inferred that Apple Inc. continues to solidify its global market share dominance in the mobile industry. The iPad, released in 2010, has become a cultural and technological phenomenon. Many app developers prioritize the iPad when creating games or updating various popular apps. In fact, many apps require iPad functionality (due to screen size restraints) and iPad-specific games have started to emerge, further detailing the importance of the iPad in Apple's ecosystem.\n",
            "\n",
            "Returning to the original question, it's important to note that the approximate percentage of all iOS App Store downloads that were for the iPad are evident within the reported indexed data. While a specific numerical percentage isn't explicitly stated, one can make an assumption from the indexed data. This assumption would be based on the understanding that unless otherwise specified, a specific percentage download rate isn’t necessarily restricted solely to smartphones, but may include tablets as well. Hence, the share of iPad apps in iOS App Store is captured in the total downloads figures quoted. \n",
            "\n",
            "In conclusion, the required percentage cannot be provided as a two-word answer due to the ambiguity in the indexed data provided. However, one could attempt to estimate this percentage by delving into additional statistical data on the matter provided by reliable statistics outlets, such as App Annie, Statista, or Apple itself.\n"
          ]
        },
        {
          "output_type": "stream",
          "name": "stderr",
          "text": [
            "\n",
            "\n",
            " 83%|████████▎ | 842/1014 [27:43<25:17,  8.83s/it]\u001b[A\u001b[A"
          ]
        },
        {
          "output_type": "stream",
          "name": "stdout",
          "text": [
            " China\n"
          ]
        },
        {
          "output_type": "stream",
          "name": "stderr",
          "text": [
            "\n",
            "\n",
            " 83%|████████▎ | 843/1014 [27:48<21:26,  7.52s/it]\u001b[A\u001b[A"
          ]
        },
        {
          "output_type": "stream",
          "name": "stdout",
          "text": [
            " November 2007\n"
          ]
        },
        {
          "output_type": "stream",
          "name": "stderr",
          "text": [
            "\n",
            "\n",
            " 83%|████████▎ | 844/1014 [27:50<16:39,  5.88s/it]\u001b[A\u001b[A"
          ]
        },
        {
          "output_type": "stream",
          "name": "stdout",
          "text": [
            " CSC-targeted.\n"
          ]
        },
        {
          "output_type": "stream",
          "name": "stderr",
          "text": [
            "\n",
            "\n",
            " 83%|████████▎ | 845/1014 [27:51<12:39,  4.49s/it]\u001b[A\u001b[A"
          ]
        },
        {
          "output_type": "stream",
          "name": "stdout",
          "text": [
            " Dr. M.S. Ramachandra\n"
          ]
        },
        {
          "output_type": "stream",
          "name": "stderr",
          "text": [
            "\n",
            "\n",
            " 83%|████████▎ | 846/1014 [27:54<10:56,  3.91s/it]\u001b[A\u001b[A"
          ]
        },
        {
          "output_type": "stream",
          "name": "stdout",
          "text": [
            " Malaysia\n"
          ]
        },
        {
          "output_type": "stream",
          "name": "stderr",
          "text": [
            "\n",
            "\n",
            " 84%|████████▎ | 847/1014 [27:56<09:10,  3.30s/it]\u001b[A\u001b[A"
          ]
        },
        {
          "output_type": "stream",
          "name": "stdout",
          "text": [
            " Stream processing.\n"
          ]
        },
        {
          "output_type": "stream",
          "name": "stderr",
          "text": [
            "\n",
            "\n",
            " 84%|████████▎ | 848/1014 [27:57<07:12,  2.60s/it]\u001b[A\u001b[A"
          ]
        },
        {
          "output_type": "stream",
          "name": "stdout",
          "text": [
            " 17.31\n"
          ]
        },
        {
          "output_type": "stream",
          "name": "stderr",
          "text": [
            "\n",
            "\n",
            " 84%|████████▎ | 849/1014 [27:58<05:53,  2.14s/it]\u001b[A\u001b[A"
          ]
        },
        {
          "output_type": "stream",
          "name": "stdout",
          "text": [
            " Abed-Nego\n"
          ]
        },
        {
          "output_type": "stream",
          "name": "stderr",
          "text": [
            "\n",
            "\n",
            " 84%|████████▍ | 850/1014 [28:04<09:21,  3.42s/it]\u001b[A\u001b[A"
          ]
        },
        {
          "output_type": "stream",
          "name": "stdout",
          "text": [
            " The query provided does not contain data or information on comments analyzed. It primarily discusses various aspects of analytics platforms, networks, data management, and agile methodologies. To provide an accurate answer, I would need access to the comments that have been analyzed. Since that information is not available here, I cannot determine the number of comments that were analyzed. Please provide the necessary details or context to answer the question accurately.\n"
          ]
        },
        {
          "output_type": "stream",
          "name": "stderr",
          "text": [
            "\n",
            "\n",
            " 84%|████████▍ | 851/1014 [28:07<08:35,  3.16s/it]\u001b[A\u001b[A"
          ]
        },
        {
          "output_type": "stream",
          "name": "stdout",
          "text": [
            " Narrow\n"
          ]
        },
        {
          "output_type": "stream",
          "name": "stderr",
          "text": [
            "\n",
            "\n",
            " 84%|████████▍ | 852/1014 [28:07<06:41,  2.48s/it]\u001b[A\u001b[A"
          ]
        },
        {
          "output_type": "stream",
          "name": "stdout",
          "text": [
            " The Simpsons\n"
          ]
        },
        {
          "output_type": "stream",
          "name": "stderr",
          "text": [
            "\n",
            "\n",
            " 84%|████████▍ | 853/1014 [28:11<07:22,  2.75s/it]\u001b[A\u001b[A"
          ]
        },
        {
          "output_type": "stream",
          "name": "stdout",
          "text": [
            " Scale, Range, Variance, and Average.\n"
          ]
        },
        {
          "output_type": "stream",
          "name": "stderr",
          "text": [
            "\n",
            "\n",
            " 84%|████████▍ | 854/1014 [28:13<06:30,  2.44s/it]\u001b[A\u001b[A"
          ]
        },
        {
          "output_type": "stream",
          "name": "stdout",
          "text": [
            " Category No. 1, 4, 7\n"
          ]
        },
        {
          "output_type": "stream",
          "name": "stderr",
          "text": [
            "\n",
            "\n",
            " 84%|████████▍ | 855/1014 [28:13<05:14,  1.98s/it]\u001b[A\u001b[A"
          ]
        },
        {
          "output_type": "stream",
          "name": "stdout",
          "text": [
            " Input/Output\n"
          ]
        },
        {
          "output_type": "stream",
          "name": "stderr",
          "text": [
            "\n",
            "\n",
            " 84%|████████▍ | 856/1014 [28:18<06:56,  2.64s/it]\u001b[A\u001b[A"
          ]
        },
        {
          "output_type": "stream",
          "name": "stdout",
          "text": [
            " Bangkok\n"
          ]
        },
        {
          "output_type": "stream",
          "name": "stderr",
          "text": [
            "\n",
            "\n",
            " 85%|████████▍ | 857/1014 [28:19<05:32,  2.12s/it]\u001b[A\u001b[A"
          ]
        },
        {
          "output_type": "stream",
          "name": "stdout",
          "text": [
            " Long bone.\n"
          ]
        },
        {
          "output_type": "stream",
          "name": "stderr",
          "text": [
            "\n",
            "\n",
            " 85%|████████▍ | 858/1014 [28:20<04:47,  1.84s/it]\u001b[A\u001b[A"
          ]
        },
        {
          "output_type": "stream",
          "name": "stdout",
          "text": [
            " Connie Cheng\n"
          ]
        },
        {
          "output_type": "stream",
          "name": "stderr",
          "text": [
            "\n",
            "\n",
            " 85%|████████▍ | 859/1014 [28:21<04:05,  1.58s/it]\u001b[A\u001b[A"
          ]
        },
        {
          "output_type": "stream",
          "name": "stdout",
          "text": [
            " Thermoset.\n"
          ]
        },
        {
          "output_type": "stream",
          "name": "stderr",
          "text": [
            "\n",
            "\n",
            " 85%|████████▍ | 860/1014 [28:22<03:41,  1.44s/it]\u001b[A\u001b[A"
          ]
        },
        {
          "output_type": "stream",
          "name": "stdout",
          "text": [
            " 20 years.\n"
          ]
        },
        {
          "output_type": "stream",
          "name": "stderr",
          "text": [
            "\n",
            "\n",
            " 85%|████████▍ | 861/1014 [28:29<08:24,  3.29s/it]\u001b[A\u001b[A"
          ]
        },
        {
          "output_type": "stream",
          "name": "stdout",
          "text": [
            " The text provided does not contain any information about a \"FLEXPANEL\" or a \"VACUUM SUPPLY.\" Therefore, I cannot provide an accurate answer to the question based on the given context. If there is another source or specific text that mentions a vacuum supply, I can provide an answer based on that context.\n"
          ]
        },
        {
          "output_type": "stream",
          "name": "stderr",
          "text": [
            "\n",
            "\n",
            " 85%|████████▌ | 862/1014 [28:30<06:33,  2.59s/it]\u001b[A\u001b[A"
          ]
        },
        {
          "output_type": "stream",
          "name": "stdout",
          "text": [
            " Two\n"
          ]
        },
        {
          "output_type": "stream",
          "name": "stderr",
          "text": [
            "\n",
            "\n",
            " 85%|████████▌ | 863/1014 [28:31<04:51,  1.93s/it]\u001b[A\u001b[A"
          ]
        },
        {
          "output_type": "stream",
          "name": "stdout",
          "text": [
            "Error processing ID 862: Error code: 400 - {'detail': 'Content Exists Risk'}\n"
          ]
        },
        {
          "output_type": "stream",
          "name": "stderr",
          "text": [
            "\n",
            "\n",
            " 85%|████████▌ | 864/1014 [28:32<04:17,  1.72s/it]\u001b[A\u001b[A"
          ]
        },
        {
          "output_type": "stream",
          "name": "stdout",
          "text": [
            " Horizontal and Vertical.\n"
          ]
        },
        {
          "output_type": "stream",
          "name": "stderr",
          "text": [
            "\n",
            "\n",
            " 85%|████████▌ | 865/1014 [28:33<03:39,  1.48s/it]\u001b[A\u001b[A"
          ]
        },
        {
          "output_type": "stream",
          "name": "stdout",
          "text": [
            " Inefficient.\n"
          ]
        },
        {
          "output_type": "stream",
          "name": "stderr",
          "text": [
            "\n",
            "\n",
            " 85%|████████▌ | 866/1014 [28:34<03:19,  1.35s/it]\u001b[A\u001b[A"
          ]
        },
        {
          "output_type": "stream",
          "name": "stdout",
          "text": [
            " Identify, Mount, Install\n"
          ]
        },
        {
          "output_type": "stream",
          "name": "stderr",
          "text": [
            "\n",
            "\n",
            " 86%|████████▌ | 867/1014 [28:35<02:56,  1.20s/it]\u001b[A\u001b[A"
          ]
        },
        {
          "output_type": "stream",
          "name": "stdout",
          "text": [
            " Human activities.\n"
          ]
        },
        {
          "output_type": "stream",
          "name": "stderr",
          "text": [
            "\n",
            "\n",
            " 86%|████████▌ | 868/1014 [28:36<02:39,  1.09s/it]\u001b[A\u001b[A"
          ]
        },
        {
          "output_type": "stream",
          "name": "stdout",
          "text": [
            " Bacteria\n"
          ]
        },
        {
          "output_type": "stream",
          "name": "stderr",
          "text": [
            "\n",
            "\n",
            " 86%|████████▌ | 869/1014 [28:36<02:23,  1.01it/s]\u001b[A\u001b[A"
          ]
        },
        {
          "output_type": "stream",
          "name": "stdout",
          "text": [
            " Psychological need.\n"
          ]
        },
        {
          "output_type": "stream",
          "name": "stderr",
          "text": [
            "\n",
            "\n",
            " 86%|████████▌ | 870/1014 [28:42<05:26,  2.27s/it]\u001b[A\u001b[A"
          ]
        },
        {
          "output_type": "stream",
          "name": "stdout",
          "text": [
            " Absolute refractory period, a second response is not possible regardless of strength or duration. In the relative refractory period, a second response can be elicited at a greater cost in terms of strength and/or duration, meaning it requires a stronger stimulus to evoke a response compared to a non-refractory state.\n"
          ]
        },
        {
          "output_type": "stream",
          "name": "stderr",
          "text": [
            "\n",
            "\n",
            " 86%|████████▌ | 871/1014 [28:51<10:30,  4.41s/it]\u001b[A\u001b[A"
          ]
        },
        {
          "output_type": "stream",
          "name": "stdout",
          "text": [
            " Detection and Diagnosis\n"
          ]
        },
        {
          "output_type": "stream",
          "name": "stderr",
          "text": [
            "\n",
            "\n",
            " 86%|████████▌ | 872/1014 [28:52<07:52,  3.33s/it]\u001b[A\u001b[A"
          ]
        },
        {
          "output_type": "stream",
          "name": "stdout",
          "text": [
            " Blue Ocean.\n"
          ]
        },
        {
          "output_type": "stream",
          "name": "stderr",
          "text": [
            "\n",
            "\n",
            " 86%|████████▌ | 873/1014 [28:53<06:04,  2.58s/it]\u001b[A\u001b[A"
          ]
        },
        {
          "output_type": "stream",
          "name": "stdout",
          "text": [
            " Value Proposition\n"
          ]
        },
        {
          "output_type": "stream",
          "name": "stderr",
          "text": [
            "\n",
            "\n",
            " 86%|████████▌ | 874/1014 [28:54<05:26,  2.33s/it]\u001b[A\u001b[A"
          ]
        },
        {
          "output_type": "stream",
          "name": "stdout",
          "text": [
            " Research firm\n"
          ]
        },
        {
          "output_type": "stream",
          "name": "stderr",
          "text": [
            "\n",
            "\n",
            " 86%|████████▋ | 875/1014 [28:55<04:30,  1.95s/it]\u001b[A\u001b[A"
          ]
        },
        {
          "output_type": "stream",
          "name": "stdout",
          "text": [
            " BoJack Horseman\n"
          ]
        },
        {
          "output_type": "stream",
          "name": "stderr",
          "text": [
            "\n",
            "\n",
            " 86%|████████▋ | 876/1014 [28:57<04:16,  1.86s/it]\u001b[A\u001b[A"
          ]
        },
        {
          "output_type": "stream",
          "name": "stdout",
          "text": [
            " August 2015\n"
          ]
        },
        {
          "output_type": "stream",
          "name": "stderr",
          "text": [
            "\n",
            "\n",
            " 86%|████████▋ | 877/1014 [29:13<13:46,  6.04s/it]\u001b[A\u001b[A"
          ]
        },
        {
          "output_type": "stream",
          "name": "stdout",
          "text": [
            " *Apache Storm uses multiple languages for its Trident library, including Java, Clojure, and Scala. Here is the Python code snippet that answers the question in 2 words:*\n",
            "\n",
            "```python\n",
            "def storm_trident_languages():\n",
            "    storm_trident = [\"Java\", \"Clojure\", \"Scala\"]\n",
            "    return (storm_trident)\n",
            "```\n",
            "\n",
            "*If this answer doesn't meet the requirements because it's a code snippet rather than a direct two-word answer, then based on the context, the answer would simply be: \"Java, Clojure, and Scala\". As it's mentioned that Apache Storm's multi-language feature allows us to use virtually any programming language but, it's specifically stated in the given text that Storm Trident uses Java, Clojure, and Scala.*\n"
          ]
        },
        {
          "output_type": "stream",
          "name": "stderr",
          "text": [
            "\n",
            "\n",
            " 87%|████████▋ | 878/1014 [29:14<10:17,  4.54s/it]\u001b[A\u001b[A"
          ]
        },
        {
          "output_type": "stream",
          "name": "stdout",
          "text": [
            " NOSQL and MYSQL\n"
          ]
        },
        {
          "output_type": "stream",
          "name": "stderr",
          "text": [
            "\n",
            "\n",
            " 87%|████████▋ | 879/1014 [29:15<07:46,  3.46s/it]\u001b[A\u001b[A"
          ]
        },
        {
          "output_type": "stream",
          "name": "stdout",
          "text": [
            " Entactin\n"
          ]
        },
        {
          "output_type": "stream",
          "name": "stderr",
          "text": [
            "\n",
            "\n",
            " 87%|████████▋ | 880/1014 [29:18<07:12,  3.23s/it]\u001b[A\u001b[A"
          ]
        },
        {
          "output_type": "stream",
          "name": "stdout",
          "text": [
            " 100%\n"
          ]
        },
        {
          "output_type": "stream",
          "name": "stderr",
          "text": [
            "\n",
            "\n",
            " 87%|████████▋ | 881/1014 [29:19<05:36,  2.53s/it]\u001b[A\u001b[A"
          ]
        },
        {
          "output_type": "stream",
          "name": "stdout",
          "text": [
            " Daniele Fontani.\n"
          ]
        },
        {
          "output_type": "stream",
          "name": "stderr",
          "text": [
            "\n",
            "\n",
            " 87%|████████▋ | 882/1014 [29:19<04:25,  2.01s/it]\u001b[A\u001b[A"
          ]
        },
        {
          "output_type": "stream",
          "name": "stdout",
          "text": [
            " Renault.\n"
          ]
        },
        {
          "output_type": "stream",
          "name": "stderr",
          "text": [
            "\n",
            "\n",
            " 87%|████████▋ | 883/1014 [29:20<03:38,  1.66s/it]\u001b[A\u001b[A"
          ]
        },
        {
          "output_type": "stream",
          "name": "stdout",
          "text": [
            " Memory tradeoff.\n"
          ]
        },
        {
          "output_type": "stream",
          "name": "stderr",
          "text": [
            "\n",
            "\n",
            " 87%|████████▋ | 884/1014 [29:21<03:04,  1.42s/it]\u001b[A\u001b[A"
          ]
        },
        {
          "output_type": "stream",
          "name": "stdout",
          "text": [
            " Fatigue and adaptation\n"
          ]
        },
        {
          "output_type": "stream",
          "name": "stderr",
          "text": [
            "\n",
            "\n",
            " 87%|████████▋ | 885/1014 [29:24<04:02,  1.88s/it]\u001b[A\u001b[A"
          ]
        },
        {
          "output_type": "stream",
          "name": "stdout",
          "text": [
            " Cobalt Development Institute\n"
          ]
        },
        {
          "output_type": "stream",
          "name": "stderr",
          "text": [
            "\n",
            "\n",
            " 87%|████████▋ | 886/1014 [29:25<03:13,  1.51s/it]\u001b[A\u001b[A"
          ]
        },
        {
          "output_type": "stream",
          "name": "stdout",
          "text": [
            " clearRect\n"
          ]
        },
        {
          "output_type": "stream",
          "name": "stderr",
          "text": [
            "\n",
            "\n",
            " 87%|████████▋ | 887/1014 [29:26<03:03,  1.44s/it]\u001b[A\u001b[A"
          ]
        },
        {
          "output_type": "stream",
          "name": "stdout",
          "text": [
            " April\n"
          ]
        },
        {
          "output_type": "stream",
          "name": "stderr",
          "text": [
            "\n",
            "\n",
            " 88%|████████▊ | 888/1014 [29:27<02:54,  1.39s/it]\u001b[A\u001b[A"
          ]
        },
        {
          "output_type": "stream",
          "name": "stdout",
          "text": [
            " Expression and Node Snippets.\n"
          ]
        },
        {
          "output_type": "stream",
          "name": "stderr",
          "text": [
            "\n",
            "\n",
            " 88%|████████▊ | 889/1014 [29:30<03:39,  1.75s/it]\u001b[A\u001b[A"
          ]
        },
        {
          "output_type": "stream",
          "name": "stdout",
          "text": [
            " 10%\n"
          ]
        },
        {
          "output_type": "stream",
          "name": "stderr",
          "text": [
            "\n",
            "\n",
            " 88%|████████▊ | 890/1014 [29:33<04:20,  2.10s/it]\u001b[A\u001b[A"
          ]
        },
        {
          "output_type": "stream",
          "name": "stdout",
          "text": [
            " Metro Trains\n"
          ]
        },
        {
          "output_type": "stream",
          "name": "stderr",
          "text": [
            "\n",
            "\n",
            " 88%|████████▊ | 891/1014 [29:37<05:50,  2.85s/it]\u001b[A\u001b[A"
          ]
        },
        {
          "output_type": "stream",
          "name": "stdout",
          "text": [
            " Five activities.\n"
          ]
        },
        {
          "output_type": "stream",
          "name": "stderr",
          "text": [
            "\n",
            "\n",
            " 88%|████████▊ | 892/1014 [29:42<06:46,  3.34s/it]\u001b[A\u001b[A"
          ]
        },
        {
          "output_type": "stream",
          "name": "stdout",
          "text": [
            " 7 thousandths\n"
          ]
        },
        {
          "output_type": "stream",
          "name": "stderr",
          "text": [
            "\n",
            "\n",
            " 88%|████████▊ | 893/1014 [29:48<08:17,  4.11s/it]\u001b[A\u001b[A"
          ]
        },
        {
          "output_type": "stream",
          "name": "stdout",
          "text": [
            " 00:03:51\n"
          ]
        },
        {
          "output_type": "stream",
          "name": "stderr",
          "text": [
            "\n",
            "\n",
            " 88%|████████▊ | 894/1014 [29:49<06:30,  3.25s/it]\u001b[A\u001b[A"
          ]
        },
        {
          "output_type": "stream",
          "name": "stdout",
          "text": [
            " Warm air rises.\n"
          ]
        },
        {
          "output_type": "stream",
          "name": "stderr",
          "text": [
            "\n",
            "\n",
            " 88%|████████▊ | 895/1014 [29:50<05:13,  2.63s/it]\u001b[A\u001b[A"
          ]
        },
        {
          "output_type": "stream",
          "name": "stdout",
          "text": [
            " Two types\n"
          ]
        },
        {
          "output_type": "stream",
          "name": "stderr",
          "text": [
            "\n",
            "\n",
            " 88%|████████▊ | 896/1014 [29:51<04:05,  2.08s/it]\u001b[A\u001b[A"
          ]
        },
        {
          "output_type": "stream",
          "name": "stdout",
          "text": [
            " N/A\n"
          ]
        },
        {
          "output_type": "stream",
          "name": "stderr",
          "text": [
            "\n",
            "\n",
            " 88%|████████▊ | 897/1014 [29:56<05:38,  2.89s/it]\u001b[A\u001b[A"
          ]
        },
        {
          "output_type": "stream",
          "name": "stdout",
          "text": [
            " Kirk Meh\n"
          ]
        },
        {
          "output_type": "stream",
          "name": "stderr",
          "text": [
            "\n",
            "\n",
            " 89%|████████▊ | 898/1014 [29:57<04:30,  2.33s/it]\u001b[A\u001b[A"
          ]
        },
        {
          "output_type": "stream",
          "name": "stdout",
          "text": [
            " 2007\n"
          ]
        },
        {
          "output_type": "stream",
          "name": "stderr",
          "text": [
            "\n",
            "\n",
            " 89%|████████▊ | 899/1014 [29:58<03:45,  1.96s/it]\u001b[A\u001b[A"
          ]
        },
        {
          "output_type": "stream",
          "name": "stdout",
          "text": [
            " Goals determine approach.\n"
          ]
        },
        {
          "output_type": "stream",
          "name": "stderr",
          "text": [
            "\n",
            "\n",
            " 89%|████████▉ | 900/1014 [29:59<03:24,  1.79s/it]\u001b[A\u001b[A"
          ]
        },
        {
          "output_type": "stream",
          "name": "stdout",
          "text": [
            " AT THE SPEED OF IDEAS\n"
          ]
        },
        {
          "output_type": "stream",
          "name": "stderr",
          "text": [
            "\n",
            "\n",
            " 89%|████████▉ | 901/1014 [30:00<03:05,  1.64s/it]\u001b[A\u001b[A"
          ]
        },
        {
          "output_type": "stream",
          "name": "stdout",
          "text": [
            " $3.52M\n"
          ]
        },
        {
          "output_type": "stream",
          "name": "stderr",
          "text": [
            "\n",
            "\n",
            " 89%|████████▉ | 902/1014 [30:02<03:10,  1.70s/it]\u001b[A\u001b[A"
          ]
        },
        {
          "output_type": "stream",
          "name": "stdout",
          "text": [
            " Polymyxin B\n"
          ]
        },
        {
          "output_type": "stream",
          "name": "stderr",
          "text": [
            "\n",
            "\n",
            " 89%|████████▉ | 903/1014 [30:04<02:54,  1.58s/it]\u001b[A\u001b[A"
          ]
        },
        {
          "output_type": "stream",
          "name": "stdout",
          "text": [
            " Source: ASEAN Secretariat\n"
          ]
        },
        {
          "output_type": "stream",
          "name": "stderr",
          "text": [
            "\n",
            "\n",
            " 89%|████████▉ | 904/1014 [30:05<02:35,  1.41s/it]\u001b[A\u001b[A"
          ]
        },
        {
          "output_type": "stream",
          "name": "stdout",
          "text": [
            " Egalitarianism\n"
          ]
        },
        {
          "output_type": "stream",
          "name": "stderr",
          "text": [
            "\n",
            "\n",
            " 89%|████████▉ | 905/1014 [30:06<02:21,  1.30s/it]\u001b[A\u001b[A"
          ]
        },
        {
          "output_type": "stream",
          "name": "stdout",
          "text": [
            " WeChat\n"
          ]
        },
        {
          "output_type": "stream",
          "name": "stderr",
          "text": [
            "\n",
            "\n",
            " 89%|████████▉ | 906/1014 [30:07<02:13,  1.24s/it]\u001b[A\u001b[A"
          ]
        },
        {
          "output_type": "stream",
          "name": "stdout",
          "text": [
            " 96%\n"
          ]
        },
        {
          "output_type": "stream",
          "name": "stderr",
          "text": [
            "\n",
            "\n",
            " 89%|████████▉ | 907/1014 [30:08<01:56,  1.09s/it]\u001b[A\u001b[A"
          ]
        },
        {
          "output_type": "stream",
          "name": "stdout",
          "text": [
            " Google Trends\n"
          ]
        },
        {
          "output_type": "stream",
          "name": "stderr",
          "text": [
            "\n",
            "\n",
            " 90%|████████▉ | 908/1014 [30:10<02:33,  1.45s/it]\u001b[A\u001b[A"
          ]
        },
        {
          "output_type": "stream",
          "name": "stdout",
          "text": [
            " 2008\n"
          ]
        },
        {
          "output_type": "stream",
          "name": "stderr",
          "text": [
            "\n",
            "\n",
            " 90%|████████▉ | 909/1014 [30:11<02:21,  1.35s/it]\u001b[A\u001b[A"
          ]
        },
        {
          "output_type": "stream",
          "name": "stdout",
          "text": [
            " Corn steep liquor\n"
          ]
        },
        {
          "output_type": "stream",
          "name": "stderr",
          "text": [
            "\n",
            "\n",
            " 90%|████████▉ | 910/1014 [30:13<02:43,  1.57s/it]\u001b[A\u001b[A"
          ]
        },
        {
          "output_type": "stream",
          "name": "stdout",
          "text": [
            " 8-9 AM\n"
          ]
        },
        {
          "output_type": "stream",
          "name": "stderr",
          "text": [
            "\n",
            "\n",
            " 90%|████████▉ | 911/1014 [30:17<04:03,  2.36s/it]\u001b[A\u001b[A"
          ]
        },
        {
          "output_type": "stream",
          "name": "stdout",
          "text": [
            " China\n"
          ]
        },
        {
          "output_type": "stream",
          "name": "stderr",
          "text": [
            "\n",
            "\n",
            " 90%|████████▉ | 912/1014 [30:20<03:58,  2.34s/it]\u001b[A\u001b[A"
          ]
        },
        {
          "output_type": "stream",
          "name": "stdout",
          "text": [
            " Mast cells, eosinophils, basophils, plasma exudation, and Mucus secretion.\n"
          ]
        },
        {
          "output_type": "stream",
          "name": "stderr",
          "text": [
            "\n",
            "\n",
            " 90%|█████████ | 913/1014 [30:20<03:14,  1.92s/it]\u001b[A\u001b[A"
          ]
        },
        {
          "output_type": "stream",
          "name": "stdout",
          "text": [
            " Without\n"
          ]
        },
        {
          "output_type": "stream",
          "name": "stderr",
          "text": [
            "\n",
            "\n",
            " 90%|█████████ | 914/1014 [30:21<02:35,  1.56s/it]\u001b[A\u001b[A"
          ]
        },
        {
          "output_type": "stream",
          "name": "stdout",
          "text": [
            " Increasing\n"
          ]
        },
        {
          "output_type": "stream",
          "name": "stderr",
          "text": [
            "\n",
            "\n",
            " 90%|█████████ | 915/1014 [30:22<02:12,  1.34s/it]\u001b[A\u001b[A"
          ]
        },
        {
          "output_type": "stream",
          "name": "stdout",
          "text": [
            " Twitter API.\n"
          ]
        },
        {
          "output_type": "stream",
          "name": "stderr",
          "text": [
            "\n",
            "\n",
            " 90%|█████████ | 916/1014 [30:23<02:08,  1.31s/it]\u001b[A\u001b[A"
          ]
        },
        {
          "output_type": "stream",
          "name": "stdout",
          "text": [
            " Equations and algebra.\n"
          ]
        },
        {
          "output_type": "stream",
          "name": "stderr",
          "text": [
            "\n",
            "\n",
            " 90%|█████████ | 917/1014 [30:25<02:05,  1.30s/it]\u001b[A\u001b[A"
          ]
        },
        {
          "output_type": "stream",
          "name": "stdout",
          "text": [
            " Half and Half\n"
          ]
        },
        {
          "output_type": "stream",
          "name": "stderr",
          "text": [
            "\n",
            "\n",
            " 91%|█████████ | 918/1014 [30:25<01:55,  1.20s/it]\u001b[A\u001b[A"
          ]
        },
        {
          "output_type": "stream",
          "name": "stdout",
          "text": [
            " 2008\n"
          ]
        },
        {
          "output_type": "stream",
          "name": "stderr",
          "text": [
            "\n",
            "\n",
            " 91%|█████████ | 919/1014 [30:26<01:44,  1.10s/it]\u001b[A\u001b[A"
          ]
        },
        {
          "output_type": "stream",
          "name": "stdout",
          "text": [
            " To save.\n"
          ]
        },
        {
          "output_type": "stream",
          "name": "stderr",
          "text": [
            "\n",
            "\n",
            " 91%|█████████ | 920/1014 [30:28<02:03,  1.32s/it]\u001b[A\u001b[A"
          ]
        },
        {
          "output_type": "stream",
          "name": "stdout",
          "text": [
            " customer value\n"
          ]
        },
        {
          "output_type": "stream",
          "name": "stderr",
          "text": [
            "\n",
            "\n",
            " 91%|█████████ | 921/1014 [30:29<01:51,  1.20s/it]\u001b[A\u001b[A"
          ]
        },
        {
          "output_type": "stream",
          "name": "stdout",
          "text": [
            " Biscuits\n"
          ]
        },
        {
          "output_type": "stream",
          "name": "stderr",
          "text": [
            "\n",
            "\n",
            " 91%|█████████ | 922/1014 [30:30<01:42,  1.11s/it]\u001b[A\u001b[A"
          ]
        },
        {
          "output_type": "stream",
          "name": "stdout",
          "text": [
            " Aquastream\n"
          ]
        },
        {
          "output_type": "stream",
          "name": "stderr",
          "text": [
            "\n",
            "\n",
            " 91%|█████████ | 923/1014 [30:31<01:40,  1.10s/it]\u001b[A\u001b[A"
          ]
        },
        {
          "output_type": "stream",
          "name": "stdout",
          "text": [
            " Thailand\n"
          ]
        },
        {
          "output_type": "stream",
          "name": "stderr",
          "text": [
            "\n",
            "\n",
            " 91%|█████████ | 924/1014 [30:32<01:43,  1.15s/it]\u001b[A\u001b[A"
          ]
        },
        {
          "output_type": "stream",
          "name": "stdout",
          "text": [
            " Iranian\n"
          ]
        },
        {
          "output_type": "stream",
          "name": "stderr",
          "text": [
            "\n",
            "\n",
            " 91%|█████████ | 925/1014 [30:34<01:46,  1.19s/it]\u001b[A\u001b[A"
          ]
        },
        {
          "output_type": "stream",
          "name": "stdout",
          "text": [
            " Transducer, Amplifier, and Signal Processor.\n"
          ]
        },
        {
          "output_type": "stream",
          "name": "stderr",
          "text": [
            "\n",
            "\n",
            " 91%|█████████▏| 926/1014 [30:44<05:46,  3.94s/it]\u001b[A\u001b[A"
          ]
        },
        {
          "output_type": "stream",
          "name": "stdout",
          "text": [
            " 251,168\n",
            "\n",
            "(Source: \"Health & Development: Biting Questions\" [Gates Notes, November 4, 2014], 242,168 deaths from malaria annually, and 7,000 deaths from dengue fever)\n"
          ]
        },
        {
          "output_type": "stream",
          "name": "stderr",
          "text": [
            "\n",
            "\n",
            " 91%|█████████▏| 927/1014 [30:46<04:55,  3.40s/it]\u001b[A\u001b[A"
          ]
        },
        {
          "output_type": "stream",
          "name": "stdout",
          "text": [
            " 315\n"
          ]
        },
        {
          "output_type": "stream",
          "name": "stderr",
          "text": [
            "\n",
            "\n",
            " 92%|█████████▏| 928/1014 [30:48<04:05,  2.85s/it]\u001b[A\u001b[A"
          ]
        },
        {
          "output_type": "stream",
          "name": "stdout",
          "text": [
            " Early Capitation\n"
          ]
        },
        {
          "output_type": "stream",
          "name": "stderr",
          "text": [
            "\n",
            "\n",
            " 92%|█████████▏| 929/1014 [30:49<03:11,  2.25s/it]\u001b[A\u001b[A"
          ]
        },
        {
          "output_type": "stream",
          "name": "stdout",
          "text": [
            " Appendicular\n"
          ]
        },
        {
          "output_type": "stream",
          "name": "stderr",
          "text": [
            "\n",
            "\n",
            " 92%|█████████▏| 930/1014 [30:50<02:44,  1.95s/it]\u001b[A\u001b[A"
          ]
        },
        {
          "output_type": "stream",
          "name": "stdout",
          "text": [
            " Mahindra e2o\n"
          ]
        },
        {
          "output_type": "stream",
          "name": "stderr",
          "text": [
            "\n",
            "\n",
            " 92%|█████████▏| 931/1014 [30:52<02:44,  1.99s/it]\u001b[A\u001b[A"
          ]
        },
        {
          "output_type": "stream",
          "name": "stdout",
          "text": [
            " 0 mm\n"
          ]
        },
        {
          "output_type": "stream",
          "name": "stderr",
          "text": [
            "\n",
            "\n",
            " 92%|█████████▏| 932/1014 [30:53<02:23,  1.76s/it]\u001b[A\u001b[A"
          ]
        },
        {
          "output_type": "stream",
          "name": "stdout",
          "text": [
            " Nano-Scale materials or particles.\n"
          ]
        },
        {
          "output_type": "stream",
          "name": "stderr",
          "text": [
            "\n",
            "\n",
            " 92%|█████████▏| 933/1014 [30:55<02:20,  1.74s/it]\u001b[A\u001b[A"
          ]
        },
        {
          "output_type": "stream",
          "name": "stdout",
          "text": [
            " R. DuBrin and R. E. Ireland\n"
          ]
        },
        {
          "output_type": "stream",
          "name": "stderr",
          "text": [
            "\n",
            "\n",
            " 92%|█████████▏| 934/1014 [30:56<02:02,  1.53s/it]\u001b[A\u001b[A"
          ]
        },
        {
          "output_type": "stream",
          "name": "stdout",
          "text": [
            " Eastern Europe.\n"
          ]
        },
        {
          "output_type": "stream",
          "name": "stderr",
          "text": [
            "\n",
            "\n",
            " 92%|█████████▏| 935/1014 [30:57<01:47,  1.36s/it]\u001b[A\u001b[A"
          ]
        },
        {
          "output_type": "stream",
          "name": "stdout",
          "text": [
            " No data.\n"
          ]
        },
        {
          "output_type": "stream",
          "name": "stderr",
          "text": [
            "\n",
            "\n",
            " 92%|█████████▏| 936/1014 [30:58<01:39,  1.27s/it]\u001b[A\u001b[A"
          ]
        },
        {
          "output_type": "stream",
          "name": "stdout",
          "text": [
            " Warping\n",
            "and\n",
            "Sizing\n"
          ]
        },
        {
          "output_type": "stream",
          "name": "stderr",
          "text": [
            "\n",
            "\n",
            " 92%|█████████▏| 937/1014 [30:59<01:40,  1.31s/it]\u001b[A\u001b[A"
          ]
        },
        {
          "output_type": "stream",
          "name": "stdout",
          "text": [
            " 45,000 miles.\n"
          ]
        },
        {
          "output_type": "stream",
          "name": "stderr",
          "text": [
            "\n",
            "\n",
            " 93%|█████████▎| 938/1014 [31:01<01:38,  1.30s/it]\u001b[A\u001b[A"
          ]
        },
        {
          "output_type": "stream",
          "name": "stdout",
          "text": [
            " iOS 7 and Gingerbread.\n"
          ]
        },
        {
          "output_type": "stream",
          "name": "stderr",
          "text": [
            "\n",
            "\n",
            " 93%|█████████▎| 939/1014 [31:03<02:03,  1.64s/it]\u001b[A\u001b[A"
          ]
        },
        {
          "output_type": "stream",
          "name": "stdout",
          "text": [
            " 115 billion\n"
          ]
        },
        {
          "output_type": "stream",
          "name": "stderr",
          "text": [
            "\n",
            "\n",
            " 93%|█████████▎| 940/1014 [31:06<02:25,  1.96s/it]\u001b[A\u001b[A"
          ]
        },
        {
          "output_type": "stream",
          "name": "stdout",
          "text": [
            " Considered raising wages.\n"
          ]
        },
        {
          "output_type": "stream",
          "name": "stderr",
          "text": [
            "\n",
            "\n",
            " 93%|█████████▎| 941/1014 [31:07<02:01,  1.66s/it]\u001b[A\u001b[A"
          ]
        },
        {
          "output_type": "stream",
          "name": "stdout",
          "text": [
            " Motor bikes.\n"
          ]
        },
        {
          "output_type": "stream",
          "name": "stderr",
          "text": [
            "\n",
            "\n",
            " 93%|█████████▎| 942/1014 [31:09<02:10,  1.81s/it]\u001b[A\u001b[A"
          ]
        },
        {
          "output_type": "stream",
          "name": "stdout",
          "text": [
            " Instructions program\n"
          ]
        },
        {
          "output_type": "stream",
          "name": "stderr",
          "text": [
            "\n",
            "\n",
            " 93%|█████████▎| 943/1014 [31:11<02:23,  2.02s/it]\u001b[A\u001b[A"
          ]
        },
        {
          "output_type": "stream",
          "name": "stdout",
          "text": [
            " Shiny surfaces.\n"
          ]
        },
        {
          "output_type": "stream",
          "name": "stderr",
          "text": [
            "\n",
            "\n",
            " 93%|█████████▎| 944/1014 [31:12<01:54,  1.64s/it]\u001b[A\u001b[A"
          ]
        },
        {
          "output_type": "stream",
          "name": "stdout",
          "text": [
            " Reality.\n"
          ]
        },
        {
          "output_type": "stream",
          "name": "stderr",
          "text": [
            "\n",
            "\n",
            " 93%|█████████▎| 945/1014 [31:13<01:37,  1.41s/it]\u001b[A\u001b[A"
          ]
        },
        {
          "output_type": "stream",
          "name": "stdout",
          "text": [
            " Value Innovation.\n"
          ]
        },
        {
          "output_type": "stream",
          "name": "stderr",
          "text": [
            "\n",
            "\n",
            " 93%|█████████▎| 946/1014 [31:18<02:41,  2.37s/it]\u001b[A\u001b[A"
          ]
        },
        {
          "output_type": "stream",
          "name": "stdout",
          "text": [
            " 20%.\n"
          ]
        },
        {
          "output_type": "stream",
          "name": "stderr",
          "text": [
            "\n",
            "\n",
            " 93%|█████████▎| 947/1014 [31:19<02:11,  1.96s/it]\u001b[A\u001b[A"
          ]
        },
        {
          "output_type": "stream",
          "name": "stdout",
          "text": [
            " Text ads\n"
          ]
        },
        {
          "output_type": "stream",
          "name": "stderr",
          "text": [
            "\n",
            "\n",
            " 93%|█████████▎| 948/1014 [31:20<01:53,  1.72s/it]\u001b[A\u001b[A"
          ]
        },
        {
          "output_type": "stream",
          "name": "stdout",
          "text": [
            " Bad practices.\n"
          ]
        },
        {
          "output_type": "stream",
          "name": "stderr",
          "text": [
            "\n",
            "\n",
            " 94%|█████████▎| 949/1014 [31:23<02:31,  2.34s/it]\u001b[A\u001b[A"
          ]
        },
        {
          "output_type": "stream",
          "name": "stdout",
          "text": [
            " Classical, Nonlinear, Robust, Adaptive, Intelligent.\n"
          ]
        },
        {
          "output_type": "stream",
          "name": "stderr",
          "text": [
            "\n",
            "\n",
            " 94%|█████████▎| 950/1014 [31:25<02:04,  1.95s/it]\u001b[A\u001b[A"
          ]
        },
        {
          "output_type": "stream",
          "name": "stdout",
          "text": [
            " 38%\n"
          ]
        },
        {
          "output_type": "stream",
          "name": "stderr",
          "text": [
            "\n",
            "\n",
            " 94%|█████████▍| 951/1014 [31:34<04:25,  4.22s/it]\u001b[A\u001b[A"
          ]
        },
        {
          "output_type": "stream",
          "name": "stdout",
          "text": [
            " Step 1: Understand the question - I need to find a common term for termination in the context of polymerisation.\n",
            "\n",
            "Step 2: Review the given context - I will look for keywords related to termination in the provided text.\n",
            "\n",
            "Step 3: Identify the relevant information - In the text, I found: \"THE STEPS FOR SYNTHESIS OF POLYMERSThere three significant reactions take place addition polymerization Initiation Propagation birth growth\"\n",
            "\n",
            "Step 4: Find the answer - Based on the information in the context, the common term for termination in polymerisation is \"propagation.\"\n"
          ]
        },
        {
          "output_type": "stream",
          "name": "stderr",
          "text": [
            "\n",
            "\n",
            " 94%|█████████▍| 952/1014 [31:36<03:34,  3.46s/it]\u001b[A\u001b[A"
          ]
        },
        {
          "output_type": "stream",
          "name": "stdout",
          "text": [
            " 29 Mobile Operators.\n"
          ]
        },
        {
          "output_type": "stream",
          "name": "stderr",
          "text": [
            "\n",
            "\n",
            " 94%|█████████▍| 953/1014 [31:37<02:48,  2.77s/it]\u001b[A\u001b[A"
          ]
        },
        {
          "output_type": "stream",
          "name": "stdout",
          "text": [
            " Frederic Laloux\n"
          ]
        },
        {
          "output_type": "stream",
          "name": "stderr",
          "text": [
            "\n",
            "\n",
            " 94%|█████████▍| 954/1014 [31:39<02:41,  2.69s/it]\u001b[A\u001b[A"
          ]
        },
        {
          "output_type": "stream",
          "name": "stdout",
          "text": [
            " Shiny and Black.\n"
          ]
        },
        {
          "output_type": "stream",
          "name": "stderr",
          "text": [
            "\n",
            "\n",
            " 94%|█████████▍| 955/1014 [31:40<02:10,  2.21s/it]\u001b[A\u001b[A"
          ]
        },
        {
          "output_type": "stream",
          "name": "stdout",
          "text": [
            " Published v1.0.0\n"
          ]
        },
        {
          "output_type": "stream",
          "name": "stderr",
          "text": [
            "\n",
            "\n",
            " 94%|█████████▍| 956/1014 [31:46<03:09,  3.27s/it]\u001b[A\u001b[A"
          ]
        },
        {
          "output_type": "stream",
          "name": "stdout",
          "text": [
            " Two needs.\n"
          ]
        },
        {
          "output_type": "stream",
          "name": "stderr",
          "text": [
            "\n",
            "\n",
            " 94%|█████████▍| 957/1014 [31:47<02:23,  2.52s/it]\u001b[A\u001b[A"
          ]
        },
        {
          "output_type": "stream",
          "name": "stdout",
          "text": [
            " Four people.\n"
          ]
        },
        {
          "output_type": "stream",
          "name": "stderr",
          "text": [
            "\n",
            "\n",
            " 94%|█████████▍| 958/1014 [31:48<01:50,  1.97s/it]\u001b[A\u001b[A"
          ]
        },
        {
          "output_type": "stream",
          "name": "stdout",
          "text": [
            " False\n"
          ]
        },
        {
          "output_type": "stream",
          "name": "stderr",
          "text": [
            "\n",
            "\n",
            " 95%|█████████▍| 959/1014 [31:50<01:57,  2.14s/it]\u001b[A\u001b[A"
          ]
        },
        {
          "output_type": "stream",
          "name": "stdout",
          "text": [
            " Consumer habits.\n"
          ]
        },
        {
          "output_type": "stream",
          "name": "stderr",
          "text": [
            "\n",
            "\n",
            " 95%|█████████▍| 960/1014 [31:51<01:39,  1.84s/it]\u001b[A\u001b[A"
          ]
        },
        {
          "output_type": "stream",
          "name": "stdout",
          "text": [
            " Cloudera\n"
          ]
        },
        {
          "output_type": "stream",
          "name": "stderr",
          "text": [
            "\n",
            "\n",
            " 95%|█████████▍| 961/1014 [31:52<01:22,  1.56s/it]\u001b[A\u001b[A"
          ]
        },
        {
          "output_type": "stream",
          "name": "stdout",
          "text": [
            " Cardiac Arrest.\n"
          ]
        },
        {
          "output_type": "stream",
          "name": "stderr",
          "text": [
            "\n",
            "\n",
            " 95%|█████████▍| 962/1014 [31:53<01:09,  1.34s/it]\u001b[A\u001b[A"
          ]
        },
        {
          "output_type": "stream",
          "name": "stdout",
          "text": [
            " Application and System.\n"
          ]
        },
        {
          "output_type": "stream",
          "name": "stderr",
          "text": [
            "\n",
            "\n",
            " 95%|█████████▍| 963/1014 [31:57<01:42,  2.01s/it]\u001b[A\u001b[A"
          ]
        },
        {
          "output_type": "stream",
          "name": "stdout",
          "text": [
            " 13 more.\n"
          ]
        },
        {
          "output_type": "stream",
          "name": "stderr",
          "text": [
            "\n",
            "\n",
            " 95%|█████████▌| 964/1014 [31:58<01:26,  1.74s/it]\u001b[A\u001b[A"
          ]
        },
        {
          "output_type": "stream",
          "name": "stdout",
          "text": [
            " Noon PST.\n"
          ]
        },
        {
          "output_type": "stream",
          "name": "stderr",
          "text": [
            "\n",
            "\n",
            " 95%|█████████▌| 965/1014 [31:59<01:11,  1.47s/it]\u001b[A\u001b[A"
          ]
        },
        {
          "output_type": "stream",
          "name": "stdout",
          "text": [
            " Less water.\n"
          ]
        },
        {
          "output_type": "stream",
          "name": "stderr",
          "text": [
            "\n",
            "\n",
            " 95%|█████████▌| 966/1014 [31:59<00:54,  1.14s/it]\u001b[A\u001b[A"
          ]
        },
        {
          "output_type": "stream",
          "name": "stdout",
          "text": [
            "Error processing ID 965: Error code: 400 - {'detail': 'Content Exists Risk'}\n"
          ]
        },
        {
          "output_type": "stream",
          "name": "stderr",
          "text": [
            "\n",
            "\n",
            " 95%|█████████▌| 967/1014 [32:00<00:50,  1.07s/it]\u001b[A\u001b[A"
          ]
        },
        {
          "output_type": "stream",
          "name": "stdout",
          "text": [
            " Organic Growth\n"
          ]
        },
        {
          "output_type": "stream",
          "name": "stderr",
          "text": [
            "\n",
            "\n",
            " 95%|█████████▌| 968/1014 [32:02<00:58,  1.26s/it]\u001b[A\u001b[A"
          ]
        },
        {
          "output_type": "stream",
          "name": "stdout",
          "text": [
            " Macro and Micro\n"
          ]
        },
        {
          "output_type": "stream",
          "name": "stderr",
          "text": [
            "\n",
            "\n",
            " 96%|█████████▌| 969/1014 [32:03<00:52,  1.16s/it]\u001b[A\u001b[A"
          ]
        },
        {
          "output_type": "stream",
          "name": "stdout",
          "text": [
            " Advocacy writing.\n"
          ]
        },
        {
          "output_type": "stream",
          "name": "stderr",
          "text": [
            "\n",
            "\n",
            " 96%|█████████▌| 970/1014 [32:04<00:54,  1.24s/it]\u001b[A\u001b[A"
          ]
        },
        {
          "output_type": "stream",
          "name": "stdout",
          "text": [
            " Motives and Preferences.\n"
          ]
        },
        {
          "output_type": "stream",
          "name": "stderr",
          "text": [
            "\n",
            "\n",
            " 96%|█████████▌| 971/1014 [32:06<01:00,  1.41s/it]\u001b[A\u001b[A"
          ]
        },
        {
          "output_type": "stream",
          "name": "stdout",
          "text": [
            " hwui\n"
          ]
        },
        {
          "output_type": "stream",
          "name": "stderr",
          "text": [
            "\n",
            "\n",
            " 96%|█████████▌| 972/1014 [32:11<01:48,  2.58s/it]\u001b[A\u001b[A"
          ]
        },
        {
          "output_type": "stream",
          "name": "stdout",
          "text": [
            " Gender, social class, marital status, occupation\n"
          ]
        },
        {
          "output_type": "stream",
          "name": "stderr",
          "text": [
            "\n",
            "\n",
            " 96%|█████████▌| 973/1014 [32:13<01:40,  2.44s/it]\u001b[A\u001b[A"
          ]
        },
        {
          "output_type": "stream",
          "name": "stdout",
          "text": [
            " Sydney\n"
          ]
        },
        {
          "output_type": "stream",
          "name": "stderr",
          "text": [
            "\n",
            "\n",
            " 96%|█████████▌| 974/1014 [32:15<01:29,  2.24s/it]\u001b[A\u001b[A"
          ]
        },
        {
          "output_type": "stream",
          "name": "stdout",
          "text": [
            " 30,000,000,000 (30 billion).\n"
          ]
        },
        {
          "output_type": "stream",
          "name": "stderr",
          "text": [
            "\n",
            "\n",
            " 96%|█████████▌| 975/1014 [32:16<01:16,  1.97s/it]\u001b[A\u001b[A"
          ]
        },
        {
          "output_type": "stream",
          "name": "stdout",
          "text": [
            " 2010 Toyota Prius\n"
          ]
        },
        {
          "output_type": "stream",
          "name": "stderr",
          "text": [
            "\n",
            "\n",
            " 96%|█████████▋| 976/1014 [32:18<01:12,  1.90s/it]\u001b[A\u001b[A"
          ]
        },
        {
          "output_type": "stream",
          "name": "stdout",
          "text": [
            " zero\n"
          ]
        },
        {
          "output_type": "stream",
          "name": "stderr",
          "text": [
            "\n",
            "\n",
            " 96%|█████████▋| 977/1014 [32:21<01:18,  2.12s/it]\u001b[A\u001b[A"
          ]
        },
        {
          "output_type": "stream",
          "name": "stdout",
          "text": [
            " Polytetrafluoroethylene\n"
          ]
        },
        {
          "output_type": "stream",
          "name": "stderr",
          "text": [
            "\n",
            "\n",
            " 96%|█████████▋| 978/1014 [32:21<01:01,  1.70s/it]\u001b[A\u001b[A"
          ]
        },
        {
          "output_type": "stream",
          "name": "stdout",
          "text": [
            " Patient Education\n"
          ]
        },
        {
          "output_type": "stream",
          "name": "stderr",
          "text": [
            "\n",
            "\n",
            " 97%|█████████▋| 979/1014 [32:22<00:50,  1.45s/it]\u001b[A\u001b[A"
          ]
        },
        {
          "output_type": "stream",
          "name": "stdout",
          "text": [
            " 74%\n"
          ]
        },
        {
          "output_type": "stream",
          "name": "stderr",
          "text": [
            "\n",
            "\n",
            " 97%|█████████▋| 980/1014 [32:23<00:42,  1.24s/it]\u001b[A\u001b[A"
          ]
        },
        {
          "output_type": "stream",
          "name": "stdout",
          "text": [
            " individuals\n"
          ]
        },
        {
          "output_type": "stream",
          "name": "stderr",
          "text": [
            "\n",
            "\n",
            " 97%|█████████▋| 981/1014 [32:24<00:36,  1.11s/it]\u001b[A\u001b[A"
          ]
        },
        {
          "output_type": "stream",
          "name": "stdout",
          "text": [
            " Android phone.\n"
          ]
        },
        {
          "output_type": "stream",
          "name": "stderr",
          "text": [
            "\n",
            "\n",
            " 97%|█████████▋| 982/1014 [32:25<00:35,  1.12s/it]\u001b[A\u001b[A"
          ]
        },
        {
          "output_type": "stream",
          "name": "stdout",
          "text": [
            " 1. Express\n"
          ]
        },
        {
          "output_type": "stream",
          "name": "stderr",
          "text": [
            "\n",
            "\n",
            " 97%|█████████▋| 983/1014 [32:26<00:32,  1.06s/it]\u001b[A\u001b[A"
          ]
        },
        {
          "output_type": "stream",
          "name": "stdout",
          "text": [
            " No clear answer.\n"
          ]
        },
        {
          "output_type": "stream",
          "name": "stderr",
          "text": [
            "\n",
            "\n",
            " 97%|█████████▋| 984/1014 [32:27<00:29,  1.00it/s]\u001b[A\u001b[A"
          ]
        },
        {
          "output_type": "stream",
          "name": "stdout",
          "text": [
            " Hypermarkets\n"
          ]
        },
        {
          "output_type": "stream",
          "name": "stderr",
          "text": [
            "\n",
            "\n",
            " 97%|█████████▋| 985/1014 [32:30<00:44,  1.53s/it]\u001b[A\u001b[A"
          ]
        },
        {
          "output_type": "stream",
          "name": "stdout",
          "text": [
            " The question being asked is not related to the given context and cannot be answered based on the provided text.\n"
          ]
        },
        {
          "output_type": "stream",
          "name": "stderr",
          "text": [
            "\n",
            "\n",
            " 97%|█████████▋| 986/1014 [32:30<00:37,  1.35s/it]\u001b[A\u001b[A"
          ]
        },
        {
          "output_type": "stream",
          "name": "stdout",
          "text": [
            " Nancy Verbrugghe\n"
          ]
        },
        {
          "output_type": "stream",
          "name": "stderr",
          "text": [
            "\n",
            "\n",
            " 97%|█████████▋| 987/1014 [32:32<00:36,  1.36s/it]\u001b[A\u001b[A"
          ]
        },
        {
          "output_type": "stream",
          "name": "stdout",
          "text": [
            " February 2014\n"
          ]
        },
        {
          "output_type": "stream",
          "name": "stderr",
          "text": [
            "\n",
            "\n",
            " 97%|█████████▋| 988/1014 [32:33<00:34,  1.31s/it]\u001b[A\u001b[A"
          ]
        },
        {
          "output_type": "stream",
          "name": "stdout",
          "text": [
            " Reverse Proxy\n"
          ]
        },
        {
          "output_type": "stream",
          "name": "stderr",
          "text": [
            "\n",
            "\n",
            " 98%|█████████▊| 989/1014 [32:34<00:30,  1.22s/it]\u001b[A\u001b[A"
          ]
        },
        {
          "output_type": "stream",
          "name": "stdout",
          "text": [
            " 9th place\n"
          ]
        },
        {
          "output_type": "stream",
          "name": "stderr",
          "text": [
            "\n",
            "\n",
            " 98%|█████████▊| 990/1014 [32:36<00:33,  1.39s/it]\u001b[A\u001b[A"
          ]
        },
        {
          "output_type": "stream",
          "name": "stdout",
          "text": [
            " Apache Airflow\n"
          ]
        },
        {
          "output_type": "stream",
          "name": "stderr",
          "text": [
            "\n",
            "\n",
            " 98%|█████████▊| 991/1014 [32:38<00:34,  1.51s/it]\u001b[A\u001b[A"
          ]
        },
        {
          "output_type": "stream",
          "name": "stdout",
          "text": [
            " Summer and winter.\n"
          ]
        },
        {
          "output_type": "stream",
          "name": "stderr",
          "text": [
            "\n",
            "\n",
            " 98%|█████████▊| 992/1014 [32:39<00:34,  1.57s/it]\u001b[A\u001b[A"
          ]
        },
        {
          "output_type": "stream",
          "name": "stdout",
          "text": [
            " competition, inventory\n"
          ]
        },
        {
          "output_type": "stream",
          "name": "stderr",
          "text": [
            "\n",
            "\n",
            " 98%|█████████▊| 993/1014 [32:42<00:38,  1.81s/it]\u001b[A\u001b[A"
          ]
        },
        {
          "output_type": "stream",
          "name": "stdout",
          "text": [
            " Shapes\n"
          ]
        },
        {
          "output_type": "stream",
          "name": "stderr",
          "text": [
            "\n",
            "\n",
            " 98%|█████████▊| 994/1014 [32:42<00:27,  1.39s/it]\u001b[A\u001b[A"
          ]
        },
        {
          "output_type": "stream",
          "name": "stdout",
          "text": [
            "Error processing ID 993: Error code: 400 - {'detail': 'Content Exists Risk'}\n"
          ]
        },
        {
          "output_type": "stream",
          "name": "stderr",
          "text": [
            "\n",
            "\n",
            " 98%|█████████▊| 995/1014 [32:46<00:39,  2.10s/it]\u001b[A\u001b[A"
          ]
        },
        {
          "output_type": "stream",
          "name": "stdout",
          "text": [
            " Sensory input, Integration, Motor output.\n"
          ]
        },
        {
          "output_type": "stream",
          "name": "stderr",
          "text": [
            "\n",
            "\n",
            " 98%|█████████▊| 996/1014 [32:47<00:32,  1.79s/it]\u001b[A\u001b[A"
          ]
        },
        {
          "output_type": "stream",
          "name": "stdout",
          "text": [
            " Login Horizon.\n"
          ]
        },
        {
          "output_type": "stream",
          "name": "stderr",
          "text": [
            "\n",
            "\n",
            " 98%|█████████▊| 997/1014 [32:48<00:27,  1.59s/it]\u001b[A\u001b[A"
          ]
        },
        {
          "output_type": "stream",
          "name": "stdout",
          "text": [
            " values\n",
            "Models\n"
          ]
        },
        {
          "output_type": "stream",
          "name": "stderr",
          "text": [
            "\n",
            "\n",
            " 98%|█████████▊| 998/1014 [32:49<00:22,  1.43s/it]\u001b[A\u001b[A"
          ]
        },
        {
          "output_type": "stream",
          "name": "stdout",
          "text": [
            " Enveloped\n"
          ]
        },
        {
          "output_type": "stream",
          "name": "stderr",
          "text": [
            "\n",
            "\n",
            " 99%|█████████▊| 999/1014 [33:02<01:11,  4.74s/it]\u001b[A\u001b[A"
          ]
        },
        {
          "output_type": "stream",
          "name": "stdout",
          "text": [
            " There is insufficient information provided in the figure or given context to accurately identify the number of types of 2-wheeler automobiles mentioned. The figure may refer to many things, including units of sale, models, or manufacturers, and without knowing what specifically the graph symbolizes, it is impossible to determine the types of 2-wheeler vehicles. Additionally, the given context does not reveal any explicit information about the classification or types of 2-wheeler automobiles.\n"
          ]
        },
        {
          "output_type": "stream",
          "name": "stderr",
          "text": [
            "\n",
            "\n",
            " 99%|█████████▊| 1000/1014 [33:02<00:49,  3.56s/it]\u001b[A\u001b[A"
          ]
        },
        {
          "output_type": "stream",
          "name": "stdout",
          "text": [
            " Luxury Collection\n"
          ]
        },
        {
          "output_type": "stream",
          "name": "stderr",
          "text": [
            "\n",
            "\n",
            " 99%|█████████▊| 1001/1014 [33:05<00:42,  3.24s/it]\u001b[A\u001b[A"
          ]
        },
        {
          "output_type": "stream",
          "name": "stdout",
          "text": [
            " Vehicle-to-everything (V2X) communication.\n"
          ]
        },
        {
          "output_type": "stream",
          "name": "stderr",
          "text": [
            "\n",
            "\n",
            " 99%|█████████▉| 1002/1014 [33:06<00:32,  2.69s/it]\u001b[A\u001b[A"
          ]
        },
        {
          "output_type": "stream",
          "name": "stdout",
          "text": [
            " Manchester Metropolitan University (MMU)\n"
          ]
        },
        {
          "output_type": "stream",
          "name": "stderr",
          "text": [
            "\n",
            "\n",
            " 99%|█████████▉| 1003/1014 [33:08<00:24,  2.26s/it]\u001b[A\u001b[A"
          ]
        },
        {
          "output_type": "stream",
          "name": "stdout",
          "text": [
            " Ecosystem.\n"
          ]
        },
        {
          "output_type": "stream",
          "name": "stderr",
          "text": [
            "\n",
            "\n",
            " 99%|█████████▉| 1004/1014 [33:10<00:23,  2.31s/it]\u001b[A\u001b[A"
          ]
        },
        {
          "output_type": "stream",
          "name": "stdout",
          "text": [
            " User Generated Content (UGC).\n"
          ]
        },
        {
          "output_type": "stream",
          "name": "stderr",
          "text": [
            "\n",
            "\n",
            " 99%|█████████▉| 1005/1014 [33:11<00:17,  1.89s/it]\u001b[A\u001b[A"
          ]
        },
        {
          "output_type": "stream",
          "name": "stdout",
          "text": [
            " Raymond Reeves\n"
          ]
        },
        {
          "output_type": "stream",
          "name": "stderr",
          "text": [
            "\n",
            "\n",
            " 99%|█████████▉| 1006/1014 [33:12<00:12,  1.58s/it]\u001b[A\u001b[A"
          ]
        },
        {
          "output_type": "stream",
          "name": "stdout",
          "text": [
            " Android\n"
          ]
        },
        {
          "output_type": "stream",
          "name": "stderr",
          "text": [
            "\n",
            "\n",
            " 99%|█████████▉| 1007/1014 [33:13<00:09,  1.35s/it]\u001b[A\u001b[A"
          ]
        },
        {
          "output_type": "stream",
          "name": "stdout",
          "text": [
            " Campaign Management\n"
          ]
        },
        {
          "output_type": "stream",
          "name": "stderr",
          "text": [
            "\n",
            "\n",
            " 99%|█████████▉| 1008/1014 [33:14<00:07,  1.30s/it]\u001b[A\u001b[A"
          ]
        },
        {
          "output_type": "stream",
          "name": "stdout",
          "text": [
            " 10Mbps\n"
          ]
        },
        {
          "output_type": "stream",
          "name": "stderr",
          "text": [
            "\n",
            "\n",
            "100%|█████████▉| 1009/1014 [33:15<00:06,  1.38s/it]\u001b[A\u001b[A"
          ]
        },
        {
          "output_type": "stream",
          "name": "stdout",
          "text": [
            " 9 percentage\n"
          ]
        },
        {
          "output_type": "stream",
          "name": "stderr",
          "text": [
            "\n",
            "\n",
            "100%|█████████▉| 1010/1014 [33:20<00:09,  2.35s/it]\u001b[A\u001b[A"
          ]
        },
        {
          "output_type": "stream",
          "name": "stdout",
          "text": [
            " Non-agile culture focuses on rigid processes and linear workflows, whereas agile culture emphasizes flexibility, continuous interactions, and customer feedback. Non-agile culture is often characterized by a fixed development cycle and a lack of adaptability, while agile culture prioritizes adaptability, customer satisfaction, and quick response to changes.\n"
          ]
        },
        {
          "output_type": "stream",
          "name": "stderr",
          "text": [
            "\n",
            "\n",
            "100%|█████████▉| 1011/1014 [33:21<00:05,  1.92s/it]\u001b[A\u001b[A"
          ]
        },
        {
          "output_type": "stream",
          "name": "stdout",
          "text": [
            " Output, Efficiency\n"
          ]
        },
        {
          "output_type": "stream",
          "name": "stderr",
          "text": [
            "\n",
            "\n",
            "100%|█████████▉| 1012/1014 [33:22<00:03,  1.68s/it]\u001b[A\u001b[A"
          ]
        },
        {
          "output_type": "stream",
          "name": "stdout",
          "text": [
            " +6068\n"
          ]
        },
        {
          "output_type": "stream",
          "name": "stderr",
          "text": [
            "\n",
            "\n",
            "100%|█████████▉| 1013/1014 [33:24<00:01,  1.90s/it]\u001b[A\u001b[A"
          ]
        },
        {
          "output_type": "stream",
          "name": "stdout",
          "text": [
            " Ross Dawson's website URL: https://rossdawson.com/\n"
          ]
        },
        {
          "output_type": "stream",
          "name": "stderr",
          "text": [
            "\n",
            "\n",
            "100%|██████████| 1014/1014 [33:26<00:00,  1.98s/it]"
          ]
        },
        {
          "output_type": "stream",
          "name": "stdout",
          "text": [
            " GFRP, CFRP, AFRP\n",
            "        ID                                          deck_name  \\\n",
            "0        0  8eeomnwqsmdmin6levsv-signature-2693c633d5e2c6d...   \n",
            "1        1  bigdataanalyticsasocialnetworkapproach-1506091...   \n",
            "2        2            analytics1-151203211051-lva1-app6892_95   \n",
            "3        3  areyoureadyforthemobilegeddon-150507052350-lva...   \n",
            "4        4  anatomyofboneandcartilage1-150828115100-lva1-a...   \n",
            "...    ...                                                ...   \n",
            "1009  1009          agiledatascience-140624145954-phpapp02_95   \n",
            "1010  1010  141121organicwayforward-141123090600-conversio...   \n",
            "1011  1011  aquacultureproducerorganisationscairo25sept201...   \n",
            "1012  1012  buildakickassteam-nopingpongtablerequired-1511...   \n",
            "1013  1013     buselmay2012-141017152353-conversion-gate02_95   \n",
            "\n",
            "                                               question  \\\n",
            "0     Which country had the higher percentage of Tab...   \n",
            "1     When was #prayforjapan a Twitter trending topi...   \n",
            "2                What is Canada's capability gap score?   \n",
            "3     On what date was the post \"Rolling out the mob...   \n",
            "4     How many stages are there in the process which...   \n",
            "...                                                 ...   \n",
            "1009  What's the difference between non-agile and ag...   \n",
            "1010  What are the elements of Production & Producti...   \n",
            "1011  What is the difference in revenue per farmer p...   \n",
            "1012                 What is Ross Dawson's website URL?   \n",
            "1013  What are three FIBER REINFORCED POLYMER compos...   \n",
            "\n",
            "                                               ocr_text  \\\n",
            "0     Mobile moments categoriesCategoryConsumer Sale...   \n",
            "1     METRIK CENTRALITYHypothetical graph 22t7247 27...   \n",
            "2     Graphic Deloitte University Press DUPress.com....   \n",
            "3     Google Webmaster Central BlogOfficial news cra...   \n",
            "4     STEP Remodeling creates amarrow cavity bone re...   \n",
            "...                                                 ...   \n",
            "1009  How analytics platform deployed andconnected n...   \n",
            "1010  Awards Recognitions Anak2014 Best Rural Innova...   \n",
            "1011  Indian societies lessons learned There signifi...   \n",
            "1012  ONE oN FRANCOIS MAZOUDIER 10 YEARS IN OPERATIO...   \n",
            "1013  Pultrusion Process ManufacturingSSHeated Cured...   \n",
            "\n",
            "                                            pred_answer  \n",
            "0                                                Russia  \n",
            "1                                            March 2011  \n",
            "2                                         Not provided.  \n",
            "3                                              April 21  \n",
            "4                                           Six stages.  \n",
            "...                                                 ...  \n",
            "1009   Non-agile culture focuses on rigid processes ...  \n",
            "1010                                 Output, Efficiency  \n",
            "1011                                              +6068  \n",
            "1012   Ross Dawson's website URL: https://rossdawson...  \n",
            "1013                                   GFRP, CFRP, AFRP  \n",
            "\n",
            "[1014 rows x 5 columns]\n"
          ]
        },
        {
          "output_type": "stream",
          "name": "stderr",
          "text": [
            "\n"
          ]
        }
      ]
    },
    {
      "cell_type": "code",
      "execution_count": null,
      "metadata": {
        "colab": {
          "base_uri": "https://localhost:8080/",
          "height": 206
        },
        "id": "aLFQ1vN_7AiP",
        "outputId": "7b90a4ab-0420-4d62-c72b-a8d39b337ae7"
      },
      "outputs": [
        {
          "output_type": "execute_result",
          "data": {
            "text/plain": [
              "   ID                                          deck_name  \\\n",
              "0   0  8eeomnwqsmdmin6levsv-signature-2693c633d5e2c6d...   \n",
              "1   1  bigdataanalyticsasocialnetworkapproach-1506091...   \n",
              "2   2            analytics1-151203211051-lva1-app6892_95   \n",
              "3   3  areyoureadyforthemobilegeddon-150507052350-lva...   \n",
              "4   4  anatomyofboneandcartilage1-150828115100-lva1-a...   \n",
              "\n",
              "                                            question  \\\n",
              "0  Which country had the higher percentage of Tab...   \n",
              "1  When was #prayforjapan a Twitter trending topi...   \n",
              "2             What is Canada's capability gap score?   \n",
              "3  On what date was the post \"Rolling out the mob...   \n",
              "4  How many stages are there in the process which...   \n",
              "\n",
              "                                            ocr_text     pred_answer  \n",
              "0  Mobile moments categoriesCategoryConsumer Sale...          Russia  \n",
              "1  METRIK CENTRALITYHypothetical graph 22t7247 27...      March 2011  \n",
              "2  Graphic Deloitte University Press DUPress.com....   Not provided.  \n",
              "3  Google Webmaster Central BlogOfficial news cra...        April 21  \n",
              "4  STEP Remodeling creates amarrow cavity bone re...     Six stages.  "
            ],
            "text/html": [
              "\n",
              "  <div id=\"df-a8d24823-a45e-4429-bd58-58482a6055de\" class=\"colab-df-container\">\n",
              "    <div>\n",
              "<style scoped>\n",
              "    .dataframe tbody tr th:only-of-type {\n",
              "        vertical-align: middle;\n",
              "    }\n",
              "\n",
              "    .dataframe tbody tr th {\n",
              "        vertical-align: top;\n",
              "    }\n",
              "\n",
              "    .dataframe thead th {\n",
              "        text-align: right;\n",
              "    }\n",
              "</style>\n",
              "<table border=\"1\" class=\"dataframe\">\n",
              "  <thead>\n",
              "    <tr style=\"text-align: right;\">\n",
              "      <th></th>\n",
              "      <th>ID</th>\n",
              "      <th>deck_name</th>\n",
              "      <th>question</th>\n",
              "      <th>ocr_text</th>\n",
              "      <th>pred_answer</th>\n",
              "    </tr>\n",
              "  </thead>\n",
              "  <tbody>\n",
              "    <tr>\n",
              "      <th>0</th>\n",
              "      <td>0</td>\n",
              "      <td>8eeomnwqsmdmin6levsv-signature-2693c633d5e2c6d...</td>\n",
              "      <td>Which country had the higher percentage of Tab...</td>\n",
              "      <td>Mobile moments categoriesCategoryConsumer Sale...</td>\n",
              "      <td>Russia</td>\n",
              "    </tr>\n",
              "    <tr>\n",
              "      <th>1</th>\n",
              "      <td>1</td>\n",
              "      <td>bigdataanalyticsasocialnetworkapproach-1506091...</td>\n",
              "      <td>When was #prayforjapan a Twitter trending topi...</td>\n",
              "      <td>METRIK CENTRALITYHypothetical graph 22t7247 27...</td>\n",
              "      <td>March 2011</td>\n",
              "    </tr>\n",
              "    <tr>\n",
              "      <th>2</th>\n",
              "      <td>2</td>\n",
              "      <td>analytics1-151203211051-lva1-app6892_95</td>\n",
              "      <td>What is Canada's capability gap score?</td>\n",
              "      <td>Graphic Deloitte University Press DUPress.com....</td>\n",
              "      <td>Not provided.</td>\n",
              "    </tr>\n",
              "    <tr>\n",
              "      <th>3</th>\n",
              "      <td>3</td>\n",
              "      <td>areyoureadyforthemobilegeddon-150507052350-lva...</td>\n",
              "      <td>On what date was the post \"Rolling out the mob...</td>\n",
              "      <td>Google Webmaster Central BlogOfficial news cra...</td>\n",
              "      <td>April 21</td>\n",
              "    </tr>\n",
              "    <tr>\n",
              "      <th>4</th>\n",
              "      <td>4</td>\n",
              "      <td>anatomyofboneandcartilage1-150828115100-lva1-a...</td>\n",
              "      <td>How many stages are there in the process which...</td>\n",
              "      <td>STEP Remodeling creates amarrow cavity bone re...</td>\n",
              "      <td>Six stages.</td>\n",
              "    </tr>\n",
              "  </tbody>\n",
              "</table>\n",
              "</div>\n",
              "    <div class=\"colab-df-buttons\">\n",
              "\n",
              "  <div class=\"colab-df-container\">\n",
              "    <button class=\"colab-df-convert\" onclick=\"convertToInteractive('df-a8d24823-a45e-4429-bd58-58482a6055de')\"\n",
              "            title=\"Convert this dataframe to an interactive table.\"\n",
              "            style=\"display:none;\">\n",
              "\n",
              "  <svg xmlns=\"http://www.w3.org/2000/svg\" height=\"24px\" viewBox=\"0 -960 960 960\">\n",
              "    <path d=\"M120-120v-720h720v720H120Zm60-500h600v-160H180v160Zm220 220h160v-160H400v160Zm0 220h160v-160H400v160ZM180-400h160v-160H180v160Zm440 0h160v-160H620v160ZM180-180h160v-160H180v160Zm440 0h160v-160H620v160Z\"/>\n",
              "  </svg>\n",
              "    </button>\n",
              "\n",
              "  <style>\n",
              "    .colab-df-container {\n",
              "      display:flex;\n",
              "      gap: 12px;\n",
              "    }\n",
              "\n",
              "    .colab-df-convert {\n",
              "      background-color: #E8F0FE;\n",
              "      border: none;\n",
              "      border-radius: 50%;\n",
              "      cursor: pointer;\n",
              "      display: none;\n",
              "      fill: #1967D2;\n",
              "      height: 32px;\n",
              "      padding: 0 0 0 0;\n",
              "      width: 32px;\n",
              "    }\n",
              "\n",
              "    .colab-df-convert:hover {\n",
              "      background-color: #E2EBFA;\n",
              "      box-shadow: 0px 1px 2px rgba(60, 64, 67, 0.3), 0px 1px 3px 1px rgba(60, 64, 67, 0.15);\n",
              "      fill: #174EA6;\n",
              "    }\n",
              "\n",
              "    .colab-df-buttons div {\n",
              "      margin-bottom: 4px;\n",
              "    }\n",
              "\n",
              "    [theme=dark] .colab-df-convert {\n",
              "      background-color: #3B4455;\n",
              "      fill: #D2E3FC;\n",
              "    }\n",
              "\n",
              "    [theme=dark] .colab-df-convert:hover {\n",
              "      background-color: #434B5C;\n",
              "      box-shadow: 0px 1px 3px 1px rgba(0, 0, 0, 0.15);\n",
              "      filter: drop-shadow(0px 1px 2px rgba(0, 0, 0, 0.3));\n",
              "      fill: #FFFFFF;\n",
              "    }\n",
              "  </style>\n",
              "\n",
              "    <script>\n",
              "      const buttonEl =\n",
              "        document.querySelector('#df-a8d24823-a45e-4429-bd58-58482a6055de button.colab-df-convert');\n",
              "      buttonEl.style.display =\n",
              "        google.colab.kernel.accessAllowed ? 'block' : 'none';\n",
              "\n",
              "      async function convertToInteractive(key) {\n",
              "        const element = document.querySelector('#df-a8d24823-a45e-4429-bd58-58482a6055de');\n",
              "        const dataTable =\n",
              "          await google.colab.kernel.invokeFunction('convertToInteractive',\n",
              "                                                    [key], {});\n",
              "        if (!dataTable) return;\n",
              "\n",
              "        const docLinkHtml = 'Like what you see? Visit the ' +\n",
              "          '<a target=\"_blank\" href=https://colab.research.google.com/notebooks/data_table.ipynb>data table notebook</a>'\n",
              "          + ' to learn more about interactive tables.';\n",
              "        element.innerHTML = '';\n",
              "        dataTable['output_type'] = 'display_data';\n",
              "        await google.colab.output.renderOutput(dataTable, element);\n",
              "        const docLink = document.createElement('div');\n",
              "        docLink.innerHTML = docLinkHtml;\n",
              "        element.appendChild(docLink);\n",
              "      }\n",
              "    </script>\n",
              "  </div>\n",
              "\n",
              "\n",
              "<div id=\"df-6a818307-4ad8-46a8-9120-89cffee4e1ac\">\n",
              "  <button class=\"colab-df-quickchart\" onclick=\"quickchart('df-6a818307-4ad8-46a8-9120-89cffee4e1ac')\"\n",
              "            title=\"Suggest charts\"\n",
              "            style=\"display:none;\">\n",
              "\n",
              "<svg xmlns=\"http://www.w3.org/2000/svg\" height=\"24px\"viewBox=\"0 0 24 24\"\n",
              "     width=\"24px\">\n",
              "    <g>\n",
              "        <path d=\"M19 3H5c-1.1 0-2 .9-2 2v14c0 1.1.9 2 2 2h14c1.1 0 2-.9 2-2V5c0-1.1-.9-2-2-2zM9 17H7v-7h2v7zm4 0h-2V7h2v10zm4 0h-2v-4h2v4z\"/>\n",
              "    </g>\n",
              "</svg>\n",
              "  </button>\n",
              "\n",
              "<style>\n",
              "  .colab-df-quickchart {\n",
              "      --bg-color: #E8F0FE;\n",
              "      --fill-color: #1967D2;\n",
              "      --hover-bg-color: #E2EBFA;\n",
              "      --hover-fill-color: #174EA6;\n",
              "      --disabled-fill-color: #AAA;\n",
              "      --disabled-bg-color: #DDD;\n",
              "  }\n",
              "\n",
              "  [theme=dark] .colab-df-quickchart {\n",
              "      --bg-color: #3B4455;\n",
              "      --fill-color: #D2E3FC;\n",
              "      --hover-bg-color: #434B5C;\n",
              "      --hover-fill-color: #FFFFFF;\n",
              "      --disabled-bg-color: #3B4455;\n",
              "      --disabled-fill-color: #666;\n",
              "  }\n",
              "\n",
              "  .colab-df-quickchart {\n",
              "    background-color: var(--bg-color);\n",
              "    border: none;\n",
              "    border-radius: 50%;\n",
              "    cursor: pointer;\n",
              "    display: none;\n",
              "    fill: var(--fill-color);\n",
              "    height: 32px;\n",
              "    padding: 0;\n",
              "    width: 32px;\n",
              "  }\n",
              "\n",
              "  .colab-df-quickchart:hover {\n",
              "    background-color: var(--hover-bg-color);\n",
              "    box-shadow: 0 1px 2px rgba(60, 64, 67, 0.3), 0 1px 3px 1px rgba(60, 64, 67, 0.15);\n",
              "    fill: var(--button-hover-fill-color);\n",
              "  }\n",
              "\n",
              "  .colab-df-quickchart-complete:disabled,\n",
              "  .colab-df-quickchart-complete:disabled:hover {\n",
              "    background-color: var(--disabled-bg-color);\n",
              "    fill: var(--disabled-fill-color);\n",
              "    box-shadow: none;\n",
              "  }\n",
              "\n",
              "  .colab-df-spinner {\n",
              "    border: 2px solid var(--fill-color);\n",
              "    border-color: transparent;\n",
              "    border-bottom-color: var(--fill-color);\n",
              "    animation:\n",
              "      spin 1s steps(1) infinite;\n",
              "  }\n",
              "\n",
              "  @keyframes spin {\n",
              "    0% {\n",
              "      border-color: transparent;\n",
              "      border-bottom-color: var(--fill-color);\n",
              "      border-left-color: var(--fill-color);\n",
              "    }\n",
              "    20% {\n",
              "      border-color: transparent;\n",
              "      border-left-color: var(--fill-color);\n",
              "      border-top-color: var(--fill-color);\n",
              "    }\n",
              "    30% {\n",
              "      border-color: transparent;\n",
              "      border-left-color: var(--fill-color);\n",
              "      border-top-color: var(--fill-color);\n",
              "      border-right-color: var(--fill-color);\n",
              "    }\n",
              "    40% {\n",
              "      border-color: transparent;\n",
              "      border-right-color: var(--fill-color);\n",
              "      border-top-color: var(--fill-color);\n",
              "    }\n",
              "    60% {\n",
              "      border-color: transparent;\n",
              "      border-right-color: var(--fill-color);\n",
              "    }\n",
              "    80% {\n",
              "      border-color: transparent;\n",
              "      border-right-color: var(--fill-color);\n",
              "      border-bottom-color: var(--fill-color);\n",
              "    }\n",
              "    90% {\n",
              "      border-color: transparent;\n",
              "      border-bottom-color: var(--fill-color);\n",
              "    }\n",
              "  }\n",
              "</style>\n",
              "\n",
              "  <script>\n",
              "    async function quickchart(key) {\n",
              "      const quickchartButtonEl =\n",
              "        document.querySelector('#' + key + ' button');\n",
              "      quickchartButtonEl.disabled = true;  // To prevent multiple clicks.\n",
              "      quickchartButtonEl.classList.add('colab-df-spinner');\n",
              "      try {\n",
              "        const charts = await google.colab.kernel.invokeFunction(\n",
              "            'suggestCharts', [key], {});\n",
              "      } catch (error) {\n",
              "        console.error('Error during call to suggestCharts:', error);\n",
              "      }\n",
              "      quickchartButtonEl.classList.remove('colab-df-spinner');\n",
              "      quickchartButtonEl.classList.add('colab-df-quickchart-complete');\n",
              "    }\n",
              "    (() => {\n",
              "      let quickchartButtonEl =\n",
              "        document.querySelector('#df-6a818307-4ad8-46a8-9120-89cffee4e1ac button');\n",
              "      quickchartButtonEl.style.display =\n",
              "        google.colab.kernel.accessAllowed ? 'block' : 'none';\n",
              "    })();\n",
              "  </script>\n",
              "</div>\n",
              "    </div>\n",
              "  </div>\n"
            ],
            "application/vnd.google.colaboratory.intrinsic+json": {
              "type": "dataframe",
              "variable_name": "df_with_ocr",
              "summary": "{\n  \"name\": \"df_with_ocr\",\n  \"rows\": 1014,\n  \"fields\": [\n    {\n      \"column\": \"ID\",\n      \"properties\": {\n        \"dtype\": \"number\",\n        \"std\": 292,\n        \"min\": 0,\n        \"max\": 1013,\n        \"num_unique_values\": 1014,\n        \"samples\": [\n          752,\n          519,\n          210\n        ],\n        \"semantic_type\": \"\",\n        \"description\": \"\"\n      }\n    },\n    {\n      \"column\": \"deck_name\",\n      \"properties\": {\n        \"dtype\": \"category\",\n        \"num_unique_values\": 193,\n        \"samples\": [\n          \"consultselling-150818132925-lva1-app6892_95\",\n          \"cmigq7qvsnisuodbt0y9-140511134622-phpapp01_95\",\n          \"2014globaldigitalsociallandscape-140803004322-phpapp02_95\"\n        ],\n        \"semantic_type\": \"\",\n        \"description\": \"\"\n      }\n    },\n    {\n      \"column\": \"question\",\n      \"properties\": {\n        \"dtype\": \"string\",\n        \"num_unique_values\": 1014,\n        \"samples\": [\n          \"What is Francois Mazoudier's title?\",\n          \"In what year was blockchain introduced?\",\n          \"What did the ONLINE DISPLAY do?\"\n        ],\n        \"semantic_type\": \"\",\n        \"description\": \"\"\n      }\n    },\n    {\n      \"column\": \"ocr_text\",\n      \"properties\": {\n        \"dtype\": \"category\",\n        \"num_unique_values\": 193,\n        \"samples\": [\n          \"Overall GoalsTargeted AccountsTarget High Leveraged AccountsStrategically Tactically Plan Advance Sale inthese AccountsPenetrate Accounts Strong Listening Questioning Problem Solving SkillsClose WinWin AgreementsModel Il BehaviorMaking Informed Decisions based valid illustrated dataWorking hard questioning probing analyzing get thatvalid illustrated dataRedYour Territory Your BusinessWhat qualities Business Leader Focused Key Success FactorsDTi FU Madea ATES Targeting Leveraged OpportunitiesFocused ObjectivesObtain Depth Information Customer NeedsAppropriate Use CurrenciesWinWin AgreementsMeasured ResultsCorrective ActionRdLeadershipHow Best See ThemselvesTheir important trait seeA ateTai toro hteA StrategicThinker You specific goals plans Youneed know must accomplish must bedone measure results.ResultsOriented You dont want waste time Youchoose actions lead results.The Best You decided best youwill continue best This decision affects everythingyou do.RedUl MMe lela eeeModel Governing ValuesAchieve intended purposewithout examining validatingwhat whyBe ControlMaximize winning minimizelosingSuppressavoid negativefeelingsfoyer CTU aWIEN ee RsUl eee McC Hl see `` You always.Obviously I assumeAdvocate courses action whichdiscourage inquiry The numbers aren'tfiat ses nm Mach Cce clonBit lae alee oe mme eee meee toleFacesaving moves leaving potentiallyembarrassing facts unstated.ConsequencesBice Mtoe nial O1 PSU ea ottoDysfunctional communicationReduced production valid informationDistortion RealityLittle learningRaedConsultative Selling DefinitionConsultative Selling defined Process builds belief uncoveringbuyer needs levels economic technical personal organizational meeting needs drive buying decisions.StrengthsBalances Company productservice line real customer needs.Understands gets critical customer needs data totalaccount individual buying influences.Gears product concept information accountindividual needs.Tends ask great questions.Exhibits Model fl BehaviorBe ox Can sometimes miss obstacles generated personal buyer issues.Mode Il Behavior overcome trap.RadInitial Role PlayHow Assess YourselfTook time listen understand responding ortrying offer solutions.Used strong active listening skills asked open yetspecific questions clarified underlying needs NZcU WC oclir Mel MUI Rel ClimRarDont AssumeDont React ... This isa PROCESS NOT Event Price reduction Done anaSM GNM COB Crt CoroRon tt lote tea Everyones EN oarthr cyCe Bre ere tty PYeonUlehaee Teccetseni og What MEANPca Try understand behind fear Re elo Too Much Work Look Long Term Value Tiv toWy determine feel waySy Loyalty competitor Whar reason like Insecure fully understand cither financialimplications andor long term value Do threaten look deeper need go REAL NEEDS Probe find Match CurrenLook Currency Exchange fant achieve specific goal Want recognizedRee Ladder Inference take Actions based beliefs draw conclusionsMake Assumptions based themeanings addedAdd meanings dataSelect Data observeRaedet IMI ME ela adieModel Il Governing ValuesValidate information beforeacting itMaking informed choices basedon credible wellthought ourinformation matter howlereUcliVigilantly monitor choices tocorrect errors internalcommitment Engage embarrassment andthreatsfoyer ltrs koaNa el eam Ue Ure lam ILO IiECcze hard dataSurfacing conflicting views andTaleo CHa Encouraging public testing ofevaiuationsere teen Minimally defensive relationshipsQuality decisions actionsIncreased fikelihood tearningRaedYour Territory Your BusinessWhat qualities Business Leader Spends Time Highly Focused High LeveragedOpportunitiesSpend Your Time Accounts Large PayoffCreative Approach Get Those Accounts Commitand CloseUses Data Competitive AdvantageKnow What Currencies UseMeasures Actions ResultsLooks Windows Opportunity DataAeKey Sales Skills Required To MoveCustomers Through A Sales CycleInformation Getting BehaviorsAccount utilization data.Climate Building Skills.Skills uncovering prioritizing customer needs Questioning Skills.Skills uncovering prioritizing customer needs Listening Skills.Skills surfacing objections responding objections.RaeLeadershipHow Best See ThemselvesTheir important trait seeato osSelfEmployed You boss If somethingswrong first challenge tochange it.A Product Consultant Your job sell toidentify solve customer needs problems.A Business Consultant Examine account give adiagnosis present solutions.Ra ObjectivesConduct comprehensive analysis key buyers every account.Employ consultative selling techniques.Use better tools get information customer needs giveinformation highly relevant needs.Better deal objections Company products.Negotiate skillfully.Understand value uses Model II Behavior.Be able apply new skills tools real customer situations.Use practical tools help TMs manage customers andAoi Me el ehRelationship MatrixAccount Planning Too eT Tm UU eae NSU OLS eRr Consultative Selling WorkshopDefensive ReasoningPremises develop support causal explanations aretacit andor softThe inference process go premisesiCOMVel meld Ce ce mcaVery vehement defensive claims offendedSAM Mears eee ym cliCerclacey Blame others environment thus absolving selfLook others reinforce Defensive ReasoningIf behavior driven wanting seen asincompetent weak may lead hide things frommyself others order avoid negative feelings.Stide 20Advancing SaleThe goal customer interactions close every timeThe goal Advance SaleAdvancing Sale means moving customer closer closerto higher utilization better understanding needs andshowing Company products meet needs.Effectiveness depends Your knowledge businessindustrycustomerYour ability build maintain relationshipsYour skills matching Company productservice benefits realUES colen mma 1019ReedTheories ActionTheories Action determine human behavior action GoverningValues Cet Cer Strategy Consequences Single Loop Learning Double Loop Learning Double Loop Learning effective way making informedCele ee ee ML ARR Mi eee dDReyDifficulty Changing Model Model IIPeople skillfully incompetentWe unaware mismatches ourincompetenceModel behaviors taken granted used skillfully andconstantly reinforcedPeople often see Model behaviors caring andsupportiveCUR CRC eC RUC lOLel ibaStide 17Theories Action Espoused Theoriesome stoaltericy Attitudes MeleeCome CeiUremsiugre hued Action Maps Values Unconscious CausalitiesESE Oe nde `` Pe craes Pi lrteeeahetiishl oc Actions Policies PracticesBeeHO aae 11 mHoeBtBeSe SaadRedKey Sales Skills Required To MoveCustomers Through A Sales CycleInformation Giving BehaviorsStatements positively position Company appropriately.Clinical economic data supports increased productutilization.Statement respond objections.Next step proposals.Red\",\n          \"SOME IMPORTANT TERMS USED IN BRICK MASONRY COURSEEach horizontal layer bricks laid mortar brick work called acourse STRETCHERBrick laid length horizontal parallel face thewall masonry member called `` Stretcher '' course inwhich bricks laid Stretchers called Stretchingcourse '' `` Stretcher course '' .moe gt oeres BULL NOSEBRICK MASONRYWhen bricks laid mortar proper systematicmanner form homogeneous mass canwithstand forces without disintegration This mass ofthe structure made use bricks called '' Brick Masonry '' simply `` Brick work '' .Bricks uniform size shape light weight durable fire resistant high resale value lowmaintenance cost easily available plainareas.Brick Masonry commonly used construction ofordinary well important buildings plain areasnowadays.SOME IMPORTANT TERMS USED IN BRICK MASONRYThese sizes called `` Nominal designated orformat sizes '' used estimating thenumber bricks given volume structure.The actual sizes bricks aremanufactured slightly smaller allow thelayer mortar present around brick usually taken 38 thick.The Actual Work size English standardbrick mostly used Pakistan usuallytaken 58 18 58 TYPES OF BONDS ENGLISH BONDThe bond headers stretchers laid inalternate courses called `` English bond '' .ENGUSH BONO Dn ELEV SIREIHING CouRse SOME IMPORTANT TERMS USED IN BRICK MASONRY POSITION OF BRICKS The position brick laid Frogupward horizontal plane termed asBrick bed The position brick laid itsside `` frog vertical planeis called `` Brick edge '' The position brick laid side `` 412 '' frog vertical plane iscalled `` Brick end '' SOME IMPORTANT TERMS USED IN BRICK MASONRY 17 JAMBThe vertical sides door window openings provided ina wall known `` Jambs '' 18 REVEALSThe part Jamb opening exposed betweena door window frame face back wall isknown `` Reveal '' 19 SILLThe horizontal part either timber concrete stone metal etc bottom door window supportingthe vertical members frame known `` Sill '' andits height window base floor level known `` ill level `` BONDSBond arrangement bricks stones course toensure greatest possible interlocking avoid continuity ofvertical joints two successive courses face bodyof wall.OBJECTIVES OF BONDSA bond provided achieve following objectives The primary objective providing bond break continuity thevertical joints successive courses length thickness ofmasonry structure As result structure act bounded massand load transmitted uniformly foundations To ensure longitudinal lateral strength structure To provide pleasing appearance laying bricks symmetrically To masonry work quickly engaging masons job time SOME IMPORTANT TERMS USED IN BRICK MASONRY 11 BRICK BATS The pieces bricks cut long length havingwidth equivalent full half brick called '' Brick bats Some common Brick Bats shown BD Ory fay Ursee tye Ba Ce Square oR CY QUARTER eatCUBE BAt Ne SOME IMPORTANT TERMS USED IN BRICK MASONRY QUOINThe external comer wall called `` Quoin '' QUOIN BRICKThe brick forms external corner wall knownas `` Quoin brick '' QUOIN HEADERA corner header face wall stretcher inthe side wall known `` Quoin header '' 10 QUOIN STRETCHERA corner stretcher face wall header theside wall known `` Quoin stretcher '' TYPES OF BONDSENGLISH BONDThe following salient features English bond Headers stretchers laid alternate courses ii In heading course queen closer placed nextto quoin header remaining bricks laid aseaders iii Every alternate header course comes centrallyover joint two stretchers coursebelow giving approximate lap BUILDING CONSTRUCTIONCHAPTER 01 MAS ONRY SOME IMPORTANT TERMS USED IN BRICK MASONRY 12 QUEEN CLOSER Queen closer brick half wide full brickand made cutting whole brick lengthwise twoportions '' These generally used next Quoin header forcreating bonds brickwork 13 KING CLOSER A brick whose one diagonal piece cut one cornerby vertical plane passing center one endto center one side Itis actually 78 full brick usually called 34brick SOME IMPORTANT TERMS USED IN BRICK MASONRY 20 MORTARThe paste obtained mixing binding material fineaggregate suitable proportions addition water known asMortar.Cement Lime used binding materials Sand Surkhi Cinder etc used fine aggregates.The mortars named according type binding materialused preparation cement mortar lime mortar etc.The mortar prepared simple earth known Mud Mortar '' .The mortar acts cementing bed twocourses bricks also gives strength structure holdingthe individual bricks together act homogenous mass SOME IMPORTANT TERMS USED IN BRICK MASONRY BRICK An artificial structural element form arectangular block clay called Brick `` Brickscan manufactured required shape size.The sizes standard bricks given asfollows Fricglisl PALERRowan SRickPT PH ae 4. oe 4. cere SOME IMPORTANT TERMS USED IN BRICK MASONRY FROG The depression provided face brick called `` Frog '' .It provided brick achieve following purposes To form key mortar two adjacent coursesof brick work increase lateral strength thestructure To reduce weight bricks bricks belaid convenience To provide place putting impression trademark orthe year manufacturing bricks SOME IMPORTANT TERMS USED IN BRICK MASONRY 14 BEVELED CLOSER '' A brick cut longitudinally along vertical plane starting themiddle one end far corner One quarter brick cut way 15 BULL NOSE BRICK A brick rounded corners called Bull Nose Brick 16 SQUINT BRICKS These bricks used construct acute 90 degree obtuse 90 degree corners brick masonry These special forms bricks ACUTE CROSSINGQoSS air30cmMf OBTUSE CROSSINGOblique Junction English Bond QUOIN BRICKS PERPENOS EBSERal srmercnte conse zocm Elevation portion Wall Showing Different Deta 's SOME IMPORTANT TERMS USED IN BRICK MASONRY HEADERA brick laid end shows face awall called `` Header '' course thebricks laid headers known `` HeadingCourse '' `` Header course TEER EREEEETae HEADING COURSE\",\n          \"JAN BeetsPELE TOTAL POPULATION Eee Ue81284,093,742se ase INTERNET PENETRATION197,033,600ACTIVE SOCIAL NETWORK USERS .. 6SOCIAL NETWORKING PENETRATIONSh AALS ACTIVE MOBILE SUBSCRIPTIONS101 le aeWe Are Social Sources US Census Bureau InternetWorldState Facebook ITU wearesocial.sg wearesocialsg 17 GLOBAL DIGITALaL ee rd aWE ARE SOCIALS SNAPSHOT OFSON MOLECU GUL LLU ea TxclenLiceoxy54Sd oraey cy rnyeyey1la Pan fe ee PFCE ey Psne oan ear od pb 4Ea fo Ea lor ie 3gWe Are Social Sources US Census Bureau Internet WorldStats CNNIC wearesocial.sg wearesocialeg 8JANPia CENTRAL AMERICA195,127,178TOTAL POPULATION66,034,487ae ae 66,951,880ACTIVE SOCIAL NETWORK USERS.173,787,140ACTIVE MOBILE SUBSCRIPTIONSWe Are Social Sources US Census Bureau InternetWorldStats Facebook ITU ter Ue34INTERNET PENETRATIONYeSOCIAL NETWORKING PENETRATION89le aeSee eto aL JANbyw ACTIVE USERS BY SOCIAL PLATFORM FACEBOOKio.e ley4e 13WHATSAPP GOOGLEWECHATaS eS I ais FeeonmasrenrgTUMBLR Bere reneater ais We Are Social Sources recent user data company press releases correct January 2014 wearesecial.sg wearesocialsg 11Brsil SHARE OF GLOBAL USERS BY REGIONCeDoren ag om loaPedOe QixDenyChEOr Ox EAST ASIA RCEPre aa Egeee 20 22r Ox pees rem faee ia peers kom red RCE EureOe Ob aCig CeeateeeneeeWe Are Social Sources US Census Bureau InternatWorldStats CNNIC Tencent Facebook Vkontakte 1U ClA wearesecial.sg wearesocialsg 6SON Rees PUA USS en 7,095,476,818TOTAL WORLD POPULATIONter Ue352,484,915,152ae ae INTERNET PENETRATION1,856,680,860ACTIVE SOCIAL NETWORK USERS.A6 oSOCIAL NETWORKING PENETRATIONle ae6,572,950,124lols TNSESU citer .2 We Are Social Sourcas US Census Bureau internatWorldStats CNNIC Tencent Facebook Vkontaite 1U Ci4 wearesecial.sg wearesocialsg GLOBAL OVERVIEWBore RereadCOUNTRIES DETAILED IN THIS REPORTDe etc See 6Cy Ce rOyo Oy1 ARGENTINA CaO a1 17 SINGAPOREPa NUS UN 10 ITALY 18 SOUTH AFRICAn .V4lm ON 19 SOUTH KOREAamor NNTB 12 MEXICO OMI hdd5 CHINA 13 NIGERIA 21 THAILANDCapac Net Np PUN ESD ENE YESS Pees hd 18 RUSSIA 23 UNITED KINGDOMamNY 16 SAUDI ARABIA 24 UNITED STATESRe eee eM ree con aeJANs0ik BO Ue asrzere yBASED ON ACTIVE USERS OF THE LARGEST ACTIVE SOCIAL NETWORK IN EACH COUNTRYNORTHAMERICAlelaAMERICAreliaAMERICABCC eRe ee Ue ee hee eel CENTRAL veer ataEUROPE ae0 oye5 ae2ASIApas 76 elecSOUTH ASIA7 ASIAEOSOCEANIARees MCR coneee emsocialPLEASE CONTACT US FOR REPORTSON OTHER COUNTRIES REGIONS SAYHELLOWEARESOCIAL.SGr WEARESOCIALSG 65 6423 1051WEARESOCIAL.SGwearesocial.sg wearesocialsg NORTHEasleyerAMERICAOlaAMERICAOe er ea cece ccm gelMOBILE PENETRATION BY REGIONpelt mcwreciat aorEUROPE aomfo 90 oe EASTESSrvs Cn 109 evalSOUTH BINor rorarerOCEANIAwearesocial.sg wearesocialsg 12SON Beco ea eleBASED ON ACTIVE USERS OF THE LARGEST ACTIVE SOCIAL NETWORK IN EACH COUNTRYay4 aay aleeTasnea .pa te ee ee ee ee eeee eeoe oa ee Bs FAce fo ora fo8De Ce eC Teac aC CT wearesocial.sg wearesocialsg 10JANprvi MOBILE BROADBAND SUBSCRIPTIONSLo arepv oryAMERICASOUTHAMERICA eeDee CRC Cece Tdpei riedac Pease Mian ceaPers usor12t 8EsoPens EAST PO lU 2:11 ilelu ia EvyEsaOCEANIASeer ete aeJAN Beenie eis:408,157,815 TOTAL POPULATION Eee Ue47193,655,950se ase INTERNET PENETRATION179,145,980ACTIVE SOCIAL NETWORK USERS YeSOCIAL NETWORKING PENETRATIONol OA A ACTIVE MOBILE SUBSCRIPTIONS124 le aeWe Are Social Sources US Census Bureau InternetWorldState Facebook ITU wearesocial.sg wearesocialsg 19MOBILE PENETRATION BY REGION idaen 10198 HmaOaSe ee eet ee eee eee oe oe ee es 4Fat te 2a er FS ee Fa ag Bsicin cs cd Fal fo loe4FBOY Sr ete SOc cee Ser ee eco aeJAN2014yeyNORTHAMERICAorci CycrPa2arroPy ee eee PTFe eg g8 eI 3en oes oo et eei Eee sesco Ed Es En 8BS eS Secu MT ae oR ec eaASIA16coeASIAMOBILE BROADBAND PENETRATIONreyrsxaKiyreecrReet rirarerSOUTHCrywearesocialsg 15JANSoin Meare Pa TAe Lo arepv oryi ee8 AMERICASOUTHAMERICADOE RR ood eC Oe eC Coca estan odearedPca ati EUROPE eaeeGponEASTi 28 Jeaco ReaisEASTsou QEXZW asiaASIAES orOCEANIADer tec aS416,767,521TOTAL POPULATION Eee Ue326,197,681se ase INTERNET PENETRATION185,034,740ACTIVE SOCIAL NETWORK USERS.SOCIAL NETWORKING PENETRATION129le ae538,572,700ACTIVE MOBILE SUBSCRIPTIONS We Are Social Sources US Census Bureau InternetWorldState Facebook ITU wearesocial.sg wearesocialsg 20JANprvi INTERNET PENETRATION BY REGIONNORTHFaeryeeAMERICAelaAMERICAWe Are Social Sources US Census Bureau InternetWorldStats CNNICflarecr aoeEUROPE a0 TCTs78 ECT257 40 JenPeasa RelaSOUTH oNSTNESOL OCEANIAOe eee Me reece aed\"\n        ],\n        \"semantic_type\": \"\",\n        \"description\": \"\"\n      }\n    },\n    {\n      \"column\": \"pred_answer\",\n      \"properties\": {\n        \"dtype\": \"string\",\n        \"num_unique_values\": 928,\n        \"samples\": [\n          \" 5 ad types.\",\n          \" Auto-rickshaw and tuk-tuks\",\n          \" CDMA-based\"\n        ],\n        \"semantic_type\": \"\",\n        \"description\": \"\"\n      }\n    }\n  ]\n}"
            }
          },
          "metadata": {},
          "execution_count": 7
        }
      ],
      "source": [
        "df_with_ocr.head(5)"
      ]
    },
    {
      "cell_type": "code",
      "source": [
        "df_with_ocr.to_csv(\"/content/deep_seek_results.csv\")"
      ],
      "metadata": {
        "id": "7hr9n-IyLZQp"
      },
      "execution_count": null,
      "outputs": []
    },
    {
      "cell_type": "code",
      "source": [
        "res = df_with_ocr[['ID', 'pred_answer']]"
      ],
      "metadata": {
        "id": "nz2DHbHPLszt"
      },
      "execution_count": null,
      "outputs": []
    },
    {
      "cell_type": "code",
      "source": [
        "res.to_csv(\"/content/ress.csv\", index=False)"
      ],
      "metadata": {
        "id": "Q-3Eb0bwL5_D"
      },
      "execution_count": null,
      "outputs": []
    },
    {
      "cell_type": "code",
      "source": [],
      "metadata": {
        "id": "0nXpdryLL7kB"
      },
      "execution_count": null,
      "outputs": []
    }
  ]
}